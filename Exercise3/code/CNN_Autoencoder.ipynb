{
 "cells": [
  {
   "cell_type": "markdown",
   "metadata": {},
   "source": [
    "# Autoencoder for image debluring\n",
    "\n",
    "This notebook is based on the following work:\n",
    "- Github: https://github.com/aswintechguy/Deep-Learning-Projects/tree/main/Autoencoder%20-%20Deep%20CNN\n",
    "- Youtube: https://www.youtube.com/watch?v=En4dZh51Tic"
   ]
  },
  {
   "cell_type": "code",
   "execution_count": 39,
   "metadata": {},
   "outputs": [],
   "source": [
    "import numpy as np\n",
    "import matplotlib.pyplot as plt\n",
    "from keras import Sequential\n",
    "from keras.layers import Dense, Conv2D, MaxPooling2D, UpSampling2D\n",
    "from keras.datasets import mnist\n",
    "from keras.models import load_model"
   ]
  },
  {
   "cell_type": "markdown",
   "metadata": {},
   "source": [
    "## Load the image number data from the keras datasets"
   ]
  },
  {
   "cell_type": "code",
   "execution_count": 25,
   "metadata": {},
   "outputs": [],
   "source": [
    "(x_train, _), (x_test, _) = mnist.load_data()\n",
    "\n",
    "# normalize the image data\n",
    "x_train = x_train.astype('float32') / 255\n",
    "x_test = x_test.astype('float32') / 255"
   ]
  },
  {
   "cell_type": "code",
   "execution_count": 27,
   "metadata": {},
   "outputs": [
    {
     "data": {
      "text/plain": [
       "(10000, 28, 28, 1)"
      ]
     },
     "execution_count": 27,
     "metadata": {},
     "output_type": "execute_result"
    }
   ],
   "source": [
    "# reshape in the input data for the model\n",
    "x_train = x_train.reshape(len(x_train), 28, 28, 1)\n",
    "x_test = x_test.reshape(len(x_test), 28, 28, 1)\n",
    "x_test.shape"
   ]
  },
  {
   "cell_type": "code",
   "execution_count": 28,
   "metadata": {},
   "outputs": [
    {
     "data": {
      "image/png": "[encoded data removed]",
      "text/plain": [
       "<Figure size 640x480 with 1 Axes>"
      ]
     },
     "metadata": {},
     "output_type": "display_data"
    }
   ],
   "source": [
    "# randomly select input image\n",
    "index = np.random.randint(len(x_test))\n",
    "# plot the image\n",
    "plt.imshow(x_test[index].reshape(28,28))\n",
    "plt.gray()"
   ]
  },
  {
   "cell_type": "markdown",
   "metadata": {},
   "source": [
    "## Add some noise to the image"
   ]
  },
  {
   "cell_type": "code",
   "execution_count": 29,
   "metadata": {},
   "outputs": [],
   "source": [
    "# add noise\n",
    "noise_factor = 0.6\n",
    "x_train_noisy = x_train + noise_factor * np.random.normal(loc=0.0, scale=1.0, size=x_train.shape)\n",
    "x_test_noisy = x_test + noise_factor * np.random.normal(loc=0.0, scale=1.0, size=x_test.shape)\n",
    "# clip the values in the range of 0-1\n",
    "x_train_noisy = np.clip(x_train_noisy, 0., 1.)\n",
    "x_test_noisy = np.clip(x_test_noisy, 0., 1.)"
   ]
  },
  {
   "cell_type": "code",
   "execution_count": 31,
   "metadata": {},
   "outputs": [
    {
     "data": {
      "image/png": "[encoded data removed]",
      "text/plain": [
       "<Figure size 640x480 with 1 Axes>"
      ]
     },
     "metadata": {},
     "output_type": "display_data"
    }
   ],
   "source": [
    "# plot the image\n",
    "plt.imshow(x_test_noisy[index].reshape(28,28))\n",
    "plt.gray()"
   ]
  },
  {
   "cell_type": "markdown",
   "metadata": {},
   "source": [
    "## Model creation"
   ]
  },
  {
   "cell_type": "code",
   "execution_count": 44,
   "metadata": {},
   "outputs": [],
   "source": [
    "# The bellow model was trained on the noisy images and saved in the autoencoder_numbers.keras file\n",
    "# The training took about 15 minutes on a CPU\n",
    "model = load_model('./models/autoencoder_numbers.keras')"
   ]
  },
  {
   "cell_type": "code",
   "execution_count": 32,
   "metadata": {},
   "outputs": [
    {
     "name": "stdout",
     "output_type": "stream",
     "text": [
      "Model: \"sequential\"\n",
      "_________________________________________________________________\n",
      " Layer (type)                Output Shape              Param #   \n",
      "=================================================================\n",
      " conv2d (Conv2D)             (None, 28, 28, 32)        320       \n",
      "                                                                 \n",
      " max_pooling2d (MaxPooling2  (None, 14, 14, 32)        0         \n",
      " D)                                                              \n",
      "                                                                 \n",
      " conv2d_1 (Conv2D)           (None, 14, 14, 16)        4624      \n",
      "                                                                 \n",
      " max_pooling2d_1 (MaxPoolin  (None, 7, 7, 16)          0         \n",
      " g2D)                                                            \n",
      "                                                                 \n",
      " conv2d_2 (Conv2D)           (None, 7, 7, 16)          2320      \n",
      "                                                                 \n",
      " up_sampling2d (UpSampling2  (None, 14, 14, 16)        0         \n",
      " D)                                                              \n",
      "                                                                 \n",
      " conv2d_3 (Conv2D)           (None, 14, 14, 32)        4640      \n",
      "                                                                 \n",
      " up_sampling2d_1 (UpSamplin  (None, 28, 28, 32)        0         \n",
      " g2D)                                                            \n",
      "                                                                 \n",
      " conv2d_4 (Conv2D)           (None, 28, 28, 1)         289       \n",
      "                                                                 \n",
      "=================================================================\n",
      "Total params: 12193 (47.63 KB)\n",
      "Trainable params: 12193 (47.63 KB)\n",
      "Non-trainable params: 0 (0.00 Byte)\n",
      "_________________________________________________________________\n"
     ]
    }
   ],
   "source": [
    "model = Sequential([\n",
    "                    # encoder network\n",
    "                    Conv2D(32, 3, activation='relu', padding='same', input_shape=(28, 28, 1)),\n",
    "                    MaxPooling2D(2, padding='same'),\n",
    "                    Conv2D(16, 3, activation='relu', padding='same'),\n",
    "                    MaxPooling2D(2, padding='same'),\n",
    "                    # decoder network\n",
    "                    Conv2D(16, 3, activation='relu', padding='same'),\n",
    "                    UpSampling2D(2),\n",
    "                    Conv2D(32, 3, activation='relu', padding='same'),\n",
    "                    UpSampling2D(2),\n",
    "                    # output layer\n",
    "                    Conv2D(1, 3, activation='sigmoid', padding='same')\n",
    "])\n",
    "\n",
    "model.compile(optimizer='adam', loss='binary_crossentropy')\n",
    "model.summary()"
   ]
  },
  {
   "cell_type": "code",
   "execution_count": 33,
   "metadata": {},
   "outputs": [
    {
     "name": "stdout",
     "output_type": "stream",
     "text": [
      "Epoch 1/20\n",
      "235/235 [==============================] - 39s 163ms/step - loss: 0.2274 - val_loss: 0.1531\n",
      "Epoch 2/20\n",
      "235/235 [==============================] - 39s 167ms/step - loss: 0.1456 - val_loss: 0.1386\n",
      "Epoch 3/20\n",
      "235/235 [==============================] - 42s 177ms/step - loss: 0.1367 - val_loss: 0.1341\n",
      "Epoch 4/20\n",
      "235/235 [==============================] - 42s 177ms/step - loss: 0.1319 - val_loss: 0.1287\n",
      "Epoch 5/20\n",
      "235/235 [==============================] - 40s 172ms/step - loss: 0.1288 - val_loss: 0.1261\n",
      "Epoch 6/20\n",
      "235/235 [==============================] - 42s 177ms/step - loss: 0.1267 - val_loss: 0.1246\n",
      "Epoch 7/20\n",
      "235/235 [==============================] - 43s 185ms/step - loss: 0.1250 - val_loss: 0.1229\n",
      "Epoch 8/20\n",
      "235/235 [==============================] - 43s 182ms/step - loss: 0.1237 - val_loss: 0.1217\n",
      "Epoch 9/20\n",
      "235/235 [==============================] - 43s 184ms/step - loss: 0.1225 - val_loss: 0.1207\n",
      "Epoch 10/20\n",
      "235/235 [==============================] - 44s 186ms/step - loss: 0.1213 - val_loss: 0.1198\n",
      "Epoch 11/20\n",
      "235/235 [==============================] - 42s 180ms/step - loss: 0.1202 - val_loss: 0.1186\n",
      "Epoch 12/20\n",
      "235/235 [==============================] - 44s 186ms/step - loss: 0.1192 - val_loss: 0.1176\n",
      "Epoch 13/20\n",
      "235/235 [==============================] - 45s 192ms/step - loss: 0.1184 - val_loss: 0.1169\n",
      "Epoch 14/20\n",
      "235/235 [==============================] - 42s 180ms/step - loss: 0.1175 - val_loss: 0.1169\n",
      "Epoch 15/20\n",
      "235/235 [==============================] - 42s 181ms/step - loss: 0.1170 - val_loss: 0.1158\n",
      "Epoch 16/20\n",
      "235/235 [==============================] - 43s 181ms/step - loss: 0.1164 - val_loss: 0.1150\n",
      "Epoch 17/20\n",
      "235/235 [==============================] - 42s 179ms/step - loss: 0.1160 - val_loss: 0.1145\n",
      "Epoch 18/20\n",
      "235/235 [==============================] - 43s 182ms/step - loss: 0.1154 - val_loss: 0.1150\n",
      "Epoch 19/20\n",
      "235/235 [==============================] - 43s 182ms/step - loss: 0.1150 - val_loss: 0.1139\n",
      "Epoch 20/20\n",
      "235/235 [==============================] - 43s 183ms/step - loss: 0.1147 - val_loss: 0.1134\n"
     ]
    },
    {
     "data": {
      "text/plain": [
       "<keras.src.callbacks.History at 0x1a11b922c20>"
      ]
     },
     "execution_count": 33,
     "metadata": {},
     "output_type": "execute_result"
    }
   ],
   "source": [
    "# train the model\n",
    "model.fit(x_train_noisy, x_train, epochs=20, batch_size=256, validation_data=(x_test_noisy, x_test))"
   ]
  },
  {
   "cell_type": "code",
   "execution_count": 42,
   "metadata": {},
   "outputs": [],
   "source": [
    "model.save('./models/autoencoder_numbers.keras')"
   ]
  },
  {
   "cell_type": "code",
   "execution_count": 34,
   "metadata": {},
   "outputs": [
    {
     "name": "stdout",
     "output_type": "stream",
     "text": [
      "313/313 [==============================] - 2s 6ms/step\n"
     ]
    }
   ],
   "source": [
    "# predict the results from model (get compressed images)\n",
    "pred = model.predict(x_test_noisy)"
   ]
  },
  {
   "cell_type": "code",
   "execution_count": 35,
   "metadata": {},
   "outputs": [
    {
     "data": {
      "image/png": "[encoded data removed]",
      "text/plain": [
       "<Figure size 1000x400 with 2 Axes>"
      ]
     },
     "metadata": {},
     "output_type": "display_data"
    }
   ],
   "source": [
    "index = np.random.randint(len(x_test))\n",
    "plt.figure(figsize=(10, 4))\n",
    "# display original image\n",
    "ax = plt.subplot(1, 2, 1)\n",
    "plt.imshow(x_test_noisy[index].reshape(28,28))\n",
    "plt.gray()\n",
    "ax.get_xaxis().set_visible(False)\n",
    "ax.get_yaxis().set_visible(False)\n",
    "# display compressed image\n",
    "ax = plt.subplot(1, 2, 2)\n",
    "plt.imshow(pred[index].reshape(28,28))\n",
    "plt.gray()\n",
    "ax.get_xaxis().set_visible(False)\n",
    "ax.get_yaxis().set_visible(False)\n",
    "plt.show()"
   ]
  }
 ],
 "metadata": {
  "kernelspec": {
   "display_name": "ml23ws",
   "language": "python",
   "name": "python3"
  },
  "language_info": {
   "codemirror_mode": {
    "name": "ipython",
    "version": 3
   },
   "file_extension": ".py",
   "mimetype": "text/x-python",
   "name": "python",
   "nbconvert_exporter": "python",
   "pygments_lexer": "ipython3",
   "version": "3.10.13"
  }
 },
 "nbformat": 4,
 "nbformat_minor": 2
}
