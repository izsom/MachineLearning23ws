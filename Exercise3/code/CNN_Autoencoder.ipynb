{
 "cells": [
  {
   "cell_type": "markdown",
   "metadata": {},
   "source": [
    "# Autoencoder for image debluring\n",
    "\n",
    "This notebook is based on the following work:\n",
    "- Github: https://github.com/aswintechguy/Deep-Learning-Projects/tree/main/Autoencoder%20-%20Deep%20CNN\n",
    "- Youtube: https://www.youtube.com/watch?v=En4dZh51Tic"
   ]
  },
  {
   "cell_type": "code",
   "execution_count": 68,
   "metadata": {},
   "outputs": [],
   "source": [
    "import numpy as np\n",
    "import matplotlib.pyplot as plt\n",
    "from keras import Sequential\n",
    "from keras.layers import Dense, Conv2D, MaxPooling2D, UpSampling2D\n",
    "from keras.datasets import mnist\n",
    "from keras.models import load_model\n",
    "from math import log10, sqrt\n",
    "import pandas as pd\n",
    "import cv2\n",
    "from skimage.metrics import structural_similarity as ssim"
   ]
  },
  {
   "cell_type": "markdown",
   "metadata": {},
   "source": [
    "## Load the image number data from the keras datasets"
   ]
  },
  {
   "cell_type": "code",
   "execution_count": 2,
   "metadata": {},
   "outputs": [],
   "source": [
    "(x_train, _), (x_test, _) = mnist.load_data()\n",
    "\n",
    "# normalize the image data\n",
    "x_train = x_train.astype('float32') / 255\n",
    "x_test = x_test.astype('float32') / 255"
   ]
  },
  {
   "cell_type": "code",
   "execution_count": 3,
   "metadata": {},
   "outputs": [
    {
     "data": {
      "text/plain": [
       "(10000, 28, 28, 1)"
      ]
     },
     "execution_count": 3,
     "metadata": {},
     "output_type": "execute_result"
    }
   ],
   "source": [
    "# reshape in the input data for the model\n",
    "x_train = x_train.reshape(len(x_train), 28, 28, 1)\n",
    "x_test = x_test.reshape(len(x_test), 28, 28, 1)\n",
    "x_test.shape"
   ]
  },
  {
   "cell_type": "code",
   "execution_count": 4,
   "metadata": {},
   "outputs": [
    {
     "data": {
      "image/png": "[encoded data removed]",
      "text/plain": [
       "<Figure size 640x480 with 1 Axes>"
      ]
     },
     "metadata": {},
     "output_type": "display_data"
    }
   ],
   "source": [
    "# randomly select input image\n",
    "index = np.random.randint(len(x_test))\n",
    "# plot the image\n",
    "plt.imshow(x_test[index].reshape(28,28))\n",
    "plt.gray()"
   ]
  },
  {
   "cell_type": "markdown",
   "metadata": {},
   "source": [
    "## Add some noise to the image"
   ]
  },
  {
   "cell_type": "code",
   "execution_count": 5,
   "metadata": {},
   "outputs": [],
   "source": [
    "# add noise\n",
    "noise_factor = 0.6\n",
    "x_train_noisy = x_train + noise_factor * np.random.normal(loc=0.0, scale=1.0, size=x_train.shape)\n",
    "x_test_noisy = x_test + noise_factor * np.random.normal(loc=0.0, scale=1.0, size=x_test.shape)\n",
    "# clip the values in the range of 0-1\n",
    "x_train_noisy = np.clip(x_train_noisy, 0., 1.)\n",
    "x_test_noisy = np.clip(x_test_noisy, 0., 1.)"
   ]
  },
  {
   "cell_type": "code",
   "execution_count": 6,
   "metadata": {},
   "outputs": [
    {
     "data": {
      "image/png": "[encoded data removed]",
      "text/plain": [
       "<Figure size 640x480 with 1 Axes>"
      ]
     },
     "metadata": {},
     "output_type": "display_data"
    }
   ],
   "source": [
    "# plot the image\n",
    "plt.imshow(x_test_noisy[index].reshape(28,28))\n",
    "plt.gray()"
   ]
  },
  {
   "cell_type": "markdown",
   "metadata": {},
   "source": [
    "## Model creation"
   ]
  },
  {
   "cell_type": "code",
   "execution_count": 7,
   "metadata": {},
   "outputs": [],
   "source": [
    "# The bellow model was trained on the noisy images and saved in the autoencoder_numbers.keras file\n",
    "# The training took about 15 minutes on a CPU\n",
    "model = load_model('./models/autoencoder_numbers.keras')"
   ]
  },
  {
   "cell_type": "code",
   "execution_count": 32,
   "metadata": {},
   "outputs": [
    {
     "name": "stdout",
     "output_type": "stream",
     "text": [
      "Model: \"sequential\"\n",
      "_________________________________________________________________\n",
      " Layer (type)                Output Shape              Param #   \n",
      "=================================================================\n",
      " conv2d (Conv2D)             (None, 28, 28, 32)        320       \n",
      "                                                                 \n",
      " max_pooling2d (MaxPooling2  (None, 14, 14, 32)        0         \n",
      " D)                                                              \n",
      "                                                                 \n",
      " conv2d_1 (Conv2D)           (None, 14, 14, 16)        4624      \n",
      "                                                                 \n",
      " max_pooling2d_1 (MaxPoolin  (None, 7, 7, 16)          0         \n",
      " g2D)                                                            \n",
      "                                                                 \n",
      " conv2d_2 (Conv2D)           (None, 7, 7, 16)          2320      \n",
      "                                                                 \n",
      " up_sampling2d (UpSampling2  (None, 14, 14, 16)        0         \n",
      " D)                                                              \n",
      "                                                                 \n",
      " conv2d_3 (Conv2D)           (None, 14, 14, 32)        4640      \n",
      "                                                                 \n",
      " up_sampling2d_1 (UpSamplin  (None, 28, 28, 32)        0         \n",
      " g2D)                                                            \n",
      "                                                                 \n",
      " conv2d_4 (Conv2D)           (None, 28, 28, 1)         289       \n",
      "                                                                 \n",
      "=================================================================\n",
      "Total params: 12193 (47.63 KB)\n",
      "Trainable params: 12193 (47.63 KB)\n",
      "Non-trainable params: 0 (0.00 Byte)\n",
      "_________________________________________________________________\n"
     ]
    }
   ],
   "source": [
    "model = Sequential([\n",
    "                    # encoder network\n",
    "                    Conv2D(32, 3, activation='relu', padding='same', input_shape=(28, 28, 1)),\n",
    "                    MaxPooling2D(2, padding='same'),\n",
    "                    Conv2D(16, 3, activation='relu', padding='same'),\n",
    "                    MaxPooling2D(2, padding='same'),\n",
    "                    # decoder network\n",
    "                    Conv2D(16, 3, activation='relu', padding='same'),\n",
    "                    UpSampling2D(2),\n",
    "                    Conv2D(32, 3, activation='relu', padding='same'),\n",
    "                    UpSampling2D(2),\n",
    "                    # output layer\n",
    "                    Conv2D(1, 3, activation='sigmoid', padding='same')\n",
    "])\n",
    "\n",
    "model.compile(optimizer='adam', loss='binary_crossentropy')\n",
    "model.summary()"
   ]
  },
  {
   "cell_type": "code",
   "execution_count": 33,
   "metadata": {},
   "outputs": [
    {
     "name": "stdout",
     "output_type": "stream",
     "text": [
      "Epoch 1/20\n",
      "235/235 [==============================] - 39s 163ms/step - loss: 0.2274 - val_loss: 0.1531\n",
      "Epoch 2/20\n",
      "235/235 [==============================] - 39s 167ms/step - loss: 0.1456 - val_loss: 0.1386\n",
      "Epoch 3/20\n",
      "235/235 [==============================] - 42s 177ms/step - loss: 0.1367 - val_loss: 0.1341\n",
      "Epoch 4/20\n",
      "235/235 [==============================] - 42s 177ms/step - loss: 0.1319 - val_loss: 0.1287\n",
      "Epoch 5/20\n",
      "235/235 [==============================] - 40s 172ms/step - loss: 0.1288 - val_loss: 0.1261\n",
      "Epoch 6/20\n",
      "235/235 [==============================] - 42s 177ms/step - loss: 0.1267 - val_loss: 0.1246\n",
      "Epoch 7/20\n",
      "235/235 [==============================] - 43s 185ms/step - loss: 0.1250 - val_loss: 0.1229\n",
      "Epoch 8/20\n",
      "235/235 [==============================] - 43s 182ms/step - loss: 0.1237 - val_loss: 0.1217\n",
      "Epoch 9/20\n",
      "235/235 [==============================] - 43s 184ms/step - loss: 0.1225 - val_loss: 0.1207\n",
      "Epoch 10/20\n",
      "235/235 [==============================] - 44s 186ms/step - loss: 0.1213 - val_loss: 0.1198\n",
      "Epoch 11/20\n",
      "235/235 [==============================] - 42s 180ms/step - loss: 0.1202 - val_loss: 0.1186\n",
      "Epoch 12/20\n",
      "235/235 [==============================] - 44s 186ms/step - loss: 0.1192 - val_loss: 0.1176\n",
      "Epoch 13/20\n",
      "235/235 [==============================] - 45s 192ms/step - loss: 0.1184 - val_loss: 0.1169\n",
      "Epoch 14/20\n",
      "235/235 [==============================] - 42s 180ms/step - loss: 0.1175 - val_loss: 0.1169\n",
      "Epoch 15/20\n",
      "235/235 [==============================] - 42s 181ms/step - loss: 0.1170 - val_loss: 0.1158\n",
      "Epoch 16/20\n",
      "235/235 [==============================] - 43s 181ms/step - loss: 0.1164 - val_loss: 0.1150\n",
      "Epoch 17/20\n",
      "235/235 [==============================] - 42s 179ms/step - loss: 0.1160 - val_loss: 0.1145\n",
      "Epoch 18/20\n",
      "235/235 [==============================] - 43s 182ms/step - loss: 0.1154 - val_loss: 0.1150\n",
      "Epoch 19/20\n",
      "235/235 [==============================] - 43s 182ms/step - loss: 0.1150 - val_loss: 0.1139\n",
      "Epoch 20/20\n",
      "235/235 [==============================] - 43s 183ms/step - loss: 0.1147 - val_loss: 0.1134\n"
     ]
    },
    {
     "data": {
      "text/plain": [
       "<keras.src.callbacks.History at 0x1a11b922c20>"
      ]
     },
     "execution_count": 33,
     "metadata": {},
     "output_type": "execute_result"
    }
   ],
   "source": [
    "# train the model\n",
    "model.fit(x_train_noisy, x_train, epochs=20, batch_size=256, validation_data=(x_test_noisy, x_test))"
   ]
  },
  {
   "cell_type": "code",
   "execution_count": 42,
   "metadata": {},
   "outputs": [],
   "source": [
    "model.save('./models/autoencoder_numbers.keras')"
   ]
  },
  {
   "cell_type": "code",
   "execution_count": 8,
   "metadata": {},
   "outputs": [
    {
     "name": "stdout",
     "output_type": "stream",
     "text": [
      "313/313 [==============================] - 5s 14ms/step\n"
     ]
    }
   ],
   "source": [
    "# predict the results from model (get compressed images)\n",
    "pred = model.predict(x_test_noisy)"
   ]
  },
  {
   "cell_type": "markdown",
   "metadata": {},
   "source": [
    "# Validation\n",
    "# By visualization"
   ]
  },
  {
   "cell_type": "code",
   "execution_count": 30,
   "metadata": {},
   "outputs": [
    {
     "data": {
      "image/png": "[encoded data removed]",
      "text/plain": [
       "<Figure size 1000x400 with 9 Axes>"
      ]
     },
     "metadata": {},
     "output_type": "display_data"
    }
   ],
   "source": [
    "np.random.seed(123)\n",
    "index = np.random.randint(len(x_test),size=3)\n",
    "plt.figure(figsize=(10, 4))\n",
    "# display original image--------------------------------\n",
    "# 1st row\n",
    "ax = plt.subplot(3, 3, 1)\n",
    "plt.imshow(x_test[index[0]].reshape(28,28))\n",
    "plt.gray()\n",
    "plt.title('Original')\n",
    "ax.get_xaxis().set_visible(False)\n",
    "ax.get_yaxis().set_visible(False)\n",
    "# 2nd row\n",
    "ax = plt.subplot(3, 3, 4)\n",
    "plt.imshow(x_test[index[1]].reshape(28,28))\n",
    "plt.gray()\n",
    "ax.get_xaxis().set_visible(False)\n",
    "ax.get_yaxis().set_visible(False)\n",
    "# 3rd row\n",
    "ax = plt.subplot(3, 3, 7)\n",
    "plt.imshow(x_test[index[2]].reshape(28,28))\n",
    "plt.gray()\n",
    "ax.get_xaxis().set_visible(False)\n",
    "ax.get_yaxis().set_visible(False)\n",
    "# display noisy image -------------------------\n",
    "# 1st row\n",
    "ax = plt.subplot(3, 3, 2)\n",
    "plt.imshow(x_test_noisy[index[0]].reshape(28,28))\n",
    "plt.gray()\n",
    "plt.title('Noisy')\n",
    "ax.get_xaxis().set_visible(False)\n",
    "ax.get_yaxis().set_visible(False)\n",
    "# 2nd row\n",
    "ax = plt.subplot(3, 3, 5)\n",
    "plt.imshow(x_test_noisy[index[1]].reshape(28,28))\n",
    "plt.gray()\n",
    "ax.get_xaxis().set_visible(False)\n",
    "ax.get_yaxis().set_visible(False)\n",
    "# 3rd row\n",
    "ax = plt.subplot(3, 3, 8)\n",
    "plt.imshow(x_test_noisy[index[2]].reshape(28,28))\n",
    "plt.gray()\n",
    "ax.get_xaxis().set_visible(False)\n",
    "ax.get_yaxis().set_visible(False)\n",
    "# display deblurred image---------------------\n",
    "# 1st row\n",
    "ax = plt.subplot(3, 3, 3)\n",
    "plt.imshow(pred[index[0]].reshape(28,28))\n",
    "plt.gray()\n",
    "plt.title('Deblurred')\n",
    "ax.get_xaxis().set_visible(False)\n",
    "ax.get_yaxis().set_visible(False)\n",
    "# 2nd row\n",
    "ax = plt.subplot(3, 3, 6)\n",
    "plt.imshow(pred[index[1]].reshape(28,28))\n",
    "plt.gray()\n",
    "ax.get_xaxis().set_visible(False)\n",
    "ax.get_yaxis().set_visible(False)\n",
    "# 3rd row\n",
    "ax = plt.subplot(3, 3, 9)\n",
    "plt.imshow(pred[index[2]].reshape(28,28))\n",
    "plt.gray()\n",
    "ax.get_xaxis().set_visible(False)\n",
    "ax.get_yaxis().set_visible(False)\n",
    "#------------------------------------------------\n",
    "plt.show()"
   ]
  },
  {
   "cell_type": "markdown",
   "metadata": {},
   "source": [
    "# By quantitative metrics\n",
    "\n",
    "Common metrics used for quantitative analysis are PSNR, SSIM, MSE.\n",
    "https://www.mdpi.com/2076-3417/13/21/12069\n",
    "\n",
    "One option is to compute the **PSNR** value. PSNR stands for Peak signal-to-noise ratio between the maximum possible power of an image and the power of corrupting noise that affects the quality of its representation. Calculation of the PSNR between identical images, when the MSE is 0, yields infinite, but in the bellow equation the maximum limit is defined as 100dB."
   ]
  },
  {
   "cell_type": "code",
   "execution_count": 34,
   "metadata": {},
   "outputs": [],
   "source": [
    "def PSNR(original, predicted):\n",
    "    mse = np.mean((original - predicted) ** 2)\n",
    "    if mse == 0:\n",
    "        return 100\n",
    "    max_pixel = original.shape[0]*original.shape[1]\n",
    "    psnr = 20 * log10(max_pixel / sqrt(mse))\n",
    "    return psnr"
   ]
  },
  {
   "cell_type": "code",
   "execution_count": 43,
   "metadata": {},
   "outputs": [
    {
     "data": {
      "text/html": [
       "<div>\n",
       "<style scoped>\n",
       "    .dataframe tbody tr th:only-of-type {\n",
       "        vertical-align: middle;\n",
       "    }\n",
       "\n",
       "    .dataframe tbody tr th {\n",
       "        vertical-align: top;\n",
       "    }\n",
       "\n",
       "    .dataframe thead th {\n",
       "        text-align: right;\n",
       "    }\n",
       "</style>\n",
       "<table border=\"1\" class=\"dataframe\">\n",
       "  <thead>\n",
       "    <tr style=\"text-align: right;\">\n",
       "      <th></th>\n",
       "      <th>PSNR btw Original and Noisy</th>\n",
       "      <th>PSNR btw Original and Deblurred</th>\n",
       "      <th>PSNR btw Noisy and Deblurred</th>\n",
       "    </tr>\n",
       "  </thead>\n",
       "  <tbody>\n",
       "    <tr>\n",
       "      <th>0</th>\n",
       "      <td>66.338364</td>\n",
       "      <td>81.979594</td>\n",
       "      <td>66.496981</td>\n",
       "    </tr>\n",
       "    <tr>\n",
       "      <th>1</th>\n",
       "      <td>66.768829</td>\n",
       "      <td>77.794206</td>\n",
       "      <td>67.008280</td>\n",
       "    </tr>\n",
       "    <tr>\n",
       "      <th>2</th>\n",
       "      <td>66.156249</td>\n",
       "      <td>73.794129</td>\n",
       "      <td>66.402187</td>\n",
       "    </tr>\n",
       "  </tbody>\n",
       "</table>\n",
       "</div>"
      ],
      "text/plain": [
       "   PSNR btw Original and Noisy  PSNR btw Original and Deblurred  \\\n",
       "0                    66.338364                        81.979594   \n",
       "1                    66.768829                        77.794206   \n",
       "2                    66.156249                        73.794129   \n",
       "\n",
       "   PSNR btw Noisy and Deblurred  \n",
       "0                     66.496981  \n",
       "1                     67.008280  \n",
       "2                     66.402187  "
      ]
     },
     "execution_count": 43,
     "metadata": {},
     "output_type": "execute_result"
    }
   ],
   "source": [
    "psnr_df = pd.DataFrame({\n",
    "    'PSNR btw Original and Noisy' : [PSNR(x_test[i].reshape(28,28), x_test_noisy[i].reshape(28,28)) for i in index],\n",
    "    'PSNR btw Original and Deblurred' : [PSNR(x_test[i].reshape(28,28), pred[i].reshape(28,28)) for i in index],\n",
    "    'PSNR btw Noisy and Deblurred' : [PSNR(x_test_noisy[i].reshape(28,28), pred[i].reshape(28,28)) for i in index]})\n",
    "psnr_df"
   ]
  },
  {
   "cell_type": "markdown",
   "metadata": {},
   "source": [
    "To get an idea about the meaning and scale of the PSNR, the above table was generated for the 3 examples, visualized in the above section. One can see, that the different of the original and the blurred image returns a PSNR value of around 66 dB.\n",
    "Comparred to that, the PSNR between the original and the deblurred version is around 77 dB."
   ]
  },
  {
   "cell_type": "code",
   "execution_count": 60,
   "metadata": {},
   "outputs": [
    {
     "name": "stdout",
     "output_type": "stream",
     "text": [
      "The average PSNR between the original and noisy images is 66.12610376889907\n",
      "The average PSNR between the original and deblurred images is 76.01951901160427\n"
     ]
    }
   ],
   "source": [
    "print(f\"The average PSNR between the original and noisy images is {np.array([PSNR(x_test[i].reshape(28,28), x_test_noisy[i].reshape(28,28)) for i in range(len(pred))]).mean()}\")\n",
    "print(f\"The average PSNR between the original and deblurred images is {np.array([PSNR(x_test[i].reshape(28,28), pred[i].reshape(28,28)) for i in range(len(pred))]).mean()}\")"
   ]
  },
  {
   "cell_type": "markdown",
   "metadata": {},
   "source": [
    "### Using structural similarity\n",
    "\n",
    "https://scikit-image.org/docs/stable/auto_examples/transform/plot_ssim.html"
   ]
  },
  {
   "cell_type": "code",
   "execution_count": 74,
   "metadata": {},
   "outputs": [
    {
     "data": {
      "text/html": [
       "<div>\n",
       "<style scoped>\n",
       "    .dataframe tbody tr th:only-of-type {\n",
       "        vertical-align: middle;\n",
       "    }\n",
       "\n",
       "    .dataframe tbody tr th {\n",
       "        vertical-align: top;\n",
       "    }\n",
       "\n",
       "    .dataframe thead th {\n",
       "        text-align: right;\n",
       "    }\n",
       "</style>\n",
       "<table border=\"1\" class=\"dataframe\">\n",
       "  <thead>\n",
       "    <tr style=\"text-align: right;\">\n",
       "      <th></th>\n",
       "      <th>SSIM btw Original and Noisy</th>\n",
       "      <th>SSIM btw Original and Deblurred</th>\n",
       "      <th>SSIM btw Noisy and Deblurred</th>\n",
       "    </tr>\n",
       "  </thead>\n",
       "  <tbody>\n",
       "    <tr>\n",
       "      <th>0</th>\n",
       "      <td>0.171734</td>\n",
       "      <td>0.912675</td>\n",
       "      <td>0.183448</td>\n",
       "    </tr>\n",
       "    <tr>\n",
       "      <th>1</th>\n",
       "      <td>0.263323</td>\n",
       "      <td>0.829876</td>\n",
       "      <td>0.275237</td>\n",
       "    </tr>\n",
       "    <tr>\n",
       "      <th>2</th>\n",
       "      <td>0.324181</td>\n",
       "      <td>0.736142</td>\n",
       "      <td>0.296754</td>\n",
       "    </tr>\n",
       "  </tbody>\n",
       "</table>\n",
       "</div>"
      ],
      "text/plain": [
       "   SSIM btw Original and Noisy  SSIM btw Original and Deblurred  \\\n",
       "0                     0.171734                         0.912675   \n",
       "1                     0.263323                         0.829876   \n",
       "2                     0.324181                         0.736142   \n",
       "\n",
       "   SSIM btw Noisy and Deblurred  \n",
       "0                      0.183448  \n",
       "1                      0.275237  \n",
       "2                      0.296754  "
      ]
     },
     "execution_count": 74,
     "metadata": {},
     "output_type": "execute_result"
    }
   ],
   "source": [
    "def calc_ssim(im1, im2):\n",
    "    return ssim(im1, im2, data_range=im1.max() - im1.min())\n",
    "\n",
    "ssim_df = pd.DataFrame({\n",
    "    'SSIM btw Original and Noisy' : [calc_ssim(x_test[i].reshape(28,28), x_test_noisy[i].reshape(28,28)) for i in index],\n",
    "    'SSIM btw Original and Deblurred' : [calc_ssim(x_test[i].reshape(28,28), pred[i].reshape(28,28)) for i in index],\n",
    "    'SSIM btw Noisy and Deblurred' : [calc_ssim(x_test_noisy[i].reshape(28,28), pred[i].reshape(28,28)) for i in index]})\n",
    "ssim_df"
   ]
  },
  {
   "cell_type": "markdown",
   "metadata": {},
   "source": [
    "### Using Laplace\n",
    "\n",
    " Image derivatives are highly used in detecting the edges of the image. Image derivatives locate the places in the image where the pixel intensity changes in a drastic manner. Sobel Operator usually calculates the first derivative of the image. But estimating the second derivative turns out to be zero in most cases where the edges are detected. This is the principle behind Laplacian derivatives."
   ]
  },
  {
   "cell_type": "code",
   "execution_count": null,
   "metadata": {},
   "outputs": [],
   "source": []
  },
  {
   "cell_type": "markdown",
   "metadata": {},
   "source": [
    "### Using an image classification evaluation\n",
    "\n",
    "Source code from Kaggle: https://www.kaggle.com/code/schmoyote/guide-to-mnist-digit-classification-with-keras\n"
   ]
  }
 ],
 "metadata": {
  "kernelspec": {
   "display_name": "ml23ws",
   "language": "python",
   "name": "python3"
  },
  "language_info": {
   "codemirror_mode": {
    "name": "ipython",
    "version": 3
   },
   "file_extension": ".py",
   "mimetype": "text/x-python",
   "name": "python",
   "nbconvert_exporter": "python",
   "pygments_lexer": "ipython3",
   "version": "3.10.13"
  }
 },
 "nbformat": 4,
 "nbformat_minor": 2
}
