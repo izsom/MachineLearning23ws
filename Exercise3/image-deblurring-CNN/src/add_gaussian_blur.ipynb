{
 "cells": [
  {
   "cell_type": "code",
   "execution_count": 1,
   "metadata": {},
   "outputs": [],
   "source": [
    "import cv2\n",
    "import os\n",
    "import glob as glob\n",
    "from tqdm import tqdm\n",
    "import matplotlib.pyplot as plt"
   ]
  },
  {
   "cell_type": "markdown",
   "metadata": {},
   "source": [
    "### In this notebook, Gaussian Blur is applied \n",
    "- to the images in the original dataset using Gaussian Kernel of size 51x51\n",
    "- to the images in our chosen dataset using Gaussian Kernel of size 51x51 \n",
    "- to the images in our chosen dataset using Gaussian Kernel of size 15x15\n",
    "\n",
    "As original dataset (350 images) we refer to the dataset used for trainig the model in the original project. (https://www.kaggle.com/datasets/kwentar/blur-dataset)\n",
    "\n",
    "Our chosen dataset is the Berkeley Segmentation Dataset (200 train + 100 test images). (https://www2.eecs.berkeley.edu/Research/Projects/CS/vision/bsds/)\n"
   ]
  },
  {
   "cell_type": "markdown",
   "metadata": {},
   "source": [
    "### 1. Original dataset"
   ]
  },
  {
   "cell_type": "code",
   "execution_count": 2,
   "metadata": {},
   "outputs": [],
   "source": [
    "src_dir = '../data/train_data/sharp/original_dataset'\n",
    "images = os.listdir(src_dir)\n",
    "dst_dir = '../data/train_data/gaussian_blurred/original_dataset'"
   ]
  },
  {
   "cell_type": "code",
   "execution_count": 3,
   "metadata": {},
   "outputs": [
    {
     "name": "stderr",
     "output_type": "stream",
     "text": [
      "100%|██████████| 350/350 [00:56<00:00,  6.16it/s]\n"
     ]
    }
   ],
   "source": [
    "for i, img in tqdm(enumerate(images), total=len(images)):\n",
    "    img = cv2.imread(f\"{src_dir}/{images[i]}\")\n",
    "    blur = cv2.GaussianBlur(img, (51, 51), 0)\n",
    "    cv2.imwrite(f\"{dst_dir}/{images[i]}\", blur)"
   ]
  },
  {
   "cell_type": "markdown",
   "metadata": {},
   "source": [
    "### 2. Our chosen dataset"
   ]
  },
  {
   "cell_type": "markdown",
   "metadata": {},
   "source": [
    "#### 2.1. Blur of size 51x51"
   ]
  },
  {
   "cell_type": "code",
   "execution_count": 4,
   "metadata": {},
   "outputs": [
    {
     "name": "stderr",
     "output_type": "stream",
     "text": [
      "100%|██████████| 200/200 [00:03<00:00, 58.38it/s]\n"
     ]
    }
   ],
   "source": [
    "# Train set\n",
    "src_dir = '../data/train_data/sharp/chosen_dataset'\n",
    "images = os.listdir(src_dir)\n",
    "dst_dir = '../data/train_data/gaussian_blurred/chosen_dataset_51x51'\n",
    "\n",
    "for i, img in tqdm(enumerate(images), total=len(images)):\n",
    "    img = cv2.imread(f\"{src_dir}/{images[i]}\")\n",
    "    blur = cv2.GaussianBlur(img, (51, 51), 0)\n",
    "    cv2.imwrite(f\"{dst_dir}/{images[i]}\", blur)"
   ]
  },
  {
   "cell_type": "code",
   "execution_count": 5,
   "metadata": {},
   "outputs": [
    {
     "name": "stderr",
     "output_type": "stream",
     "text": [
      "  0%|          | 0/100 [00:00<?, ?it/s]"
     ]
    },
    {
     "name": "stderr",
     "output_type": "stream",
     "text": [
      "100%|██████████| 100/100 [00:01<00:00, 52.87it/s]\n"
     ]
    }
   ],
   "source": [
    "# Test set\n",
    "src_dir = '../data/test_data/sharp/chosen_dataset'\n",
    "images = os.listdir(src_dir)\n",
    "dst_dir = '../data/test_data/gaussian_blurred/chosen_dataset_51x51'\n",
    "\n",
    "for i, img in tqdm(enumerate(images), total=len(images)):\n",
    "    img = cv2.imread(f\"{src_dir}/{images[i]}\")\n",
    "    blur = cv2.GaussianBlur(img, (51, 51), 0)\n",
    "    cv2.imwrite(f\"{dst_dir}/{images[i]}\", blur)"
   ]
  },
  {
   "cell_type": "markdown",
   "metadata": {},
   "source": [
    "#### 2.2. Blur of size 15x15"
   ]
  },
  {
   "cell_type": "code",
   "execution_count": 6,
   "metadata": {},
   "outputs": [
    {
     "name": "stderr",
     "output_type": "stream",
     "text": [
      "  0%|          | 0/200 [00:00<?, ?it/s]"
     ]
    },
    {
     "name": "stderr",
     "output_type": "stream",
     "text": [
      "100%|██████████| 200/200 [00:01<00:00, 145.13it/s]\n"
     ]
    }
   ],
   "source": [
    "# Train set\n",
    "src_dir = '../data/train_data/sharp/chosen_dataset'\n",
    "images = os.listdir(src_dir)\n",
    "dst_dir = '../data/train_data/gaussian_blurred/chosen_dataset_15x15'\n",
    "\n",
    "for i, img in tqdm(enumerate(images), total=len(images)):\n",
    "    img = cv2.imread(f\"{src_dir}/{images[i]}\")\n",
    "    blur = cv2.GaussianBlur(img, (15, 15), 0)\n",
    "    cv2.imwrite(f\"{dst_dir}/{images[i]}\", blur)"
   ]
  },
  {
   "cell_type": "code",
   "execution_count": 7,
   "metadata": {},
   "outputs": [
    {
     "name": "stderr",
     "output_type": "stream",
     "text": [
      "  0%|          | 0/100 [00:00<?, ?it/s]"
     ]
    },
    {
     "name": "stderr",
     "output_type": "stream",
     "text": [
      "100%|██████████| 100/100 [00:00<00:00, 133.76it/s]\n"
     ]
    }
   ],
   "source": [
    "# Test set\n",
    "src_dir = '../data/test_data/sharp/chosen_dataset'\n",
    "images = os.listdir(src_dir)\n",
    "dst_dir = '../data/test_data/gaussian_blurred/chosen_dataset_15x15'\n",
    "\n",
    "for i, img in tqdm(enumerate(images), total=len(images)):\n",
    "    img = cv2.imread(f\"{src_dir}/{images[i]}\")\n",
    "    blur = cv2.GaussianBlur(img, (15, 15), 0)\n",
    "    cv2.imwrite(f\"{dst_dir}/{images[i]}\", blur)"
   ]
  }
 ],
 "metadata": {
  "kernelspec": {
   "display_name": "venv",
   "language": "python",
   "name": "python3"
  },
  "language_info": {
   "codemirror_mode": {
    "name": "ipython",
    "version": 3
   },
   "file_extension": ".py",
   "mimetype": "text/x-python",
   "name": "python",
   "nbconvert_exporter": "python",
   "pygments_lexer": "ipython3",
   "version": "3.11.6"
  }
 },
 "nbformat": 4,
 "nbformat_minor": 2
}
