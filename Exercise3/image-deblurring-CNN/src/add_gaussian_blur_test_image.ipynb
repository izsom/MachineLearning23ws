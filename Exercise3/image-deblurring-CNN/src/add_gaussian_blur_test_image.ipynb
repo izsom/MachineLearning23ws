{
 "cells": [
  {
   "cell_type": "code",
   "execution_count": 25,
   "metadata": {},
   "outputs": [],
   "source": [
    "import cv2\n",
    "import os\n",
    "import glob as glob\n",
    "from tqdm import tqdm"
   ]
  },
  {
   "cell_type": "code",
   "execution_count": 26,
   "metadata": {},
   "outputs": [
    {
     "name": "stdout",
     "output_type": "stream",
     "text": [
      "3\n"
     ]
    }
   ],
   "source": [
    "src_dir = '../test_data/sharp/'\n",
    "images = os.listdir(src_dir)\n",
    "dst_dir = '../test_data/gaussian_blurred'\n",
    "\n",
    "print(len(images))"
   ]
  },
  {
   "cell_type": "code",
   "execution_count": 27,
   "metadata": {},
   "outputs": [
    {
     "name": "stderr",
     "output_type": "stream",
     "text": [
      "100%|██████████| 3/3 [00:02<00:00,  1.36it/s]\n"
     ]
    }
   ],
   "source": [
    "for i, img in tqdm(enumerate(images), total=len(images)):\n",
    "    img = cv2.imread(f\"{src_dir}/{images[i]}\")\n",
    "    # add gaussian blurring\n",
    "    blur = cv2.GaussianBlur(img, (51, 51), 0)\n",
    "    cv2.imwrite(f\"{dst_dir}/{images[i]}\", blur)"
   ]
  },
  {
   "cell_type": "code",
   "execution_count": null,
   "metadata": {},
   "outputs": [],
   "source": []
  }
 ],
 "metadata": {
  "kernelspec": {
   "display_name": "venv",
   "language": "python",
   "name": "python3"
  },
  "language_info": {
   "codemirror_mode": {
    "name": "ipython",
    "version": 3
   },
   "file_extension": ".py",
   "mimetype": "text/x-python",
   "name": "python",
   "nbconvert_exporter": "python",
   "pygments_lexer": "ipython3",
   "version": "3.9.6"
  }
 },
 "nbformat": 4,
 "nbformat_minor": 2
}
