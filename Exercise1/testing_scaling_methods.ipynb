{
 "cells": [
  {
   "cell_type": "code",
   "execution_count": 33,
   "metadata": {},
   "outputs": [],
   "source": [
    "import pandas as pd\n",
    "import matplotlib.pyplot as plt\n",
    "import seaborn as sns\n",
    "import numpy as np\n",
    "from sklearn.model_selection import train_test_split\n",
    "from sklearn.preprocessing import StandardScaler\n",
    "import pandas as pd\n",
    "import numpy as np\n",
    "import matplotlib.pyplot as plt\n",
    "import seaborn as sns\n",
    "from sklearn.preprocessing import LabelEncoder\n",
    "from sklearn.model_selection import train_test_split\n",
    "from sklearn.feature_selection import SelectKBest, f_classif\n",
    "from sklearn.preprocessing import StandardScaler, MinMaxScaler, RobustScaler\n",
    "from sklearn.metrics import f1_score\n",
    "from sklearn.preprocessing import OrdinalEncoder\n",
    "from sklearn.feature_selection import VarianceThreshold\n",
    "from sklearn.linear_model import SGDClassifier\n",
    "from sklearn import metrics\n",
    "from sklearn.feature_selection import chi2\n",
    "from sklearn.ensemble import RandomForestClassifier\n",
    "from sklearn.model_selection import KFold\n"
   ]
  },
  {
   "cell_type": "code",
   "execution_count": 34,
   "metadata": {},
   "outputs": [],
   "source": [
    "congr_train = pd.read_csv('preprocessed-datasets/CongressionVoting_prepro.csv')\n",
    "congr_train.set_index('ID', inplace=True)"
   ]
  },
  {
   "cell_type": "markdown",
   "metadata": {},
   "source": [
    "## Function for different feature scaling/standardizing methods"
   ]
  },
  {
   "cell_type": "code",
   "execution_count": 35,
   "metadata": {},
   "outputs": [],
   "source": [
    "def scale(X_train, X_test, method):\n",
    "    \n",
    "    if method is None:\n",
    "        return X_train, X_test\n",
    "\n",
    "    # Scaling using StandardScaler \n",
    "    elif method == 'standard':\n",
    "        scaler = StandardScaler().fit(X_train)\n",
    "\n",
    "    # Scaling using MinMaxScaler\n",
    "    elif method == 'minmax':\n",
    "        scaler = MinMaxScaler().fit(X_train)\n",
    "\n",
    "    # Scaling using RobustScaler\n",
    "    elif method == 'robust':\n",
    "        scaler = RobustScaler().fit(X_train)\n",
    "\n",
    "    X_train_scaled = scaler.transform(X_train)\n",
    "    X_test_scaled = scaler.transform(X_test)\n",
    "                \n",
    "    return X_train_scaled, X_test_scaled"
   ]
  },
  {
   "cell_type": "markdown",
   "metadata": {},
   "source": [
    "## Split data into train and test"
   ]
  },
  {
   "cell_type": "code",
   "execution_count": 36,
   "metadata": {},
   "outputs": [
    {
     "name": "stdout",
     "output_type": "stream",
     "text": [
      "Training Dataset Shape: (151, 16) (151,) \n",
      "\n",
      "Test Dataset Shape: (66, 16) (66,) \n",
      "\n"
     ]
    }
   ],
   "source": [
    "# Ecode the target variable with LabelEncoder\n",
    "le = LabelEncoder()\n",
    "congr_train['class'] = le.fit_transform(congr_train['class'])\n",
    "\n",
    "# Features\n",
    "X = congr_train.drop(['class'], axis=1) \n",
    "\n",
    "# Target variable\n",
    "y = congr_train['class']\n",
    "\n",
    "# Split the dataset into a training and a testing set\n",
    "X_train, X_test, y_train, y_test = train_test_split(X, y, test_size=0.30, random_state=1)\n",
    "print (\"Training Dataset Shape:\", X_train.shape, y_train.shape, \"\\n\")\n",
    "print (\"Test Dataset Shape:\", X_test.shape, y_test.shape, \"\\n\")"
   ]
  },
  {
   "cell_type": "markdown",
   "metadata": {},
   "source": [
    "## Testing all the scaling methods with SDG Classifier"
   ]
  },
  {
   "cell_type": "code",
   "execution_count": 37,
   "metadata": {},
   "outputs": [
    {
     "name": "stdout",
     "output_type": "stream",
     "text": [
      "\n",
      "--- Scaling Method: None ---\n",
      "Accuracy: 0.9242424242424242\n",
      "F1 score: 0.9157088122605365\n",
      "Precision: 0.9204545454545454\n",
      "Recall: 0.9115267947421638\n",
      "\n",
      "--- Scaling Method: STANDARD ---\n",
      "Accuracy: 0.9545454545454546\n",
      "F1 score: 0.9504380475594493\n",
      "Precision: 0.9464285714285714\n",
      "Recall: 0.9550050556117291\n",
      "\n",
      "--- Scaling Method: MINMAX ---\n",
      "Accuracy: 0.9242424242424242\n",
      "F1 score: 0.9157088122605365\n",
      "Precision: 0.9204545454545454\n",
      "Recall: 0.9115267947421638\n",
      "\n",
      "--- Scaling Method: ROBUST ---\n",
      "Accuracy: 0.9393939393939394\n",
      "F1 score: 0.9318181818181817\n",
      "Precision: 0.9428571428571428\n",
      "Recall: 0.9231547017189079\n"
     ]
    }
   ],
   "source": [
    "# Scaling methods\n",
    "scaling_methods = [None, 'standard', 'minmax', 'robust']\n",
    "\n",
    "for method in scaling_methods:\n",
    "    \n",
    "    if method is not None:\n",
    "        print(f\"\\n--- Scaling Method: {method.upper()} ---\")\n",
    "    else:\n",
    "        print(f\"\\n--- Scaling Method: None ---\")\n",
    "\n",
    "    # Standardize the features\n",
    "    X_train_scaled, X_test_sclaed = scale(X_train, X_test, method)\n",
    "\n",
    "    # Create the linear model SGDclassifier\n",
    "    linear_clf = SGDClassifier()\n",
    "\n",
    "    # Train the model\n",
    "    linear_clf.fit(X_train_scaled, y_train)\n",
    "\n",
    "    # Predict the labels of the test set\n",
    "    y_pred = linear_clf.predict(X_test_sclaed)\n",
    "\n",
    "    # Evaluate the performance\n",
    "    print(\"Accuracy:\", metrics.accuracy_score(y_test, y_pred))\n",
    "    print(\"F1 score:\", metrics.f1_score(y_test, y_pred, average='macro', zero_division=1))\n",
    "    print(\"Precision:\", metrics.precision_score(y_test, y_pred, average='macro', zero_division=1))\n",
    "    print(\"Recall:\", metrics.recall_score(y_test, y_pred, average='macro', zero_division=1))\n"
   ]
  },
  {
   "cell_type": "markdown",
   "metadata": {},
   "source": [
    "## Performing the same tests with Random Forest Classifier"
   ]
  },
  {
   "cell_type": "code",
   "execution_count": 38,
   "metadata": {},
   "outputs": [
    {
     "name": "stdout",
     "output_type": "stream",
     "text": [
      "\n",
      "--- Scaling Method: None ---\n"
     ]
    },
    {
     "name": "stdout",
     "output_type": "stream",
     "text": [
      "Accuracy: 0.9696969696969697\n",
      "F1 score: 0.9666329625884732\n",
      "Precision: 0.9666329625884732\n",
      "Recall: 0.9666329625884732\n",
      "\n",
      "--- Scaling Method: STANDARD ---\n",
      "Accuracy: 0.9393939393939394\n",
      "F1 score: 0.9318181818181817\n",
      "Precision: 0.9428571428571428\n",
      "Recall: 0.9231547017189079\n",
      "\n",
      "--- Scaling Method: MINMAX ---\n",
      "Accuracy: 0.9393939393939394\n",
      "F1 score: 0.9301587301587302\n",
      "Precision: 0.9574468085106382\n",
      "Recall: 0.9130434782608696\n",
      "\n",
      "--- Scaling Method: ROBUST ---\n",
      "Accuracy: 0.9545454545454546\n",
      "F1 score: 0.9494252873563218\n",
      "Precision: 0.9545454545454546\n",
      "Recall: 0.9448938321536906\n"
     ]
    }
   ],
   "source": [
    "# Scaling methods\n",
    "scaling_methods = [None, 'standard', 'minmax', 'robust']\n",
    "\n",
    "for method in scaling_methods:\n",
    "    \n",
    "    if method is not None:\n",
    "        print(f\"\\n--- Scaling Method: {method.upper()} ---\")\n",
    "    else:\n",
    "        print(f\"\\n--- Scaling Method: None ---\")\n",
    "\n",
    "    # Standardize the features\n",
    "    X_train_scaled, X_test_sclaed = scale(X_train, X_test, method)\n",
    "\n",
    "    # Create the linear model SGDclassifier\n",
    "    linear_clf = RandomForestClassifier()\n",
    "\n",
    "    # Train the model\n",
    "    linear_clf.fit(X_train_scaled, y_train)\n",
    "\n",
    "    # Predict the labels of the test set\n",
    "    y_pred = linear_clf.predict(X_test_sclaed)\n",
    "\n",
    "    # Evaluate the performance\n",
    "    print(\"Accuracy:\", metrics.accuracy_score(y_test, y_pred))\n",
    "    print(\"F1 score:\", metrics.f1_score(y_test, y_pred, average='macro', zero_division=1))\n",
    "    print(\"Precision:\", metrics.precision_score(y_test, y_pred, average='macro', zero_division=1))\n",
    "    print(\"Recall:\", metrics.recall_score(y_test, y_pred, average='macro', zero_division=1))"
   ]
  }
 ],
 "metadata": {
  "kernelspec": {
   "display_name": "Python 3",
   "language": "python",
   "name": "python3"
  },
  "language_info": {
   "codemirror_mode": {
    "name": "ipython",
    "version": 3
   },
   "file_extension": ".py",
   "mimetype": "text/x-python",
   "name": "python",
   "nbconvert_exporter": "python",
   "pygments_lexer": "ipython3",
   "version": "3.9.6"
  },
  "orig_nbformat": 4
 },
 "nbformat": 4,
 "nbformat_minor": 2
}
