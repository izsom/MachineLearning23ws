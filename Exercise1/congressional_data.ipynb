{
 "cells": [
  {
   "cell_type": "markdown",
   "metadata": {},
   "source": [
    "## Data exploration and data preprocessing for the congressional voting dataset\n",
    "\n",
    "The folder includes 3 .csv files:\n",
    "* CongressionalVotingID.shuf.lrn.csv *- the training data set*\n",
    "* CongressionalVotingID.shuf.sol.ex.csv *- a sample solution file in the correct format* \n",
    "* CongressionalVotingID.shuf.tes.csv *- the test dataset*\n",
    "\n",
    "\n",
    "The data contains one integer ID column and multiple object columns\n",
    "\n",
    "\n",
    "For side note in Kaggle: https://medium.com/mcd-unison/using-the-kaggle-api-e43e902fba23"
   ]
  },
  {
   "cell_type": "code",
   "execution_count": 1,
   "metadata": {},
   "outputs": [],
   "source": [
    "import pandas as pd\n",
    "import numpy as np"
   ]
  },
  {
   "cell_type": "markdown",
   "metadata": {},
   "source": [
    "### Import and first overview of the data"
   ]
  },
  {
   "cell_type": "code",
   "execution_count": 2,
   "metadata": {},
   "outputs": [
    {
     "name": "stdout",
     "output_type": "stream",
     "text": [
      "The shape of the data looks as follows: train - (218, 18), test - (217, 17), sol - (217, 2)\n"
     ]
    }
   ],
   "source": [
    "# load the data\n",
    "congVoting_train = pd.read_csv('./data/CongressionVoting/CongressionalVotingID.shuf.lrn.csv')\n",
    "congVoting_test = pd.read_csv('./data/CongressionVoting/CongressionalVotingID.shuf.tes.csv')\n",
    "congVoting_sol = pd.read_csv('./data/CongressionVoting/CongressionalVotingID.shuf.sol.ex.csv')\n",
    "print(f\"The shape of the data looks as follows: train - {congVoting_train.shape}, test - {congVoting_test.shape}, sol - {congVoting_sol.shape}\")"
   ]
  },
  {
   "cell_type": "code",
   "execution_count": 3,
   "metadata": {},
   "outputs": [
    {
     "name": "stdout",
     "output_type": "stream",
     "text": [
      "The congVoting_test data shares 217 IDs with the congVoting_sol data and 0 IDs with the congVoting_train data\n"
     ]
    }
   ],
   "source": [
    "congVoting_train.head()\n",
    "# I assume the ID is the key of the test data and the sol could be merged on to the test data by using the ID\n",
    " \n",
    "len(set(congVoting_test.ID)& set(congVoting_sol.ID))\n",
    "len(set(congVoting_test.ID)& set(congVoting_train.ID))\n",
    "\n",
    "print(f\"The congVoting_test data shares {len(set(congVoting_test.ID)& set(congVoting_sol.ID))} IDs with the congVoting_sol data and {len(set(congVoting_test.ID)& set(congVoting_train.ID))} IDs with the congVoting_train data\")"
   ]
  },
  {
   "cell_type": "markdown",
   "metadata": {},
   "source": [
    "The previous code chunkshows, that in deed, the IDs are the same in test and sol and additionally that none of the test IDs occur in the train dataset. Thus for different split one could combine both datasets."
   ]
  },
  {
   "cell_type": "code",
   "execution_count": 4,
   "metadata": {},
   "outputs": [
    {
     "name": "stdout",
     "output_type": "stream",
     "text": [
      "The new merged dataset has the following shape: (435, 18)\n"
     ]
    }
   ],
   "source": [
    "congVoting = pd.concat([congVoting_train,pd.merge(congVoting_test, congVoting_sol, on='ID', how='inner')])\n",
    "congVoting.head()\n",
    "print(f\"The new merged dataset has the following shape: {congVoting.shape}\")"
   ]
  },
  {
   "cell_type": "code",
   "execution_count": 5,
   "metadata": {},
   "outputs": [
    {
     "data": {
      "text/plain": [
       "ID                                         int64\n",
       "class                                     object\n",
       "handicapped-infants                       object\n",
       "water-project-cost-sharing                object\n",
       "adoption-of-the-budget-resolution         object\n",
       "physician-fee-freeze                      object\n",
       "el-salvador-aid                           object\n",
       "religious-groups-in-schools               object\n",
       "anti-satellite-test-ban                   object\n",
       "aid-to-nicaraguan-contras                 object\n",
       "mx-missile                                object\n",
       "immigration                               object\n",
       "synfuels-crporation-cutback               object\n",
       "education-spending                        object\n",
       "superfund-right-to-sue                    object\n",
       "crime                                     object\n",
       "duty-free-exports                         object\n",
       "export-administration-act-south-africa    object\n",
       "dtype: object"
      ]
     },
     "execution_count": 5,
     "metadata": {},
     "output_type": "execute_result"
    }
   ],
   "source": [
    "congVoting_train.dtypes"
   ]
  },
  {
   "cell_type": "markdown",
   "metadata": {},
   "source": [
    "### Missing value handling"
   ]
  },
  {
   "cell_type": "code",
   "execution_count": 6,
   "metadata": {},
   "outputs": [
    {
     "data": {
      "text/plain": [
       "ID                                         NaN\n",
       "class                                      NaN\n",
       "handicapped-infants                        7.0\n",
       "water-project-cost-sharing                21.0\n",
       "adoption-of-the-budget-resolution          4.0\n",
       "physician-fee-freeze                       6.0\n",
       "el-salvador-aid                            9.0\n",
       "religious-groups-in-schools                5.0\n",
       "anti-satellite-test-ban                    6.0\n",
       "aid-to-nicaraguan-contras                 10.0\n",
       "mx-missile                                12.0\n",
       "immigration                                4.0\n",
       "synfuels-crporation-cutback               13.0\n",
       "education-spending                        16.0\n",
       "superfund-right-to-sue                    14.0\n",
       "crime                                      7.0\n",
       "duty-free-exports                         14.0\n",
       "export-administration-act-south-africa    58.0\n",
       "Name: unknown, dtype: float64"
      ]
     },
     "execution_count": 6,
     "metadata": {},
     "output_type": "execute_result"
    }
   ],
   "source": [
    "#congVoting_train.isna().sum()\n",
    "# The unknowns are represented by the string 'unknown'\n",
    "\n",
    "congVoting_train.apply(pd.Series.value_counts).loc['unknown']\n"
   ]
  },
  {
   "cell_type": "code",
   "execution_count": 7,
   "metadata": {},
   "outputs": [],
   "source": [
    "congVoting_train.set_index('ID', inplace=True)"
   ]
  },
  {
   "cell_type": "code",
   "execution_count": 9,
   "metadata": {},
   "outputs": [
    {
     "data": {
      "text/plain": [
       "(217, 17)"
      ]
     },
     "execution_count": 9,
     "metadata": {},
     "output_type": "execute_result"
    }
   ],
   "source": [
    "rowiseMissingValues = congVoting_train.apply(pd.Series.value_counts, axis=1).sort_values(by='unknown', ascending=False).loc[:,['unknown']]\n",
    "\n",
    "# Drop the rows with number of missing values bigger than a defined threshold\n",
    "\n",
    "# Threshold number is the half of the number of features\n",
    "missingValueThreshold = round(congVoting_train.shape[1]*0.5)\n",
    "rowsToDrop = rowiseMissingValues[rowiseMissingValues['unknown'] > missingValueThreshold]\n",
    "\n",
    "congVoting_train.drop(rowsToDrop.index, inplace=True)\n",
    "congVoting_train.shape\n",
    "\n"
   ]
  },
  {
   "cell_type": "markdown",
   "metadata": {},
   "source": [
    "### Convert data boolean data to integers\n",
    "\n",
    "The features column have the types 'n','y' and 'unknown'. This will be converted to 0,1,NaN."
   ]
  },
  {
   "cell_type": "code",
   "execution_count": 7,
   "metadata": {},
   "outputs": [],
   "source": [
    "def convert_values_to_numeric(df):\n",
    "    # Define the mapping for conversion\n",
    "    mapping = {'n': 0, 'y': 1, 'unknown': np.nan}\n",
    "\n",
    "    # Use the replace function to perform the conversion\n",
    "    converted_df = df.replace(mapping)\n",
    "\n",
    "    return converted_df\n",
    "\n",
    "def convert_numeric_to_values(df):\n",
    "    # Define the mapping for conversion\n",
    "    mapping = {0: 'n', 1: 'y', np.nan:'unknown'}\n",
    "\n",
    "    # Use the replace function to perform the conversion\n",
    "    converted_df = df.replace(mapping)\n",
    "\n",
    "    return converted_df"
   ]
  },
  {
   "cell_type": "code",
   "execution_count": 8,
   "metadata": {},
   "outputs": [
    {
     "name": "stdout",
     "output_type": "stream",
     "text": [
      "List the number of uniue values in the column crime: [ 0.  1. nan]\n",
      "For testing, print the number of NaN values in the column crime: 6\n",
      "List the number of uniue values in the column crime: ['n' 'y' 'unknown']\n",
      "For testing, print the number of NaN values in the column crime: 0\n"
     ]
    }
   ],
   "source": [
    "to_number_test = convert_values_to_numeric(congVoting_train)\n",
    "print(f\"List the number of uniue values in the column crime: {to_number_test.crime.unique()}\")\n",
    "print(f\"For testing, print the number of NaN values in the column crime: {to_number_test.crime.isna().sum()}\")\n",
    "\n",
    "to_numeric_test = convert_numeric_to_values(to_number_test)\n",
    "print(f\"List the number of uniue values in the column crime: {to_numeric_test.crime.unique()}\")\n",
    "print(f\"For testing, print the number of NaN values in the column crime: {to_numeric_test.crime.isna().sum()}\")"
   ]
  },
  {
   "cell_type": "code",
   "execution_count": 12,
   "metadata": {},
   "outputs": [
    {
     "data": {
      "text/plain": [
       "array(['democrat', 'republican'], dtype=object)"
      ]
     },
     "execution_count": 12,
     "metadata": {},
     "output_type": "execute_result"
    }
   ],
   "source": [
    "congVoting_train[\"class\"].unique()"
   ]
  }
 ],
 "metadata": {
  "kernelspec": {
   "display_name": "python_old",
   "language": "python",
   "name": "python3"
  },
  "language_info": {
   "codemirror_mode": {
    "name": "ipython",
    "version": 3
   },
   "file_extension": ".py",
   "mimetype": "text/x-python",
   "name": "python",
   "nbconvert_exporter": "python",
   "pygments_lexer": "ipython3",
   "version": "3.10.9"
  }
 },
 "nbformat": 4,
 "nbformat_minor": 2
}
