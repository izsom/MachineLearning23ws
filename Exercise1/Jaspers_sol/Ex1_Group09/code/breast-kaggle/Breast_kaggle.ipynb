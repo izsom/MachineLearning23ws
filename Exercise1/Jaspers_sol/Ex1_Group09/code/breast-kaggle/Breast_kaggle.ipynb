{
 "cells": [
  {
   "cell_type": "code",
   "execution_count": 2,
   "metadata": {},
   "outputs": [],
   "source": [
    "#libraries for data analysis and visualization\n",
    "import pandas as pd\n",
    "import numpy as np\n",
    "import matplotlib.pyplot as plt\n",
    "import seaborn as sns\n",
    "%matplotlib inline\n",
    "\n",
    "##ML\n",
    "from sklearn.preprocessing import LabelEncoder, StandardScaler, MinMaxScaler, RobustScaler, Normalizer, MaxAbsScaler\n",
    "from sklearn import datasets\n",
    "from sklearn import metrics\n",
    "from sklearn.model_selection import train_test_split, cross_val_score, cross_validate, KFold, StratifiedKFold, GridSearchCV, RandomizedSearchCV\n",
    "from sklearn.pipeline import Pipeline\n",
    "\n",
    "\n",
    "##Classifiers\n",
    "from sklearn.linear_model import LinearRegression, LogisticRegression\n",
    "from sklearn.neighbors import KNeighborsClassifier\n",
    "from sklearn.svm import SVC, LinearSVC\n",
    "from sklearn.tree import DecisionTreeClassifier\n",
    "from sklearn.ensemble import RandomForestClassifier, AdaBoostClassifier, GradientBoostingClassifier\n",
    "from sklearn.naive_bayes import GaussianNB\n",
    "from sklearn.discriminant_analysis import LinearDiscriminantAnalysis, QuadraticDiscriminantAnalysis\n"
   ]
  },
  {
   "cell_type": "code",
   "execution_count": 3,
   "metadata": {},
   "outputs": [
    {
     "data": {
      "text/html": [
       "<div>\n",
       "<style scoped>\n",
       "    .dataframe tbody tr th:only-of-type {\n",
       "        vertical-align: middle;\n",
       "    }\n",
       "\n",
       "    .dataframe tbody tr th {\n",
       "        vertical-align: top;\n",
       "    }\n",
       "\n",
       "    .dataframe thead th {\n",
       "        text-align: right;\n",
       "    }\n",
       "</style>\n",
       "<table border=\"1\" class=\"dataframe\">\n",
       "  <thead>\n",
       "    <tr style=\"text-align: right;\">\n",
       "      <th></th>\n",
       "      <th>class</th>\n",
       "      <th>radiusMean</th>\n",
       "      <th>textureMean</th>\n",
       "      <th>perimeterMean</th>\n",
       "      <th>areaMean</th>\n",
       "      <th>smoothnessMean</th>\n",
       "      <th>compactnessMean</th>\n",
       "      <th>concavityMean</th>\n",
       "      <th>concavePointsMean</th>\n",
       "      <th>symmetryMean</th>\n",
       "      <th>...</th>\n",
       "      <th>radiusWorst</th>\n",
       "      <th>textureWorst</th>\n",
       "      <th>perimeterWorst</th>\n",
       "      <th>areaWorst</th>\n",
       "      <th>smoothnessWorst</th>\n",
       "      <th>compactnessWorst</th>\n",
       "      <th>concavityWorst</th>\n",
       "      <th>concavePointsWorst</th>\n",
       "      <th>symmetryWorst</th>\n",
       "      <th>fractalDimensionWorst</th>\n",
       "    </tr>\n",
       "    <tr>\n",
       "      <th>ID</th>\n",
       "      <th></th>\n",
       "      <th></th>\n",
       "      <th></th>\n",
       "      <th></th>\n",
       "      <th></th>\n",
       "      <th></th>\n",
       "      <th></th>\n",
       "      <th></th>\n",
       "      <th></th>\n",
       "      <th></th>\n",
       "      <th></th>\n",
       "      <th></th>\n",
       "      <th></th>\n",
       "      <th></th>\n",
       "      <th></th>\n",
       "      <th></th>\n",
       "      <th></th>\n",
       "      <th></th>\n",
       "      <th></th>\n",
       "      <th></th>\n",
       "      <th></th>\n",
       "    </tr>\n",
       "  </thead>\n",
       "  <tbody>\n",
       "    <tr>\n",
       "      <th>8813129</th>\n",
       "      <td>False</td>\n",
       "      <td>13.27</td>\n",
       "      <td>17.02</td>\n",
       "      <td>84.55</td>\n",
       "      <td>546.4</td>\n",
       "      <td>0.08445</td>\n",
       "      <td>0.04994</td>\n",
       "      <td>0.03554</td>\n",
       "      <td>0.024560</td>\n",
       "      <td>0.1496</td>\n",
       "      <td>...</td>\n",
       "      <td>15.14</td>\n",
       "      <td>23.60</td>\n",
       "      <td>98.84</td>\n",
       "      <td>708.8</td>\n",
       "      <td>0.1276</td>\n",
       "      <td>0.1311</td>\n",
       "      <td>0.17860</td>\n",
       "      <td>0.09678</td>\n",
       "      <td>0.2506</td>\n",
       "      <td>0.07623</td>\n",
       "    </tr>\n",
       "    <tr>\n",
       "      <th>898678</th>\n",
       "      <td>False</td>\n",
       "      <td>12.06</td>\n",
       "      <td>18.90</td>\n",
       "      <td>76.66</td>\n",
       "      <td>445.3</td>\n",
       "      <td>0.08386</td>\n",
       "      <td>0.05794</td>\n",
       "      <td>0.00751</td>\n",
       "      <td>0.008488</td>\n",
       "      <td>0.1555</td>\n",
       "      <td>...</td>\n",
       "      <td>13.64</td>\n",
       "      <td>27.06</td>\n",
       "      <td>86.54</td>\n",
       "      <td>562.6</td>\n",
       "      <td>0.1289</td>\n",
       "      <td>0.1352</td>\n",
       "      <td>0.04506</td>\n",
       "      <td>0.05093</td>\n",
       "      <td>0.2880</td>\n",
       "      <td>0.08083</td>\n",
       "    </tr>\n",
       "    <tr>\n",
       "      <th>917896</th>\n",
       "      <td>False</td>\n",
       "      <td>13.71</td>\n",
       "      <td>18.68</td>\n",
       "      <td>88.73</td>\n",
       "      <td>571.0</td>\n",
       "      <td>0.09916</td>\n",
       "      <td>0.10700</td>\n",
       "      <td>0.05385</td>\n",
       "      <td>0.037830</td>\n",
       "      <td>0.1714</td>\n",
       "      <td>...</td>\n",
       "      <td>15.11</td>\n",
       "      <td>25.63</td>\n",
       "      <td>99.43</td>\n",
       "      <td>701.9</td>\n",
       "      <td>0.1425</td>\n",
       "      <td>0.2566</td>\n",
       "      <td>0.19350</td>\n",
       "      <td>0.12840</td>\n",
       "      <td>0.2849</td>\n",
       "      <td>0.09031</td>\n",
       "    </tr>\n",
       "    <tr>\n",
       "      <th>869691</th>\n",
       "      <td>True</td>\n",
       "      <td>11.80</td>\n",
       "      <td>16.58</td>\n",
       "      <td>78.99</td>\n",
       "      <td>432.0</td>\n",
       "      <td>0.10910</td>\n",
       "      <td>0.17000</td>\n",
       "      <td>0.16590</td>\n",
       "      <td>0.074150</td>\n",
       "      <td>0.2678</td>\n",
       "      <td>...</td>\n",
       "      <td>13.74</td>\n",
       "      <td>26.38</td>\n",
       "      <td>91.93</td>\n",
       "      <td>591.7</td>\n",
       "      <td>0.1385</td>\n",
       "      <td>0.4092</td>\n",
       "      <td>0.45040</td>\n",
       "      <td>0.18650</td>\n",
       "      <td>0.5774</td>\n",
       "      <td>0.10300</td>\n",
       "    </tr>\n",
       "    <tr>\n",
       "      <th>9110127</th>\n",
       "      <td>True</td>\n",
       "      <td>18.03</td>\n",
       "      <td>16.85</td>\n",
       "      <td>117.50</td>\n",
       "      <td>990.0</td>\n",
       "      <td>0.08947</td>\n",
       "      <td>0.12320</td>\n",
       "      <td>0.10900</td>\n",
       "      <td>0.062540</td>\n",
       "      <td>0.1720</td>\n",
       "      <td>...</td>\n",
       "      <td>20.38</td>\n",
       "      <td>22.02</td>\n",
       "      <td>133.30</td>\n",
       "      <td>1292.0</td>\n",
       "      <td>0.1263</td>\n",
       "      <td>0.2666</td>\n",
       "      <td>0.42900</td>\n",
       "      <td>0.15350</td>\n",
       "      <td>0.2842</td>\n",
       "      <td>0.08225</td>\n",
       "    </tr>\n",
       "  </tbody>\n",
       "</table>\n",
       "<p>5 rows × 31 columns</p>\n",
       "</div>"
      ],
      "text/plain": [
       "         class  radiusMean   textureMean   perimeterMean   areaMean  \\\n",
       "ID                                                                    \n",
       "8813129  False       13.27         17.02           84.55      546.4   \n",
       "898678   False       12.06         18.90           76.66      445.3   \n",
       "917896   False       13.71         18.68           88.73      571.0   \n",
       "869691    True       11.80         16.58           78.99      432.0   \n",
       "9110127   True       18.03         16.85          117.50      990.0   \n",
       "\n",
       "          smoothnessMean   compactnessMean   concavityMean  \\\n",
       "ID                                                           \n",
       "8813129          0.08445           0.04994         0.03554   \n",
       "898678           0.08386           0.05794         0.00751   \n",
       "917896           0.09916           0.10700         0.05385   \n",
       "869691           0.10910           0.17000         0.16590   \n",
       "9110127          0.08947           0.12320         0.10900   \n",
       "\n",
       "          concavePointsMean   symmetryMean  ...   radiusWorst   textureWorst  \\\n",
       "ID                                          ...                                \n",
       "8813129            0.024560         0.1496  ...         15.14          23.60   \n",
       "898678             0.008488         0.1555  ...         13.64          27.06   \n",
       "917896             0.037830         0.1714  ...         15.11          25.63   \n",
       "869691             0.074150         0.2678  ...         13.74          26.38   \n",
       "9110127            0.062540         0.1720  ...         20.38          22.02   \n",
       "\n",
       "          perimeterWorst   areaWorst   smoothnessWorst   compactnessWorst  \\\n",
       "ID                                                                          \n",
       "8813129            98.84       708.8            0.1276             0.1311   \n",
       "898678             86.54       562.6            0.1289             0.1352   \n",
       "917896             99.43       701.9            0.1425             0.2566   \n",
       "869691             91.93       591.7            0.1385             0.4092   \n",
       "9110127           133.30      1292.0            0.1263             0.2666   \n",
       "\n",
       "          concavityWorst   concavePointsWorst   symmetryWorst  \\\n",
       "ID                                                              \n",
       "8813129          0.17860              0.09678          0.2506   \n",
       "898678           0.04506              0.05093          0.2880   \n",
       "917896           0.19350              0.12840          0.2849   \n",
       "869691           0.45040              0.18650          0.5774   \n",
       "9110127          0.42900              0.15350          0.2842   \n",
       "\n",
       "          fractalDimensionWorst  \n",
       "ID                               \n",
       "8813129                 0.07623  \n",
       "898678                  0.08083  \n",
       "917896                  0.09031  \n",
       "869691                  0.10300  \n",
       "9110127                 0.08225  \n",
       "\n",
       "[5 rows x 31 columns]"
      ]
     },
     "execution_count": 3,
     "metadata": {},
     "output_type": "execute_result"
    }
   ],
   "source": [
    "df = pd.read_csv('./breast-cancer-diagnostic.shuf.lrn.csv')\n",
    "\n",
    "df.set_index('ID', inplace=True)\n",
    "df.head()"
   ]
  },
  {
   "attachments": {},
   "cell_type": "markdown",
   "metadata": {},
   "source": [
    "### Load Data\n",
    "\n",
    "the data is loaded from the csv and the first lines are displayed. this gives a rough overview of the data. "
   ]
  },
  {
   "cell_type": "code",
   "execution_count": 4,
   "metadata": {},
   "outputs": [
    {
     "data": {
      "text/plain": [
       "[Text(0.5, 1.0, 'Distribution of respons variable')]"
      ]
     },
     "execution_count": 4,
     "metadata": {},
     "output_type": "execute_result"
    },
    {
     "data": {
      "image/png": "[encoded data removed]",
      "text/plain": [
       "<Figure size 432x288 with 1 Axes>"
      ]
     },
     "metadata": {
      "needs_background": "light"
     },
     "output_type": "display_data"
    }
   ],
   "source": [
    "sns.countplot(x='class', data=df).set(title='Distribution of respons variable')"
   ]
  },
  {
   "attachments": {},
   "cell_type": "markdown",
   "metadata": {},
   "source": [
    "### Representation of the response variables\n",
    "\n",
    "The classes exhibit an imbalance, and the next step involves addressing this issue."
   ]
  },
  {
   "attachments": {},
   "cell_type": "markdown",
   "metadata": {},
   "source": [
    "# Data spliting "
   ]
  },
  {
   "cell_type": "code",
   "execution_count": 5,
   "metadata": {},
   "outputs": [
    {
     "name": "stdout",
     "output_type": "stream",
     "text": [
      "(354, 30)\n",
      "(354,)\n"
     ]
    }
   ],
   "source": [
    "le = LabelEncoder()\n",
    "df['class'] = le.fit_transform(df['class'])\n",
    "\n",
    "from imblearn.over_sampling import SMOTE\n",
    "\n",
    "sm = SMOTE(random_state=42)\n",
    "X, y = sm.fit_resample(df.drop('class', axis=1), df['class'])\n",
    "\n",
    "\n",
    "print(X.shape)\n",
    "print(y.shape)\n"
   ]
  },
  {
   "cell_type": "code",
   "execution_count": 6,
   "metadata": {},
   "outputs": [
    {
     "data": {
      "text/plain": [
       "[Text(0.5, 1.0, 'Distribution of respons variable after SMOTE')]"
      ]
     },
     "execution_count": 6,
     "metadata": {},
     "output_type": "execute_result"
    },
    {
     "data": {
      "image/png": "[encoded data removed]",
      "text/plain": [
       "<Figure size 432x288 with 1 Axes>"
      ]
     },
     "metadata": {
      "needs_background": "light"
     },
     "output_type": "display_data"
    }
   ],
   "source": [
    "sns.countplot(x=y).set(title='Distribution of respons variable after SMOTE')\n"
   ]
  },
  {
   "attachments": {},
   "cell_type": "markdown",
   "metadata": {},
   "source": [
    "The response variables were encoded using binary values and balanced using the SMOTE method."
   ]
  },
  {
   "attachments": {},
   "cell_type": "markdown",
   "metadata": {},
   "source": [
    "# Model \n"
   ]
  },
  {
   "cell_type": "code",
   "execution_count": 7,
   "metadata": {},
   "outputs": [
    {
     "name": "stdout",
     "output_type": "stream",
     "text": [
      "LogisticRegression()\n",
      "Mean:  0.9772946859903382\n",
      "Std:  0.014601044695369469\n",
      "\n",
      "KNeighborsClassifier()\n",
      "Mean:  0.9576523125549512\n",
      "Std:  0.025416659054730253\n",
      "\n",
      "SVC()\n",
      "Mean:  0.9771167635998411\n",
      "Std:  0.01502179445491849\n",
      "\n",
      "LinearSVC()\n",
      "Mean:  0.9689075352197658\n",
      "Std:  0.010675522051654037\n",
      "\n",
      "DecisionTreeClassifier()\n",
      "Mean:  0.9413652653302231\n",
      "Std:  0.024082267696990362\n",
      "\n",
      "RandomForestClassifier()\n",
      "Mean:  0.9555911945517103\n",
      "Std:  0.015110190693124526\n",
      "\n",
      "AdaBoostClassifier()\n",
      "Mean:  0.9652003173742305\n",
      "Std:  0.021660010078887154\n",
      "\n",
      "GradientBoostingClassifier()\n",
      "Mean:  0.9516347794497844\n",
      "Std:  0.023082903492025235\n",
      "\n",
      "GaussianNB()\n",
      "Mean:  0.9398172807584573\n",
      "Std:  0.027065243873168707\n",
      "\n",
      "LinearDiscriminantAnalysis()\n",
      "Mean:  0.9711561633973188\n",
      "Std:  0.015919065349290575\n",
      "\n",
      "QuadraticDiscriminantAnalysis()\n",
      "Mean:  0.9432491161902927\n",
      "Std:  0.03006219793036324\n",
      "\n"
     ]
    }
   ],
   "source": [
    "import warnings\n",
    "warnings.filterwarnings('ignore')\n",
    "\n",
    "classifiers = [LogisticRegression(), KNeighborsClassifier(), SVC(), LinearSVC(), DecisionTreeClassifier(), RandomForestClassifier(), AdaBoostClassifier(), GradientBoostingClassifier(), GaussianNB(), LinearDiscriminantAnalysis(), QuadraticDiscriminantAnalysis()]\n",
    "\n",
    "def cv_pipeline(model, X, y, cv=5):\n",
    "    pipe = Pipeline(steps=[('scaler', StandardScaler()), ('model', model)])\n",
    "    scores = cross_val_score(pipe, X, y, scoring='f1', cv=cv)\n",
    "    return (scores)\n",
    "\n",
    "\n",
    "\n",
    "\n",
    "for clf in classifiers:\n",
    "        scores = cv_pipeline(clf, X, y, 5)\n",
    "        print(clf)\n",
    "        print(\"Mean: \", scores.mean())\n",
    "        print(\"Std: \", scores.std())\n",
    "        print(\"\")   "
   ]
  },
  {
   "attachments": {},
   "cell_type": "markdown",
   "metadata": {},
   "source": [
    "### Evaluation \n",
    "\n",
    "It can be seen that LogisticRegression and SVM perform best. Now in the next steps GridSearchCV will be performed on each of the mentioned models"
   ]
  },
  {
   "attachments": {},
   "cell_type": "markdown",
   "metadata": {},
   "source": [
    "# Split the Data"
   ]
  },
  {
   "cell_type": "code",
   "execution_count": 8,
   "metadata": {},
   "outputs": [],
   "source": [
    "# split the data into train and test with ratio 80/20 and random state 42 and even distribution of the class variable\n",
    "X_train, X_test, y_train, y_test = train_test_split(X, y, test_size=0.2, random_state=42)\n",
    "#scale the data with standard scaler\n",
    "scaler = StandardScaler()\n",
    "X_train = scaler.fit_transform(X_train)\n",
    "X_test = scaler.transform(X_test)\n",
    "\n",
    "\n",
    "\n"
   ]
  },
  {
   "attachments": {},
   "cell_type": "markdown",
   "metadata": {},
   "source": [
    "### LogisticRegression"
   ]
  },
  {
   "cell_type": "code",
   "execution_count": 10,
   "metadata": {},
   "outputs": [
    {
     "name": "stdout",
     "output_type": "stream",
     "text": [
      "Accuracy: 0.9859154929577465\n",
      "F1 score: 0.9879518072289156\n",
      "Precision: 1.0\n",
      "Recall: 0.9761904761904762\n",
      "Confusion matrix: [[29  0]\n",
      " [ 1 41]]\n",
      "Mean time:  7.18080997467041 ms\n"
     ]
    }
   ],
   "source": [
    "import time\n",
    "\n",
    "def runtime(model, X_train, y_train):\n",
    "    start = time.time()\n",
    "    model.fit(X_train, y_train)\n",
    "    end = time.time()\n",
    "    return end-start\n",
    "\n",
    "lr = LogisticRegression()\n",
    "\n",
    "times = []\n",
    "for i in range(10):\n",
    "    times.append(runtime(lr, X_train, y_train))\n",
    "\n",
    "y_pred = lr.predict(X_test)\n",
    "\n",
    "\n",
    "print(\"Accuracy:\",metrics.accuracy_score(y_test, y_pred))\n",
    "print(\"F1 score:\",metrics.f1_score(y_test, y_pred))\n",
    "print(\"Precision:\",metrics.precision_score(y_test, y_pred))\n",
    "print(\"Recall:\",metrics.recall_score(y_test, y_pred))\n",
    "print(\"Confusion matrix:\",metrics.confusion_matrix(y_test, y_pred))\n",
    "print(\"Mean time: \", np.mean(times)*1000, \"ms\")"
   ]
  },
  {
   "cell_type": "code",
   "execution_count": 50,
   "metadata": {},
   "outputs": [
    {
     "name": "stdout",
     "output_type": "stream",
     "text": [
      "Accuracy: 0.9859154929577465\n",
      "F1 score: 0.9879518072289156\n",
      "Precision: 1.0\n",
      "Recall: 0.9761904761904762\n",
      "Confusion matrix: [[29  0]\n",
      " [ 1 41]]\n",
      "Mean time:  2.7924299240112305 ms\n"
     ]
    }
   ],
   "source": [
    "lr = LogisticRegression(max_iter=10, C=1, penalty='l1' ,solver='saga')\n",
    "\n",
    "times = []\n",
    "for i in range(10):\n",
    "    times.append(runtime(lr, X_train, y_train))\n",
    "\n",
    "y_pred = lr.predict(X_test)\n",
    "\n",
    "\n",
    "print(\"Accuracy:\",metrics.accuracy_score(y_test, y_pred))\n",
    "print(\"F1 score:\",metrics.f1_score(y_test, y_pred))\n",
    "print(\"Precision:\",metrics.precision_score(y_test, y_pred))\n",
    "print(\"Recall:\",metrics.recall_score(y_test, y_pred))\n",
    "print(\"Confusion matrix:\",metrics.confusion_matrix(y_test, y_pred))\n",
    "print(\"Mean time: \", np.mean(times)*1000, \"ms\")"
   ]
  },
  {
   "cell_type": "code",
   "execution_count": 11,
   "metadata": {},
   "outputs": [
    {
     "ename": "KeyboardInterrupt",
     "evalue": "",
     "output_type": "error",
     "traceback": [
      "\u001b[1;31m---------------------------------------------------------------------------\u001b[0m",
      "\u001b[1;31mKeyboardInterrupt\u001b[0m                         Traceback (most recent call last)",
      "\u001b[1;32mc:\\Users\\Emil\\Desktop\\Kraggle\\ml-ex\\Breast_kaggle.ipynb Cell 19\u001b[0m in \u001b[0;36m<cell line: 10>\u001b[1;34m()\u001b[0m\n\u001b[0;32m      <a href='vscode-notebook-cell:/c%3A/Users/Emil/Desktop/Kraggle/ml-ex/Breast_kaggle.ipynb#X24sZmlsZQ%3D%3D?line=2'>3</a>\u001b[0m param_grid \u001b[39m=\u001b[39m {  \u001b[39m'\u001b[39m\u001b[39mmodel__penalty\u001b[39m\u001b[39m'\u001b[39m: [\u001b[39m'\u001b[39m\u001b[39ml1\u001b[39m\u001b[39m'\u001b[39m, \u001b[39m'\u001b[39m\u001b[39ml2\u001b[39m\u001b[39m'\u001b[39m, \u001b[39m'\u001b[39m\u001b[39melasticnet\u001b[39m\u001b[39m'\u001b[39m, \u001b[39m'\u001b[39m\u001b[39mnone\u001b[39m\u001b[39m'\u001b[39m],   \n\u001b[0;32m      <a href='vscode-notebook-cell:/c%3A/Users/Emil/Desktop/Kraggle/ml-ex/Breast_kaggle.ipynb#X24sZmlsZQ%3D%3D?line=3'>4</a>\u001b[0m                 \u001b[39m'\u001b[39m\u001b[39mmodel__C\u001b[39m\u001b[39m'\u001b[39m: np\u001b[39m.\u001b[39mlogspace(\u001b[39m-\u001b[39m\u001b[39m4\u001b[39m, \u001b[39m4\u001b[39m, \u001b[39m20\u001b[39m),\n\u001b[0;32m      <a href='vscode-notebook-cell:/c%3A/Users/Emil/Desktop/Kraggle/ml-ex/Breast_kaggle.ipynb#X24sZmlsZQ%3D%3D?line=4'>5</a>\u001b[0m                 \u001b[39m'\u001b[39m\u001b[39mmodel__solver\u001b[39m\u001b[39m'\u001b[39m: [\u001b[39m'\u001b[39m\u001b[39mlbfgs\u001b[39m\u001b[39m'\u001b[39m,\u001b[39m'\u001b[39m\u001b[39mnewton-cg\u001b[39m\u001b[39m'\u001b[39m,\u001b[39m'\u001b[39m\u001b[39mliblinear\u001b[39m\u001b[39m'\u001b[39m,\u001b[39m'\u001b[39m\u001b[39msag\u001b[39m\u001b[39m'\u001b[39m,\u001b[39m'\u001b[39m\u001b[39msaga\u001b[39m\u001b[39m'\u001b[39m],\n\u001b[0;32m      <a href='vscode-notebook-cell:/c%3A/Users/Emil/Desktop/Kraggle/ml-ex/Breast_kaggle.ipynb#X24sZmlsZQ%3D%3D?line=5'>6</a>\u001b[0m                 \u001b[39m'\u001b[39m\u001b[39mmodel__max_iter\u001b[39m\u001b[39m'\u001b[39m: np\u001b[39m.\u001b[39marange(\u001b[39m90\u001b[39m, \u001b[39m250\u001b[39m, \u001b[39m5\u001b[39m)\n\u001b[0;32m      <a href='vscode-notebook-cell:/c%3A/Users/Emil/Desktop/Kraggle/ml-ex/Breast_kaggle.ipynb#X24sZmlsZQ%3D%3D?line=6'>7</a>\u001b[0m                 }\n\u001b[0;32m      <a href='vscode-notebook-cell:/c%3A/Users/Emil/Desktop/Kraggle/ml-ex/Breast_kaggle.ipynb#X24sZmlsZQ%3D%3D?line=8'>9</a>\u001b[0m search \u001b[39m=\u001b[39m GridSearchCV(pipe, param_grid, n_jobs\u001b[39m=\u001b[39m\u001b[39m-\u001b[39m\u001b[39m1\u001b[39m, cv\u001b[39m=\u001b[39m\u001b[39m5\u001b[39m, scoring\u001b[39m=\u001b[39m\u001b[39m'\u001b[39m\u001b[39mf1\u001b[39m\u001b[39m'\u001b[39m)\n\u001b[1;32m---> <a href='vscode-notebook-cell:/c%3A/Users/Emil/Desktop/Kraggle/ml-ex/Breast_kaggle.ipynb#X24sZmlsZQ%3D%3D?line=9'>10</a>\u001b[0m search\u001b[39m.\u001b[39;49mfit(X, y)\n\u001b[0;32m     <a href='vscode-notebook-cell:/c%3A/Users/Emil/Desktop/Kraggle/ml-ex/Breast_kaggle.ipynb#X24sZmlsZQ%3D%3D?line=11'>12</a>\u001b[0m \u001b[39mprint\u001b[39m(search\u001b[39m.\u001b[39mbest_params_)\n\u001b[0;32m     <a href='vscode-notebook-cell:/c%3A/Users/Emil/Desktop/Kraggle/ml-ex/Breast_kaggle.ipynb#X24sZmlsZQ%3D%3D?line=12'>13</a>\u001b[0m \u001b[39mprint\u001b[39m(search\u001b[39m.\u001b[39mbest_score_)\n",
      "File \u001b[1;32mc:\\Users\\Emil\\miniconda3\\lib\\site-packages\\sklearn\\model_selection\\_search.py:874\u001b[0m, in \u001b[0;36mBaseSearchCV.fit\u001b[1;34m(self, X, y, groups, **fit_params)\u001b[0m\n\u001b[0;32m    868\u001b[0m     results \u001b[39m=\u001b[39m \u001b[39mself\u001b[39m\u001b[39m.\u001b[39m_format_results(\n\u001b[0;32m    869\u001b[0m         all_candidate_params, n_splits, all_out, all_more_results\n\u001b[0;32m    870\u001b[0m     )\n\u001b[0;32m    872\u001b[0m     \u001b[39mreturn\u001b[39;00m results\n\u001b[1;32m--> 874\u001b[0m \u001b[39mself\u001b[39;49m\u001b[39m.\u001b[39;49m_run_search(evaluate_candidates)\n\u001b[0;32m    876\u001b[0m \u001b[39m# multimetric is determined here because in the case of a callable\u001b[39;00m\n\u001b[0;32m    877\u001b[0m \u001b[39m# self.scoring the return type is only known after calling\u001b[39;00m\n\u001b[0;32m    878\u001b[0m first_test_score \u001b[39m=\u001b[39m all_out[\u001b[39m0\u001b[39m][\u001b[39m\"\u001b[39m\u001b[39mtest_scores\u001b[39m\u001b[39m\"\u001b[39m]\n",
      "File \u001b[1;32mc:\\Users\\Emil\\miniconda3\\lib\\site-packages\\sklearn\\model_selection\\_search.py:1388\u001b[0m, in \u001b[0;36mGridSearchCV._run_search\u001b[1;34m(self, evaluate_candidates)\u001b[0m\n\u001b[0;32m   1386\u001b[0m \u001b[39mdef\u001b[39;00m \u001b[39m_run_search\u001b[39m(\u001b[39mself\u001b[39m, evaluate_candidates):\n\u001b[0;32m   1387\u001b[0m     \u001b[39m\"\"\"Search all candidates in param_grid\"\"\"\u001b[39;00m\n\u001b[1;32m-> 1388\u001b[0m     evaluate_candidates(ParameterGrid(\u001b[39mself\u001b[39;49m\u001b[39m.\u001b[39;49mparam_grid))\n",
      "File \u001b[1;32mc:\\Users\\Emil\\miniconda3\\lib\\site-packages\\sklearn\\model_selection\\_search.py:821\u001b[0m, in \u001b[0;36mBaseSearchCV.fit.<locals>.evaluate_candidates\u001b[1;34m(candidate_params, cv, more_results)\u001b[0m\n\u001b[0;32m    813\u001b[0m \u001b[39mif\u001b[39;00m \u001b[39mself\u001b[39m\u001b[39m.\u001b[39mverbose \u001b[39m>\u001b[39m \u001b[39m0\u001b[39m:\n\u001b[0;32m    814\u001b[0m     \u001b[39mprint\u001b[39m(\n\u001b[0;32m    815\u001b[0m         \u001b[39m\"\u001b[39m\u001b[39mFitting \u001b[39m\u001b[39m{0}\u001b[39;00m\u001b[39m folds for each of \u001b[39m\u001b[39m{1}\u001b[39;00m\u001b[39m candidates,\u001b[39m\u001b[39m\"\u001b[39m\n\u001b[0;32m    816\u001b[0m         \u001b[39m\"\u001b[39m\u001b[39m totalling \u001b[39m\u001b[39m{2}\u001b[39;00m\u001b[39m fits\u001b[39m\u001b[39m\"\u001b[39m\u001b[39m.\u001b[39mformat(\n\u001b[0;32m    817\u001b[0m             n_splits, n_candidates, n_candidates \u001b[39m*\u001b[39m n_splits\n\u001b[0;32m    818\u001b[0m         )\n\u001b[0;32m    819\u001b[0m     )\n\u001b[1;32m--> 821\u001b[0m out \u001b[39m=\u001b[39m parallel(\n\u001b[0;32m    822\u001b[0m     delayed(_fit_and_score)(\n\u001b[0;32m    823\u001b[0m         clone(base_estimator),\n\u001b[0;32m    824\u001b[0m         X,\n\u001b[0;32m    825\u001b[0m         y,\n\u001b[0;32m    826\u001b[0m         train\u001b[39m=\u001b[39;49mtrain,\n\u001b[0;32m    827\u001b[0m         test\u001b[39m=\u001b[39;49mtest,\n\u001b[0;32m    828\u001b[0m         parameters\u001b[39m=\u001b[39;49mparameters,\n\u001b[0;32m    829\u001b[0m         split_progress\u001b[39m=\u001b[39;49m(split_idx, n_splits),\n\u001b[0;32m    830\u001b[0m         candidate_progress\u001b[39m=\u001b[39;49m(cand_idx, n_candidates),\n\u001b[0;32m    831\u001b[0m         \u001b[39m*\u001b[39;49m\u001b[39m*\u001b[39;49mfit_and_score_kwargs,\n\u001b[0;32m    832\u001b[0m     )\n\u001b[0;32m    833\u001b[0m     \u001b[39mfor\u001b[39;49;00m (cand_idx, parameters), (split_idx, (train, test)) \u001b[39min\u001b[39;49;00m product(\n\u001b[0;32m    834\u001b[0m         \u001b[39menumerate\u001b[39;49m(candidate_params), \u001b[39menumerate\u001b[39;49m(cv\u001b[39m.\u001b[39;49msplit(X, y, groups))\n\u001b[0;32m    835\u001b[0m     )\n\u001b[0;32m    836\u001b[0m )\n\u001b[0;32m    838\u001b[0m \u001b[39mif\u001b[39;00m \u001b[39mlen\u001b[39m(out) \u001b[39m<\u001b[39m \u001b[39m1\u001b[39m:\n\u001b[0;32m    839\u001b[0m     \u001b[39mraise\u001b[39;00m \u001b[39mValueError\u001b[39;00m(\n\u001b[0;32m    840\u001b[0m         \u001b[39m\"\u001b[39m\u001b[39mNo fits were performed. \u001b[39m\u001b[39m\"\u001b[39m\n\u001b[0;32m    841\u001b[0m         \u001b[39m\"\u001b[39m\u001b[39mWas the CV iterator empty? \u001b[39m\u001b[39m\"\u001b[39m\n\u001b[0;32m    842\u001b[0m         \u001b[39m\"\u001b[39m\u001b[39mWere there no candidates?\u001b[39m\u001b[39m\"\u001b[39m\n\u001b[0;32m    843\u001b[0m     )\n",
      "File \u001b[1;32mc:\\Users\\Emil\\miniconda3\\lib\\site-packages\\sklearn\\utils\\parallel.py:63\u001b[0m, in \u001b[0;36mParallel.__call__\u001b[1;34m(self, iterable)\u001b[0m\n\u001b[0;32m     58\u001b[0m config \u001b[39m=\u001b[39m get_config()\n\u001b[0;32m     59\u001b[0m iterable_with_config \u001b[39m=\u001b[39m (\n\u001b[0;32m     60\u001b[0m     (_with_config(delayed_func, config), args, kwargs)\n\u001b[0;32m     61\u001b[0m     \u001b[39mfor\u001b[39;00m delayed_func, args, kwargs \u001b[39min\u001b[39;00m iterable\n\u001b[0;32m     62\u001b[0m )\n\u001b[1;32m---> 63\u001b[0m \u001b[39mreturn\u001b[39;00m \u001b[39msuper\u001b[39;49m()\u001b[39m.\u001b[39;49m\u001b[39m__call__\u001b[39;49m(iterable_with_config)\n",
      "File \u001b[1;32mc:\\Users\\Emil\\miniconda3\\lib\\site-packages\\joblib\\parallel.py:1098\u001b[0m, in \u001b[0;36mParallel.__call__\u001b[1;34m(self, iterable)\u001b[0m\n\u001b[0;32m   1095\u001b[0m     \u001b[39mself\u001b[39m\u001b[39m.\u001b[39m_iterating \u001b[39m=\u001b[39m \u001b[39mFalse\u001b[39;00m\n\u001b[0;32m   1097\u001b[0m \u001b[39mwith\u001b[39;00m \u001b[39mself\u001b[39m\u001b[39m.\u001b[39m_backend\u001b[39m.\u001b[39mretrieval_context():\n\u001b[1;32m-> 1098\u001b[0m     \u001b[39mself\u001b[39;49m\u001b[39m.\u001b[39;49mretrieve()\n\u001b[0;32m   1099\u001b[0m \u001b[39m# Make sure that we get a last message telling us we are done\u001b[39;00m\n\u001b[0;32m   1100\u001b[0m elapsed_time \u001b[39m=\u001b[39m time\u001b[39m.\u001b[39mtime() \u001b[39m-\u001b[39m \u001b[39mself\u001b[39m\u001b[39m.\u001b[39m_start_time\n",
      "File \u001b[1;32mc:\\Users\\Emil\\miniconda3\\lib\\site-packages\\joblib\\parallel.py:975\u001b[0m, in \u001b[0;36mParallel.retrieve\u001b[1;34m(self)\u001b[0m\n\u001b[0;32m    973\u001b[0m \u001b[39mtry\u001b[39;00m:\n\u001b[0;32m    974\u001b[0m     \u001b[39mif\u001b[39;00m \u001b[39mgetattr\u001b[39m(\u001b[39mself\u001b[39m\u001b[39m.\u001b[39m_backend, \u001b[39m'\u001b[39m\u001b[39msupports_timeout\u001b[39m\u001b[39m'\u001b[39m, \u001b[39mFalse\u001b[39;00m):\n\u001b[1;32m--> 975\u001b[0m         \u001b[39mself\u001b[39m\u001b[39m.\u001b[39m_output\u001b[39m.\u001b[39mextend(job\u001b[39m.\u001b[39;49mget(timeout\u001b[39m=\u001b[39;49m\u001b[39mself\u001b[39;49m\u001b[39m.\u001b[39;49mtimeout))\n\u001b[0;32m    976\u001b[0m     \u001b[39melse\u001b[39;00m:\n\u001b[0;32m    977\u001b[0m         \u001b[39mself\u001b[39m\u001b[39m.\u001b[39m_output\u001b[39m.\u001b[39mextend(job\u001b[39m.\u001b[39mget())\n",
      "File \u001b[1;32mc:\\Users\\Emil\\miniconda3\\lib\\site-packages\\joblib\\_parallel_backends.py:567\u001b[0m, in \u001b[0;36mLokyBackend.wrap_future_result\u001b[1;34m(future, timeout)\u001b[0m\n\u001b[0;32m    564\u001b[0m \u001b[39m\"\"\"Wrapper for Future.result to implement the same behaviour as\u001b[39;00m\n\u001b[0;32m    565\u001b[0m \u001b[39mAsyncResults.get from multiprocessing.\"\"\"\u001b[39;00m\n\u001b[0;32m    566\u001b[0m \u001b[39mtry\u001b[39;00m:\n\u001b[1;32m--> 567\u001b[0m     \u001b[39mreturn\u001b[39;00m future\u001b[39m.\u001b[39;49mresult(timeout\u001b[39m=\u001b[39;49mtimeout)\n\u001b[0;32m    568\u001b[0m \u001b[39mexcept\u001b[39;00m CfTimeoutError \u001b[39mas\u001b[39;00m e:\n\u001b[0;32m    569\u001b[0m     \u001b[39mraise\u001b[39;00m \u001b[39mTimeoutError\u001b[39;00m \u001b[39mfrom\u001b[39;00m \u001b[39me\u001b[39;00m\n",
      "File \u001b[1;32mc:\\Users\\Emil\\miniconda3\\lib\\concurrent\\futures\\_base.py:440\u001b[0m, in \u001b[0;36mFuture.result\u001b[1;34m(self, timeout)\u001b[0m\n\u001b[0;32m    437\u001b[0m \u001b[39melif\u001b[39;00m \u001b[39mself\u001b[39m\u001b[39m.\u001b[39m_state \u001b[39m==\u001b[39m FINISHED:\n\u001b[0;32m    438\u001b[0m     \u001b[39mreturn\u001b[39;00m \u001b[39mself\u001b[39m\u001b[39m.\u001b[39m__get_result()\n\u001b[1;32m--> 440\u001b[0m \u001b[39mself\u001b[39;49m\u001b[39m.\u001b[39;49m_condition\u001b[39m.\u001b[39;49mwait(timeout)\n\u001b[0;32m    442\u001b[0m \u001b[39mif\u001b[39;00m \u001b[39mself\u001b[39m\u001b[39m.\u001b[39m_state \u001b[39min\u001b[39;00m [CANCELLED, CANCELLED_AND_NOTIFIED]:\n\u001b[0;32m    443\u001b[0m     \u001b[39mraise\u001b[39;00m CancelledError()\n",
      "File \u001b[1;32mc:\\Users\\Emil\\miniconda3\\lib\\threading.py:312\u001b[0m, in \u001b[0;36mCondition.wait\u001b[1;34m(self, timeout)\u001b[0m\n\u001b[0;32m    310\u001b[0m \u001b[39mtry\u001b[39;00m:    \u001b[39m# restore state no matter what (e.g., KeyboardInterrupt)\u001b[39;00m\n\u001b[0;32m    311\u001b[0m     \u001b[39mif\u001b[39;00m timeout \u001b[39mis\u001b[39;00m \u001b[39mNone\u001b[39;00m:\n\u001b[1;32m--> 312\u001b[0m         waiter\u001b[39m.\u001b[39;49macquire()\n\u001b[0;32m    313\u001b[0m         gotit \u001b[39m=\u001b[39m \u001b[39mTrue\u001b[39;00m\n\u001b[0;32m    314\u001b[0m     \u001b[39melse\u001b[39;00m:\n",
      "\u001b[1;31mKeyboardInterrupt\u001b[0m: "
     ]
    }
   ],
   "source": [
    "pipe = Pipeline(steps=[('scaler', StandardScaler()), ('model', LogisticRegression())])\n",
    "\n",
    "param_grid = {  'model__penalty': ['l1', 'l2', 'elasticnet', 'none'],   \n",
    "                'model__C': np.logspace(-4, 4, 20),\n",
    "                'model__solver': ['lbfgs','newton-cg','liblinear','sag','saga'],\n",
    "                'model__max_iter': np.arange(90, 250, 5)\n",
    "                }\n",
    "\n",
    "search = GridSearchCV(pipe, param_grid, n_jobs=-1, cv=5, scoring='f1')\n",
    "search.fit(X, y)\n",
    "\n",
    "print(search.best_params_)\n",
    "print(search.best_score_)\n",
    "print(search.best_estimator_)\n",
    "\n"
   ]
  },
  {
   "attachments": {},
   "cell_type": "markdown",
   "metadata": {},
   "source": [
    "### SVC"
   ]
  },
  {
   "cell_type": "code",
   "execution_count": 49,
   "metadata": {},
   "outputs": [
    {
     "name": "stdout",
     "output_type": "stream",
     "text": [
      "Accuracy: 0.971830985915493\n",
      "F1 score: 0.975609756097561\n",
      "Precision: 1.0\n",
      "Recall: 0.9523809523809523\n",
      "Confusion matrix: [[29  0]\n",
      " [ 2 40]]\n",
      "Mean time:  2.4931907653808594 ms\n"
     ]
    }
   ],
   "source": [
    "import time\n",
    "\n",
    "svc = SVC()\n",
    "\n",
    "times = []\n",
    "for i in range(10):\n",
    "    times.append(runtime(svc, X_train, y_train))\n",
    "\n",
    "y_pred = svc.predict(X_test)\n",
    "\n",
    "\n",
    "print(\"Accuracy:\",metrics.accuracy_score(y_test, y_pred))\n",
    "print(\"F1 score:\",metrics.f1_score(y_test, y_pred))\n",
    "print(\"Precision:\",metrics.precision_score(y_test, y_pred))\n",
    "print(\"Recall:\",metrics.recall_score(y_test, y_pred))\n",
    "print(\"Confusion matrix:\",metrics.confusion_matrix(y_test, y_pred))\n",
    "print(\"Mean time: \", np.mean(times)*1000, \"ms\")"
   ]
  },
  {
   "cell_type": "code",
   "execution_count": 44,
   "metadata": {},
   "outputs": [
    {
     "name": "stdout",
     "output_type": "stream",
     "text": [
      "Accuracy: 0.9859154929577465\n",
      "F1 score: 0.988235294117647\n",
      "Precision: 0.9767441860465116\n",
      "Recall: 1.0\n",
      "Confusion matrix: [[28  1]\n",
      " [ 0 42]]\n",
      "Mean time:  2.2937774658203125 ms\n"
     ]
    }
   ],
   "source": [
    "import time\n",
    "\n",
    "svc = SVC(C=0.01, gamma=0.24, kernel='poly', degree=3)\n",
    "\n",
    "times = []\n",
    "for i in range(10):\n",
    "    times.append(runtime(svc, X_train, y_train))\n",
    "\n",
    "y_pred = svc.predict(X_test)\n",
    "\n",
    "\n",
    "print(\"Accuracy:\",metrics.accuracy_score(y_test, y_pred))\n",
    "print(\"F1 score:\",metrics.f1_score(y_test, y_pred))\n",
    "print(\"Precision:\",metrics.precision_score(y_test, y_pred))\n",
    "print(\"Recall:\",metrics.recall_score(y_test, y_pred))\n",
    "print(\"Confusion matrix:\",metrics.confusion_matrix(y_test, y_pred))\n",
    "print(\"Mean time: \", np.mean(times)*1000, \"ms\")"
   ]
  },
  {
   "cell_type": "code",
   "execution_count": null,
   "metadata": {},
   "outputs": [
    {
     "name": "stdout",
     "output_type": "stream",
     "text": [
      "{'model__C': 98, 'model__degree': 1, 'model__gamma': 0.09, 'model__kernel': 'sigmoid'}\n",
      "0.9886473429951691\n",
      "Pipeline(steps=[('scaler', MaxAbsScaler()),\n",
      "                ('model', SVC(C=98, degree=1, gamma=0.09, kernel='sigmoid'))])\n"
     ]
    }
   ],
   "source": [
    "pipe = Pipeline(steps=[('scaler', MaxAbsScaler()), ('model', SVC())])\n",
    "\n",
    "#make param_grid for SVC\n",
    "param_grid = {  'model__C': np.arange(95, 105, 1),\n",
    "                'model__kernel': ['poly', 'sigmoid'],\n",
    "                'model__degree': np.arange(1, 4, 1),\n",
    "                'model__gamma': np.arange(0, 0.1, 0.01),\n",
    "                }\n",
    "\n",
    "search = GridSearchCV(pipe, param_grid, n_jobs=-1, cv=5, scoring='f1')\n",
    "search.fit(X, y)\n",
    "\n",
    "print(search.best_params_)\n",
    "print(search.best_score_)\n",
    "print(search.best_estimator_)"
   ]
  },
  {
   "attachments": {},
   "cell_type": "markdown",
   "metadata": {},
   "source": [
    "## Linear Discriminant Analysis"
   ]
  },
  {
   "cell_type": "code",
   "execution_count": 52,
   "metadata": {},
   "outputs": [
    {
     "name": "stdout",
     "output_type": "stream",
     "text": [
      "Accuracy: 0.9577464788732394\n",
      "F1 score: 0.963855421686747\n",
      "Precision: 0.975609756097561\n",
      "Recall: 0.9523809523809523\n",
      "Confusion matrix: [[28  1]\n",
      " [ 2 40]]\n",
      "Mean time:  2.8411865234375 ms\n"
     ]
    }
   ],
   "source": [
    "lda = LinearDiscriminantAnalysis()\n",
    "\n",
    "times = []\n",
    "for i in range(10):\n",
    "    times.append(runtime(lda, X_train, y_train))\n",
    "\n",
    "y_pred = lda.predict(X_test)\n",
    "\n",
    "\n",
    "print(\"Accuracy:\",metrics.accuracy_score(y_test, y_pred))\n",
    "print(\"F1 score:\",metrics.f1_score(y_test, y_pred))\n",
    "print(\"Precision:\",metrics.precision_score(y_test, y_pred))\n",
    "print(\"Recall:\",metrics.recall_score(y_test, y_pred))\n",
    "print(\"Confusion matrix:\",metrics.confusion_matrix(y_test, y_pred))\n",
    "print(\"Mean time: \", np.mean(times)*1000, \"ms\")"
   ]
  },
  {
   "cell_type": "code",
   "execution_count": 56,
   "metadata": {},
   "outputs": [
    {
     "name": "stdout",
     "output_type": "stream",
     "text": [
      "Accuracy: 0.971830985915493\n",
      "F1 score: 0.975609756097561\n",
      "Precision: 1.0\n",
      "Recall: 0.9523809523809523\n",
      "Confusion matrix: [[29  0]\n",
      " [ 2 40]]\n",
      "Mean time:  2.2967100143432617 ms\n"
     ]
    }
   ],
   "source": [
    "lda = LinearDiscriminantAnalysis(solver='lsqr', shrinkage=0.1, n_components=1)\n",
    "\n",
    "times = []\n",
    "for i in range(10):\n",
    "    times.append(runtime(lda, X_train, y_train))\n",
    "\n",
    "y_pred = lda.predict(X_test)\n",
    "\n",
    "\n",
    "print(\"Accuracy:\",metrics.accuracy_score(y_test, y_pred))\n",
    "print(\"F1 score:\",metrics.f1_score(y_test, y_pred))\n",
    "print(\"Precision:\",metrics.precision_score(y_test, y_pred))\n",
    "print(\"Recall:\",metrics.recall_score(y_test, y_pred))\n",
    "print(\"Confusion matrix:\",metrics.confusion_matrix(y_test, y_pred))\n",
    "print(\"Mean time: \", np.mean(times)*1000, \"ms\") "
   ]
  },
  {
   "attachments": {},
   "cell_type": "markdown",
   "metadata": {},
   "source": [
    "The best parameters are searched for each model "
   ]
  },
  {
   "attachments": {},
   "cell_type": "markdown",
   "metadata": {},
   "source": [
    "# Make Predictions\n",
    "\n",
    "With the help of the best parameters, predictions for the test set are now created. Before that, the models are trained with the whole data set. "
   ]
  },
  {
   "cell_type": "code",
   "execution_count": null,
   "metadata": {},
   "outputs": [
    {
     "data": {
      "text/html": [
       "<div>\n",
       "<style scoped>\n",
       "    .dataframe tbody tr th:only-of-type {\n",
       "        vertical-align: middle;\n",
       "    }\n",
       "\n",
       "    .dataframe tbody tr th {\n",
       "        vertical-align: top;\n",
       "    }\n",
       "\n",
       "    .dataframe thead th {\n",
       "        text-align: right;\n",
       "    }\n",
       "</style>\n",
       "<table border=\"1\" class=\"dataframe\">\n",
       "  <thead>\n",
       "    <tr style=\"text-align: right;\">\n",
       "      <th></th>\n",
       "      <th>radiusMean</th>\n",
       "      <th>textureMean</th>\n",
       "      <th>perimeterMean</th>\n",
       "      <th>areaMean</th>\n",
       "      <th>smoothnessMean</th>\n",
       "      <th>compactnessMean</th>\n",
       "      <th>concavityMean</th>\n",
       "      <th>concavePointsMean</th>\n",
       "      <th>symmetryMean</th>\n",
       "      <th>fractalDimensionMean</th>\n",
       "      <th>...</th>\n",
       "      <th>radiusWorst</th>\n",
       "      <th>textureWorst</th>\n",
       "      <th>perimeterWorst</th>\n",
       "      <th>areaWorst</th>\n",
       "      <th>smoothnessWorst</th>\n",
       "      <th>compactnessWorst</th>\n",
       "      <th>concavityWorst</th>\n",
       "      <th>concavePointsWorst</th>\n",
       "      <th>symmetryWorst</th>\n",
       "      <th>fractalDimensionWorst</th>\n",
       "    </tr>\n",
       "    <tr>\n",
       "      <th>ID</th>\n",
       "      <th></th>\n",
       "      <th></th>\n",
       "      <th></th>\n",
       "      <th></th>\n",
       "      <th></th>\n",
       "      <th></th>\n",
       "      <th></th>\n",
       "      <th></th>\n",
       "      <th></th>\n",
       "      <th></th>\n",
       "      <th></th>\n",
       "      <th></th>\n",
       "      <th></th>\n",
       "      <th></th>\n",
       "      <th></th>\n",
       "      <th></th>\n",
       "      <th></th>\n",
       "      <th></th>\n",
       "      <th></th>\n",
       "      <th></th>\n",
       "      <th></th>\n",
       "    </tr>\n",
       "  </thead>\n",
       "  <tbody>\n",
       "    <tr>\n",
       "      <th>884437</th>\n",
       "      <td>10.480</td>\n",
       "      <td>19.86</td>\n",
       "      <td>66.72</td>\n",
       "      <td>337.7</td>\n",
       "      <td>0.10700</td>\n",
       "      <td>0.05971</td>\n",
       "      <td>0.04831</td>\n",
       "      <td>0.03070</td>\n",
       "      <td>0.1737</td>\n",
       "      <td>0.06440</td>\n",
       "      <td>...</td>\n",
       "      <td>11.48</td>\n",
       "      <td>29.46</td>\n",
       "      <td>73.68</td>\n",
       "      <td>402.8</td>\n",
       "      <td>0.15150</td>\n",
       "      <td>0.1026</td>\n",
       "      <td>0.1181</td>\n",
       "      <td>0.06736</td>\n",
       "      <td>0.2883</td>\n",
       "      <td>0.07748</td>\n",
       "    </tr>\n",
       "    <tr>\n",
       "      <th>901011</th>\n",
       "      <td>11.140</td>\n",
       "      <td>14.07</td>\n",
       "      <td>71.24</td>\n",
       "      <td>384.6</td>\n",
       "      <td>0.07274</td>\n",
       "      <td>0.06064</td>\n",
       "      <td>0.04505</td>\n",
       "      <td>0.01471</td>\n",
       "      <td>0.1690</td>\n",
       "      <td>0.06083</td>\n",
       "      <td>...</td>\n",
       "      <td>12.12</td>\n",
       "      <td>15.82</td>\n",
       "      <td>79.62</td>\n",
       "      <td>453.5</td>\n",
       "      <td>0.08864</td>\n",
       "      <td>0.1256</td>\n",
       "      <td>0.1201</td>\n",
       "      <td>0.03922</td>\n",
       "      <td>0.2576</td>\n",
       "      <td>0.07018</td>\n",
       "    </tr>\n",
       "    <tr>\n",
       "      <th>865432</th>\n",
       "      <td>14.500</td>\n",
       "      <td>10.89</td>\n",
       "      <td>94.28</td>\n",
       "      <td>640.7</td>\n",
       "      <td>0.11010</td>\n",
       "      <td>0.10990</td>\n",
       "      <td>0.08842</td>\n",
       "      <td>0.05778</td>\n",
       "      <td>0.1856</td>\n",
       "      <td>0.06402</td>\n",
       "      <td>...</td>\n",
       "      <td>15.70</td>\n",
       "      <td>15.98</td>\n",
       "      <td>102.80</td>\n",
       "      <td>745.5</td>\n",
       "      <td>0.13130</td>\n",
       "      <td>0.1788</td>\n",
       "      <td>0.2560</td>\n",
       "      <td>0.12210</td>\n",
       "      <td>0.2889</td>\n",
       "      <td>0.08006</td>\n",
       "    </tr>\n",
       "    <tr>\n",
       "      <th>894329</th>\n",
       "      <td>9.042</td>\n",
       "      <td>18.90</td>\n",
       "      <td>60.07</td>\n",
       "      <td>244.5</td>\n",
       "      <td>0.09968</td>\n",
       "      <td>0.19720</td>\n",
       "      <td>0.19750</td>\n",
       "      <td>0.04908</td>\n",
       "      <td>0.2330</td>\n",
       "      <td>0.08743</td>\n",
       "      <td>...</td>\n",
       "      <td>10.06</td>\n",
       "      <td>23.40</td>\n",
       "      <td>68.62</td>\n",
       "      <td>297.1</td>\n",
       "      <td>0.12210</td>\n",
       "      <td>0.3748</td>\n",
       "      <td>0.4609</td>\n",
       "      <td>0.11450</td>\n",
       "      <td>0.3135</td>\n",
       "      <td>0.10550</td>\n",
       "    </tr>\n",
       "    <tr>\n",
       "      <th>84348301</th>\n",
       "      <td>11.420</td>\n",
       "      <td>20.38</td>\n",
       "      <td>77.58</td>\n",
       "      <td>386.1</td>\n",
       "      <td>0.14250</td>\n",
       "      <td>0.28390</td>\n",
       "      <td>0.24140</td>\n",
       "      <td>0.10520</td>\n",
       "      <td>0.2597</td>\n",
       "      <td>0.09744</td>\n",
       "      <td>...</td>\n",
       "      <td>14.91</td>\n",
       "      <td>26.50</td>\n",
       "      <td>98.87</td>\n",
       "      <td>567.7</td>\n",
       "      <td>0.20980</td>\n",
       "      <td>0.8663</td>\n",
       "      <td>0.6869</td>\n",
       "      <td>0.25750</td>\n",
       "      <td>0.6638</td>\n",
       "      <td>0.17300</td>\n",
       "    </tr>\n",
       "  </tbody>\n",
       "</table>\n",
       "<p>5 rows × 30 columns</p>\n",
       "</div>"
      ],
      "text/plain": [
       "          radiusMean   textureMean   perimeterMean   areaMean  \\\n",
       "ID                                                              \n",
       "884437        10.480         19.86           66.72      337.7   \n",
       "901011        11.140         14.07           71.24      384.6   \n",
       "865432        14.500         10.89           94.28      640.7   \n",
       "894329         9.042         18.90           60.07      244.5   \n",
       "84348301      11.420         20.38           77.58      386.1   \n",
       "\n",
       "           smoothnessMean   compactnessMean   concavityMean  \\\n",
       "ID                                                            \n",
       "884437            0.10700           0.05971         0.04831   \n",
       "901011            0.07274           0.06064         0.04505   \n",
       "865432            0.11010           0.10990         0.08842   \n",
       "894329            0.09968           0.19720         0.19750   \n",
       "84348301          0.14250           0.28390         0.24140   \n",
       "\n",
       "           concavePointsMean   symmetryMean   fractalDimensionMean  ...  \\\n",
       "ID                                                                  ...   \n",
       "884437               0.03070         0.1737                0.06440  ...   \n",
       "901011               0.01471         0.1690                0.06083  ...   \n",
       "865432               0.05778         0.1856                0.06402  ...   \n",
       "894329               0.04908         0.2330                0.08743  ...   \n",
       "84348301             0.10520         0.2597                0.09744  ...   \n",
       "\n",
       "           radiusWorst   textureWorst   perimeterWorst   areaWorst  \\\n",
       "ID                                                                   \n",
       "884437           11.48          29.46            73.68       402.8   \n",
       "901011           12.12          15.82            79.62       453.5   \n",
       "865432           15.70          15.98           102.80       745.5   \n",
       "894329           10.06          23.40            68.62       297.1   \n",
       "84348301         14.91          26.50            98.87       567.7   \n",
       "\n",
       "           smoothnessWorst   compactnessWorst   concavityWorst  \\\n",
       "ID                                                               \n",
       "884437             0.15150             0.1026           0.1181   \n",
       "901011             0.08864             0.1256           0.1201   \n",
       "865432             0.13130             0.1788           0.2560   \n",
       "894329             0.12210             0.3748           0.4609   \n",
       "84348301           0.20980             0.8663           0.6869   \n",
       "\n",
       "           concavePointsWorst   symmetryWorst   fractalDimensionWorst  \n",
       "ID                                                                     \n",
       "884437                0.06736          0.2883                 0.07748  \n",
       "901011                0.03922          0.2576                 0.07018  \n",
       "865432                0.12210          0.2889                 0.08006  \n",
       "894329                0.11450          0.3135                 0.10550  \n",
       "84348301              0.25750          0.6638                 0.17300  \n",
       "\n",
       "[5 rows x 30 columns]"
      ]
     },
     "execution_count": 32,
     "metadata": {},
     "output_type": "execute_result"
    }
   ],
   "source": [
    "df_test = pd.read_csv('.//breast-cancer-diagnostic.shuf.tes.csv')\n",
    "\n",
    "##make the ID column the index\n",
    "df_test.set_index('ID', inplace=True)\n",
    "df_test.head()\n"
   ]
  },
  {
   "cell_type": "code",
   "execution_count": null,
   "metadata": {},
   "outputs": [
    {
     "name": "stdout",
     "output_type": "stream",
     "text": [
      "(284, 1)\n"
     ]
    }
   ],
   "source": [
    "X_test = df_test\n",
    "df_pred = pd.DataFrame()\n",
    "myScaler = StandardScaler()\n",
    "myModel = LogisticRegression(C= 0.521400828799969, max_iter= 198, penalty= 'l1', solver= 'saga')\n",
    "myModel.fit(myScaler.fit_transform(X), y)\n",
    "pred = myModel.predict(myScaler.fit_transform(X_test))\n",
    "df_pred['class'] = pred\n",
    "df_pred.index = df_test.index\n",
    "df_pred['class'] = df_pred['class'].map({0: False, 1: True})\n",
    "print(df_pred.shape)\n",
    "df_pred.tail(30)\n",
    "df_pred.to_csv('breast-LogisticRegression-pred.csv')\n",
    "\n"
   ]
  },
  {
   "cell_type": "code",
   "execution_count": null,
   "metadata": {},
   "outputs": [
    {
     "name": "stdout",
     "output_type": "stream",
     "text": [
      "(284, 1)\n"
     ]
    }
   ],
   "source": [
    "X_test = df_test\n",
    "df_pred = pd.DataFrame()\n",
    "myScaler = MaxAbsScaler()\n",
    "#myModel = SVC(C=0.1, degree=3, gamma='scale', kernel='poly', max_iter=26)\n",
    "myModel = SVC(C=100, gamma=0.01, kernel='sigmoid')\n",
    "myModel.fit(myScaler.fit_transform(X), y)\n",
    "pred = myModel.predict(myScaler.fit_transform(X_test))\n",
    "df_pred['class'] = pred\n",
    "df_pred.index = df_test.index\n",
    "df_pred['class'] = df_pred['class'].map({0: False, 1: True})\n",
    "print(df_pred.shape)\n",
    "df_pred.tail(30)\n",
    "df_pred.to_csv('breast-SVM-pred-test.csv')"
   ]
  },
  {
   "cell_type": "code",
   "execution_count": null,
   "metadata": {},
   "outputs": [],
   "source": []
  }
 ],
 "metadata": {
  "kernelspec": {
   "display_name": "Python 3",
   "language": "python",
   "name": "python3"
  },
  "language_info": {
   "codemirror_mode": {
    "name": "ipython",
    "version": 3
   },
   "file_extension": ".py",
   "mimetype": "text/x-python",
   "name": "python",
   "nbconvert_exporter": "python",
   "pygments_lexer": "ipython3",
   "version": "3.9.5"
  },
  "orig_nbformat": 4
 },
 "nbformat": 4,
 "nbformat_minor": 2
}
