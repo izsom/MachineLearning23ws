{
 "cells": [
  {
   "cell_type": "code",
   "execution_count": 313,
   "metadata": {},
   "outputs": [],
   "source": [
    "import pandas as pd\n",
    "import numpy as np\n",
    "import matplotlib.pyplot as plt\n",
    "import seaborn as sns\n",
    "\n",
    "import time\n",
    "from sklearn.preprocessing import LabelEncoder\n",
    "from sklearn.model_selection import train_test_split, KFold, cross_val_score\n",
    "from sklearn.feature_selection import SelectKBest, f_classif, mutual_info_classif, chi2\n",
    "from sklearn.preprocessing import StandardScaler\n",
    "from sklearn.ensemble import RandomForestClassifier\n",
    "from sklearn.neighbors import KNeighborsClassifier\n",
    "from sklearn.linear_model import LogisticRegression\n",
    "from sklearn.metrics import f1_score\n",
    "\n",
    "from scipy.stats import chi2_contingency\n",
    "import warnings\n",
    "warnings.filterwarnings(\"ignore\", category=DeprecationWarning) "
   ]
  },
  {
   "cell_type": "code",
   "execution_count": 314,
   "metadata": {},
   "outputs": [],
   "source": [
    "def select_features(X, y):\n",
    "    ##Label encode y if it is an object\n",
    "    if y.dtype == 'object':\n",
    "        y = LabelEncoder().fit_transform(y)\n",
    "\n",
    "        #y = pd.factorize(y)[0]\n",
    "\n",
    "    \n",
    "    # Calculate correlation coefficients and p-values between features and target variable\n",
    "    corrs, p_values = [], []\n",
    "    for feature in X.columns:\n",
    "        ##We had also categorical columns before, but now we are using only numerical columns\n",
    "        \"\"\"  if X[feature].dtype == 'object':\n",
    "            contingency_table = pd.crosstab(X[feature], y)\n",
    "            _, p, _, _ = chi2_contingency(contingency_table)\n",
    "            corrs.append(np.sqrt(p / (p + X[feature].nunique() - 1)))\n",
    "        else: \"\"\"\n",
    "        corr, p = f_classif(X[[feature]], y)\n",
    "        corrs.append(corr[0])\n",
    "        p_values.append(p)\n",
    "    \n",
    "    # Combine correlation coefficients and p-values into a single DataFrame\n",
    "    corr_df = pd.DataFrame({'Feature': X.columns, 'Correlation': corrs, 'P-Value': p_values})\n",
    "    corr_df = corr_df.sort_values(by='Correlation', ascending=False).reset_index(drop=True)\n",
    "    \n",
    "    # Select features with significant correlation and p-value\n",
    "    significant_features = corr_df.loc[(corr_df['Correlation'] > 0) & (corr_df['P-Value'] < 0.05), 'Feature'].tolist()\n",
    "    \n",
    "    \n",
    "    return significant_features"
   ]
  },
  {
   "cell_type": "code",
   "execution_count": 315,
   "metadata": {},
   "outputs": [],
   "source": [
    "def evaluate_models(X, y, classifiers, preprocessing_methods, splitting_strategy, k=5):\n",
    "    results = {}\n",
    "    kf = KFold(n_splits=k, shuffle=True, random_state=42)\n",
    "    for preprocessing_method in preprocessing_methods:\n",
    "        for clf in classifiers:\n",
    "            clf_name = clf.__class__.__name__\n",
    "            f1_scores = []\n",
    "            preprocess_times = []\n",
    "            train_times = []\n",
    "            for train_index, test_index in kf.split(X, y):\n",
    "                # Split dataset into train and test sets for this fold\n",
    "                X_train, X_test = X.iloc[train_index], X.iloc[test_index]\n",
    "                y_train, y_test = y.iloc[train_index], y.iloc[test_index]\n",
    "\n",
    "                # Preprocess data for this fold\n",
    "                preprocess_start_time = time.time()\n",
    "                if preprocessing_method == \"none\":\n",
    "                    X_train_preprocessed = X_train\n",
    "                    X_test_preprocessed = X_test\n",
    "                elif preprocessing_method == \"featureselection\":\n",
    "                    significant_features = select_features(X_train, y_train)\n",
    "                    #Print the lenght of X.columns and lenght of significant features\n",
    "                    print(\"Number of features: \", len(X_train.columns))\n",
    "                    print(\"Number of significant features: \", len(significant_features))\n",
    "                    X_train_preprocessed = X_train[significant_features]\n",
    "                    X_test_preprocessed = X_test[significant_features]\n",
    "                elif preprocessing_method == \"scaler\":\n",
    "                    scaler = StandardScaler()\n",
    "                    X_train_preprocessed = scaler.fit_transform(X_train)\n",
    "                    X_test_preprocessed = scaler.transform(X_test)\n",
    "                else:  # \"all\"\n",
    "                    significant_features = select_features(X_train, y_train)\n",
    "                    print(\"Number of features: \", len(X_train.columns))\n",
    "                    print(\"Number of significant features: \", len(significant_features))\n",
    "                    scaler = StandardScaler()\n",
    "                    X_train_preprocessed = scaler.fit_transform(X_train[significant_features])\n",
    "                    X_test_preprocessed = scaler.transform(X_test[significant_features])\n",
    "                preprocess_end_time = time.time()\n",
    "                preprocess_times.append(preprocess_end_time - preprocess_start_time)\n",
    "\n",
    "                # Train and evaluate model for this fold\n",
    "                train_start_time = time.time()\n",
    "                clf.fit(X_train_preprocessed, y_train)\n",
    "                train_end_time = time.time()\n",
    "                train_times.append(train_end_time - train_start_time)\n",
    "\n",
    "                y_pred = clf.predict(X_test_preprocessed)\n",
    "                f1_scores.append(f1_score(y_test, y_pred, average=\"weighted\"))\n",
    "\n",
    "            # Compute mean F1 score across all folds for this classifier and preprocessing method\n",
    "            mean_f1_score = np.mean(f1_scores)\n",
    "            mean_preprocess_time = np.mean(preprocess_times)\n",
    "            mean_train_time = np.mean(train_times)\n",
    "            result_key = f\"{clf_name}_{preprocessing_method}_{splitting_strategy}\"\n",
    "            results[result_key] = {\"mean_f1_score\": mean_f1_score,\n",
    "                                   \"dev_f1_score\": np.std(f1_scores),\n",
    "                                   \"mean_preprocess_time\": mean_preprocess_time,\n",
    "                                   \"mean_train_time\": mean_train_time}\n",
    "    return results\n"
   ]
  },
  {
   "attachments": {},
   "cell_type": "markdown",
   "metadata": {},
   "source": [
    "# Loading the data sets"
   ]
  },
  {
   "cell_type": "code",
   "execution_count": 316,
   "metadata": {},
   "outputs": [
    {
     "name": "stdout",
     "output_type": "stream",
     "text": [
      "<class 'pandas.core.frame.DataFrame'>\n",
      "Int64Index: 285 entries, 8813129 to 8810158\n",
      "Data columns (total 31 columns):\n",
      " #   Column                   Non-Null Count  Dtype  \n",
      "---  ------                   --------------  -----  \n",
      " 0   target                   285 non-null    bool   \n",
      " 1   radiusMean               285 non-null    float64\n",
      " 2    textureMean             285 non-null    float64\n",
      " 3    perimeterMean           285 non-null    float64\n",
      " 4    areaMean                285 non-null    float64\n",
      " 5    smoothnessMean          285 non-null    float64\n",
      " 6    compactnessMean         285 non-null    float64\n",
      " 7    concavityMean           285 non-null    float64\n",
      " 8    concavePointsMean       285 non-null    float64\n",
      " 9    symmetryMean            285 non-null    float64\n",
      " 10   fractalDimensionMean    285 non-null    float64\n",
      " 11   radiusStdErr            285 non-null    float64\n",
      " 12   textureStdErr           285 non-null    float64\n",
      " 13   perimeterStdErr         285 non-null    float64\n",
      " 14   areaStdErr              285 non-null    float64\n",
      " 15   smoothnessStdErr        285 non-null    float64\n",
      " 16   compactnessStdErr       285 non-null    float64\n",
      " 17   concavityStdErr         285 non-null    float64\n",
      " 18   concavePointsStdErr     285 non-null    float64\n",
      " 19   symmetryStdErr          285 non-null    float64\n",
      " 20   fractalDimensionStdErr  285 non-null    float64\n",
      " 21   radiusWorst             285 non-null    float64\n",
      " 22   textureWorst            285 non-null    float64\n",
      " 23   perimeterWorst          285 non-null    float64\n",
      " 24   areaWorst               285 non-null    float64\n",
      " 25   smoothnessWorst         285 non-null    float64\n",
      " 26   compactnessWorst        285 non-null    float64\n",
      " 27   concavityWorst          285 non-null    float64\n",
      " 28   concavePointsWorst      285 non-null    float64\n",
      " 29   symmetryWorst           285 non-null    float64\n",
      " 30   fractalDimensionWorst   285 non-null    float64\n",
      "dtypes: bool(1), float64(30)\n",
      "memory usage: 69.3 KB\n"
     ]
    }
   ],
   "source": [
    "##Load data\n",
    "breast = pd.read_csv(\"preprocessed-datasets/breast-cancer-prepro.csv\")\n",
    "#Set index\n",
    "breast.set_index(\"ID\", inplace=True)\n",
    "breast.name = \"Breast Cancer\"\n",
    "setattr(breast, '_name', 'breast')\n",
    "breast.info()"
   ]
  },
  {
   "cell_type": "code",
   "execution_count": 317,
   "metadata": {},
   "outputs": [
    {
     "name": "stdout",
     "output_type": "stream",
     "text": [
      "<class 'pandas.core.frame.DataFrame'>\n",
      "Int64Index: 10000 entries, 24341 to 8729\n",
      "Columns: 158 entries, loan_amnt to target\n",
      "dtypes: float64(69), int64(88), object(1)\n",
      "memory usage: 12.1+ MB\n"
     ]
    }
   ],
   "source": [
    "##Load loan\n",
    "loan = pd.read_csv(\"preprocessed-datasets/loan-prepro.csv\")\n",
    "#Set index\n",
    "loan.set_index(\"ID\", inplace=True)\n",
    "loan.name = 'Loan'\n",
    "setattr(loan, '_name', 'loan')\n",
    "loan.info()"
   ]
  },
  {
   "cell_type": "code",
   "execution_count": 318,
   "metadata": {},
   "outputs": [
    {
     "name": "stdout",
     "output_type": "stream",
     "text": [
      "<class 'pandas.core.frame.DataFrame'>\n",
      "RangeIndex: 1877 entries, 0 to 1876\n",
      "Data columns (total 30 columns):\n",
      " #   Column     Non-Null Count  Dtype  \n",
      "---  ------     --------------  -----  \n",
      " 0   Age        1877 non-null   float64\n",
      " 1   Gender     1877 non-null   float64\n",
      " 2   Education  1877 non-null   float64\n",
      " 3   Country    1877 non-null   float64\n",
      " 4   Ethnicity  1877 non-null   float64\n",
      " 5   Nscore     1877 non-null   float64\n",
      " 6   Escore     1877 non-null   float64\n",
      " 7   Oscore     1877 non-null   float64\n",
      " 8   Ascore     1877 non-null   float64\n",
      " 9   Cscore     1877 non-null   float64\n",
      " 10  Impulsive  1877 non-null   float64\n",
      " 11  SS         1877 non-null   float64\n",
      " 12  Alcohol    1877 non-null   float64\n",
      " 13  Amphet     1877 non-null   float64\n",
      " 14  Amyl       1877 non-null   float64\n",
      " 15  Benzos     1877 non-null   float64\n",
      " 16  Caff       1877 non-null   float64\n",
      " 17  Cannabis   1877 non-null   float64\n",
      " 18  Choc       1877 non-null   float64\n",
      " 19  Coke       1877 non-null   float64\n",
      " 20  Crack      1877 non-null   float64\n",
      " 21  target     1877 non-null   float64\n",
      " 22  Heroin     1877 non-null   float64\n",
      " 23  Ketamine   1877 non-null   float64\n",
      " 24  Legalh     1877 non-null   float64\n",
      " 25  LSD        1877 non-null   float64\n",
      " 26  Meth       1877 non-null   float64\n",
      " 27  Mushrooms  1877 non-null   float64\n",
      " 28  Nicotine   1877 non-null   float64\n",
      " 29  VSA        1877 non-null   float64\n",
      "dtypes: float64(30)\n",
      "memory usage: 440.0 KB\n"
     ]
    }
   ],
   "source": [
    "## Load drug consumption\n",
    "drug = pd.read_csv(\"preprocessed-datasets/drug_consumption-prepro.csv\")\n",
    "drug.name = 'Drug Consumption'\n",
    "setattr(drug, '_name', 'drug')\n",
    "drug.info()"
   ]
  },
  {
   "cell_type": "code",
   "execution_count": 319,
   "metadata": {},
   "outputs": [
    {
     "name": "stdout",
     "output_type": "stream",
     "text": [
      "<class 'pandas.core.frame.DataFrame'>\n",
      "RangeIndex: 45211 entries, 0 to 45210\n",
      "Data columns (total 37 columns):\n",
      " #   Column               Non-Null Count  Dtype\n",
      "---  ------               --------------  -----\n",
      " 0   Unnamed: 0           45211 non-null  int64\n",
      " 1   age                  45211 non-null  int64\n",
      " 2   default              45211 non-null  int64\n",
      " 3   balance              45211 non-null  int64\n",
      " 4   housing              45211 non-null  int64\n",
      " 5   loan                 45211 non-null  int64\n",
      " 6   duration             45211 non-null  int64\n",
      " 7   campaign             45211 non-null  int64\n",
      " 8   pdays                45211 non-null  int64\n",
      " 9   previous             45211 non-null  int64\n",
      " 10  target               45211 non-null  int64\n",
      " 11  job_admin.           45211 non-null  int64\n",
      " 12  job_blue-collar      45211 non-null  int64\n",
      " 13  job_entrepreneur     45211 non-null  int64\n",
      " 14  job_housemaid        45211 non-null  int64\n",
      " 15  job_management       45211 non-null  int64\n",
      " 16  job_retired          45211 non-null  int64\n",
      " 17  job_self-employed    45211 non-null  int64\n",
      " 18  job_services         45211 non-null  int64\n",
      " 19  job_student          45211 non-null  int64\n",
      " 20  job_technician       45211 non-null  int64\n",
      " 21  job_unemployed       45211 non-null  int64\n",
      " 22  job_unknown          45211 non-null  int64\n",
      " 23  marital_divorced     45211 non-null  int64\n",
      " 24  marital_married      45211 non-null  int64\n",
      " 25  marital_single       45211 non-null  int64\n",
      " 26  education_primary    45211 non-null  int64\n",
      " 27  education_secondary  45211 non-null  int64\n",
      " 28  education_tertiary   45211 non-null  int64\n",
      " 29  education_unknown    45211 non-null  int64\n",
      " 30  contact_cellular     45211 non-null  int64\n",
      " 31  contact_telephone    45211 non-null  int64\n",
      " 32  contact_unknown      45211 non-null  int64\n",
      " 33  poutcome_failure     45211 non-null  int64\n",
      " 34  poutcome_other       45211 non-null  int64\n",
      " 35  poutcome_success     45211 non-null  int64\n",
      " 36  poutcome_unknown     45211 non-null  int64\n",
      "dtypes: int64(37)\n",
      "memory usage: 12.8 MB\n"
     ]
    }
   ],
   "source": [
    "##Bank data\n",
    "bank = pd.read_csv(\"preprocessed-datasets/bank-prepro.csv\")\n",
    "bank.name = \"Bank Marketing\"\n",
    "setattr(bank, '_name', 'bank')\n",
    "bank.info()"
   ]
  },
  {
   "attachments": {},
   "cell_type": "markdown",
   "metadata": {},
   "source": [
    "# Experimet setup "
   ]
  },
  {
   "cell_type": "code",
   "execution_count": 320,
   "metadata": {},
   "outputs": [],
   "source": [
    "# Define datasets\n",
    "dataset_array = [breast, loan, drug, bank]\n",
    "dataset_names = [\"Breast Cancer\", \"Loan\", \"Drug Consumption\", \"Bank Marketing\"]\n",
    "\n",
    "\n",
    "# Define classifiers\n",
    "classifiers = [RandomForestClassifier(), KNeighborsClassifier(), LogisticRegression()]\n",
    "\n",
    "# Define preprocessing methods\n",
    "preprocessing_methods = [\"none\", \"featureselection\", \"scaler\", \"all\"]\n",
    "\n",
    "# Define splitting strategies\n",
    "splitting_strategies = [\"holdout\", \"cv\"]"
   ]
  },
  {
   "attachments": {},
   "cell_type": "markdown",
   "metadata": {},
   "source": [
    "# Model training"
   ]
  },
  {
   "cell_type": "code",
   "execution_count": 321,
   "metadata": {},
   "outputs": [
    {
     "name": "stderr",
     "output_type": "stream",
     "text": [
      "/Users/kristian/opt/anaconda3/lib/python3.9/site-packages/sklearn/linear_model/_logistic.py:814: ConvergenceWarning: lbfgs failed to converge (status=1):\n",
      "STOP: TOTAL NO. of ITERATIONS REACHED LIMIT.\n",
      "\n",
      "Increase the number of iterations (max_iter) or scale the data as shown in:\n",
      "    https://scikit-learn.org/stable/modules/preprocessing.html\n",
      "Please also refer to the documentation for alternative solver options:\n",
      "    https://scikit-learn.org/stable/modules/linear_model.html#logistic-regression\n",
      "  n_iter_i = _check_optimize_result(\n",
      "/Users/kristian/opt/anaconda3/lib/python3.9/site-packages/sklearn/linear_model/_logistic.py:814: ConvergenceWarning: lbfgs failed to converge (status=1):\n",
      "STOP: TOTAL NO. of ITERATIONS REACHED LIMIT.\n",
      "\n",
      "Increase the number of iterations (max_iter) or scale the data as shown in:\n",
      "    https://scikit-learn.org/stable/modules/preprocessing.html\n",
      "Please also refer to the documentation for alternative solver options:\n",
      "    https://scikit-learn.org/stable/modules/linear_model.html#logistic-regression\n",
      "  n_iter_i = _check_optimize_result(\n",
      "/Users/kristian/opt/anaconda3/lib/python3.9/site-packages/sklearn/linear_model/_logistic.py:814: ConvergenceWarning: lbfgs failed to converge (status=1):\n",
      "STOP: TOTAL NO. of ITERATIONS REACHED LIMIT.\n",
      "\n",
      "Increase the number of iterations (max_iter) or scale the data as shown in:\n",
      "    https://scikit-learn.org/stable/modules/preprocessing.html\n",
      "Please also refer to the documentation for alternative solver options:\n",
      "    https://scikit-learn.org/stable/modules/linear_model.html#logistic-regression\n",
      "  n_iter_i = _check_optimize_result(\n",
      "/Users/kristian/opt/anaconda3/lib/python3.9/site-packages/sklearn/linear_model/_logistic.py:814: ConvergenceWarning: lbfgs failed to converge (status=1):\n",
      "STOP: TOTAL NO. of ITERATIONS REACHED LIMIT.\n",
      "\n",
      "Increase the number of iterations (max_iter) or scale the data as shown in:\n",
      "    https://scikit-learn.org/stable/modules/preprocessing.html\n",
      "Please also refer to the documentation for alternative solver options:\n",
      "    https://scikit-learn.org/stable/modules/linear_model.html#logistic-regression\n",
      "  n_iter_i = _check_optimize_result(\n",
      "/Users/kristian/opt/anaconda3/lib/python3.9/site-packages/sklearn/linear_model/_logistic.py:814: ConvergenceWarning: lbfgs failed to converge (status=1):\n",
      "STOP: TOTAL NO. of ITERATIONS REACHED LIMIT.\n",
      "\n",
      "Increase the number of iterations (max_iter) or scale the data as shown in:\n",
      "    https://scikit-learn.org/stable/modules/preprocessing.html\n",
      "Please also refer to the documentation for alternative solver options:\n",
      "    https://scikit-learn.org/stable/modules/linear_model.html#logistic-regression\n",
      "  n_iter_i = _check_optimize_result(\n"
     ]
    },
    {
     "name": "stdout",
     "output_type": "stream",
     "text": [
      "Number of features:  30\n",
      "Number of significant features:  25\n",
      "Number of features:  30\n",
      "Number of significant features:  26\n",
      "Number of features:  30\n",
      "Number of significant features:  25\n",
      "Number of features:  30\n",
      "Number of significant features:  26\n",
      "Number of features:  30\n",
      "Number of significant features:  25\n",
      "Number of features:  30\n",
      "Number of significant features:  25\n",
      "Number of features:  30\n",
      "Number of significant features:  26\n",
      "Number of features:  30\n",
      "Number of significant features:  25\n",
      "Number of features:  30\n",
      "Number of significant features:  26\n",
      "Number of features:  30\n",
      "Number of significant features:  25\n",
      "Number of features:  30\n",
      "Number of significant features:  25\n"
     ]
    },
    {
     "name": "stderr",
     "output_type": "stream",
     "text": [
      "/Users/kristian/opt/anaconda3/lib/python3.9/site-packages/sklearn/linear_model/_logistic.py:814: ConvergenceWarning: lbfgs failed to converge (status=1):\n",
      "STOP: TOTAL NO. of ITERATIONS REACHED LIMIT.\n",
      "\n",
      "Increase the number of iterations (max_iter) or scale the data as shown in:\n",
      "    https://scikit-learn.org/stable/modules/preprocessing.html\n",
      "Please also refer to the documentation for alternative solver options:\n",
      "    https://scikit-learn.org/stable/modules/linear_model.html#logistic-regression\n",
      "  n_iter_i = _check_optimize_result(\n"
     ]
    },
    {
     "name": "stdout",
     "output_type": "stream",
     "text": [
      "Number of features:  30\n",
      "Number of significant features:  26\n",
      "Number of features:  30\n",
      "Number of significant features:  25\n"
     ]
    },
    {
     "name": "stderr",
     "output_type": "stream",
     "text": [
      "/Users/kristian/opt/anaconda3/lib/python3.9/site-packages/sklearn/linear_model/_logistic.py:814: ConvergenceWarning: lbfgs failed to converge (status=1):\n",
      "STOP: TOTAL NO. of ITERATIONS REACHED LIMIT.\n",
      "\n",
      "Increase the number of iterations (max_iter) or scale the data as shown in:\n",
      "    https://scikit-learn.org/stable/modules/preprocessing.html\n",
      "Please also refer to the documentation for alternative solver options:\n",
      "    https://scikit-learn.org/stable/modules/linear_model.html#logistic-regression\n",
      "  n_iter_i = _check_optimize_result(\n",
      "/Users/kristian/opt/anaconda3/lib/python3.9/site-packages/sklearn/linear_model/_logistic.py:814: ConvergenceWarning: lbfgs failed to converge (status=1):\n",
      "STOP: TOTAL NO. of ITERATIONS REACHED LIMIT.\n",
      "\n",
      "Increase the number of iterations (max_iter) or scale the data as shown in:\n",
      "    https://scikit-learn.org/stable/modules/preprocessing.html\n",
      "Please also refer to the documentation for alternative solver options:\n",
      "    https://scikit-learn.org/stable/modules/linear_model.html#logistic-regression\n",
      "  n_iter_i = _check_optimize_result(\n"
     ]
    },
    {
     "name": "stdout",
     "output_type": "stream",
     "text": [
      "Number of features:  30\n",
      "Number of significant features:  26\n",
      "Number of features:  30\n",
      "Number of significant features:  25\n"
     ]
    },
    {
     "name": "stderr",
     "output_type": "stream",
     "text": [
      "/Users/kristian/opt/anaconda3/lib/python3.9/site-packages/sklearn/linear_model/_logistic.py:814: ConvergenceWarning: lbfgs failed to converge (status=1):\n",
      "STOP: TOTAL NO. of ITERATIONS REACHED LIMIT.\n",
      "\n",
      "Increase the number of iterations (max_iter) or scale the data as shown in:\n",
      "    https://scikit-learn.org/stable/modules/preprocessing.html\n",
      "Please also refer to the documentation for alternative solver options:\n",
      "    https://scikit-learn.org/stable/modules/linear_model.html#logistic-regression\n",
      "  n_iter_i = _check_optimize_result(\n",
      "/Users/kristian/opt/anaconda3/lib/python3.9/site-packages/sklearn/linear_model/_logistic.py:814: ConvergenceWarning: lbfgs failed to converge (status=1):\n",
      "STOP: TOTAL NO. of ITERATIONS REACHED LIMIT.\n",
      "\n",
      "Increase the number of iterations (max_iter) or scale the data as shown in:\n",
      "    https://scikit-learn.org/stable/modules/preprocessing.html\n",
      "Please also refer to the documentation for alternative solver options:\n",
      "    https://scikit-learn.org/stable/modules/linear_model.html#logistic-regression\n",
      "  n_iter_i = _check_optimize_result(\n"
     ]
    },
    {
     "name": "stdout",
     "output_type": "stream",
     "text": [
      "Number of features:  30\n",
      "Number of significant features:  25\n",
      "Number of features:  30\n",
      "Number of significant features:  26\n",
      "Number of features:  30\n",
      "Number of significant features:  25\n",
      "Number of features:  30\n",
      "Number of significant features:  26\n",
      "Number of features:  30\n",
      "Number of significant features:  25\n",
      "Number of features:  30\n",
      "Number of significant features:  25\n",
      "Number of features:  30\n",
      "Number of significant features:  26\n",
      "Number of features:  30\n",
      "Number of significant features:  25\n",
      "Number of features:  30\n",
      "Number of significant features:  26\n",
      "Number of features:  30\n",
      "Number of significant features:  25\n",
      "Number of features:  30\n",
      "Number of significant features:  25\n",
      "Number of features:  30\n",
      "Number of significant features:  26\n",
      "Number of features:  30\n",
      "Number of significant features:  25\n",
      "Number of features:  30\n",
      "Number of significant features:  26\n",
      "Number of features:  30\n",
      "Number of significant features:  25\n"
     ]
    },
    {
     "name": "stderr",
     "output_type": "stream",
     "text": [
      "/Users/kristian/opt/anaconda3/lib/python3.9/site-packages/sklearn/linear_model/_logistic.py:814: ConvergenceWarning: lbfgs failed to converge (status=1):\n",
      "STOP: TOTAL NO. of ITERATIONS REACHED LIMIT.\n",
      "\n",
      "Increase the number of iterations (max_iter) or scale the data as shown in:\n",
      "    https://scikit-learn.org/stable/modules/preprocessing.html\n",
      "Please also refer to the documentation for alternative solver options:\n",
      "    https://scikit-learn.org/stable/modules/linear_model.html#logistic-regression\n",
      "  n_iter_i = _check_optimize_result(\n",
      "/Users/kristian/opt/anaconda3/lib/python3.9/site-packages/sklearn/linear_model/_logistic.py:814: ConvergenceWarning: lbfgs failed to converge (status=1):\n",
      "STOP: TOTAL NO. of ITERATIONS REACHED LIMIT.\n",
      "\n",
      "Increase the number of iterations (max_iter) or scale the data as shown in:\n",
      "    https://scikit-learn.org/stable/modules/preprocessing.html\n",
      "Please also refer to the documentation for alternative solver options:\n",
      "    https://scikit-learn.org/stable/modules/linear_model.html#logistic-regression\n",
      "  n_iter_i = _check_optimize_result(\n",
      "/Users/kristian/opt/anaconda3/lib/python3.9/site-packages/sklearn/linear_model/_logistic.py:814: ConvergenceWarning: lbfgs failed to converge (status=1):\n",
      "STOP: TOTAL NO. of ITERATIONS REACHED LIMIT.\n",
      "\n",
      "Increase the number of iterations (max_iter) or scale the data as shown in:\n",
      "    https://scikit-learn.org/stable/modules/preprocessing.html\n",
      "Please also refer to the documentation for alternative solver options:\n",
      "    https://scikit-learn.org/stable/modules/linear_model.html#logistic-regression\n",
      "  n_iter_i = _check_optimize_result(\n",
      "/Users/kristian/opt/anaconda3/lib/python3.9/site-packages/sklearn/linear_model/_logistic.py:814: ConvergenceWarning: lbfgs failed to converge (status=1):\n",
      "STOP: TOTAL NO. of ITERATIONS REACHED LIMIT.\n",
      "\n",
      "Increase the number of iterations (max_iter) or scale the data as shown in:\n",
      "    https://scikit-learn.org/stable/modules/preprocessing.html\n",
      "Please also refer to the documentation for alternative solver options:\n",
      "    https://scikit-learn.org/stable/modules/linear_model.html#logistic-regression\n",
      "  n_iter_i = _check_optimize_result(\n",
      "/Users/kristian/opt/anaconda3/lib/python3.9/site-packages/sklearn/linear_model/_logistic.py:814: ConvergenceWarning: lbfgs failed to converge (status=1):\n",
      "STOP: TOTAL NO. of ITERATIONS REACHED LIMIT.\n",
      "\n",
      "Increase the number of iterations (max_iter) or scale the data as shown in:\n",
      "    https://scikit-learn.org/stable/modules/preprocessing.html\n",
      "Please also refer to the documentation for alternative solver options:\n",
      "    https://scikit-learn.org/stable/modules/linear_model.html#logistic-regression\n",
      "  n_iter_i = _check_optimize_result(\n"
     ]
    },
    {
     "name": "stdout",
     "output_type": "stream",
     "text": [
      "Number of features:  30\n",
      "Number of significant features:  26\n",
      "Number of features:  30\n",
      "Number of significant features:  25\n",
      "Number of features:  30\n",
      "Number of significant features:  27\n",
      "Number of features:  30\n",
      "Number of significant features:  25\n",
      "Number of features:  30\n",
      "Number of significant features:  25\n",
      "Number of features:  30\n",
      "Number of significant features:  26\n",
      "Number of features:  30\n",
      "Number of significant features:  25\n",
      "Number of features:  30\n",
      "Number of significant features:  27\n",
      "Number of features:  30\n",
      "Number of significant features:  25\n",
      "Number of features:  30\n",
      "Number of significant features:  25\n",
      "Number of features:  30\n",
      "Number of significant features:  26\n"
     ]
    },
    {
     "name": "stderr",
     "output_type": "stream",
     "text": [
      "/Users/kristian/opt/anaconda3/lib/python3.9/site-packages/sklearn/linear_model/_logistic.py:814: ConvergenceWarning: lbfgs failed to converge (status=1):\n",
      "STOP: TOTAL NO. of ITERATIONS REACHED LIMIT.\n",
      "\n",
      "Increase the number of iterations (max_iter) or scale the data as shown in:\n",
      "    https://scikit-learn.org/stable/modules/preprocessing.html\n",
      "Please also refer to the documentation for alternative solver options:\n",
      "    https://scikit-learn.org/stable/modules/linear_model.html#logistic-regression\n",
      "  n_iter_i = _check_optimize_result(\n"
     ]
    },
    {
     "name": "stdout",
     "output_type": "stream",
     "text": [
      "Number of features:  30\n",
      "Number of significant features:  25\n"
     ]
    },
    {
     "name": "stderr",
     "output_type": "stream",
     "text": [
      "/Users/kristian/opt/anaconda3/lib/python3.9/site-packages/sklearn/linear_model/_logistic.py:814: ConvergenceWarning: lbfgs failed to converge (status=1):\n",
      "STOP: TOTAL NO. of ITERATIONS REACHED LIMIT.\n",
      "\n",
      "Increase the number of iterations (max_iter) or scale the data as shown in:\n",
      "    https://scikit-learn.org/stable/modules/preprocessing.html\n",
      "Please also refer to the documentation for alternative solver options:\n",
      "    https://scikit-learn.org/stable/modules/linear_model.html#logistic-regression\n",
      "  n_iter_i = _check_optimize_result(\n"
     ]
    },
    {
     "name": "stdout",
     "output_type": "stream",
     "text": [
      "Number of features:  30\n",
      "Number of significant features:  27\n"
     ]
    },
    {
     "name": "stderr",
     "output_type": "stream",
     "text": [
      "/Users/kristian/opt/anaconda3/lib/python3.9/site-packages/sklearn/linear_model/_logistic.py:814: ConvergenceWarning: lbfgs failed to converge (status=1):\n",
      "STOP: TOTAL NO. of ITERATIONS REACHED LIMIT.\n",
      "\n",
      "Increase the number of iterations (max_iter) or scale the data as shown in:\n",
      "    https://scikit-learn.org/stable/modules/preprocessing.html\n",
      "Please also refer to the documentation for alternative solver options:\n",
      "    https://scikit-learn.org/stable/modules/linear_model.html#logistic-regression\n",
      "  n_iter_i = _check_optimize_result(\n"
     ]
    },
    {
     "name": "stdout",
     "output_type": "stream",
     "text": [
      "Number of features:  30\n",
      "Number of significant features:  25\n"
     ]
    },
    {
     "name": "stderr",
     "output_type": "stream",
     "text": [
      "/Users/kristian/opt/anaconda3/lib/python3.9/site-packages/sklearn/linear_model/_logistic.py:814: ConvergenceWarning: lbfgs failed to converge (status=1):\n",
      "STOP: TOTAL NO. of ITERATIONS REACHED LIMIT.\n",
      "\n",
      "Increase the number of iterations (max_iter) or scale the data as shown in:\n",
      "    https://scikit-learn.org/stable/modules/preprocessing.html\n",
      "Please also refer to the documentation for alternative solver options:\n",
      "    https://scikit-learn.org/stable/modules/linear_model.html#logistic-regression\n",
      "  n_iter_i = _check_optimize_result(\n"
     ]
    },
    {
     "name": "stdout",
     "output_type": "stream",
     "text": [
      "Number of features:  30\n",
      "Number of significant features:  25\n"
     ]
    },
    {
     "name": "stderr",
     "output_type": "stream",
     "text": [
      "/Users/kristian/opt/anaconda3/lib/python3.9/site-packages/sklearn/linear_model/_logistic.py:814: ConvergenceWarning: lbfgs failed to converge (status=1):\n",
      "STOP: TOTAL NO. of ITERATIONS REACHED LIMIT.\n",
      "\n",
      "Increase the number of iterations (max_iter) or scale the data as shown in:\n",
      "    https://scikit-learn.org/stable/modules/preprocessing.html\n",
      "Please also refer to the documentation for alternative solver options:\n",
      "    https://scikit-learn.org/stable/modules/linear_model.html#logistic-regression\n",
      "  n_iter_i = _check_optimize_result(\n"
     ]
    },
    {
     "name": "stdout",
     "output_type": "stream",
     "text": [
      "Number of features:  30\n",
      "Number of significant features:  26\n",
      "Number of features:  30\n",
      "Number of significant features:  25\n",
      "Number of features:  30\n",
      "Number of significant features:  27\n",
      "Number of features:  30\n",
      "Number of significant features:  25\n",
      "Number of features:  30\n",
      "Number of significant features:  25\n",
      "Number of features:  30\n",
      "Number of significant features:  26\n",
      "Number of features:  30\n",
      "Number of significant features:  25\n",
      "Number of features:  30\n",
      "Number of significant features:  27\n",
      "Number of features:  30\n",
      "Number of significant features:  25\n",
      "Number of features:  30\n",
      "Number of significant features:  25\n",
      "Number of features:  30\n",
      "Number of significant features:  26\n",
      "Number of features:  30\n",
      "Number of significant features:  25\n",
      "Number of features:  30\n",
      "Number of significant features:  27\n",
      "Number of features:  30\n",
      "Number of significant features:  25\n",
      "Number of features:  30\n",
      "Number of significant features:  25\n"
     ]
    },
    {
     "name": "stderr",
     "output_type": "stream",
     "text": [
      "/Users/kristian/opt/anaconda3/lib/python3.9/site-packages/sklearn/linear_model/_logistic.py:814: ConvergenceWarning: lbfgs failed to converge (status=1):\n",
      "STOP: TOTAL NO. of ITERATIONS REACHED LIMIT.\n",
      "\n",
      "Increase the number of iterations (max_iter) or scale the data as shown in:\n",
      "    https://scikit-learn.org/stable/modules/preprocessing.html\n",
      "Please also refer to the documentation for alternative solver options:\n",
      "    https://scikit-learn.org/stable/modules/linear_model.html#logistic-regression\n",
      "  n_iter_i = _check_optimize_result(\n",
      "/Users/kristian/opt/anaconda3/lib/python3.9/site-packages/sklearn/linear_model/_logistic.py:814: ConvergenceWarning: lbfgs failed to converge (status=1):\n",
      "STOP: TOTAL NO. of ITERATIONS REACHED LIMIT.\n",
      "\n",
      "Increase the number of iterations (max_iter) or scale the data as shown in:\n",
      "    https://scikit-learn.org/stable/modules/preprocessing.html\n",
      "Please also refer to the documentation for alternative solver options:\n",
      "    https://scikit-learn.org/stable/modules/linear_model.html#logistic-regression\n",
      "  n_iter_i = _check_optimize_result(\n",
      "/Users/kristian/opt/anaconda3/lib/python3.9/site-packages/sklearn/linear_model/_logistic.py:814: ConvergenceWarning: lbfgs failed to converge (status=1):\n",
      "STOP: TOTAL NO. of ITERATIONS REACHED LIMIT.\n",
      "\n",
      "Increase the number of iterations (max_iter) or scale the data as shown in:\n",
      "    https://scikit-learn.org/stable/modules/preprocessing.html\n",
      "Please also refer to the documentation for alternative solver options:\n",
      "    https://scikit-learn.org/stable/modules/linear_model.html#logistic-regression\n",
      "  n_iter_i = _check_optimize_result(\n",
      "/Users/kristian/opt/anaconda3/lib/python3.9/site-packages/sklearn/linear_model/_logistic.py:814: ConvergenceWarning: lbfgs failed to converge (status=1):\n",
      "STOP: TOTAL NO. of ITERATIONS REACHED LIMIT.\n",
      "\n",
      "Increase the number of iterations (max_iter) or scale the data as shown in:\n",
      "    https://scikit-learn.org/stable/modules/preprocessing.html\n",
      "Please also refer to the documentation for alternative solver options:\n",
      "    https://scikit-learn.org/stable/modules/linear_model.html#logistic-regression\n",
      "  n_iter_i = _check_optimize_result(\n",
      "/Users/kristian/opt/anaconda3/lib/python3.9/site-packages/sklearn/linear_model/_logistic.py:814: ConvergenceWarning: lbfgs failed to converge (status=1):\n",
      "STOP: TOTAL NO. of ITERATIONS REACHED LIMIT.\n",
      "\n",
      "Increase the number of iterations (max_iter) or scale the data as shown in:\n",
      "    https://scikit-learn.org/stable/modules/preprocessing.html\n",
      "Please also refer to the documentation for alternative solver options:\n",
      "    https://scikit-learn.org/stable/modules/linear_model.html#logistic-regression\n",
      "  n_iter_i = _check_optimize_result(\n",
      "/Users/kristian/opt/anaconda3/lib/python3.9/site-packages/sklearn/feature_selection/_univariate_selection.py:112: UserWarning: Features [0] are constant.\n",
      "  warnings.warn(\"Features %s are constant.\" % constant_features_idx, UserWarning)\n",
      "/Users/kristian/opt/anaconda3/lib/python3.9/site-packages/sklearn/feature_selection/_univariate_selection.py:113: RuntimeWarning: invalid value encountered in true_divide\n",
      "  f = msb / msw\n"
     ]
    },
    {
     "name": "stdout",
     "output_type": "stream",
     "text": [
      "Number of features:  157\n",
      "Number of significant features:  89\n"
     ]
    },
    {
     "name": "stderr",
     "output_type": "stream",
     "text": [
      "/Users/kristian/opt/anaconda3/lib/python3.9/site-packages/sklearn/feature_selection/_univariate_selection.py:112: UserWarning: Features [0] are constant.\n",
      "  warnings.warn(\"Features %s are constant.\" % constant_features_idx, UserWarning)\n",
      "/Users/kristian/opt/anaconda3/lib/python3.9/site-packages/sklearn/feature_selection/_univariate_selection.py:113: RuntimeWarning: invalid value encountered in true_divide\n",
      "  f = msb / msw\n",
      "/Users/kristian/opt/anaconda3/lib/python3.9/site-packages/sklearn/feature_selection/_univariate_selection.py:112: UserWarning: Features [0] are constant.\n",
      "  warnings.warn(\"Features %s are constant.\" % constant_features_idx, UserWarning)\n",
      "/Users/kristian/opt/anaconda3/lib/python3.9/site-packages/sklearn/feature_selection/_univariate_selection.py:113: RuntimeWarning: invalid value encountered in true_divide\n",
      "  f = msb / msw\n"
     ]
    },
    {
     "name": "stdout",
     "output_type": "stream",
     "text": [
      "Number of features:  157\n",
      "Number of significant features:  80\n"
     ]
    },
    {
     "name": "stderr",
     "output_type": "stream",
     "text": [
      "/Users/kristian/opt/anaconda3/lib/python3.9/site-packages/sklearn/feature_selection/_univariate_selection.py:112: UserWarning: Features [0] are constant.\n",
      "  warnings.warn(\"Features %s are constant.\" % constant_features_idx, UserWarning)\n",
      "/Users/kristian/opt/anaconda3/lib/python3.9/site-packages/sklearn/feature_selection/_univariate_selection.py:113: RuntimeWarning: invalid value encountered in true_divide\n",
      "  f = msb / msw\n"
     ]
    },
    {
     "name": "stdout",
     "output_type": "stream",
     "text": [
      "Number of features:  157\n",
      "Number of significant features:  87\n"
     ]
    },
    {
     "name": "stderr",
     "output_type": "stream",
     "text": [
      "/Users/kristian/opt/anaconda3/lib/python3.9/site-packages/sklearn/feature_selection/_univariate_selection.py:112: UserWarning: Features [0] are constant.\n",
      "  warnings.warn(\"Features %s are constant.\" % constant_features_idx, UserWarning)\n",
      "/Users/kristian/opt/anaconda3/lib/python3.9/site-packages/sklearn/feature_selection/_univariate_selection.py:113: RuntimeWarning: invalid value encountered in true_divide\n",
      "  f = msb / msw\n"
     ]
    },
    {
     "name": "stdout",
     "output_type": "stream",
     "text": [
      "Number of features:  157\n",
      "Number of significant features:  92\n"
     ]
    },
    {
     "name": "stderr",
     "output_type": "stream",
     "text": [
      "/Users/kristian/opt/anaconda3/lib/python3.9/site-packages/sklearn/feature_selection/_univariate_selection.py:112: UserWarning: Features [0] are constant.\n",
      "  warnings.warn(\"Features %s are constant.\" % constant_features_idx, UserWarning)\n",
      "/Users/kristian/opt/anaconda3/lib/python3.9/site-packages/sklearn/feature_selection/_univariate_selection.py:113: RuntimeWarning: invalid value encountered in true_divide\n",
      "  f = msb / msw\n"
     ]
    },
    {
     "name": "stdout",
     "output_type": "stream",
     "text": [
      "Number of features:  157\n",
      "Number of significant features:  82\n"
     ]
    },
    {
     "name": "stderr",
     "output_type": "stream",
     "text": [
      "/Users/kristian/opt/anaconda3/lib/python3.9/site-packages/sklearn/feature_selection/_univariate_selection.py:112: UserWarning: Features [0] are constant.\n",
      "  warnings.warn(\"Features %s are constant.\" % constant_features_idx, UserWarning)\n",
      "/Users/kristian/opt/anaconda3/lib/python3.9/site-packages/sklearn/feature_selection/_univariate_selection.py:113: RuntimeWarning: invalid value encountered in true_divide\n",
      "  f = msb / msw\n"
     ]
    },
    {
     "name": "stdout",
     "output_type": "stream",
     "text": [
      "Number of features:  157\n",
      "Number of significant features:  89\n"
     ]
    },
    {
     "name": "stderr",
     "output_type": "stream",
     "text": [
      "/Users/kristian/opt/anaconda3/lib/python3.9/site-packages/sklearn/feature_selection/_univariate_selection.py:112: UserWarning: Features [0] are constant.\n",
      "  warnings.warn(\"Features %s are constant.\" % constant_features_idx, UserWarning)\n",
      "/Users/kristian/opt/anaconda3/lib/python3.9/site-packages/sklearn/feature_selection/_univariate_selection.py:113: RuntimeWarning: invalid value encountered in true_divide\n",
      "  f = msb / msw\n",
      "/Users/kristian/opt/anaconda3/lib/python3.9/site-packages/sklearn/feature_selection/_univariate_selection.py:112: UserWarning: Features [0] are constant.\n",
      "  warnings.warn(\"Features %s are constant.\" % constant_features_idx, UserWarning)\n",
      "/Users/kristian/opt/anaconda3/lib/python3.9/site-packages/sklearn/feature_selection/_univariate_selection.py:113: RuntimeWarning: invalid value encountered in true_divide\n",
      "  f = msb / msw\n"
     ]
    },
    {
     "name": "stdout",
     "output_type": "stream",
     "text": [
      "Number of features:  157\n",
      "Number of significant features:  80\n"
     ]
    },
    {
     "name": "stderr",
     "output_type": "stream",
     "text": [
      "/Users/kristian/opt/anaconda3/lib/python3.9/site-packages/sklearn/feature_selection/_univariate_selection.py:112: UserWarning: Features [0] are constant.\n",
      "  warnings.warn(\"Features %s are constant.\" % constant_features_idx, UserWarning)\n",
      "/Users/kristian/opt/anaconda3/lib/python3.9/site-packages/sklearn/feature_selection/_univariate_selection.py:113: RuntimeWarning: invalid value encountered in true_divide\n",
      "  f = msb / msw\n"
     ]
    },
    {
     "name": "stdout",
     "output_type": "stream",
     "text": [
      "Number of features:  157\n",
      "Number of significant features:  87\n"
     ]
    },
    {
     "name": "stderr",
     "output_type": "stream",
     "text": [
      "/Users/kristian/opt/anaconda3/lib/python3.9/site-packages/sklearn/feature_selection/_univariate_selection.py:112: UserWarning: Features [0] are constant.\n",
      "  warnings.warn(\"Features %s are constant.\" % constant_features_idx, UserWarning)\n",
      "/Users/kristian/opt/anaconda3/lib/python3.9/site-packages/sklearn/feature_selection/_univariate_selection.py:113: RuntimeWarning: invalid value encountered in true_divide\n",
      "  f = msb / msw\n"
     ]
    },
    {
     "name": "stdout",
     "output_type": "stream",
     "text": [
      "Number of features:  157\n",
      "Number of significant features:  92\n"
     ]
    },
    {
     "name": "stderr",
     "output_type": "stream",
     "text": [
      "/Users/kristian/opt/anaconda3/lib/python3.9/site-packages/sklearn/feature_selection/_univariate_selection.py:112: UserWarning: Features [0] are constant.\n",
      "  warnings.warn(\"Features %s are constant.\" % constant_features_idx, UserWarning)\n",
      "/Users/kristian/opt/anaconda3/lib/python3.9/site-packages/sklearn/feature_selection/_univariate_selection.py:113: RuntimeWarning: invalid value encountered in true_divide\n",
      "  f = msb / msw\n"
     ]
    },
    {
     "name": "stdout",
     "output_type": "stream",
     "text": [
      "Number of features:  157\n",
      "Number of significant features:  82\n"
     ]
    },
    {
     "name": "stderr",
     "output_type": "stream",
     "text": [
      "/Users/kristian/opt/anaconda3/lib/python3.9/site-packages/sklearn/feature_selection/_univariate_selection.py:112: UserWarning: Features [0] are constant.\n",
      "  warnings.warn(\"Features %s are constant.\" % constant_features_idx, UserWarning)\n",
      "/Users/kristian/opt/anaconda3/lib/python3.9/site-packages/sklearn/feature_selection/_univariate_selection.py:113: RuntimeWarning: invalid value encountered in true_divide\n",
      "  f = msb / msw\n"
     ]
    },
    {
     "name": "stdout",
     "output_type": "stream",
     "text": [
      "Number of features:  157\n",
      "Number of significant features:  89\n"
     ]
    },
    {
     "name": "stderr",
     "output_type": "stream",
     "text": [
      "/Users/kristian/opt/anaconda3/lib/python3.9/site-packages/sklearn/linear_model/_logistic.py:814: ConvergenceWarning: lbfgs failed to converge (status=1):\n",
      "STOP: TOTAL NO. of ITERATIONS REACHED LIMIT.\n",
      "\n",
      "Increase the number of iterations (max_iter) or scale the data as shown in:\n",
      "    https://scikit-learn.org/stable/modules/preprocessing.html\n",
      "Please also refer to the documentation for alternative solver options:\n",
      "    https://scikit-learn.org/stable/modules/linear_model.html#logistic-regression\n",
      "  n_iter_i = _check_optimize_result(\n",
      "/Users/kristian/opt/anaconda3/lib/python3.9/site-packages/sklearn/feature_selection/_univariate_selection.py:112: UserWarning: Features [0] are constant.\n",
      "  warnings.warn(\"Features %s are constant.\" % constant_features_idx, UserWarning)\n",
      "/Users/kristian/opt/anaconda3/lib/python3.9/site-packages/sklearn/feature_selection/_univariate_selection.py:113: RuntimeWarning: invalid value encountered in true_divide\n",
      "  f = msb / msw\n",
      "/Users/kristian/opt/anaconda3/lib/python3.9/site-packages/sklearn/feature_selection/_univariate_selection.py:112: UserWarning: Features [0] are constant.\n",
      "  warnings.warn(\"Features %s are constant.\" % constant_features_idx, UserWarning)\n",
      "/Users/kristian/opt/anaconda3/lib/python3.9/site-packages/sklearn/feature_selection/_univariate_selection.py:113: RuntimeWarning: invalid value encountered in true_divide\n",
      "  f = msb / msw\n"
     ]
    },
    {
     "name": "stdout",
     "output_type": "stream",
     "text": [
      "Number of features:  157\n",
      "Number of significant features:  80\n"
     ]
    },
    {
     "name": "stderr",
     "output_type": "stream",
     "text": [
      "/Users/kristian/opt/anaconda3/lib/python3.9/site-packages/sklearn/linear_model/_logistic.py:814: ConvergenceWarning: lbfgs failed to converge (status=1):\n",
      "STOP: TOTAL NO. of ITERATIONS REACHED LIMIT.\n",
      "\n",
      "Increase the number of iterations (max_iter) or scale the data as shown in:\n",
      "    https://scikit-learn.org/stable/modules/preprocessing.html\n",
      "Please also refer to the documentation for alternative solver options:\n",
      "    https://scikit-learn.org/stable/modules/linear_model.html#logistic-regression\n",
      "  n_iter_i = _check_optimize_result(\n",
      "/Users/kristian/opt/anaconda3/lib/python3.9/site-packages/sklearn/feature_selection/_univariate_selection.py:112: UserWarning: Features [0] are constant.\n",
      "  warnings.warn(\"Features %s are constant.\" % constant_features_idx, UserWarning)\n",
      "/Users/kristian/opt/anaconda3/lib/python3.9/site-packages/sklearn/feature_selection/_univariate_selection.py:113: RuntimeWarning: invalid value encountered in true_divide\n",
      "  f = msb / msw\n"
     ]
    },
    {
     "name": "stdout",
     "output_type": "stream",
     "text": [
      "Number of features:  157\n",
      "Number of significant features:  87\n"
     ]
    },
    {
     "name": "stderr",
     "output_type": "stream",
     "text": [
      "/Users/kristian/opt/anaconda3/lib/python3.9/site-packages/sklearn/linear_model/_logistic.py:814: ConvergenceWarning: lbfgs failed to converge (status=1):\n",
      "STOP: TOTAL NO. of ITERATIONS REACHED LIMIT.\n",
      "\n",
      "Increase the number of iterations (max_iter) or scale the data as shown in:\n",
      "    https://scikit-learn.org/stable/modules/preprocessing.html\n",
      "Please also refer to the documentation for alternative solver options:\n",
      "    https://scikit-learn.org/stable/modules/linear_model.html#logistic-regression\n",
      "  n_iter_i = _check_optimize_result(\n",
      "/Users/kristian/opt/anaconda3/lib/python3.9/site-packages/sklearn/feature_selection/_univariate_selection.py:112: UserWarning: Features [0] are constant.\n",
      "  warnings.warn(\"Features %s are constant.\" % constant_features_idx, UserWarning)\n",
      "/Users/kristian/opt/anaconda3/lib/python3.9/site-packages/sklearn/feature_selection/_univariate_selection.py:113: RuntimeWarning: invalid value encountered in true_divide\n",
      "  f = msb / msw\n"
     ]
    },
    {
     "name": "stdout",
     "output_type": "stream",
     "text": [
      "Number of features:  157\n",
      "Number of significant features:  92\n"
     ]
    },
    {
     "name": "stderr",
     "output_type": "stream",
     "text": [
      "/Users/kristian/opt/anaconda3/lib/python3.9/site-packages/sklearn/linear_model/_logistic.py:814: ConvergenceWarning: lbfgs failed to converge (status=1):\n",
      "STOP: TOTAL NO. of ITERATIONS REACHED LIMIT.\n",
      "\n",
      "Increase the number of iterations (max_iter) or scale the data as shown in:\n",
      "    https://scikit-learn.org/stable/modules/preprocessing.html\n",
      "Please also refer to the documentation for alternative solver options:\n",
      "    https://scikit-learn.org/stable/modules/linear_model.html#logistic-regression\n",
      "  n_iter_i = _check_optimize_result(\n",
      "/Users/kristian/opt/anaconda3/lib/python3.9/site-packages/sklearn/feature_selection/_univariate_selection.py:112: UserWarning: Features [0] are constant.\n",
      "  warnings.warn(\"Features %s are constant.\" % constant_features_idx, UserWarning)\n",
      "/Users/kristian/opt/anaconda3/lib/python3.9/site-packages/sklearn/feature_selection/_univariate_selection.py:113: RuntimeWarning: invalid value encountered in true_divide\n",
      "  f = msb / msw\n"
     ]
    },
    {
     "name": "stdout",
     "output_type": "stream",
     "text": [
      "Number of features:  157\n",
      "Number of significant features:  82\n"
     ]
    },
    {
     "name": "stderr",
     "output_type": "stream",
     "text": [
      "/Users/kristian/opt/anaconda3/lib/python3.9/site-packages/sklearn/linear_model/_logistic.py:814: ConvergenceWarning: lbfgs failed to converge (status=1):\n",
      "STOP: TOTAL NO. of ITERATIONS REACHED LIMIT.\n",
      "\n",
      "Increase the number of iterations (max_iter) or scale the data as shown in:\n",
      "    https://scikit-learn.org/stable/modules/preprocessing.html\n",
      "Please also refer to the documentation for alternative solver options:\n",
      "    https://scikit-learn.org/stable/modules/linear_model.html#logistic-regression\n",
      "  n_iter_i = _check_optimize_result(\n",
      "/Users/kristian/opt/anaconda3/lib/python3.9/site-packages/sklearn/linear_model/_logistic.py:814: ConvergenceWarning: lbfgs failed to converge (status=1):\n",
      "STOP: TOTAL NO. of ITERATIONS REACHED LIMIT.\n",
      "\n",
      "Increase the number of iterations (max_iter) or scale the data as shown in:\n",
      "    https://scikit-learn.org/stable/modules/preprocessing.html\n",
      "Please also refer to the documentation for alternative solver options:\n",
      "    https://scikit-learn.org/stable/modules/linear_model.html#logistic-regression\n",
      "  n_iter_i = _check_optimize_result(\n",
      "/Users/kristian/opt/anaconda3/lib/python3.9/site-packages/sklearn/linear_model/_logistic.py:814: ConvergenceWarning: lbfgs failed to converge (status=1):\n",
      "STOP: TOTAL NO. of ITERATIONS REACHED LIMIT.\n",
      "\n",
      "Increase the number of iterations (max_iter) or scale the data as shown in:\n",
      "    https://scikit-learn.org/stable/modules/preprocessing.html\n",
      "Please also refer to the documentation for alternative solver options:\n",
      "    https://scikit-learn.org/stable/modules/linear_model.html#logistic-regression\n",
      "  n_iter_i = _check_optimize_result(\n",
      "/Users/kristian/opt/anaconda3/lib/python3.9/site-packages/sklearn/linear_model/_logistic.py:814: ConvergenceWarning: lbfgs failed to converge (status=1):\n",
      "STOP: TOTAL NO. of ITERATIONS REACHED LIMIT.\n",
      "\n",
      "Increase the number of iterations (max_iter) or scale the data as shown in:\n",
      "    https://scikit-learn.org/stable/modules/preprocessing.html\n",
      "Please also refer to the documentation for alternative solver options:\n",
      "    https://scikit-learn.org/stable/modules/linear_model.html#logistic-regression\n",
      "  n_iter_i = _check_optimize_result(\n",
      "/Users/kristian/opt/anaconda3/lib/python3.9/site-packages/sklearn/linear_model/_logistic.py:814: ConvergenceWarning: lbfgs failed to converge (status=1):\n",
      "STOP: TOTAL NO. of ITERATIONS REACHED LIMIT.\n",
      "\n",
      "Increase the number of iterations (max_iter) or scale the data as shown in:\n",
      "    https://scikit-learn.org/stable/modules/preprocessing.html\n",
      "Please also refer to the documentation for alternative solver options:\n",
      "    https://scikit-learn.org/stable/modules/linear_model.html#logistic-regression\n",
      "  n_iter_i = _check_optimize_result(\n",
      "/Users/kristian/opt/anaconda3/lib/python3.9/site-packages/sklearn/linear_model/_logistic.py:814: ConvergenceWarning: lbfgs failed to converge (status=1):\n",
      "STOP: TOTAL NO. of ITERATIONS REACHED LIMIT.\n",
      "\n",
      "Increase the number of iterations (max_iter) or scale the data as shown in:\n",
      "    https://scikit-learn.org/stable/modules/preprocessing.html\n",
      "Please also refer to the documentation for alternative solver options:\n",
      "    https://scikit-learn.org/stable/modules/linear_model.html#logistic-regression\n",
      "  n_iter_i = _check_optimize_result(\n",
      "/Users/kristian/opt/anaconda3/lib/python3.9/site-packages/sklearn/feature_selection/_univariate_selection.py:112: UserWarning: Features [0] are constant.\n",
      "  warnings.warn(\"Features %s are constant.\" % constant_features_idx, UserWarning)\n",
      "/Users/kristian/opt/anaconda3/lib/python3.9/site-packages/sklearn/feature_selection/_univariate_selection.py:113: RuntimeWarning: invalid value encountered in true_divide\n",
      "  f = msb / msw\n"
     ]
    },
    {
     "name": "stdout",
     "output_type": "stream",
     "text": [
      "Number of features:  157\n",
      "Number of significant features:  89\n"
     ]
    },
    {
     "name": "stderr",
     "output_type": "stream",
     "text": [
      "/Users/kristian/opt/anaconda3/lib/python3.9/site-packages/sklearn/feature_selection/_univariate_selection.py:112: UserWarning: Features [0] are constant.\n",
      "  warnings.warn(\"Features %s are constant.\" % constant_features_idx, UserWarning)\n",
      "/Users/kristian/opt/anaconda3/lib/python3.9/site-packages/sklearn/feature_selection/_univariate_selection.py:113: RuntimeWarning: invalid value encountered in true_divide\n",
      "  f = msb / msw\n",
      "/Users/kristian/opt/anaconda3/lib/python3.9/site-packages/sklearn/feature_selection/_univariate_selection.py:112: UserWarning: Features [0] are constant.\n",
      "  warnings.warn(\"Features %s are constant.\" % constant_features_idx, UserWarning)\n",
      "/Users/kristian/opt/anaconda3/lib/python3.9/site-packages/sklearn/feature_selection/_univariate_selection.py:113: RuntimeWarning: invalid value encountered in true_divide\n",
      "  f = msb / msw\n"
     ]
    },
    {
     "name": "stdout",
     "output_type": "stream",
     "text": [
      "Number of features:  157\n",
      "Number of significant features:  80\n"
     ]
    },
    {
     "name": "stderr",
     "output_type": "stream",
     "text": [
      "/Users/kristian/opt/anaconda3/lib/python3.9/site-packages/sklearn/feature_selection/_univariate_selection.py:112: UserWarning: Features [0] are constant.\n",
      "  warnings.warn(\"Features %s are constant.\" % constant_features_idx, UserWarning)\n",
      "/Users/kristian/opt/anaconda3/lib/python3.9/site-packages/sklearn/feature_selection/_univariate_selection.py:113: RuntimeWarning: invalid value encountered in true_divide\n",
      "  f = msb / msw\n"
     ]
    },
    {
     "name": "stdout",
     "output_type": "stream",
     "text": [
      "Number of features:  157\n",
      "Number of significant features:  87\n"
     ]
    },
    {
     "name": "stderr",
     "output_type": "stream",
     "text": [
      "/Users/kristian/opt/anaconda3/lib/python3.9/site-packages/sklearn/feature_selection/_univariate_selection.py:112: UserWarning: Features [0] are constant.\n",
      "  warnings.warn(\"Features %s are constant.\" % constant_features_idx, UserWarning)\n",
      "/Users/kristian/opt/anaconda3/lib/python3.9/site-packages/sklearn/feature_selection/_univariate_selection.py:113: RuntimeWarning: invalid value encountered in true_divide\n",
      "  f = msb / msw\n"
     ]
    },
    {
     "name": "stdout",
     "output_type": "stream",
     "text": [
      "Number of features:  157\n",
      "Number of significant features:  92\n"
     ]
    },
    {
     "name": "stderr",
     "output_type": "stream",
     "text": [
      "/Users/kristian/opt/anaconda3/lib/python3.9/site-packages/sklearn/feature_selection/_univariate_selection.py:112: UserWarning: Features [0] are constant.\n",
      "  warnings.warn(\"Features %s are constant.\" % constant_features_idx, UserWarning)\n",
      "/Users/kristian/opt/anaconda3/lib/python3.9/site-packages/sklearn/feature_selection/_univariate_selection.py:113: RuntimeWarning: invalid value encountered in true_divide\n",
      "  f = msb / msw\n"
     ]
    },
    {
     "name": "stdout",
     "output_type": "stream",
     "text": [
      "Number of features:  157\n",
      "Number of significant features:  82\n"
     ]
    },
    {
     "name": "stderr",
     "output_type": "stream",
     "text": [
      "/Users/kristian/opt/anaconda3/lib/python3.9/site-packages/sklearn/feature_selection/_univariate_selection.py:112: UserWarning: Features [0] are constant.\n",
      "  warnings.warn(\"Features %s are constant.\" % constant_features_idx, UserWarning)\n",
      "/Users/kristian/opt/anaconda3/lib/python3.9/site-packages/sklearn/feature_selection/_univariate_selection.py:113: RuntimeWarning: invalid value encountered in true_divide\n",
      "  f = msb / msw\n"
     ]
    },
    {
     "name": "stdout",
     "output_type": "stream",
     "text": [
      "Number of features:  157\n",
      "Number of significant features:  89\n"
     ]
    },
    {
     "name": "stderr",
     "output_type": "stream",
     "text": [
      "/Users/kristian/opt/anaconda3/lib/python3.9/site-packages/sklearn/feature_selection/_univariate_selection.py:112: UserWarning: Features [0] are constant.\n",
      "  warnings.warn(\"Features %s are constant.\" % constant_features_idx, UserWarning)\n",
      "/Users/kristian/opt/anaconda3/lib/python3.9/site-packages/sklearn/feature_selection/_univariate_selection.py:113: RuntimeWarning: invalid value encountered in true_divide\n",
      "  f = msb / msw\n",
      "/Users/kristian/opt/anaconda3/lib/python3.9/site-packages/sklearn/feature_selection/_univariate_selection.py:112: UserWarning: Features [0] are constant.\n",
      "  warnings.warn(\"Features %s are constant.\" % constant_features_idx, UserWarning)\n",
      "/Users/kristian/opt/anaconda3/lib/python3.9/site-packages/sklearn/feature_selection/_univariate_selection.py:113: RuntimeWarning: invalid value encountered in true_divide\n",
      "  f = msb / msw\n"
     ]
    },
    {
     "name": "stdout",
     "output_type": "stream",
     "text": [
      "Number of features:  157\n",
      "Number of significant features:  80\n"
     ]
    },
    {
     "name": "stderr",
     "output_type": "stream",
     "text": [
      "/Users/kristian/opt/anaconda3/lib/python3.9/site-packages/sklearn/feature_selection/_univariate_selection.py:112: UserWarning: Features [0] are constant.\n",
      "  warnings.warn(\"Features %s are constant.\" % constant_features_idx, UserWarning)\n",
      "/Users/kristian/opt/anaconda3/lib/python3.9/site-packages/sklearn/feature_selection/_univariate_selection.py:113: RuntimeWarning: invalid value encountered in true_divide\n",
      "  f = msb / msw\n"
     ]
    },
    {
     "name": "stdout",
     "output_type": "stream",
     "text": [
      "Number of features:  157\n",
      "Number of significant features:  87\n"
     ]
    },
    {
     "name": "stderr",
     "output_type": "stream",
     "text": [
      "/Users/kristian/opt/anaconda3/lib/python3.9/site-packages/sklearn/feature_selection/_univariate_selection.py:112: UserWarning: Features [0] are constant.\n",
      "  warnings.warn(\"Features %s are constant.\" % constant_features_idx, UserWarning)\n",
      "/Users/kristian/opt/anaconda3/lib/python3.9/site-packages/sklearn/feature_selection/_univariate_selection.py:113: RuntimeWarning: invalid value encountered in true_divide\n",
      "  f = msb / msw\n"
     ]
    },
    {
     "name": "stdout",
     "output_type": "stream",
     "text": [
      "Number of features:  157\n",
      "Number of significant features:  92\n"
     ]
    },
    {
     "name": "stderr",
     "output_type": "stream",
     "text": [
      "/Users/kristian/opt/anaconda3/lib/python3.9/site-packages/sklearn/feature_selection/_univariate_selection.py:112: UserWarning: Features [0] are constant.\n",
      "  warnings.warn(\"Features %s are constant.\" % constant_features_idx, UserWarning)\n",
      "/Users/kristian/opt/anaconda3/lib/python3.9/site-packages/sklearn/feature_selection/_univariate_selection.py:113: RuntimeWarning: invalid value encountered in true_divide\n",
      "  f = msb / msw\n"
     ]
    },
    {
     "name": "stdout",
     "output_type": "stream",
     "text": [
      "Number of features:  157\n",
      "Number of significant features:  82\n"
     ]
    },
    {
     "name": "stderr",
     "output_type": "stream",
     "text": [
      "/Users/kristian/opt/anaconda3/lib/python3.9/site-packages/sklearn/feature_selection/_univariate_selection.py:112: UserWarning: Features [0] are constant.\n",
      "  warnings.warn(\"Features %s are constant.\" % constant_features_idx, UserWarning)\n",
      "/Users/kristian/opt/anaconda3/lib/python3.9/site-packages/sklearn/feature_selection/_univariate_selection.py:113: RuntimeWarning: invalid value encountered in true_divide\n",
      "  f = msb / msw\n"
     ]
    },
    {
     "name": "stdout",
     "output_type": "stream",
     "text": [
      "Number of features:  157\n",
      "Number of significant features:  89\n"
     ]
    },
    {
     "name": "stderr",
     "output_type": "stream",
     "text": [
      "/Users/kristian/opt/anaconda3/lib/python3.9/site-packages/sklearn/linear_model/_logistic.py:814: ConvergenceWarning: lbfgs failed to converge (status=1):\n",
      "STOP: TOTAL NO. of ITERATIONS REACHED LIMIT.\n",
      "\n",
      "Increase the number of iterations (max_iter) or scale the data as shown in:\n",
      "    https://scikit-learn.org/stable/modules/preprocessing.html\n",
      "Please also refer to the documentation for alternative solver options:\n",
      "    https://scikit-learn.org/stable/modules/linear_model.html#logistic-regression\n",
      "  n_iter_i = _check_optimize_result(\n",
      "/Users/kristian/opt/anaconda3/lib/python3.9/site-packages/sklearn/feature_selection/_univariate_selection.py:112: UserWarning: Features [0] are constant.\n",
      "  warnings.warn(\"Features %s are constant.\" % constant_features_idx, UserWarning)\n",
      "/Users/kristian/opt/anaconda3/lib/python3.9/site-packages/sklearn/feature_selection/_univariate_selection.py:113: RuntimeWarning: invalid value encountered in true_divide\n",
      "  f = msb / msw\n",
      "/Users/kristian/opt/anaconda3/lib/python3.9/site-packages/sklearn/feature_selection/_univariate_selection.py:112: UserWarning: Features [0] are constant.\n",
      "  warnings.warn(\"Features %s are constant.\" % constant_features_idx, UserWarning)\n",
      "/Users/kristian/opt/anaconda3/lib/python3.9/site-packages/sklearn/feature_selection/_univariate_selection.py:113: RuntimeWarning: invalid value encountered in true_divide\n",
      "  f = msb / msw\n"
     ]
    },
    {
     "name": "stdout",
     "output_type": "stream",
     "text": [
      "Number of features:  157\n",
      "Number of significant features:  80\n"
     ]
    },
    {
     "name": "stderr",
     "output_type": "stream",
     "text": [
      "/Users/kristian/opt/anaconda3/lib/python3.9/site-packages/sklearn/linear_model/_logistic.py:814: ConvergenceWarning: lbfgs failed to converge (status=1):\n",
      "STOP: TOTAL NO. of ITERATIONS REACHED LIMIT.\n",
      "\n",
      "Increase the number of iterations (max_iter) or scale the data as shown in:\n",
      "    https://scikit-learn.org/stable/modules/preprocessing.html\n",
      "Please also refer to the documentation for alternative solver options:\n",
      "    https://scikit-learn.org/stable/modules/linear_model.html#logistic-regression\n",
      "  n_iter_i = _check_optimize_result(\n",
      "/Users/kristian/opt/anaconda3/lib/python3.9/site-packages/sklearn/feature_selection/_univariate_selection.py:112: UserWarning: Features [0] are constant.\n",
      "  warnings.warn(\"Features %s are constant.\" % constant_features_idx, UserWarning)\n",
      "/Users/kristian/opt/anaconda3/lib/python3.9/site-packages/sklearn/feature_selection/_univariate_selection.py:113: RuntimeWarning: invalid value encountered in true_divide\n",
      "  f = msb / msw\n"
     ]
    },
    {
     "name": "stdout",
     "output_type": "stream",
     "text": [
      "Number of features:  157\n",
      "Number of significant features:  87\n"
     ]
    },
    {
     "name": "stderr",
     "output_type": "stream",
     "text": [
      "/Users/kristian/opt/anaconda3/lib/python3.9/site-packages/sklearn/linear_model/_logistic.py:814: ConvergenceWarning: lbfgs failed to converge (status=1):\n",
      "STOP: TOTAL NO. of ITERATIONS REACHED LIMIT.\n",
      "\n",
      "Increase the number of iterations (max_iter) or scale the data as shown in:\n",
      "    https://scikit-learn.org/stable/modules/preprocessing.html\n",
      "Please also refer to the documentation for alternative solver options:\n",
      "    https://scikit-learn.org/stable/modules/linear_model.html#logistic-regression\n",
      "  n_iter_i = _check_optimize_result(\n",
      "/Users/kristian/opt/anaconda3/lib/python3.9/site-packages/sklearn/feature_selection/_univariate_selection.py:112: UserWarning: Features [0] are constant.\n",
      "  warnings.warn(\"Features %s are constant.\" % constant_features_idx, UserWarning)\n",
      "/Users/kristian/opt/anaconda3/lib/python3.9/site-packages/sklearn/feature_selection/_univariate_selection.py:113: RuntimeWarning: invalid value encountered in true_divide\n",
      "  f = msb / msw\n"
     ]
    },
    {
     "name": "stdout",
     "output_type": "stream",
     "text": [
      "Number of features:  157\n",
      "Number of significant features:  92\n"
     ]
    },
    {
     "name": "stderr",
     "output_type": "stream",
     "text": [
      "/Users/kristian/opt/anaconda3/lib/python3.9/site-packages/sklearn/linear_model/_logistic.py:814: ConvergenceWarning: lbfgs failed to converge (status=1):\n",
      "STOP: TOTAL NO. of ITERATIONS REACHED LIMIT.\n",
      "\n",
      "Increase the number of iterations (max_iter) or scale the data as shown in:\n",
      "    https://scikit-learn.org/stable/modules/preprocessing.html\n",
      "Please also refer to the documentation for alternative solver options:\n",
      "    https://scikit-learn.org/stable/modules/linear_model.html#logistic-regression\n",
      "  n_iter_i = _check_optimize_result(\n",
      "/Users/kristian/opt/anaconda3/lib/python3.9/site-packages/sklearn/feature_selection/_univariate_selection.py:112: UserWarning: Features [0] are constant.\n",
      "  warnings.warn(\"Features %s are constant.\" % constant_features_idx, UserWarning)\n",
      "/Users/kristian/opt/anaconda3/lib/python3.9/site-packages/sklearn/feature_selection/_univariate_selection.py:113: RuntimeWarning: invalid value encountered in true_divide\n",
      "  f = msb / msw\n"
     ]
    },
    {
     "name": "stdout",
     "output_type": "stream",
     "text": [
      "Number of features:  157\n",
      "Number of significant features:  82\n"
     ]
    },
    {
     "name": "stderr",
     "output_type": "stream",
     "text": [
      "/Users/kristian/opt/anaconda3/lib/python3.9/site-packages/sklearn/linear_model/_logistic.py:814: ConvergenceWarning: lbfgs failed to converge (status=1):\n",
      "STOP: TOTAL NO. of ITERATIONS REACHED LIMIT.\n",
      "\n",
      "Increase the number of iterations (max_iter) or scale the data as shown in:\n",
      "    https://scikit-learn.org/stable/modules/preprocessing.html\n",
      "Please also refer to the documentation for alternative solver options:\n",
      "    https://scikit-learn.org/stable/modules/linear_model.html#logistic-regression\n",
      "  n_iter_i = _check_optimize_result(\n",
      "/Users/kristian/opt/anaconda3/lib/python3.9/site-packages/sklearn/linear_model/_logistic.py:814: ConvergenceWarning: lbfgs failed to converge (status=1):\n",
      "STOP: TOTAL NO. of ITERATIONS REACHED LIMIT.\n",
      "\n",
      "Increase the number of iterations (max_iter) or scale the data as shown in:\n",
      "    https://scikit-learn.org/stable/modules/preprocessing.html\n",
      "Please also refer to the documentation for alternative solver options:\n",
      "    https://scikit-learn.org/stable/modules/linear_model.html#logistic-regression\n",
      "  n_iter_i = _check_optimize_result(\n",
      "/Users/kristian/opt/anaconda3/lib/python3.9/site-packages/sklearn/linear_model/_logistic.py:814: ConvergenceWarning: lbfgs failed to converge (status=1):\n",
      "STOP: TOTAL NO. of ITERATIONS REACHED LIMIT.\n",
      "\n",
      "Increase the number of iterations (max_iter) or scale the data as shown in:\n",
      "    https://scikit-learn.org/stable/modules/preprocessing.html\n",
      "Please also refer to the documentation for alternative solver options:\n",
      "    https://scikit-learn.org/stable/modules/linear_model.html#logistic-regression\n",
      "  n_iter_i = _check_optimize_result(\n",
      "/Users/kristian/opt/anaconda3/lib/python3.9/site-packages/sklearn/linear_model/_logistic.py:814: ConvergenceWarning: lbfgs failed to converge (status=1):\n",
      "STOP: TOTAL NO. of ITERATIONS REACHED LIMIT.\n",
      "\n",
      "Increase the number of iterations (max_iter) or scale the data as shown in:\n",
      "    https://scikit-learn.org/stable/modules/preprocessing.html\n",
      "Please also refer to the documentation for alternative solver options:\n",
      "    https://scikit-learn.org/stable/modules/linear_model.html#logistic-regression\n",
      "  n_iter_i = _check_optimize_result(\n",
      "/Users/kristian/opt/anaconda3/lib/python3.9/site-packages/sklearn/linear_model/_logistic.py:814: ConvergenceWarning: lbfgs failed to converge (status=1):\n",
      "STOP: TOTAL NO. of ITERATIONS REACHED LIMIT.\n",
      "\n",
      "Increase the number of iterations (max_iter) or scale the data as shown in:\n",
      "    https://scikit-learn.org/stable/modules/preprocessing.html\n",
      "Please also refer to the documentation for alternative solver options:\n",
      "    https://scikit-learn.org/stable/modules/linear_model.html#logistic-regression\n",
      "  n_iter_i = _check_optimize_result(\n",
      "/Users/kristian/opt/anaconda3/lib/python3.9/site-packages/sklearn/linear_model/_logistic.py:814: ConvergenceWarning: lbfgs failed to converge (status=1):\n",
      "STOP: TOTAL NO. of ITERATIONS REACHED LIMIT.\n",
      "\n",
      "Increase the number of iterations (max_iter) or scale the data as shown in:\n",
      "    https://scikit-learn.org/stable/modules/preprocessing.html\n",
      "Please also refer to the documentation for alternative solver options:\n",
      "    https://scikit-learn.org/stable/modules/linear_model.html#logistic-regression\n",
      "  n_iter_i = _check_optimize_result(\n",
      "/Users/kristian/opt/anaconda3/lib/python3.9/site-packages/sklearn/feature_selection/_univariate_selection.py:112: UserWarning: Features [0] are constant.\n",
      "  warnings.warn(\"Features %s are constant.\" % constant_features_idx, UserWarning)\n",
      "/Users/kristian/opt/anaconda3/lib/python3.9/site-packages/sklearn/feature_selection/_univariate_selection.py:113: RuntimeWarning: invalid value encountered in true_divide\n",
      "  f = msb / msw\n"
     ]
    },
    {
     "name": "stdout",
     "output_type": "stream",
     "text": [
      "Number of features:  157\n",
      "Number of significant features:  89\n"
     ]
    },
    {
     "name": "stderr",
     "output_type": "stream",
     "text": [
      "/Users/kristian/opt/anaconda3/lib/python3.9/site-packages/sklearn/feature_selection/_univariate_selection.py:112: UserWarning: Features [0] are constant.\n",
      "  warnings.warn(\"Features %s are constant.\" % constant_features_idx, UserWarning)\n",
      "/Users/kristian/opt/anaconda3/lib/python3.9/site-packages/sklearn/feature_selection/_univariate_selection.py:113: RuntimeWarning: invalid value encountered in true_divide\n",
      "  f = msb / msw\n"
     ]
    },
    {
     "name": "stdout",
     "output_type": "stream",
     "text": [
      "Number of features:  157\n",
      "Number of significant features:  89\n"
     ]
    },
    {
     "name": "stderr",
     "output_type": "stream",
     "text": [
      "/Users/kristian/opt/anaconda3/lib/python3.9/site-packages/sklearn/feature_selection/_univariate_selection.py:112: UserWarning: Features [0] are constant.\n",
      "  warnings.warn(\"Features %s are constant.\" % constant_features_idx, UserWarning)\n",
      "/Users/kristian/opt/anaconda3/lib/python3.9/site-packages/sklearn/feature_selection/_univariate_selection.py:113: RuntimeWarning: invalid value encountered in true_divide\n",
      "  f = msb / msw\n",
      "/Users/kristian/opt/anaconda3/lib/python3.9/site-packages/sklearn/feature_selection/_univariate_selection.py:112: UserWarning: Features [0] are constant.\n",
      "  warnings.warn(\"Features %s are constant.\" % constant_features_idx, UserWarning)\n",
      "/Users/kristian/opt/anaconda3/lib/python3.9/site-packages/sklearn/feature_selection/_univariate_selection.py:113: RuntimeWarning: invalid value encountered in true_divide\n",
      "  f = msb / msw\n"
     ]
    },
    {
     "name": "stdout",
     "output_type": "stream",
     "text": [
      "Number of features:  157\n",
      "Number of significant features:  82\n"
     ]
    },
    {
     "name": "stderr",
     "output_type": "stream",
     "text": [
      "/Users/kristian/opt/anaconda3/lib/python3.9/site-packages/sklearn/feature_selection/_univariate_selection.py:112: UserWarning: Features [0] are constant.\n",
      "  warnings.warn(\"Features %s are constant.\" % constant_features_idx, UserWarning)\n",
      "/Users/kristian/opt/anaconda3/lib/python3.9/site-packages/sklearn/feature_selection/_univariate_selection.py:113: RuntimeWarning: invalid value encountered in true_divide\n",
      "  f = msb / msw\n"
     ]
    },
    {
     "name": "stdout",
     "output_type": "stream",
     "text": [
      "Number of features:  157\n",
      "Number of significant features:  82\n"
     ]
    },
    {
     "name": "stderr",
     "output_type": "stream",
     "text": [
      "/Users/kristian/opt/anaconda3/lib/python3.9/site-packages/sklearn/feature_selection/_univariate_selection.py:112: UserWarning: Features [0] are constant.\n",
      "  warnings.warn(\"Features %s are constant.\" % constant_features_idx, UserWarning)\n",
      "/Users/kristian/opt/anaconda3/lib/python3.9/site-packages/sklearn/feature_selection/_univariate_selection.py:113: RuntimeWarning: invalid value encountered in true_divide\n",
      "  f = msb / msw\n",
      "/Users/kristian/opt/anaconda3/lib/python3.9/site-packages/sklearn/feature_selection/_univariate_selection.py:112: UserWarning: Features [0] are constant.\n",
      "  warnings.warn(\"Features %s are constant.\" % constant_features_idx, UserWarning)\n",
      "/Users/kristian/opt/anaconda3/lib/python3.9/site-packages/sklearn/feature_selection/_univariate_selection.py:113: RuntimeWarning: invalid value encountered in true_divide\n",
      "  f = msb / msw\n"
     ]
    },
    {
     "name": "stdout",
     "output_type": "stream",
     "text": [
      "Number of features:  157\n",
      "Number of significant features:  84\n"
     ]
    },
    {
     "name": "stderr",
     "output_type": "stream",
     "text": [
      "/Users/kristian/opt/anaconda3/lib/python3.9/site-packages/sklearn/feature_selection/_univariate_selection.py:112: UserWarning: Features [0] are constant.\n",
      "  warnings.warn(\"Features %s are constant.\" % constant_features_idx, UserWarning)\n",
      "/Users/kristian/opt/anaconda3/lib/python3.9/site-packages/sklearn/feature_selection/_univariate_selection.py:113: RuntimeWarning: invalid value encountered in true_divide\n",
      "  f = msb / msw\n"
     ]
    },
    {
     "name": "stdout",
     "output_type": "stream",
     "text": [
      "Number of features:  157\n",
      "Number of significant features:  89\n"
     ]
    },
    {
     "name": "stderr",
     "output_type": "stream",
     "text": [
      "/Users/kristian/opt/anaconda3/lib/python3.9/site-packages/sklearn/feature_selection/_univariate_selection.py:112: UserWarning: Features [0] are constant.\n",
      "  warnings.warn(\"Features %s are constant.\" % constant_features_idx, UserWarning)\n",
      "/Users/kristian/opt/anaconda3/lib/python3.9/site-packages/sklearn/feature_selection/_univariate_selection.py:113: RuntimeWarning: invalid value encountered in true_divide\n",
      "  f = msb / msw\n"
     ]
    },
    {
     "name": "stdout",
     "output_type": "stream",
     "text": [
      "Number of features:  157\n",
      "Number of significant features:  89\n"
     ]
    },
    {
     "name": "stderr",
     "output_type": "stream",
     "text": [
      "/Users/kristian/opt/anaconda3/lib/python3.9/site-packages/sklearn/feature_selection/_univariate_selection.py:112: UserWarning: Features [0] are constant.\n",
      "  warnings.warn(\"Features %s are constant.\" % constant_features_idx, UserWarning)\n",
      "/Users/kristian/opt/anaconda3/lib/python3.9/site-packages/sklearn/feature_selection/_univariate_selection.py:113: RuntimeWarning: invalid value encountered in true_divide\n",
      "  f = msb / msw\n",
      "/Users/kristian/opt/anaconda3/lib/python3.9/site-packages/sklearn/feature_selection/_univariate_selection.py:112: UserWarning: Features [0] are constant.\n",
      "  warnings.warn(\"Features %s are constant.\" % constant_features_idx, UserWarning)\n",
      "/Users/kristian/opt/anaconda3/lib/python3.9/site-packages/sklearn/feature_selection/_univariate_selection.py:113: RuntimeWarning: invalid value encountered in true_divide\n",
      "  f = msb / msw\n"
     ]
    },
    {
     "name": "stdout",
     "output_type": "stream",
     "text": [
      "Number of features:  157\n",
      "Number of significant features:  82\n"
     ]
    },
    {
     "name": "stderr",
     "output_type": "stream",
     "text": [
      "/Users/kristian/opt/anaconda3/lib/python3.9/site-packages/sklearn/feature_selection/_univariate_selection.py:112: UserWarning: Features [0] are constant.\n",
      "  warnings.warn(\"Features %s are constant.\" % constant_features_idx, UserWarning)\n",
      "/Users/kristian/opt/anaconda3/lib/python3.9/site-packages/sklearn/feature_selection/_univariate_selection.py:113: RuntimeWarning: invalid value encountered in true_divide\n",
      "  f = msb / msw\n"
     ]
    },
    {
     "name": "stdout",
     "output_type": "stream",
     "text": [
      "Number of features:  157\n",
      "Number of significant features:  82\n"
     ]
    },
    {
     "name": "stderr",
     "output_type": "stream",
     "text": [
      "/Users/kristian/opt/anaconda3/lib/python3.9/site-packages/sklearn/feature_selection/_univariate_selection.py:112: UserWarning: Features [0] are constant.\n",
      "  warnings.warn(\"Features %s are constant.\" % constant_features_idx, UserWarning)\n",
      "/Users/kristian/opt/anaconda3/lib/python3.9/site-packages/sklearn/feature_selection/_univariate_selection.py:113: RuntimeWarning: invalid value encountered in true_divide\n",
      "  f = msb / msw\n",
      "/Users/kristian/opt/anaconda3/lib/python3.9/site-packages/sklearn/feature_selection/_univariate_selection.py:112: UserWarning: Features [0] are constant.\n",
      "  warnings.warn(\"Features %s are constant.\" % constant_features_idx, UserWarning)\n",
      "/Users/kristian/opt/anaconda3/lib/python3.9/site-packages/sklearn/feature_selection/_univariate_selection.py:113: RuntimeWarning: invalid value encountered in true_divide\n",
      "  f = msb / msw\n"
     ]
    },
    {
     "name": "stdout",
     "output_type": "stream",
     "text": [
      "Number of features:  157\n",
      "Number of significant features:  84\n"
     ]
    },
    {
     "name": "stderr",
     "output_type": "stream",
     "text": [
      "/Users/kristian/opt/anaconda3/lib/python3.9/site-packages/sklearn/feature_selection/_univariate_selection.py:112: UserWarning: Features [0] are constant.\n",
      "  warnings.warn(\"Features %s are constant.\" % constant_features_idx, UserWarning)\n",
      "/Users/kristian/opt/anaconda3/lib/python3.9/site-packages/sklearn/feature_selection/_univariate_selection.py:113: RuntimeWarning: invalid value encountered in true_divide\n",
      "  f = msb / msw\n"
     ]
    },
    {
     "name": "stdout",
     "output_type": "stream",
     "text": [
      "Number of features:  157\n",
      "Number of significant features:  89\n"
     ]
    },
    {
     "name": "stderr",
     "output_type": "stream",
     "text": [
      "/Users/kristian/opt/anaconda3/lib/python3.9/site-packages/sklearn/linear_model/_logistic.py:814: ConvergenceWarning: lbfgs failed to converge (status=1):\n",
      "STOP: TOTAL NO. of ITERATIONS REACHED LIMIT.\n",
      "\n",
      "Increase the number of iterations (max_iter) or scale the data as shown in:\n",
      "    https://scikit-learn.org/stable/modules/preprocessing.html\n",
      "Please also refer to the documentation for alternative solver options:\n",
      "    https://scikit-learn.org/stable/modules/linear_model.html#logistic-regression\n",
      "  n_iter_i = _check_optimize_result(\n",
      "/Users/kristian/opt/anaconda3/lib/python3.9/site-packages/sklearn/feature_selection/_univariate_selection.py:112: UserWarning: Features [0] are constant.\n",
      "  warnings.warn(\"Features %s are constant.\" % constant_features_idx, UserWarning)\n",
      "/Users/kristian/opt/anaconda3/lib/python3.9/site-packages/sklearn/feature_selection/_univariate_selection.py:113: RuntimeWarning: invalid value encountered in true_divide\n",
      "  f = msb / msw\n"
     ]
    },
    {
     "name": "stdout",
     "output_type": "stream",
     "text": [
      "Number of features:  157\n",
      "Number of significant features:  89\n"
     ]
    },
    {
     "name": "stderr",
     "output_type": "stream",
     "text": [
      "/Users/kristian/opt/anaconda3/lib/python3.9/site-packages/sklearn/linear_model/_logistic.py:814: ConvergenceWarning: lbfgs failed to converge (status=1):\n",
      "STOP: TOTAL NO. of ITERATIONS REACHED LIMIT.\n",
      "\n",
      "Increase the number of iterations (max_iter) or scale the data as shown in:\n",
      "    https://scikit-learn.org/stable/modules/preprocessing.html\n",
      "Please also refer to the documentation for alternative solver options:\n",
      "    https://scikit-learn.org/stable/modules/linear_model.html#logistic-regression\n",
      "  n_iter_i = _check_optimize_result(\n",
      "/Users/kristian/opt/anaconda3/lib/python3.9/site-packages/sklearn/feature_selection/_univariate_selection.py:112: UserWarning: Features [0] are constant.\n",
      "  warnings.warn(\"Features %s are constant.\" % constant_features_idx, UserWarning)\n",
      "/Users/kristian/opt/anaconda3/lib/python3.9/site-packages/sklearn/feature_selection/_univariate_selection.py:113: RuntimeWarning: invalid value encountered in true_divide\n",
      "  f = msb / msw\n",
      "/Users/kristian/opt/anaconda3/lib/python3.9/site-packages/sklearn/feature_selection/_univariate_selection.py:112: UserWarning: Features [0] are constant.\n",
      "  warnings.warn(\"Features %s are constant.\" % constant_features_idx, UserWarning)\n",
      "/Users/kristian/opt/anaconda3/lib/python3.9/site-packages/sklearn/feature_selection/_univariate_selection.py:113: RuntimeWarning: invalid value encountered in true_divide\n",
      "  f = msb / msw\n"
     ]
    },
    {
     "name": "stdout",
     "output_type": "stream",
     "text": [
      "Number of features:  157\n",
      "Number of significant features:  82\n"
     ]
    },
    {
     "name": "stderr",
     "output_type": "stream",
     "text": [
      "/Users/kristian/opt/anaconda3/lib/python3.9/site-packages/sklearn/linear_model/_logistic.py:814: ConvergenceWarning: lbfgs failed to converge (status=1):\n",
      "STOP: TOTAL NO. of ITERATIONS REACHED LIMIT.\n",
      "\n",
      "Increase the number of iterations (max_iter) or scale the data as shown in:\n",
      "    https://scikit-learn.org/stable/modules/preprocessing.html\n",
      "Please also refer to the documentation for alternative solver options:\n",
      "    https://scikit-learn.org/stable/modules/linear_model.html#logistic-regression\n",
      "  n_iter_i = _check_optimize_result(\n",
      "/Users/kristian/opt/anaconda3/lib/python3.9/site-packages/sklearn/feature_selection/_univariate_selection.py:112: UserWarning: Features [0] are constant.\n",
      "  warnings.warn(\"Features %s are constant.\" % constant_features_idx, UserWarning)\n",
      "/Users/kristian/opt/anaconda3/lib/python3.9/site-packages/sklearn/feature_selection/_univariate_selection.py:113: RuntimeWarning: invalid value encountered in true_divide\n",
      "  f = msb / msw\n"
     ]
    },
    {
     "name": "stdout",
     "output_type": "stream",
     "text": [
      "Number of features:  157\n",
      "Number of significant features:  82\n"
     ]
    },
    {
     "name": "stderr",
     "output_type": "stream",
     "text": [
      "/Users/kristian/opt/anaconda3/lib/python3.9/site-packages/sklearn/linear_model/_logistic.py:814: ConvergenceWarning: lbfgs failed to converge (status=1):\n",
      "STOP: TOTAL NO. of ITERATIONS REACHED LIMIT.\n",
      "\n",
      "Increase the number of iterations (max_iter) or scale the data as shown in:\n",
      "    https://scikit-learn.org/stable/modules/preprocessing.html\n",
      "Please also refer to the documentation for alternative solver options:\n",
      "    https://scikit-learn.org/stable/modules/linear_model.html#logistic-regression\n",
      "  n_iter_i = _check_optimize_result(\n",
      "/Users/kristian/opt/anaconda3/lib/python3.9/site-packages/sklearn/feature_selection/_univariate_selection.py:112: UserWarning: Features [0] are constant.\n",
      "  warnings.warn(\"Features %s are constant.\" % constant_features_idx, UserWarning)\n",
      "/Users/kristian/opt/anaconda3/lib/python3.9/site-packages/sklearn/feature_selection/_univariate_selection.py:113: RuntimeWarning: invalid value encountered in true_divide\n",
      "  f = msb / msw\n",
      "/Users/kristian/opt/anaconda3/lib/python3.9/site-packages/sklearn/feature_selection/_univariate_selection.py:112: UserWarning: Features [0] are constant.\n",
      "  warnings.warn(\"Features %s are constant.\" % constant_features_idx, UserWarning)\n",
      "/Users/kristian/opt/anaconda3/lib/python3.9/site-packages/sklearn/feature_selection/_univariate_selection.py:113: RuntimeWarning: invalid value encountered in true_divide\n",
      "  f = msb / msw\n"
     ]
    },
    {
     "name": "stdout",
     "output_type": "stream",
     "text": [
      "Number of features:  157\n",
      "Number of significant features:  84\n"
     ]
    },
    {
     "name": "stderr",
     "output_type": "stream",
     "text": [
      "/Users/kristian/opt/anaconda3/lib/python3.9/site-packages/sklearn/linear_model/_logistic.py:814: ConvergenceWarning: lbfgs failed to converge (status=1):\n",
      "STOP: TOTAL NO. of ITERATIONS REACHED LIMIT.\n",
      "\n",
      "Increase the number of iterations (max_iter) or scale the data as shown in:\n",
      "    https://scikit-learn.org/stable/modules/preprocessing.html\n",
      "Please also refer to the documentation for alternative solver options:\n",
      "    https://scikit-learn.org/stable/modules/linear_model.html#logistic-regression\n",
      "  n_iter_i = _check_optimize_result(\n",
      "/Users/kristian/opt/anaconda3/lib/python3.9/site-packages/sklearn/linear_model/_logistic.py:814: ConvergenceWarning: lbfgs failed to converge (status=1):\n",
      "STOP: TOTAL NO. of ITERATIONS REACHED LIMIT.\n",
      "\n",
      "Increase the number of iterations (max_iter) or scale the data as shown in:\n",
      "    https://scikit-learn.org/stable/modules/preprocessing.html\n",
      "Please also refer to the documentation for alternative solver options:\n",
      "    https://scikit-learn.org/stable/modules/linear_model.html#logistic-regression\n",
      "  n_iter_i = _check_optimize_result(\n",
      "/Users/kristian/opt/anaconda3/lib/python3.9/site-packages/sklearn/linear_model/_logistic.py:814: ConvergenceWarning: lbfgs failed to converge (status=1):\n",
      "STOP: TOTAL NO. of ITERATIONS REACHED LIMIT.\n",
      "\n",
      "Increase the number of iterations (max_iter) or scale the data as shown in:\n",
      "    https://scikit-learn.org/stable/modules/preprocessing.html\n",
      "Please also refer to the documentation for alternative solver options:\n",
      "    https://scikit-learn.org/stable/modules/linear_model.html#logistic-regression\n",
      "  n_iter_i = _check_optimize_result(\n",
      "/Users/kristian/opt/anaconda3/lib/python3.9/site-packages/sklearn/linear_model/_logistic.py:814: ConvergenceWarning: lbfgs failed to converge (status=1):\n",
      "STOP: TOTAL NO. of ITERATIONS REACHED LIMIT.\n",
      "\n",
      "Increase the number of iterations (max_iter) or scale the data as shown in:\n",
      "    https://scikit-learn.org/stable/modules/preprocessing.html\n",
      "Please also refer to the documentation for alternative solver options:\n",
      "    https://scikit-learn.org/stable/modules/linear_model.html#logistic-regression\n",
      "  n_iter_i = _check_optimize_result(\n",
      "/Users/kristian/opt/anaconda3/lib/python3.9/site-packages/sklearn/linear_model/_logistic.py:814: ConvergenceWarning: lbfgs failed to converge (status=1):\n",
      "STOP: TOTAL NO. of ITERATIONS REACHED LIMIT.\n",
      "\n",
      "Increase the number of iterations (max_iter) or scale the data as shown in:\n",
      "    https://scikit-learn.org/stable/modules/preprocessing.html\n",
      "Please also refer to the documentation for alternative solver options:\n",
      "    https://scikit-learn.org/stable/modules/linear_model.html#logistic-regression\n",
      "  n_iter_i = _check_optimize_result(\n",
      "/Users/kristian/opt/anaconda3/lib/python3.9/site-packages/sklearn/linear_model/_logistic.py:814: ConvergenceWarning: lbfgs failed to converge (status=1):\n",
      "STOP: TOTAL NO. of ITERATIONS REACHED LIMIT.\n",
      "\n",
      "Increase the number of iterations (max_iter) or scale the data as shown in:\n",
      "    https://scikit-learn.org/stable/modules/preprocessing.html\n",
      "Please also refer to the documentation for alternative solver options:\n",
      "    https://scikit-learn.org/stable/modules/linear_model.html#logistic-regression\n",
      "  n_iter_i = _check_optimize_result(\n",
      "/Users/kristian/opt/anaconda3/lib/python3.9/site-packages/sklearn/feature_selection/_univariate_selection.py:112: UserWarning: Features [0] are constant.\n",
      "  warnings.warn(\"Features %s are constant.\" % constant_features_idx, UserWarning)\n",
      "/Users/kristian/opt/anaconda3/lib/python3.9/site-packages/sklearn/feature_selection/_univariate_selection.py:113: RuntimeWarning: invalid value encountered in true_divide\n",
      "  f = msb / msw\n"
     ]
    },
    {
     "name": "stdout",
     "output_type": "stream",
     "text": [
      "Number of features:  157\n",
      "Number of significant features:  89\n"
     ]
    },
    {
     "name": "stderr",
     "output_type": "stream",
     "text": [
      "/Users/kristian/opt/anaconda3/lib/python3.9/site-packages/sklearn/feature_selection/_univariate_selection.py:112: UserWarning: Features [0] are constant.\n",
      "  warnings.warn(\"Features %s are constant.\" % constant_features_idx, UserWarning)\n",
      "/Users/kristian/opt/anaconda3/lib/python3.9/site-packages/sklearn/feature_selection/_univariate_selection.py:113: RuntimeWarning: invalid value encountered in true_divide\n",
      "  f = msb / msw\n"
     ]
    },
    {
     "name": "stdout",
     "output_type": "stream",
     "text": [
      "Number of features:  157\n",
      "Number of significant features:  89\n"
     ]
    },
    {
     "name": "stderr",
     "output_type": "stream",
     "text": [
      "/Users/kristian/opt/anaconda3/lib/python3.9/site-packages/sklearn/feature_selection/_univariate_selection.py:112: UserWarning: Features [0] are constant.\n",
      "  warnings.warn(\"Features %s are constant.\" % constant_features_idx, UserWarning)\n",
      "/Users/kristian/opt/anaconda3/lib/python3.9/site-packages/sklearn/feature_selection/_univariate_selection.py:113: RuntimeWarning: invalid value encountered in true_divide\n",
      "  f = msb / msw\n",
      "/Users/kristian/opt/anaconda3/lib/python3.9/site-packages/sklearn/feature_selection/_univariate_selection.py:112: UserWarning: Features [0] are constant.\n",
      "  warnings.warn(\"Features %s are constant.\" % constant_features_idx, UserWarning)\n",
      "/Users/kristian/opt/anaconda3/lib/python3.9/site-packages/sklearn/feature_selection/_univariate_selection.py:113: RuntimeWarning: invalid value encountered in true_divide\n",
      "  f = msb / msw\n"
     ]
    },
    {
     "name": "stdout",
     "output_type": "stream",
     "text": [
      "Number of features:  157\n",
      "Number of significant features:  82\n"
     ]
    },
    {
     "name": "stderr",
     "output_type": "stream",
     "text": [
      "/Users/kristian/opt/anaconda3/lib/python3.9/site-packages/sklearn/feature_selection/_univariate_selection.py:112: UserWarning: Features [0] are constant.\n",
      "  warnings.warn(\"Features %s are constant.\" % constant_features_idx, UserWarning)\n",
      "/Users/kristian/opt/anaconda3/lib/python3.9/site-packages/sklearn/feature_selection/_univariate_selection.py:113: RuntimeWarning: invalid value encountered in true_divide\n",
      "  f = msb / msw\n"
     ]
    },
    {
     "name": "stdout",
     "output_type": "stream",
     "text": [
      "Number of features:  157\n",
      "Number of significant features:  82\n"
     ]
    },
    {
     "name": "stderr",
     "output_type": "stream",
     "text": [
      "/Users/kristian/opt/anaconda3/lib/python3.9/site-packages/sklearn/feature_selection/_univariate_selection.py:112: UserWarning: Features [0] are constant.\n",
      "  warnings.warn(\"Features %s are constant.\" % constant_features_idx, UserWarning)\n",
      "/Users/kristian/opt/anaconda3/lib/python3.9/site-packages/sklearn/feature_selection/_univariate_selection.py:113: RuntimeWarning: invalid value encountered in true_divide\n",
      "  f = msb / msw\n",
      "/Users/kristian/opt/anaconda3/lib/python3.9/site-packages/sklearn/feature_selection/_univariate_selection.py:112: UserWarning: Features [0] are constant.\n",
      "  warnings.warn(\"Features %s are constant.\" % constant_features_idx, UserWarning)\n",
      "/Users/kristian/opt/anaconda3/lib/python3.9/site-packages/sklearn/feature_selection/_univariate_selection.py:113: RuntimeWarning: invalid value encountered in true_divide\n",
      "  f = msb / msw\n"
     ]
    },
    {
     "name": "stdout",
     "output_type": "stream",
     "text": [
      "Number of features:  157\n",
      "Number of significant features:  84\n"
     ]
    },
    {
     "name": "stderr",
     "output_type": "stream",
     "text": [
      "/Users/kristian/opt/anaconda3/lib/python3.9/site-packages/sklearn/feature_selection/_univariate_selection.py:112: UserWarning: Features [0] are constant.\n",
      "  warnings.warn(\"Features %s are constant.\" % constant_features_idx, UserWarning)\n",
      "/Users/kristian/opt/anaconda3/lib/python3.9/site-packages/sklearn/feature_selection/_univariate_selection.py:113: RuntimeWarning: invalid value encountered in true_divide\n",
      "  f = msb / msw\n"
     ]
    },
    {
     "name": "stdout",
     "output_type": "stream",
     "text": [
      "Number of features:  157\n",
      "Number of significant features:  89\n"
     ]
    },
    {
     "name": "stderr",
     "output_type": "stream",
     "text": [
      "/Users/kristian/opt/anaconda3/lib/python3.9/site-packages/sklearn/feature_selection/_univariate_selection.py:112: UserWarning: Features [0] are constant.\n",
      "  warnings.warn(\"Features %s are constant.\" % constant_features_idx, UserWarning)\n",
      "/Users/kristian/opt/anaconda3/lib/python3.9/site-packages/sklearn/feature_selection/_univariate_selection.py:113: RuntimeWarning: invalid value encountered in true_divide\n",
      "  f = msb / msw\n"
     ]
    },
    {
     "name": "stdout",
     "output_type": "stream",
     "text": [
      "Number of features:  157\n",
      "Number of significant features:  89\n"
     ]
    },
    {
     "name": "stderr",
     "output_type": "stream",
     "text": [
      "/Users/kristian/opt/anaconda3/lib/python3.9/site-packages/sklearn/feature_selection/_univariate_selection.py:112: UserWarning: Features [0] are constant.\n",
      "  warnings.warn(\"Features %s are constant.\" % constant_features_idx, UserWarning)\n",
      "/Users/kristian/opt/anaconda3/lib/python3.9/site-packages/sklearn/feature_selection/_univariate_selection.py:113: RuntimeWarning: invalid value encountered in true_divide\n",
      "  f = msb / msw\n",
      "/Users/kristian/opt/anaconda3/lib/python3.9/site-packages/sklearn/feature_selection/_univariate_selection.py:112: UserWarning: Features [0] are constant.\n",
      "  warnings.warn(\"Features %s are constant.\" % constant_features_idx, UserWarning)\n",
      "/Users/kristian/opt/anaconda3/lib/python3.9/site-packages/sklearn/feature_selection/_univariate_selection.py:113: RuntimeWarning: invalid value encountered in true_divide\n",
      "  f = msb / msw\n"
     ]
    },
    {
     "name": "stdout",
     "output_type": "stream",
     "text": [
      "Number of features:  157\n",
      "Number of significant features:  82\n"
     ]
    },
    {
     "name": "stderr",
     "output_type": "stream",
     "text": [
      "/Users/kristian/opt/anaconda3/lib/python3.9/site-packages/sklearn/feature_selection/_univariate_selection.py:112: UserWarning: Features [0] are constant.\n",
      "  warnings.warn(\"Features %s are constant.\" % constant_features_idx, UserWarning)\n",
      "/Users/kristian/opt/anaconda3/lib/python3.9/site-packages/sklearn/feature_selection/_univariate_selection.py:113: RuntimeWarning: invalid value encountered in true_divide\n",
      "  f = msb / msw\n"
     ]
    },
    {
     "name": "stdout",
     "output_type": "stream",
     "text": [
      "Number of features:  157\n",
      "Number of significant features:  82\n"
     ]
    },
    {
     "name": "stderr",
     "output_type": "stream",
     "text": [
      "/Users/kristian/opt/anaconda3/lib/python3.9/site-packages/sklearn/feature_selection/_univariate_selection.py:112: UserWarning: Features [0] are constant.\n",
      "  warnings.warn(\"Features %s are constant.\" % constant_features_idx, UserWarning)\n",
      "/Users/kristian/opt/anaconda3/lib/python3.9/site-packages/sklearn/feature_selection/_univariate_selection.py:113: RuntimeWarning: invalid value encountered in true_divide\n",
      "  f = msb / msw\n",
      "/Users/kristian/opt/anaconda3/lib/python3.9/site-packages/sklearn/feature_selection/_univariate_selection.py:112: UserWarning: Features [0] are constant.\n",
      "  warnings.warn(\"Features %s are constant.\" % constant_features_idx, UserWarning)\n",
      "/Users/kristian/opt/anaconda3/lib/python3.9/site-packages/sklearn/feature_selection/_univariate_selection.py:113: RuntimeWarning: invalid value encountered in true_divide\n",
      "  f = msb / msw\n"
     ]
    },
    {
     "name": "stdout",
     "output_type": "stream",
     "text": [
      "Number of features:  157\n",
      "Number of significant features:  84\n"
     ]
    },
    {
     "name": "stderr",
     "output_type": "stream",
     "text": [
      "/Users/kristian/opt/anaconda3/lib/python3.9/site-packages/sklearn/feature_selection/_univariate_selection.py:112: UserWarning: Features [0] are constant.\n",
      "  warnings.warn(\"Features %s are constant.\" % constant_features_idx, UserWarning)\n",
      "/Users/kristian/opt/anaconda3/lib/python3.9/site-packages/sklearn/feature_selection/_univariate_selection.py:113: RuntimeWarning: invalid value encountered in true_divide\n",
      "  f = msb / msw\n"
     ]
    },
    {
     "name": "stdout",
     "output_type": "stream",
     "text": [
      "Number of features:  157\n",
      "Number of significant features:  89\n"
     ]
    },
    {
     "name": "stderr",
     "output_type": "stream",
     "text": [
      "/Users/kristian/opt/anaconda3/lib/python3.9/site-packages/sklearn/linear_model/_logistic.py:814: ConvergenceWarning: lbfgs failed to converge (status=1):\n",
      "STOP: TOTAL NO. of ITERATIONS REACHED LIMIT.\n",
      "\n",
      "Increase the number of iterations (max_iter) or scale the data as shown in:\n",
      "    https://scikit-learn.org/stable/modules/preprocessing.html\n",
      "Please also refer to the documentation for alternative solver options:\n",
      "    https://scikit-learn.org/stable/modules/linear_model.html#logistic-regression\n",
      "  n_iter_i = _check_optimize_result(\n",
      "/Users/kristian/opt/anaconda3/lib/python3.9/site-packages/sklearn/feature_selection/_univariate_selection.py:112: UserWarning: Features [0] are constant.\n",
      "  warnings.warn(\"Features %s are constant.\" % constant_features_idx, UserWarning)\n",
      "/Users/kristian/opt/anaconda3/lib/python3.9/site-packages/sklearn/feature_selection/_univariate_selection.py:113: RuntimeWarning: invalid value encountered in true_divide\n",
      "  f = msb / msw\n"
     ]
    },
    {
     "name": "stdout",
     "output_type": "stream",
     "text": [
      "Number of features:  157\n",
      "Number of significant features:  89\n"
     ]
    },
    {
     "name": "stderr",
     "output_type": "stream",
     "text": [
      "/Users/kristian/opt/anaconda3/lib/python3.9/site-packages/sklearn/linear_model/_logistic.py:814: ConvergenceWarning: lbfgs failed to converge (status=1):\n",
      "STOP: TOTAL NO. of ITERATIONS REACHED LIMIT.\n",
      "\n",
      "Increase the number of iterations (max_iter) or scale the data as shown in:\n",
      "    https://scikit-learn.org/stable/modules/preprocessing.html\n",
      "Please also refer to the documentation for alternative solver options:\n",
      "    https://scikit-learn.org/stable/modules/linear_model.html#logistic-regression\n",
      "  n_iter_i = _check_optimize_result(\n",
      "/Users/kristian/opt/anaconda3/lib/python3.9/site-packages/sklearn/feature_selection/_univariate_selection.py:112: UserWarning: Features [0] are constant.\n",
      "  warnings.warn(\"Features %s are constant.\" % constant_features_idx, UserWarning)\n",
      "/Users/kristian/opt/anaconda3/lib/python3.9/site-packages/sklearn/feature_selection/_univariate_selection.py:113: RuntimeWarning: invalid value encountered in true_divide\n",
      "  f = msb / msw\n",
      "/Users/kristian/opt/anaconda3/lib/python3.9/site-packages/sklearn/feature_selection/_univariate_selection.py:112: UserWarning: Features [0] are constant.\n",
      "  warnings.warn(\"Features %s are constant.\" % constant_features_idx, UserWarning)\n",
      "/Users/kristian/opt/anaconda3/lib/python3.9/site-packages/sklearn/feature_selection/_univariate_selection.py:113: RuntimeWarning: invalid value encountered in true_divide\n",
      "  f = msb / msw\n"
     ]
    },
    {
     "name": "stdout",
     "output_type": "stream",
     "text": [
      "Number of features:  157\n",
      "Number of significant features:  82\n"
     ]
    },
    {
     "name": "stderr",
     "output_type": "stream",
     "text": [
      "/Users/kristian/opt/anaconda3/lib/python3.9/site-packages/sklearn/linear_model/_logistic.py:814: ConvergenceWarning: lbfgs failed to converge (status=1):\n",
      "STOP: TOTAL NO. of ITERATIONS REACHED LIMIT.\n",
      "\n",
      "Increase the number of iterations (max_iter) or scale the data as shown in:\n",
      "    https://scikit-learn.org/stable/modules/preprocessing.html\n",
      "Please also refer to the documentation for alternative solver options:\n",
      "    https://scikit-learn.org/stable/modules/linear_model.html#logistic-regression\n",
      "  n_iter_i = _check_optimize_result(\n",
      "/Users/kristian/opt/anaconda3/lib/python3.9/site-packages/sklearn/feature_selection/_univariate_selection.py:112: UserWarning: Features [0] are constant.\n",
      "  warnings.warn(\"Features %s are constant.\" % constant_features_idx, UserWarning)\n",
      "/Users/kristian/opt/anaconda3/lib/python3.9/site-packages/sklearn/feature_selection/_univariate_selection.py:113: RuntimeWarning: invalid value encountered in true_divide\n",
      "  f = msb / msw\n"
     ]
    },
    {
     "name": "stdout",
     "output_type": "stream",
     "text": [
      "Number of features:  157\n",
      "Number of significant features:  82\n"
     ]
    },
    {
     "name": "stderr",
     "output_type": "stream",
     "text": [
      "/Users/kristian/opt/anaconda3/lib/python3.9/site-packages/sklearn/linear_model/_logistic.py:814: ConvergenceWarning: lbfgs failed to converge (status=1):\n",
      "STOP: TOTAL NO. of ITERATIONS REACHED LIMIT.\n",
      "\n",
      "Increase the number of iterations (max_iter) or scale the data as shown in:\n",
      "    https://scikit-learn.org/stable/modules/preprocessing.html\n",
      "Please also refer to the documentation for alternative solver options:\n",
      "    https://scikit-learn.org/stable/modules/linear_model.html#logistic-regression\n",
      "  n_iter_i = _check_optimize_result(\n",
      "/Users/kristian/opt/anaconda3/lib/python3.9/site-packages/sklearn/feature_selection/_univariate_selection.py:112: UserWarning: Features [0] are constant.\n",
      "  warnings.warn(\"Features %s are constant.\" % constant_features_idx, UserWarning)\n",
      "/Users/kristian/opt/anaconda3/lib/python3.9/site-packages/sklearn/feature_selection/_univariate_selection.py:113: RuntimeWarning: invalid value encountered in true_divide\n",
      "  f = msb / msw\n",
      "/Users/kristian/opt/anaconda3/lib/python3.9/site-packages/sklearn/feature_selection/_univariate_selection.py:112: UserWarning: Features [0] are constant.\n",
      "  warnings.warn(\"Features %s are constant.\" % constant_features_idx, UserWarning)\n",
      "/Users/kristian/opt/anaconda3/lib/python3.9/site-packages/sklearn/feature_selection/_univariate_selection.py:113: RuntimeWarning: invalid value encountered in true_divide\n",
      "  f = msb / msw\n"
     ]
    },
    {
     "name": "stdout",
     "output_type": "stream",
     "text": [
      "Number of features:  157\n",
      "Number of significant features:  84\n"
     ]
    },
    {
     "name": "stderr",
     "output_type": "stream",
     "text": [
      "/Users/kristian/opt/anaconda3/lib/python3.9/site-packages/sklearn/linear_model/_logistic.py:814: ConvergenceWarning: lbfgs failed to converge (status=1):\n",
      "STOP: TOTAL NO. of ITERATIONS REACHED LIMIT.\n",
      "\n",
      "Increase the number of iterations (max_iter) or scale the data as shown in:\n",
      "    https://scikit-learn.org/stable/modules/preprocessing.html\n",
      "Please also refer to the documentation for alternative solver options:\n",
      "    https://scikit-learn.org/stable/modules/linear_model.html#logistic-regression\n",
      "  n_iter_i = _check_optimize_result(\n",
      "/Users/kristian/opt/anaconda3/lib/python3.9/site-packages/sklearn/linear_model/_logistic.py:814: ConvergenceWarning: lbfgs failed to converge (status=1):\n",
      "STOP: TOTAL NO. of ITERATIONS REACHED LIMIT.\n",
      "\n",
      "Increase the number of iterations (max_iter) or scale the data as shown in:\n",
      "    https://scikit-learn.org/stable/modules/preprocessing.html\n",
      "Please also refer to the documentation for alternative solver options:\n",
      "    https://scikit-learn.org/stable/modules/linear_model.html#logistic-regression\n",
      "  n_iter_i = _check_optimize_result(\n",
      "/Users/kristian/opt/anaconda3/lib/python3.9/site-packages/sklearn/linear_model/_logistic.py:814: ConvergenceWarning: lbfgs failed to converge (status=1):\n",
      "STOP: TOTAL NO. of ITERATIONS REACHED LIMIT.\n",
      "\n",
      "Increase the number of iterations (max_iter) or scale the data as shown in:\n",
      "    https://scikit-learn.org/stable/modules/preprocessing.html\n",
      "Please also refer to the documentation for alternative solver options:\n",
      "    https://scikit-learn.org/stable/modules/linear_model.html#logistic-regression\n",
      "  n_iter_i = _check_optimize_result(\n",
      "/Users/kristian/opt/anaconda3/lib/python3.9/site-packages/sklearn/linear_model/_logistic.py:814: ConvergenceWarning: lbfgs failed to converge (status=1):\n",
      "STOP: TOTAL NO. of ITERATIONS REACHED LIMIT.\n",
      "\n",
      "Increase the number of iterations (max_iter) or scale the data as shown in:\n",
      "    https://scikit-learn.org/stable/modules/preprocessing.html\n",
      "Please also refer to the documentation for alternative solver options:\n",
      "    https://scikit-learn.org/stable/modules/linear_model.html#logistic-regression\n",
      "  n_iter_i = _check_optimize_result(\n",
      "/Users/kristian/opt/anaconda3/lib/python3.9/site-packages/sklearn/linear_model/_logistic.py:814: ConvergenceWarning: lbfgs failed to converge (status=1):\n",
      "STOP: TOTAL NO. of ITERATIONS REACHED LIMIT.\n",
      "\n",
      "Increase the number of iterations (max_iter) or scale the data as shown in:\n",
      "    https://scikit-learn.org/stable/modules/preprocessing.html\n",
      "Please also refer to the documentation for alternative solver options:\n",
      "    https://scikit-learn.org/stable/modules/linear_model.html#logistic-regression\n",
      "  n_iter_i = _check_optimize_result(\n",
      "/Users/kristian/opt/anaconda3/lib/python3.9/site-packages/sklearn/linear_model/_logistic.py:814: ConvergenceWarning: lbfgs failed to converge (status=1):\n",
      "STOP: TOTAL NO. of ITERATIONS REACHED LIMIT.\n",
      "\n",
      "Increase the number of iterations (max_iter) or scale the data as shown in:\n",
      "    https://scikit-learn.org/stable/modules/preprocessing.html\n",
      "Please also refer to the documentation for alternative solver options:\n",
      "    https://scikit-learn.org/stable/modules/linear_model.html#logistic-regression\n",
      "  n_iter_i = _check_optimize_result(\n"
     ]
    },
    {
     "name": "stdout",
     "output_type": "stream",
     "text": [
      "Number of features:  29\n",
      "Number of significant features:  26\n",
      "Number of features:  29\n",
      "Number of significant features:  27\n",
      "Number of features:  29\n",
      "Number of significant features:  26\n",
      "Number of features:  29\n",
      "Number of significant features:  26\n",
      "Number of features:  29\n",
      "Number of significant features:  25\n",
      "Number of features:  29\n",
      "Number of significant features:  26\n",
      "Number of features:  29\n",
      "Number of significant features:  27\n",
      "Number of features:  29\n",
      "Number of significant features:  26\n",
      "Number of features:  29\n",
      "Number of significant features:  26\n",
      "Number of features:  29\n",
      "Number of significant features:  25\n",
      "Number of features:  29\n",
      "Number of significant features:  26\n"
     ]
    },
    {
     "name": "stderr",
     "output_type": "stream",
     "text": [
      "/Users/kristian/opt/anaconda3/lib/python3.9/site-packages/sklearn/linear_model/_logistic.py:814: ConvergenceWarning: lbfgs failed to converge (status=1):\n",
      "STOP: TOTAL NO. of ITERATIONS REACHED LIMIT.\n",
      "\n",
      "Increase the number of iterations (max_iter) or scale the data as shown in:\n",
      "    https://scikit-learn.org/stable/modules/preprocessing.html\n",
      "Please also refer to the documentation for alternative solver options:\n",
      "    https://scikit-learn.org/stable/modules/linear_model.html#logistic-regression\n",
      "  n_iter_i = _check_optimize_result(\n"
     ]
    },
    {
     "name": "stdout",
     "output_type": "stream",
     "text": [
      "Number of features:  29\n",
      "Number of significant features:  27\n"
     ]
    },
    {
     "name": "stderr",
     "output_type": "stream",
     "text": [
      "/Users/kristian/opt/anaconda3/lib/python3.9/site-packages/sklearn/linear_model/_logistic.py:814: ConvergenceWarning: lbfgs failed to converge (status=1):\n",
      "STOP: TOTAL NO. of ITERATIONS REACHED LIMIT.\n",
      "\n",
      "Increase the number of iterations (max_iter) or scale the data as shown in:\n",
      "    https://scikit-learn.org/stable/modules/preprocessing.html\n",
      "Please also refer to the documentation for alternative solver options:\n",
      "    https://scikit-learn.org/stable/modules/linear_model.html#logistic-regression\n",
      "  n_iter_i = _check_optimize_result(\n"
     ]
    },
    {
     "name": "stdout",
     "output_type": "stream",
     "text": [
      "Number of features:  29\n",
      "Number of significant features:  26\n"
     ]
    },
    {
     "name": "stderr",
     "output_type": "stream",
     "text": [
      "/Users/kristian/opt/anaconda3/lib/python3.9/site-packages/sklearn/linear_model/_logistic.py:814: ConvergenceWarning: lbfgs failed to converge (status=1):\n",
      "STOP: TOTAL NO. of ITERATIONS REACHED LIMIT.\n",
      "\n",
      "Increase the number of iterations (max_iter) or scale the data as shown in:\n",
      "    https://scikit-learn.org/stable/modules/preprocessing.html\n",
      "Please also refer to the documentation for alternative solver options:\n",
      "    https://scikit-learn.org/stable/modules/linear_model.html#logistic-regression\n",
      "  n_iter_i = _check_optimize_result(\n"
     ]
    },
    {
     "name": "stdout",
     "output_type": "stream",
     "text": [
      "Number of features:  29\n",
      "Number of significant features:  26\n"
     ]
    },
    {
     "name": "stderr",
     "output_type": "stream",
     "text": [
      "/Users/kristian/opt/anaconda3/lib/python3.9/site-packages/sklearn/linear_model/_logistic.py:814: ConvergenceWarning: lbfgs failed to converge (status=1):\n",
      "STOP: TOTAL NO. of ITERATIONS REACHED LIMIT.\n",
      "\n",
      "Increase the number of iterations (max_iter) or scale the data as shown in:\n",
      "    https://scikit-learn.org/stable/modules/preprocessing.html\n",
      "Please also refer to the documentation for alternative solver options:\n",
      "    https://scikit-learn.org/stable/modules/linear_model.html#logistic-regression\n",
      "  n_iter_i = _check_optimize_result(\n"
     ]
    },
    {
     "name": "stdout",
     "output_type": "stream",
     "text": [
      "Number of features:  29\n",
      "Number of significant features:  25\n"
     ]
    },
    {
     "name": "stderr",
     "output_type": "stream",
     "text": [
      "/Users/kristian/opt/anaconda3/lib/python3.9/site-packages/sklearn/linear_model/_logistic.py:814: ConvergenceWarning: lbfgs failed to converge (status=1):\n",
      "STOP: TOTAL NO. of ITERATIONS REACHED LIMIT.\n",
      "\n",
      "Increase the number of iterations (max_iter) or scale the data as shown in:\n",
      "    https://scikit-learn.org/stable/modules/preprocessing.html\n",
      "Please also refer to the documentation for alternative solver options:\n",
      "    https://scikit-learn.org/stable/modules/linear_model.html#logistic-regression\n",
      "  n_iter_i = _check_optimize_result(\n",
      "/Users/kristian/opt/anaconda3/lib/python3.9/site-packages/sklearn/linear_model/_logistic.py:814: ConvergenceWarning: lbfgs failed to converge (status=1):\n",
      "STOP: TOTAL NO. of ITERATIONS REACHED LIMIT.\n",
      "\n",
      "Increase the number of iterations (max_iter) or scale the data as shown in:\n",
      "    https://scikit-learn.org/stable/modules/preprocessing.html\n",
      "Please also refer to the documentation for alternative solver options:\n",
      "    https://scikit-learn.org/stable/modules/linear_model.html#logistic-regression\n",
      "  n_iter_i = _check_optimize_result(\n"
     ]
    },
    {
     "name": "stdout",
     "output_type": "stream",
     "text": [
      "Number of features:  29\n",
      "Number of significant features:  26\n",
      "Number of features:  29\n",
      "Number of significant features:  27\n",
      "Number of features:  29\n",
      "Number of significant features:  26\n",
      "Number of features:  29\n",
      "Number of significant features:  26\n",
      "Number of features:  29\n",
      "Number of significant features:  25\n",
      "Number of features:  29\n",
      "Number of significant features:  26\n",
      "Number of features:  29\n",
      "Number of significant features:  27\n",
      "Number of features:  29\n",
      "Number of significant features:  26\n",
      "Number of features:  29\n",
      "Number of significant features:  26\n",
      "Number of features:  29\n",
      "Number of significant features:  25\n",
      "Number of features:  29\n",
      "Number of significant features:  26\n",
      "Number of features:  29\n",
      "Number of significant features:  27\n"
     ]
    },
    {
     "name": "stderr",
     "output_type": "stream",
     "text": [
      "/Users/kristian/opt/anaconda3/lib/python3.9/site-packages/sklearn/linear_model/_logistic.py:814: ConvergenceWarning: lbfgs failed to converge (status=1):\n",
      "STOP: TOTAL NO. of ITERATIONS REACHED LIMIT.\n",
      "\n",
      "Increase the number of iterations (max_iter) or scale the data as shown in:\n",
      "    https://scikit-learn.org/stable/modules/preprocessing.html\n",
      "Please also refer to the documentation for alternative solver options:\n",
      "    https://scikit-learn.org/stable/modules/linear_model.html#logistic-regression\n",
      "  n_iter_i = _check_optimize_result(\n"
     ]
    },
    {
     "name": "stdout",
     "output_type": "stream",
     "text": [
      "Number of features:  29\n",
      "Number of significant features:  26\n",
      "Number of features:  29\n",
      "Number of significant features:  26\n",
      "Number of features:  29\n",
      "Number of significant features:  25\n"
     ]
    },
    {
     "name": "stderr",
     "output_type": "stream",
     "text": [
      "/Users/kristian/opt/anaconda3/lib/python3.9/site-packages/sklearn/linear_model/_logistic.py:814: ConvergenceWarning: lbfgs failed to converge (status=1):\n",
      "STOP: TOTAL NO. of ITERATIONS REACHED LIMIT.\n",
      "\n",
      "Increase the number of iterations (max_iter) or scale the data as shown in:\n",
      "    https://scikit-learn.org/stable/modules/preprocessing.html\n",
      "Please also refer to the documentation for alternative solver options:\n",
      "    https://scikit-learn.org/stable/modules/linear_model.html#logistic-regression\n",
      "  n_iter_i = _check_optimize_result(\n",
      "/Users/kristian/opt/anaconda3/lib/python3.9/site-packages/sklearn/linear_model/_logistic.py:814: ConvergenceWarning: lbfgs failed to converge (status=1):\n",
      "STOP: TOTAL NO. of ITERATIONS REACHED LIMIT.\n",
      "\n",
      "Increase the number of iterations (max_iter) or scale the data as shown in:\n",
      "    https://scikit-learn.org/stable/modules/preprocessing.html\n",
      "Please also refer to the documentation for alternative solver options:\n",
      "    https://scikit-learn.org/stable/modules/linear_model.html#logistic-regression\n",
      "  n_iter_i = _check_optimize_result(\n",
      "/Users/kristian/opt/anaconda3/lib/python3.9/site-packages/sklearn/linear_model/_logistic.py:814: ConvergenceWarning: lbfgs failed to converge (status=1):\n",
      "STOP: TOTAL NO. of ITERATIONS REACHED LIMIT.\n",
      "\n",
      "Increase the number of iterations (max_iter) or scale the data as shown in:\n",
      "    https://scikit-learn.org/stable/modules/preprocessing.html\n",
      "Please also refer to the documentation for alternative solver options:\n",
      "    https://scikit-learn.org/stable/modules/linear_model.html#logistic-regression\n",
      "  n_iter_i = _check_optimize_result(\n",
      "/Users/kristian/opt/anaconda3/lib/python3.9/site-packages/sklearn/linear_model/_logistic.py:814: ConvergenceWarning: lbfgs failed to converge (status=1):\n",
      "STOP: TOTAL NO. of ITERATIONS REACHED LIMIT.\n",
      "\n",
      "Increase the number of iterations (max_iter) or scale the data as shown in:\n",
      "    https://scikit-learn.org/stable/modules/preprocessing.html\n",
      "Please also refer to the documentation for alternative solver options:\n",
      "    https://scikit-learn.org/stable/modules/linear_model.html#logistic-regression\n",
      "  n_iter_i = _check_optimize_result(\n",
      "/Users/kristian/opt/anaconda3/lib/python3.9/site-packages/sklearn/linear_model/_logistic.py:814: ConvergenceWarning: lbfgs failed to converge (status=1):\n",
      "STOP: TOTAL NO. of ITERATIONS REACHED LIMIT.\n",
      "\n",
      "Increase the number of iterations (max_iter) or scale the data as shown in:\n",
      "    https://scikit-learn.org/stable/modules/preprocessing.html\n",
      "Please also refer to the documentation for alternative solver options:\n",
      "    https://scikit-learn.org/stable/modules/linear_model.html#logistic-regression\n",
      "  n_iter_i = _check_optimize_result(\n",
      "/Users/kristian/opt/anaconda3/lib/python3.9/site-packages/sklearn/linear_model/_logistic.py:814: ConvergenceWarning: lbfgs failed to converge (status=1):\n",
      "STOP: TOTAL NO. of ITERATIONS REACHED LIMIT.\n",
      "\n",
      "Increase the number of iterations (max_iter) or scale the data as shown in:\n",
      "    https://scikit-learn.org/stable/modules/preprocessing.html\n",
      "Please also refer to the documentation for alternative solver options:\n",
      "    https://scikit-learn.org/stable/modules/linear_model.html#logistic-regression\n",
      "  n_iter_i = _check_optimize_result(\n"
     ]
    },
    {
     "name": "stdout",
     "output_type": "stream",
     "text": [
      "Number of features:  29\n",
      "Number of significant features:  27\n",
      "Number of features:  29\n",
      "Number of significant features:  25\n",
      "Number of features:  29\n",
      "Number of significant features:  26\n",
      "Number of features:  29\n",
      "Number of significant features:  25\n",
      "Number of features:  29\n",
      "Number of significant features:  27\n",
      "Number of features:  29\n",
      "Number of significant features:  27\n",
      "Number of features:  29\n",
      "Number of significant features:  25\n",
      "Number of features:  29\n",
      "Number of significant features:  26\n",
      "Number of features:  29\n",
      "Number of significant features:  25\n",
      "Number of features:  29\n",
      "Number of significant features:  27\n",
      "Number of features:  29\n",
      "Number of significant features:  27\n"
     ]
    },
    {
     "name": "stderr",
     "output_type": "stream",
     "text": [
      "/Users/kristian/opt/anaconda3/lib/python3.9/site-packages/sklearn/linear_model/_logistic.py:814: ConvergenceWarning: lbfgs failed to converge (status=1):\n",
      "STOP: TOTAL NO. of ITERATIONS REACHED LIMIT.\n",
      "\n",
      "Increase the number of iterations (max_iter) or scale the data as shown in:\n",
      "    https://scikit-learn.org/stable/modules/preprocessing.html\n",
      "Please also refer to the documentation for alternative solver options:\n",
      "    https://scikit-learn.org/stable/modules/linear_model.html#logistic-regression\n",
      "  n_iter_i = _check_optimize_result(\n"
     ]
    },
    {
     "name": "stdout",
     "output_type": "stream",
     "text": [
      "Number of features:  29\n",
      "Number of significant features:  25\n"
     ]
    },
    {
     "name": "stderr",
     "output_type": "stream",
     "text": [
      "/Users/kristian/opt/anaconda3/lib/python3.9/site-packages/sklearn/linear_model/_logistic.py:814: ConvergenceWarning: lbfgs failed to converge (status=1):\n",
      "STOP: TOTAL NO. of ITERATIONS REACHED LIMIT.\n",
      "\n",
      "Increase the number of iterations (max_iter) or scale the data as shown in:\n",
      "    https://scikit-learn.org/stable/modules/preprocessing.html\n",
      "Please also refer to the documentation for alternative solver options:\n",
      "    https://scikit-learn.org/stable/modules/linear_model.html#logistic-regression\n",
      "  n_iter_i = _check_optimize_result(\n"
     ]
    },
    {
     "name": "stdout",
     "output_type": "stream",
     "text": [
      "Number of features:  29\n",
      "Number of significant features:  26\n"
     ]
    },
    {
     "name": "stderr",
     "output_type": "stream",
     "text": [
      "/Users/kristian/opt/anaconda3/lib/python3.9/site-packages/sklearn/linear_model/_logistic.py:814: ConvergenceWarning: lbfgs failed to converge (status=1):\n",
      "STOP: TOTAL NO. of ITERATIONS REACHED LIMIT.\n",
      "\n",
      "Increase the number of iterations (max_iter) or scale the data as shown in:\n",
      "    https://scikit-learn.org/stable/modules/preprocessing.html\n",
      "Please also refer to the documentation for alternative solver options:\n",
      "    https://scikit-learn.org/stable/modules/linear_model.html#logistic-regression\n",
      "  n_iter_i = _check_optimize_result(\n"
     ]
    },
    {
     "name": "stdout",
     "output_type": "stream",
     "text": [
      "Number of features:  29\n",
      "Number of significant features:  25\n"
     ]
    },
    {
     "name": "stderr",
     "output_type": "stream",
     "text": [
      "/Users/kristian/opt/anaconda3/lib/python3.9/site-packages/sklearn/linear_model/_logistic.py:814: ConvergenceWarning: lbfgs failed to converge (status=1):\n",
      "STOP: TOTAL NO. of ITERATIONS REACHED LIMIT.\n",
      "\n",
      "Increase the number of iterations (max_iter) or scale the data as shown in:\n",
      "    https://scikit-learn.org/stable/modules/preprocessing.html\n",
      "Please also refer to the documentation for alternative solver options:\n",
      "    https://scikit-learn.org/stable/modules/linear_model.html#logistic-regression\n",
      "  n_iter_i = _check_optimize_result(\n"
     ]
    },
    {
     "name": "stdout",
     "output_type": "stream",
     "text": [
      "Number of features:  29\n",
      "Number of significant features:  27\n"
     ]
    },
    {
     "name": "stderr",
     "output_type": "stream",
     "text": [
      "/Users/kristian/opt/anaconda3/lib/python3.9/site-packages/sklearn/linear_model/_logistic.py:814: ConvergenceWarning: lbfgs failed to converge (status=1):\n",
      "STOP: TOTAL NO. of ITERATIONS REACHED LIMIT.\n",
      "\n",
      "Increase the number of iterations (max_iter) or scale the data as shown in:\n",
      "    https://scikit-learn.org/stable/modules/preprocessing.html\n",
      "Please also refer to the documentation for alternative solver options:\n",
      "    https://scikit-learn.org/stable/modules/linear_model.html#logistic-regression\n",
      "  n_iter_i = _check_optimize_result(\n",
      "/Users/kristian/opt/anaconda3/lib/python3.9/site-packages/sklearn/linear_model/_logistic.py:814: ConvergenceWarning: lbfgs failed to converge (status=1):\n",
      "STOP: TOTAL NO. of ITERATIONS REACHED LIMIT.\n",
      "\n",
      "Increase the number of iterations (max_iter) or scale the data as shown in:\n",
      "    https://scikit-learn.org/stable/modules/preprocessing.html\n",
      "Please also refer to the documentation for alternative solver options:\n",
      "    https://scikit-learn.org/stable/modules/linear_model.html#logistic-regression\n",
      "  n_iter_i = _check_optimize_result(\n"
     ]
    },
    {
     "name": "stdout",
     "output_type": "stream",
     "text": [
      "Number of features:  29\n",
      "Number of significant features:  27\n",
      "Number of features:  29\n",
      "Number of significant features:  25\n",
      "Number of features:  29\n",
      "Number of significant features:  26\n",
      "Number of features:  29\n",
      "Number of significant features:  25\n",
      "Number of features:  29\n",
      "Number of significant features:  27\n",
      "Number of features:  29\n",
      "Number of significant features:  27\n",
      "Number of features:  29\n",
      "Number of significant features:  25\n",
      "Number of features:  29\n",
      "Number of significant features:  26\n",
      "Number of features:  29\n",
      "Number of significant features:  25\n",
      "Number of features:  29\n",
      "Number of significant features:  27\n",
      "Number of features:  29\n",
      "Number of significant features:  27\n",
      "Number of features:  29\n",
      "Number of significant features:  25\n",
      "Number of features:  29\n",
      "Number of significant features:  26\n"
     ]
    },
    {
     "name": "stderr",
     "output_type": "stream",
     "text": [
      "/Users/kristian/opt/anaconda3/lib/python3.9/site-packages/sklearn/linear_model/_logistic.py:814: ConvergenceWarning: lbfgs failed to converge (status=1):\n",
      "STOP: TOTAL NO. of ITERATIONS REACHED LIMIT.\n",
      "\n",
      "Increase the number of iterations (max_iter) or scale the data as shown in:\n",
      "    https://scikit-learn.org/stable/modules/preprocessing.html\n",
      "Please also refer to the documentation for alternative solver options:\n",
      "    https://scikit-learn.org/stable/modules/linear_model.html#logistic-regression\n",
      "  n_iter_i = _check_optimize_result(\n"
     ]
    },
    {
     "name": "stdout",
     "output_type": "stream",
     "text": [
      "Number of features:  29\n",
      "Number of significant features:  25\n",
      "Number of features:  29\n",
      "Number of significant features:  27\n"
     ]
    },
    {
     "name": "stderr",
     "output_type": "stream",
     "text": [
      "/Users/kristian/opt/anaconda3/lib/python3.9/site-packages/sklearn/linear_model/_logistic.py:814: ConvergenceWarning: lbfgs failed to converge (status=1):\n",
      "STOP: TOTAL NO. of ITERATIONS REACHED LIMIT.\n",
      "\n",
      "Increase the number of iterations (max_iter) or scale the data as shown in:\n",
      "    https://scikit-learn.org/stable/modules/preprocessing.html\n",
      "Please also refer to the documentation for alternative solver options:\n",
      "    https://scikit-learn.org/stable/modules/linear_model.html#logistic-regression\n",
      "  n_iter_i = _check_optimize_result(\n",
      "/Users/kristian/opt/anaconda3/lib/python3.9/site-packages/sklearn/linear_model/_logistic.py:814: ConvergenceWarning: lbfgs failed to converge (status=1):\n",
      "STOP: TOTAL NO. of ITERATIONS REACHED LIMIT.\n",
      "\n",
      "Increase the number of iterations (max_iter) or scale the data as shown in:\n",
      "    https://scikit-learn.org/stable/modules/preprocessing.html\n",
      "Please also refer to the documentation for alternative solver options:\n",
      "    https://scikit-learn.org/stable/modules/linear_model.html#logistic-regression\n",
      "  n_iter_i = _check_optimize_result(\n",
      "/Users/kristian/opt/anaconda3/lib/python3.9/site-packages/sklearn/linear_model/_logistic.py:814: ConvergenceWarning: lbfgs failed to converge (status=1):\n",
      "STOP: TOTAL NO. of ITERATIONS REACHED LIMIT.\n",
      "\n",
      "Increase the number of iterations (max_iter) or scale the data as shown in:\n",
      "    https://scikit-learn.org/stable/modules/preprocessing.html\n",
      "Please also refer to the documentation for alternative solver options:\n",
      "    https://scikit-learn.org/stable/modules/linear_model.html#logistic-regression\n",
      "  n_iter_i = _check_optimize_result(\n",
      "/Users/kristian/opt/anaconda3/lib/python3.9/site-packages/sklearn/linear_model/_logistic.py:814: ConvergenceWarning: lbfgs failed to converge (status=1):\n",
      "STOP: TOTAL NO. of ITERATIONS REACHED LIMIT.\n",
      "\n",
      "Increase the number of iterations (max_iter) or scale the data as shown in:\n",
      "    https://scikit-learn.org/stable/modules/preprocessing.html\n",
      "Please also refer to the documentation for alternative solver options:\n",
      "    https://scikit-learn.org/stable/modules/linear_model.html#logistic-regression\n",
      "  n_iter_i = _check_optimize_result(\n"
     ]
    },
    {
     "name": "stdout",
     "output_type": "stream",
     "text": [
      "Number of features:  36\n",
      "Number of significant features:  29\n",
      "Number of features:  36\n",
      "Number of significant features:  30\n",
      "Number of features:  36\n",
      "Number of significant features:  30\n",
      "Number of features:  36\n",
      "Number of significant features:  28\n",
      "Number of features:  36\n",
      "Number of significant features:  30\n",
      "Number of features:  36\n",
      "Number of significant features:  29\n",
      "Number of features:  36\n",
      "Number of significant features:  30\n",
      "Number of features:  36\n",
      "Number of significant features:  30\n",
      "Number of features:  36\n",
      "Number of significant features:  28\n",
      "Number of features:  36\n",
      "Number of significant features:  30\n",
      "Number of features:  36\n",
      "Number of significant features:  29\n",
      "Number of features:  36\n",
      "Number of significant features:  30\n"
     ]
    },
    {
     "name": "stderr",
     "output_type": "stream",
     "text": [
      "/Users/kristian/opt/anaconda3/lib/python3.9/site-packages/sklearn/linear_model/_logistic.py:814: ConvergenceWarning: lbfgs failed to converge (status=1):\n",
      "STOP: TOTAL NO. of ITERATIONS REACHED LIMIT.\n",
      "\n",
      "Increase the number of iterations (max_iter) or scale the data as shown in:\n",
      "    https://scikit-learn.org/stable/modules/preprocessing.html\n",
      "Please also refer to the documentation for alternative solver options:\n",
      "    https://scikit-learn.org/stable/modules/linear_model.html#logistic-regression\n",
      "  n_iter_i = _check_optimize_result(\n"
     ]
    },
    {
     "name": "stdout",
     "output_type": "stream",
     "text": [
      "Number of features:  36\n",
      "Number of significant features:  30\n"
     ]
    },
    {
     "name": "stderr",
     "output_type": "stream",
     "text": [
      "/Users/kristian/opt/anaconda3/lib/python3.9/site-packages/sklearn/linear_model/_logistic.py:814: ConvergenceWarning: lbfgs failed to converge (status=1):\n",
      "STOP: TOTAL NO. of ITERATIONS REACHED LIMIT.\n",
      "\n",
      "Increase the number of iterations (max_iter) or scale the data as shown in:\n",
      "    https://scikit-learn.org/stable/modules/preprocessing.html\n",
      "Please also refer to the documentation for alternative solver options:\n",
      "    https://scikit-learn.org/stable/modules/linear_model.html#logistic-regression\n",
      "  n_iter_i = _check_optimize_result(\n"
     ]
    },
    {
     "name": "stdout",
     "output_type": "stream",
     "text": [
      "Number of features:  36\n",
      "Number of significant features:  28\n",
      "Number of features:  36\n",
      "Number of significant features:  30\n"
     ]
    },
    {
     "name": "stderr",
     "output_type": "stream",
     "text": [
      "/Users/kristian/opt/anaconda3/lib/python3.9/site-packages/sklearn/linear_model/_logistic.py:814: ConvergenceWarning: lbfgs failed to converge (status=1):\n",
      "STOP: TOTAL NO. of ITERATIONS REACHED LIMIT.\n",
      "\n",
      "Increase the number of iterations (max_iter) or scale the data as shown in:\n",
      "    https://scikit-learn.org/stable/modules/preprocessing.html\n",
      "Please also refer to the documentation for alternative solver options:\n",
      "    https://scikit-learn.org/stable/modules/linear_model.html#logistic-regression\n",
      "  n_iter_i = _check_optimize_result(\n"
     ]
    },
    {
     "name": "stdout",
     "output_type": "stream",
     "text": [
      "Number of features:  36\n",
      "Number of significant features:  29\n",
      "Number of features:  36\n",
      "Number of significant features:  30\n",
      "Number of features:  36\n",
      "Number of significant features:  30\n",
      "Number of features:  36\n",
      "Number of significant features:  28\n",
      "Number of features:  36\n",
      "Number of significant features:  30\n",
      "Number of features:  36\n",
      "Number of significant features:  29\n",
      "Number of features:  36\n",
      "Number of significant features:  30\n",
      "Number of features:  36\n",
      "Number of significant features:  30\n",
      "Number of features:  36\n",
      "Number of significant features:  28\n",
      "Number of features:  36\n",
      "Number of significant features:  30\n",
      "Number of features:  36\n",
      "Number of significant features:  29\n",
      "Number of features:  36\n",
      "Number of significant features:  30\n",
      "Number of features:  36\n",
      "Number of significant features:  30\n",
      "Number of features:  36\n",
      "Number of significant features:  28\n",
      "Number of features:  36\n",
      "Number of significant features:  30\n"
     ]
    },
    {
     "name": "stderr",
     "output_type": "stream",
     "text": [
      "/Users/kristian/opt/anaconda3/lib/python3.9/site-packages/sklearn/linear_model/_logistic.py:814: ConvergenceWarning: lbfgs failed to converge (status=1):\n",
      "STOP: TOTAL NO. of ITERATIONS REACHED LIMIT.\n",
      "\n",
      "Increase the number of iterations (max_iter) or scale the data as shown in:\n",
      "    https://scikit-learn.org/stable/modules/preprocessing.html\n",
      "Please also refer to the documentation for alternative solver options:\n",
      "    https://scikit-learn.org/stable/modules/linear_model.html#logistic-regression\n",
      "  n_iter_i = _check_optimize_result(\n",
      "/Users/kristian/opt/anaconda3/lib/python3.9/site-packages/sklearn/linear_model/_logistic.py:814: ConvergenceWarning: lbfgs failed to converge (status=1):\n",
      "STOP: TOTAL NO. of ITERATIONS REACHED LIMIT.\n",
      "\n",
      "Increase the number of iterations (max_iter) or scale the data as shown in:\n",
      "    https://scikit-learn.org/stable/modules/preprocessing.html\n",
      "Please also refer to the documentation for alternative solver options:\n",
      "    https://scikit-learn.org/stable/modules/linear_model.html#logistic-regression\n",
      "  n_iter_i = _check_optimize_result(\n",
      "/Users/kristian/opt/anaconda3/lib/python3.9/site-packages/sklearn/linear_model/_logistic.py:814: ConvergenceWarning: lbfgs failed to converge (status=1):\n",
      "STOP: TOTAL NO. of ITERATIONS REACHED LIMIT.\n",
      "\n",
      "Increase the number of iterations (max_iter) or scale the data as shown in:\n",
      "    https://scikit-learn.org/stable/modules/preprocessing.html\n",
      "Please also refer to the documentation for alternative solver options:\n",
      "    https://scikit-learn.org/stable/modules/linear_model.html#logistic-regression\n",
      "  n_iter_i = _check_optimize_result(\n",
      "/Users/kristian/opt/anaconda3/lib/python3.9/site-packages/sklearn/linear_model/_logistic.py:814: ConvergenceWarning: lbfgs failed to converge (status=1):\n",
      "STOP: TOTAL NO. of ITERATIONS REACHED LIMIT.\n",
      "\n",
      "Increase the number of iterations (max_iter) or scale the data as shown in:\n",
      "    https://scikit-learn.org/stable/modules/preprocessing.html\n",
      "Please also refer to the documentation for alternative solver options:\n",
      "    https://scikit-learn.org/stable/modules/linear_model.html#logistic-regression\n",
      "  n_iter_i = _check_optimize_result(\n"
     ]
    },
    {
     "name": "stdout",
     "output_type": "stream",
     "text": [
      "Number of features:  36\n",
      "Number of significant features:  30\n",
      "Number of features:  36\n",
      "Number of significant features:  31\n",
      "Number of features:  36\n",
      "Number of significant features:  31\n",
      "Number of features:  36\n",
      "Number of significant features:  30\n",
      "Number of features:  36\n",
      "Number of significant features:  29\n",
      "Number of features:  36\n",
      "Number of significant features:  30\n",
      "Number of features:  36\n",
      "Number of significant features:  31\n",
      "Number of features:  36\n",
      "Number of significant features:  31\n",
      "Number of features:  36\n",
      "Number of significant features:  30\n",
      "Number of features:  36\n",
      "Number of significant features:  29\n",
      "Number of features:  36\n",
      "Number of significant features:  30\n",
      "Number of features:  36\n",
      "Number of significant features:  31\n"
     ]
    },
    {
     "name": "stderr",
     "output_type": "stream",
     "text": [
      "/Users/kristian/opt/anaconda3/lib/python3.9/site-packages/sklearn/linear_model/_logistic.py:814: ConvergenceWarning: lbfgs failed to converge (status=1):\n",
      "STOP: TOTAL NO. of ITERATIONS REACHED LIMIT.\n",
      "\n",
      "Increase the number of iterations (max_iter) or scale the data as shown in:\n",
      "    https://scikit-learn.org/stable/modules/preprocessing.html\n",
      "Please also refer to the documentation for alternative solver options:\n",
      "    https://scikit-learn.org/stable/modules/linear_model.html#logistic-regression\n",
      "  n_iter_i = _check_optimize_result(\n"
     ]
    },
    {
     "name": "stdout",
     "output_type": "stream",
     "text": [
      "Number of features:  36\n",
      "Number of significant features:  31\n",
      "Number of features:  36\n",
      "Number of significant features:  30\n",
      "Number of features:  36\n",
      "Number of significant features:  29\n",
      "Number of features:  36\n",
      "Number of significant features:  30\n",
      "Number of features:  36\n",
      "Number of significant features:  31\n",
      "Number of features:  36\n",
      "Number of significant features:  31\n",
      "Number of features:  36\n",
      "Number of significant features:  30\n",
      "Number of features:  36\n",
      "Number of significant features:  29\n",
      "Number of features:  36\n",
      "Number of significant features:  30\n",
      "Number of features:  36\n",
      "Number of significant features:  31\n",
      "Number of features:  36\n",
      "Number of significant features:  31\n",
      "Number of features:  36\n",
      "Number of significant features:  30\n",
      "Number of features:  36\n",
      "Number of significant features:  29\n",
      "Number of features:  36\n",
      "Number of significant features:  30\n",
      "Number of features:  36\n",
      "Number of significant features:  31\n",
      "Number of features:  36\n",
      "Number of significant features:  31\n",
      "Number of features:  36\n",
      "Number of significant features:  30\n",
      "Number of features:  36\n",
      "Number of significant features:  29\n"
     ]
    }
   ],
   "source": [
    "final_results = {}\n",
    "for dataset_name, dataset in zip(dataset_names, dataset_array):\n",
    "    X = dataset.drop(\"target\", axis=1)\n",
    "    y = dataset[\"target\"]\n",
    "\n",
    "    dataset_results = {}\n",
    "\n",
    "    for splitting_strategy in splitting_strategies:\n",
    "        if splitting_strategy == \"holdout\":\n",
    "            X_train, X_test, y_train, y_test = train_test_split(X, y, test_size=0.3, random_state=42)\n",
    "            results = evaluate_models(X_train, y_train, classifiers, preprocessing_methods, splitting_strategy=\"holdout\")\n",
    "            dataset_results[\"holdout\"] = results\n",
    "\n",
    "        else:\n",
    "            results = evaluate_models(X, y, classifiers, preprocessing_methods, splitting_strategy=\"cv\")\n",
    "            dataset_results[\"cv\"] = results\n",
    "    \n",
    "    final_results[dataset_name] = dataset_results\n",
    "    \"\"\" for splitting_strategy in splitting_strategies:\n",
    "        if splitting_strategy == \"holdout\":\n",
    "            X_train, X_test, y_train, y_test = train_test_split(X, y, test_size=0.3, random_state=42)\n",
    "            results = evaluate_models(X_train, y_train, classifiers, preprocessing_methods, splitting_strategy=\"holdout\")\n",
    "            for (splitting_strategy, preprocessing_method, clf_name, mean_f1_score) in results:\n",
    "                print(f\"Dataset: {dataset.name}, Splitting strategy: {splitting_strategy}, Preprocessing method: {preprocessing_method}, Classifier: {clf_name}, Mean F1 score: {mean_f1_score}\")\n",
    "        else:\n",
    "            results = evaluate_models(X, y, classifiers, preprocessing_methods, splitting_strategy=\"cv\")\n",
    "            for (splitting_strategy, preprocessing_method, clf_name, mean_f1_score) in results:\n",
    "                print(f\"Dataset: {dataset.name}, Splitting strategy: {splitting_strategy}, Preprocessing method: {preprocessing_method}, Classifier: {clf_name}, Mean F1 score: {mean_f1_score}\") \"\"\""
   ]
  },
  {
   "attachments": {},
   "cell_type": "markdown",
   "metadata": {},
   "source": [
    "# Models evaluation"
   ]
  },
  {
   "cell_type": "code",
   "execution_count": 322,
   "metadata": {},
   "outputs": [
    {
     "name": "stdout",
     "output_type": "stream",
     "text": [
      "{'Breast Cancer': {'holdout': {'RandomForestClassifier_none_holdout': {'mean_f1_score': 0.9400945172334849, 'dev_f1_score': 0.02525460709893497, 'mean_preprocess_time': 1.5974044799804688e-05, 'mean_train_time': 0.4443511486053467}, 'KNeighborsClassifier_none_holdout': {'mean_f1_score': 0.9088686487030012, 'dev_f1_score': 0.05216069485258424, 'mean_preprocess_time': 1.6260147094726563e-05, 'mean_train_time': 0.0034798145294189452}, 'LogisticRegression_none_holdout': {'mean_f1_score': 0.934550628372298, 'dev_f1_score': 0.05668806691293696, 'mean_preprocess_time': 1.621246337890625e-05, 'mean_train_time': 0.08342761993408203}, 'RandomForestClassifier_featureselection_holdout': {'mean_f1_score': 0.929861832226998, 'dev_f1_score': 0.01841502220135657, 'mean_preprocess_time': 0.16928439140319823, 'mean_train_time': 0.3445539951324463}, 'KNeighborsClassifier_featureselection_holdout': {'mean_f1_score': 0.9088686487030012, 'dev_f1_score': 0.05216069485258424, 'mean_preprocess_time': 0.1948610305786133, 'mean_train_time': 0.01029067039489746}, 'LogisticRegression_featureselection_holdout': {'mean_f1_score': 0.9294671134848616, 'dev_f1_score': 0.05149252095871012, 'mean_preprocess_time': 0.2582538604736328, 'mean_train_time': 0.12609333992004396}, 'RandomForestClassifier_scaler_holdout': {'mean_f1_score': 0.9398092507141707, 'dev_f1_score': 0.025747574175889878, 'mean_preprocess_time': 0.031958818435668945, 'mean_train_time': 0.5724817752838135}, 'KNeighborsClassifier_scaler_holdout': {'mean_f1_score': 0.9398555651496128, 'dev_f1_score': 0.04642038392296558, 'mean_preprocess_time': 0.013695859909057617, 'mean_train_time': 0.0005830764770507812}, 'LogisticRegression_scaler_holdout': {'mean_f1_score': 0.9750559805966844, 'dev_f1_score': 0.01585157571791931, 'mean_preprocess_time': 0.007711601257324219, 'mean_train_time': 0.019498348236083984}, 'RandomForestClassifier_all_holdout': {'mean_f1_score': 0.9348524513639586, 'dev_f1_score': 0.011860864108644011, 'mean_preprocess_time': 0.08966612815856934, 'mean_train_time': 0.2304713249206543}, 'KNeighborsClassifier_all_holdout': {'mean_f1_score': 0.9498458592391243, 'dev_f1_score': 0.0525584436275022, 'mean_preprocess_time': 0.08813314437866211, 'mean_train_time': 0.0007742404937744141}, 'LogisticRegression_all_holdout': {'mean_f1_score': 0.9850233708444343, 'dev_f1_score': 0.012228512698745196, 'mean_preprocess_time': 0.09128942489624023, 'mean_train_time': 0.009250116348266602}}, 'cv': {'RandomForestClassifier_none_cv': {'mean_f1_score': 0.9476374455080213, 'dev_f1_score': 0.03816443840440719, 'mean_preprocess_time': 1.5974044799804688e-05, 'mean_train_time': 0.19640555381774902}, 'KNeighborsClassifier_none_cv': {'mean_f1_score': 0.8972780260598272, 'dev_f1_score': 0.026125861673660485, 'mean_preprocess_time': 1.1157989501953124e-05, 'mean_train_time': 0.0016957759857177735}, 'LogisticRegression_none_cv': {'mean_f1_score': 0.9403165230055854, 'dev_f1_score': 0.028188251364530528, 'mean_preprocess_time': 1.7309188842773436e-05, 'mean_train_time': 0.05150961875915527}, 'RandomForestClassifier_featureselection_cv': {'mean_f1_score': 0.944145746199899, 'dev_f1_score': 0.029881050433530815, 'mean_preprocess_time': 0.11685199737548828, 'mean_train_time': 0.3291469097137451}, 'KNeighborsClassifier_featureselection_cv': {'mean_f1_score': 0.8972780260598272, 'dev_f1_score': 0.026125861673660485, 'mean_preprocess_time': 0.1279127597808838, 'mean_train_time': 0.0023774623870849608}, 'LogisticRegression_featureselection_cv': {'mean_f1_score': 0.9330943543004315, 'dev_f1_score': 0.02025935962477643, 'mean_preprocess_time': 0.19867339134216308, 'mean_train_time': 0.2260570526123047}, 'RandomForestClassifier_scaler_cv': {'mean_f1_score': 0.9405177150927064, 'dev_f1_score': 0.03917242148188075, 'mean_preprocess_time': 0.012616920471191406, 'mean_train_time': 0.36992926597595216}, 'KNeighborsClassifier_scaler_cv': {'mean_f1_score': 0.9610457697852768, 'dev_f1_score': 0.01349650746260067, 'mean_preprocess_time': 0.006537246704101563, 'mean_train_time': 0.0004851818084716797}, 'LogisticRegression_scaler_cv': {'mean_f1_score': 0.9720551946884326, 'dev_f1_score': 0.023671552046991288, 'mean_preprocess_time': 0.005328226089477539, 'mean_train_time': 0.011384963989257812}, 'RandomForestClassifier_all_cv': {'mean_f1_score': 0.9372401645011588, 'dev_f1_score': 0.03560016978621646, 'mean_preprocess_time': 0.26157097816467284, 'mean_train_time': 0.5848964214324951}, 'KNeighborsClassifier_all_cv': {'mean_f1_score': 0.9506538498144096, 'dev_f1_score': 0.020552043257245255, 'mean_preprocess_time': 0.3397566318511963, 'mean_train_time': 0.0019211292266845704}, 'LogisticRegression_all_cv': {'mean_f1_score': 0.9755076949668601, 'dev_f1_score': 0.0209643030464308, 'mean_preprocess_time': 0.16142635345458983, 'mean_train_time': 0.0541801929473877}}}, 'Loan': {'holdout': {'RandomForestClassifier_none_holdout': {'mean_f1_score': 0.792215202619495, 'dev_f1_score': 0.01331028839490771, 'mean_preprocess_time': 0.00020394325256347656, 'mean_train_time': 3.392500638961792}, 'KNeighborsClassifier_none_holdout': {'mean_f1_score': 0.2934466528881614, 'dev_f1_score': 0.013635090511983212, 'mean_preprocess_time': 0.0002739429473876953, 'mean_train_time': 0.030426883697509767}, 'LogisticRegression_none_holdout': {'mean_f1_score': 0.37026594410797803, 'dev_f1_score': 0.013638259761724421, 'mean_preprocess_time': 0.0014905929565429688, 'mean_train_time': 2.041202735900879}, 'RandomForestClassifier_featureselection_holdout': {'mean_f1_score': 0.8219525350319833, 'dev_f1_score': 0.02737960047735971, 'mean_preprocess_time': 1.3933957099914551, 'mean_train_time': 4.256863927841186}, 'KNeighborsClassifier_featureselection_holdout': {'mean_f1_score': 0.28612147062556764, 'dev_f1_score': 0.015924233910682362, 'mean_preprocess_time': 1.0075771808624268, 'mean_train_time': 0.018396282196044923}, 'LogisticRegression_featureselection_holdout': {'mean_f1_score': 0.35303313280140614, 'dev_f1_score': 0.005674530257601066, 'mean_preprocess_time': 1.1431485176086427, 'mean_train_time': 0.9754819869995117}, 'RandomForestClassifier_scaler_holdout': {'mean_f1_score': 0.7842509198710348, 'dev_f1_score': 0.015108451655263942, 'mean_preprocess_time': 0.04537878036499023, 'mean_train_time': 3.3606419563293457}, 'KNeighborsClassifier_scaler_holdout': {'mean_f1_score': 0.3423579519260148, 'dev_f1_score': 0.009652038395446203, 'mean_preprocess_time': 0.0489964485168457, 'mean_train_time': 0.010407781600952149}, 'LogisticRegression_scaler_holdout': {'mean_f1_score': 0.8531142136166506, 'dev_f1_score': 0.00621853722783088, 'mean_preprocess_time': 0.11243119239807128, 'mean_train_time': 2.416516351699829}, 'RandomForestClassifier_all_holdout': {'mean_f1_score': 0.8247822415910315, 'dev_f1_score': 0.021635530423730245, 'mean_preprocess_time': 2.510879707336426, 'mean_train_time': 4.569961977005005}, 'KNeighborsClassifier_all_holdout': {'mean_f1_score': 0.39577140840189773, 'dev_f1_score': 0.016955928850084716, 'mean_preprocess_time': 2.3608686923980713, 'mean_train_time': 0.032288312911987305}, 'LogisticRegression_all_holdout': {'mean_f1_score': 0.8637116911971209, 'dev_f1_score': 0.007584251603845528, 'mean_preprocess_time': 1.5164834976196289, 'mean_train_time': 1.8213117599487305}}, 'cv': {'RandomForestClassifier_none_cv': {'mean_f1_score': 0.8028980771925704, 'dev_f1_score': 0.013880249261260004, 'mean_preprocess_time': 0.0008430004119873047, 'mean_train_time': 8.454681348800658}, 'KNeighborsClassifier_none_cv': {'mean_f1_score': 0.29412655024846307, 'dev_f1_score': 0.01335947923532417, 'mean_preprocess_time': 0.0005742549896240234, 'mean_train_time': 0.023991823196411133}, 'LogisticRegression_none_cv': {'mean_f1_score': 0.3641397205599547, 'dev_f1_score': 0.011367997219625153, 'mean_preprocess_time': 0.0007512569427490234, 'mean_train_time': 3.20734281539917}, 'RandomForestClassifier_featureselection_cv': {'mean_f1_score': 0.835742479225088, 'dev_f1_score': 0.014689615403866787, 'mean_preprocess_time': 1.7753777980804444, 'mean_train_time': 6.235501337051391}, 'KNeighborsClassifier_featureselection_cv': {'mean_f1_score': 0.28691712722670354, 'dev_f1_score': 0.01042846188618546, 'mean_preprocess_time': 1.2180480480194091, 'mean_train_time': 0.017848777770996093}, 'LogisticRegression_featureselection_cv': {'mean_f1_score': 0.34295465785849105, 'dev_f1_score': 0.006989389805107684, 'mean_preprocess_time': 1.7549821376800536, 'mean_train_time': 2.4061810970306396}, 'RandomForestClassifier_scaler_cv': {'mean_f1_score': 0.7939903646677735, 'dev_f1_score': 0.009939395755087847, 'mean_preprocess_time': 0.09365625381469726, 'mean_train_time': 7.415435647964477}, 'KNeighborsClassifier_scaler_cv': {'mean_f1_score': 0.3364462520763356, 'dev_f1_score': 0.004434187906181834, 'mean_preprocess_time': 0.0622258186340332, 'mean_train_time': 0.016936349868774413}, 'LogisticRegression_scaler_cv': {'mean_f1_score': 0.8605861629642584, 'dev_f1_score': 0.009043238618211576, 'mean_preprocess_time': 0.0710373878479004, 'mean_train_time': 2.8214544296264648}, 'RandomForestClassifier_all_cv': {'mean_f1_score': 0.8381097331863593, 'dev_f1_score': 0.011183499410573863, 'mean_preprocess_time': 1.5879658222198487, 'mean_train_time': 6.056856346130371}, 'KNeighborsClassifier_all_cv': {'mean_f1_score': 0.4023538606481205, 'dev_f1_score': 0.005139593763513353, 'mean_preprocess_time': 1.104877233505249, 'mean_train_time': 0.015492534637451172}, 'LogisticRegression_all_cv': {'mean_f1_score': 0.8718845896220435, 'dev_f1_score': 0.008453310987035131, 'mean_preprocess_time': 1.122354793548584, 'mean_train_time': 1.1317689418792725}}}, 'Drug Consumption': {'holdout': {'RandomForestClassifier_none_holdout': {'mean_f1_score': 0.6149531207290955, 'dev_f1_score': 0.03927161218297164, 'mean_preprocess_time': 3.509521484375e-05, 'mean_train_time': 0.43128170967102053}, 'KNeighborsClassifier_none_holdout': {'mean_f1_score': 0.5452343519190316, 'dev_f1_score': 0.025018931894288814, 'mean_preprocess_time': 2.536773681640625e-05, 'mean_train_time': 0.0022676944732666015}, 'LogisticRegression_none_holdout': {'mean_f1_score': 0.5777983526058188, 'dev_f1_score': 0.007628845688689854, 'mean_preprocess_time': 2.9277801513671874e-05, 'mean_train_time': 0.14312219619750977}, 'RandomForestClassifier_featureselection_holdout': {'mean_f1_score': 0.6150760623872756, 'dev_f1_score': 0.037274243075621986, 'mean_preprocess_time': 0.1520930290222168, 'mean_train_time': 0.4565454006195068}, 'KNeighborsClassifier_featureselection_holdout': {'mean_f1_score': 0.5599832368036244, 'dev_f1_score': 0.021158288691668154, 'mean_preprocess_time': 0.14412431716918944, 'mean_train_time': 0.003055238723754883}, 'LogisticRegression_featureselection_holdout': {'mean_f1_score': 0.5825618839425576, 'dev_f1_score': 0.012029135008602533, 'mean_preprocess_time': 0.15266847610473633, 'mean_train_time': 0.426228666305542}, 'RandomForestClassifier_scaler_holdout': {'mean_f1_score': 0.6182488787287516, 'dev_f1_score': 0.04735753480060467, 'mean_preprocess_time': 0.012463188171386719, 'mean_train_time': 0.4391014099121094}, 'KNeighborsClassifier_scaler_holdout': {'mean_f1_score': 0.5362436205601983, 'dev_f1_score': 0.017050156594819114, 'mean_preprocess_time': 0.006504058837890625, 'mean_train_time': 0.00061798095703125}, 'LogisticRegression_scaler_holdout': {'mean_f1_score': 0.5762451891311448, 'dev_f1_score': 0.011279396390299762, 'mean_preprocess_time': 0.008051109313964844, 'mean_train_time': 0.12837667465209962}, 'RandomForestClassifier_all_holdout': {'mean_f1_score': 0.6196126516027263, 'dev_f1_score': 0.04600377452677819, 'mean_preprocess_time': 0.17627387046813964, 'mean_train_time': 0.6445052623748779}, 'KNeighborsClassifier_all_holdout': {'mean_f1_score': 0.5526725537278188, 'dev_f1_score': 0.02164314772151647, 'mean_preprocess_time': 0.13574585914611817, 'mean_train_time': 0.0006271839141845703}, 'LogisticRegression_all_holdout': {'mean_f1_score': 0.5791808336193459, 'dev_f1_score': 0.0099558869501082, 'mean_preprocess_time': 0.13232769966125488, 'mean_train_time': 0.25412883758544924}}, 'cv': {'RandomForestClassifier_none_cv': {'mean_f1_score': 0.6033162799246338, 'dev_f1_score': 0.02823811627342095, 'mean_preprocess_time': 1.4591217041015626e-05, 'mean_train_time': 0.53181471824646}, 'KNeighborsClassifier_none_cv': {'mean_f1_score': 0.5617721986446977, 'dev_f1_score': 0.02679002884592813, 'mean_preprocess_time': 1.9741058349609374e-05, 'mean_train_time': 0.002872610092163086}, 'LogisticRegression_none_cv': {'mean_f1_score': 0.5796389835875497, 'dev_f1_score': 0.037021115791394374, 'mean_preprocess_time': 2.3698806762695314e-05, 'mean_train_time': 0.20205202102661132}, 'RandomForestClassifier_featureselection_cv': {'mean_f1_score': 0.6106265296714208, 'dev_f1_score': 0.03315053372055948, 'mean_preprocess_time': 0.12483177185058594, 'mean_train_time': 0.5535071849822998}, 'KNeighborsClassifier_featureselection_cv': {'mean_f1_score': 0.5601632366624172, 'dev_f1_score': 0.025416900173863926, 'mean_preprocess_time': 0.23385143280029297, 'mean_train_time': 0.0059756278991699215}, 'LogisticRegression_featureselection_cv': {'mean_f1_score': 0.5812825808917068, 'dev_f1_score': 0.03398040236293332, 'mean_preprocess_time': 0.12647809982299804, 'mean_train_time': 0.4237980365753174}, 'RandomForestClassifier_scaler_cv': {'mean_f1_score': 0.617967446487618, 'dev_f1_score': 0.02240475633966179, 'mean_preprocess_time': 0.011284065246582032, 'mean_train_time': 0.5312396049499511}, 'KNeighborsClassifier_scaler_cv': {'mean_f1_score': 0.5444353672304828, 'dev_f1_score': 0.03741800096092165, 'mean_preprocess_time': 0.006262731552124023, 'mean_train_time': 0.001348733901977539}, 'LogisticRegression_scaler_cv': {'mean_f1_score': 0.5762128631328324, 'dev_f1_score': 0.029426630933348682, 'mean_preprocess_time': 0.0077378273010253905, 'mean_train_time': 0.18041882514953614}, 'RandomForestClassifier_all_cv': {'mean_f1_score': 0.6162855667472128, 'dev_f1_score': 0.02372856924724265, 'mean_preprocess_time': 0.1439955234527588, 'mean_train_time': 0.6763957500457763}, 'KNeighborsClassifier_all_cv': {'mean_f1_score': 0.547245436604606, 'dev_f1_score': 0.024853623033907316, 'mean_preprocess_time': 0.13913235664367676, 'mean_train_time': 0.001065540313720703}, 'LogisticRegression_all_cv': {'mean_f1_score': 0.5806827968516741, 'dev_f1_score': 0.03539546456730174, 'mean_preprocess_time': 0.31972332000732423, 'mean_train_time': 0.35326366424560546}}}, 'Bank Marketing': {'holdout': {'RandomForestClassifier_none_holdout': {'mean_f1_score': 0.8999722838765611, 'dev_f1_score': 0.00624981141249842, 'mean_preprocess_time': 0.0013770103454589845, 'mean_train_time': 6.946544408798218}, 'KNeighborsClassifier_none_holdout': {'mean_f1_score': 0.8868017545266251, 'dev_f1_score': 0.0051906376212210725, 'mean_preprocess_time': 0.00048580169677734373, 'mean_train_time': 0.005052995681762695}, 'LogisticRegression_none_holdout': {'mean_f1_score': 0.8686134828767852, 'dev_f1_score': 0.00614344033959003, 'mean_preprocess_time': 0.0003665447235107422, 'mean_train_time': 1.1717718124389649}, 'RandomForestClassifier_featureselection_holdout': {'mean_f1_score': 0.8979795473304927, 'dev_f1_score': 0.006654158410772532, 'mean_preprocess_time': 0.3721806049346924, 'mean_train_time': 8.583402967453003}, 'KNeighborsClassifier_featureselection_holdout': {'mean_f1_score': 0.8868017545266251, 'dev_f1_score': 0.0051906376212210725, 'mean_preprocess_time': 0.2294820785522461, 'mean_train_time': 0.007681512832641601}, 'LogisticRegression_featureselection_holdout': {'mean_f1_score': 0.8701500622099235, 'dev_f1_score': 0.007880197228441266, 'mean_preprocess_time': 0.2253242015838623, 'mean_train_time': 0.7325242042541504}, 'RandomForestClassifier_scaler_holdout': {'mean_f1_score': 0.9003549686818468, 'dev_f1_score': 0.005468374885958973, 'mean_preprocess_time': 0.03631715774536133, 'mean_train_time': 5.3079689025878904}, 'KNeighborsClassifier_scaler_holdout': {'mean_f1_score': 0.879771034299036, 'dev_f1_score': 0.003441336038759302, 'mean_preprocess_time': 0.04908518791198731, 'mean_train_time': 0.004803991317749024}, 'LogisticRegression_scaler_holdout': {'mean_f1_score': 0.8933714362110037, 'dev_f1_score': 0.005469425833191903, 'mean_preprocess_time': 0.041328716278076175, 'mean_train_time': 0.23684964179992676}, 'RandomForestClassifier_all_holdout': {'mean_f1_score': 0.8993781729135341, 'dev_f1_score': 0.005979580951390815, 'mean_preprocess_time': 0.3224306583404541, 'mean_train_time': 4.800438308715821}, 'KNeighborsClassifier_all_holdout': {'mean_f1_score': 0.8821442788107028, 'dev_f1_score': 0.005213500710905559, 'mean_preprocess_time': 0.2218597412109375, 'mean_train_time': 0.0033945560455322264}, 'LogisticRegression_all_holdout': {'mean_f1_score': 0.8932637273858755, 'dev_f1_score': 0.0055778182503499465, 'mean_preprocess_time': 0.2491173267364502, 'mean_train_time': 0.13802213668823243}}, 'cv': {'RandomForestClassifier_none_cv': {'mean_f1_score': 0.901916075291286, 'dev_f1_score': 0.0038267401498380867, 'mean_preprocess_time': 0.0021532535552978515, 'mean_train_time': 7.811490869522094}, 'KNeighborsClassifier_none_cv': {'mean_f1_score': 0.8906739543041187, 'dev_f1_score': 0.0037690451112556275, 'mean_preprocess_time': 0.00030074119567871096, 'mean_train_time': 0.005931997299194336}, 'LogisticRegression_none_cv': {'mean_f1_score': 0.8706152700561711, 'dev_f1_score': 0.0037867043881758197, 'mean_preprocess_time': 0.0008272647857666016, 'mean_train_time': 0.8437607765197754}, 'RandomForestClassifier_featureselection_cv': {'mean_f1_score': 0.9024643784480532, 'dev_f1_score': 0.004242144032351078, 'mean_preprocess_time': 0.226519775390625, 'mean_train_time': 5.65796480178833}, 'KNeighborsClassifier_featureselection_cv': {'mean_f1_score': 0.8906739543041187, 'dev_f1_score': 0.0037690451112556275, 'mean_preprocess_time': 0.22232561111450194, 'mean_train_time': 0.0061756610870361325}, 'LogisticRegression_featureselection_cv': {'mean_f1_score': 0.870410337514134, 'dev_f1_score': 0.003466142535038187, 'mean_preprocess_time': 0.38609619140625, 'mean_train_time': 1.4586034297943116}, 'RandomForestClassifier_scaler_cv': {'mean_f1_score': 0.903565674173722, 'dev_f1_score': 0.003306834487890088, 'mean_preprocess_time': 0.052122974395751955, 'mean_train_time': 8.409636402130127}, 'KNeighborsClassifier_scaler_cv': {'mean_f1_score': 0.8818600900164648, 'dev_f1_score': 0.004248439850475489, 'mean_preprocess_time': 0.05510358810424805, 'mean_train_time': 0.006819534301757813}, 'LogisticRegression_scaler_cv': {'mean_f1_score': 0.8929078910169712, 'dev_f1_score': 0.0022926992549915904, 'mean_preprocess_time': 0.06796913146972657, 'mean_train_time': 0.2708887100219727}, 'RandomForestClassifier_all_cv': {'mean_f1_score': 0.9028120821073788, 'dev_f1_score': 0.0041146566924506345, 'mean_preprocess_time': 0.38218026161193847, 'mean_train_time': 8.566661024093628}, 'KNeighborsClassifier_all_cv': {'mean_f1_score': 0.8836966305718947, 'dev_f1_score': 0.00410286279612083, 'mean_preprocess_time': 0.2210383892059326, 'mean_train_time': 0.004627656936645508}, 'LogisticRegression_all_cv': {'mean_f1_score': 0.893058040662433, 'dev_f1_score': 0.0023115261313963803, 'mean_preprocess_time': 0.27573537826538086, 'mean_train_time': 0.1450556755065918}}}}\n"
     ]
    }
   ],
   "source": [
    "print(final_results)"
   ]
  },
  {
   "attachments": {},
   "cell_type": "markdown",
   "metadata": {},
   "source": [
    "A new dataframe is created containing all the reported evaluations metrics. The source of the data is the final_results dict generated while training and predicting. The dataframe is easier to handle and enables \"faster\" plotting and navigation through the data. "
   ]
  },
  {
   "cell_type": "code",
   "execution_count": 323,
   "metadata": {},
   "outputs": [
    {
     "name": "stderr",
     "output_type": "stream",
     "text": [
      "/var/folders/34/j315sbz96lj27_fdyrhc1jp40000gn/T/ipykernel_34659/1299711243.py:15: FutureWarning: The frame.append method is deprecated and will be removed from pandas in a future version. Use pandas.concat instead.\n",
      "  data = data.append(row, ignore_index=True)\n",
      "/var/folders/34/j315sbz96lj27_fdyrhc1jp40000gn/T/ipykernel_34659/1299711243.py:15: FutureWarning: The frame.append method is deprecated and will be removed from pandas in a future version. Use pandas.concat instead.\n",
      "  data = data.append(row, ignore_index=True)\n",
      "/var/folders/34/j315sbz96lj27_fdyrhc1jp40000gn/T/ipykernel_34659/1299711243.py:15: FutureWarning: The frame.append method is deprecated and will be removed from pandas in a future version. Use pandas.concat instead.\n",
      "  data = data.append(row, ignore_index=True)\n",
      "/var/folders/34/j315sbz96lj27_fdyrhc1jp40000gn/T/ipykernel_34659/1299711243.py:15: FutureWarning: The frame.append method is deprecated and will be removed from pandas in a future version. Use pandas.concat instead.\n",
      "  data = data.append(row, ignore_index=True)\n",
      "/var/folders/34/j315sbz96lj27_fdyrhc1jp40000gn/T/ipykernel_34659/1299711243.py:15: FutureWarning: The frame.append method is deprecated and will be removed from pandas in a future version. Use pandas.concat instead.\n",
      "  data = data.append(row, ignore_index=True)\n",
      "/var/folders/34/j315sbz96lj27_fdyrhc1jp40000gn/T/ipykernel_34659/1299711243.py:15: FutureWarning: The frame.append method is deprecated and will be removed from pandas in a future version. Use pandas.concat instead.\n",
      "  data = data.append(row, ignore_index=True)\n",
      "/var/folders/34/j315sbz96lj27_fdyrhc1jp40000gn/T/ipykernel_34659/1299711243.py:15: FutureWarning: The frame.append method is deprecated and will be removed from pandas in a future version. Use pandas.concat instead.\n",
      "  data = data.append(row, ignore_index=True)\n",
      "/var/folders/34/j315sbz96lj27_fdyrhc1jp40000gn/T/ipykernel_34659/1299711243.py:15: FutureWarning: The frame.append method is deprecated and will be removed from pandas in a future version. Use pandas.concat instead.\n",
      "  data = data.append(row, ignore_index=True)\n",
      "/var/folders/34/j315sbz96lj27_fdyrhc1jp40000gn/T/ipykernel_34659/1299711243.py:15: FutureWarning: The frame.append method is deprecated and will be removed from pandas in a future version. Use pandas.concat instead.\n",
      "  data = data.append(row, ignore_index=True)\n",
      "/var/folders/34/j315sbz96lj27_fdyrhc1jp40000gn/T/ipykernel_34659/1299711243.py:15: FutureWarning: The frame.append method is deprecated and will be removed from pandas in a future version. Use pandas.concat instead.\n",
      "  data = data.append(row, ignore_index=True)\n",
      "/var/folders/34/j315sbz96lj27_fdyrhc1jp40000gn/T/ipykernel_34659/1299711243.py:15: FutureWarning: The frame.append method is deprecated and will be removed from pandas in a future version. Use pandas.concat instead.\n",
      "  data = data.append(row, ignore_index=True)\n",
      "/var/folders/34/j315sbz96lj27_fdyrhc1jp40000gn/T/ipykernel_34659/1299711243.py:15: FutureWarning: The frame.append method is deprecated and will be removed from pandas in a future version. Use pandas.concat instead.\n",
      "  data = data.append(row, ignore_index=True)\n",
      "/var/folders/34/j315sbz96lj27_fdyrhc1jp40000gn/T/ipykernel_34659/1299711243.py:15: FutureWarning: The frame.append method is deprecated and will be removed from pandas in a future version. Use pandas.concat instead.\n",
      "  data = data.append(row, ignore_index=True)\n",
      "/var/folders/34/j315sbz96lj27_fdyrhc1jp40000gn/T/ipykernel_34659/1299711243.py:15: FutureWarning: The frame.append method is deprecated and will be removed from pandas in a future version. Use pandas.concat instead.\n",
      "  data = data.append(row, ignore_index=True)\n",
      "/var/folders/34/j315sbz96lj27_fdyrhc1jp40000gn/T/ipykernel_34659/1299711243.py:15: FutureWarning: The frame.append method is deprecated and will be removed from pandas in a future version. Use pandas.concat instead.\n",
      "  data = data.append(row, ignore_index=True)\n",
      "/var/folders/34/j315sbz96lj27_fdyrhc1jp40000gn/T/ipykernel_34659/1299711243.py:15: FutureWarning: The frame.append method is deprecated and will be removed from pandas in a future version. Use pandas.concat instead.\n",
      "  data = data.append(row, ignore_index=True)\n",
      "/var/folders/34/j315sbz96lj27_fdyrhc1jp40000gn/T/ipykernel_34659/1299711243.py:15: FutureWarning: The frame.append method is deprecated and will be removed from pandas in a future version. Use pandas.concat instead.\n",
      "  data = data.append(row, ignore_index=True)\n",
      "/var/folders/34/j315sbz96lj27_fdyrhc1jp40000gn/T/ipykernel_34659/1299711243.py:15: FutureWarning: The frame.append method is deprecated and will be removed from pandas in a future version. Use pandas.concat instead.\n",
      "  data = data.append(row, ignore_index=True)\n",
      "/var/folders/34/j315sbz96lj27_fdyrhc1jp40000gn/T/ipykernel_34659/1299711243.py:15: FutureWarning: The frame.append method is deprecated and will be removed from pandas in a future version. Use pandas.concat instead.\n",
      "  data = data.append(row, ignore_index=True)\n",
      "/var/folders/34/j315sbz96lj27_fdyrhc1jp40000gn/T/ipykernel_34659/1299711243.py:15: FutureWarning: The frame.append method is deprecated and will be removed from pandas in a future version. Use pandas.concat instead.\n",
      "  data = data.append(row, ignore_index=True)\n",
      "/var/folders/34/j315sbz96lj27_fdyrhc1jp40000gn/T/ipykernel_34659/1299711243.py:15: FutureWarning: The frame.append method is deprecated and will be removed from pandas in a future version. Use pandas.concat instead.\n",
      "  data = data.append(row, ignore_index=True)\n",
      "/var/folders/34/j315sbz96lj27_fdyrhc1jp40000gn/T/ipykernel_34659/1299711243.py:15: FutureWarning: The frame.append method is deprecated and will be removed from pandas in a future version. Use pandas.concat instead.\n",
      "  data = data.append(row, ignore_index=True)\n",
      "/var/folders/34/j315sbz96lj27_fdyrhc1jp40000gn/T/ipykernel_34659/1299711243.py:15: FutureWarning: The frame.append method is deprecated and will be removed from pandas in a future version. Use pandas.concat instead.\n",
      "  data = data.append(row, ignore_index=True)\n",
      "/var/folders/34/j315sbz96lj27_fdyrhc1jp40000gn/T/ipykernel_34659/1299711243.py:15: FutureWarning: The frame.append method is deprecated and will be removed from pandas in a future version. Use pandas.concat instead.\n",
      "  data = data.append(row, ignore_index=True)\n",
      "/var/folders/34/j315sbz96lj27_fdyrhc1jp40000gn/T/ipykernel_34659/1299711243.py:15: FutureWarning: The frame.append method is deprecated and will be removed from pandas in a future version. Use pandas.concat instead.\n",
      "  data = data.append(row, ignore_index=True)\n",
      "/var/folders/34/j315sbz96lj27_fdyrhc1jp40000gn/T/ipykernel_34659/1299711243.py:15: FutureWarning: The frame.append method is deprecated and will be removed from pandas in a future version. Use pandas.concat instead.\n",
      "  data = data.append(row, ignore_index=True)\n",
      "/var/folders/34/j315sbz96lj27_fdyrhc1jp40000gn/T/ipykernel_34659/1299711243.py:15: FutureWarning: The frame.append method is deprecated and will be removed from pandas in a future version. Use pandas.concat instead.\n",
      "  data = data.append(row, ignore_index=True)\n",
      "/var/folders/34/j315sbz96lj27_fdyrhc1jp40000gn/T/ipykernel_34659/1299711243.py:15: FutureWarning: The frame.append method is deprecated and will be removed from pandas in a future version. Use pandas.concat instead.\n",
      "  data = data.append(row, ignore_index=True)\n",
      "/var/folders/34/j315sbz96lj27_fdyrhc1jp40000gn/T/ipykernel_34659/1299711243.py:15: FutureWarning: The frame.append method is deprecated and will be removed from pandas in a future version. Use pandas.concat instead.\n",
      "  data = data.append(row, ignore_index=True)\n",
      "/var/folders/34/j315sbz96lj27_fdyrhc1jp40000gn/T/ipykernel_34659/1299711243.py:15: FutureWarning: The frame.append method is deprecated and will be removed from pandas in a future version. Use pandas.concat instead.\n",
      "  data = data.append(row, ignore_index=True)\n",
      "/var/folders/34/j315sbz96lj27_fdyrhc1jp40000gn/T/ipykernel_34659/1299711243.py:15: FutureWarning: The frame.append method is deprecated and will be removed from pandas in a future version. Use pandas.concat instead.\n",
      "  data = data.append(row, ignore_index=True)\n",
      "/var/folders/34/j315sbz96lj27_fdyrhc1jp40000gn/T/ipykernel_34659/1299711243.py:15: FutureWarning: The frame.append method is deprecated and will be removed from pandas in a future version. Use pandas.concat instead.\n",
      "  data = data.append(row, ignore_index=True)\n",
      "/var/folders/34/j315sbz96lj27_fdyrhc1jp40000gn/T/ipykernel_34659/1299711243.py:15: FutureWarning: The frame.append method is deprecated and will be removed from pandas in a future version. Use pandas.concat instead.\n",
      "  data = data.append(row, ignore_index=True)\n",
      "/var/folders/34/j315sbz96lj27_fdyrhc1jp40000gn/T/ipykernel_34659/1299711243.py:15: FutureWarning: The frame.append method is deprecated and will be removed from pandas in a future version. Use pandas.concat instead.\n",
      "  data = data.append(row, ignore_index=True)\n",
      "/var/folders/34/j315sbz96lj27_fdyrhc1jp40000gn/T/ipykernel_34659/1299711243.py:15: FutureWarning: The frame.append method is deprecated and will be removed from pandas in a future version. Use pandas.concat instead.\n",
      "  data = data.append(row, ignore_index=True)\n",
      "/var/folders/34/j315sbz96lj27_fdyrhc1jp40000gn/T/ipykernel_34659/1299711243.py:15: FutureWarning: The frame.append method is deprecated and will be removed from pandas in a future version. Use pandas.concat instead.\n",
      "  data = data.append(row, ignore_index=True)\n",
      "/var/folders/34/j315sbz96lj27_fdyrhc1jp40000gn/T/ipykernel_34659/1299711243.py:15: FutureWarning: The frame.append method is deprecated and will be removed from pandas in a future version. Use pandas.concat instead.\n",
      "  data = data.append(row, ignore_index=True)\n",
      "/var/folders/34/j315sbz96lj27_fdyrhc1jp40000gn/T/ipykernel_34659/1299711243.py:15: FutureWarning: The frame.append method is deprecated and will be removed from pandas in a future version. Use pandas.concat instead.\n",
      "  data = data.append(row, ignore_index=True)\n",
      "/var/folders/34/j315sbz96lj27_fdyrhc1jp40000gn/T/ipykernel_34659/1299711243.py:15: FutureWarning: The frame.append method is deprecated and will be removed from pandas in a future version. Use pandas.concat instead.\n",
      "  data = data.append(row, ignore_index=True)\n",
      "/var/folders/34/j315sbz96lj27_fdyrhc1jp40000gn/T/ipykernel_34659/1299711243.py:15: FutureWarning: The frame.append method is deprecated and will be removed from pandas in a future version. Use pandas.concat instead.\n",
      "  data = data.append(row, ignore_index=True)\n",
      "/var/folders/34/j315sbz96lj27_fdyrhc1jp40000gn/T/ipykernel_34659/1299711243.py:15: FutureWarning: The frame.append method is deprecated and will be removed from pandas in a future version. Use pandas.concat instead.\n",
      "  data = data.append(row, ignore_index=True)\n",
      "/var/folders/34/j315sbz96lj27_fdyrhc1jp40000gn/T/ipykernel_34659/1299711243.py:15: FutureWarning: The frame.append method is deprecated and will be removed from pandas in a future version. Use pandas.concat instead.\n",
      "  data = data.append(row, ignore_index=True)\n",
      "/var/folders/34/j315sbz96lj27_fdyrhc1jp40000gn/T/ipykernel_34659/1299711243.py:15: FutureWarning: The frame.append method is deprecated and will be removed from pandas in a future version. Use pandas.concat instead.\n",
      "  data = data.append(row, ignore_index=True)\n",
      "/var/folders/34/j315sbz96lj27_fdyrhc1jp40000gn/T/ipykernel_34659/1299711243.py:15: FutureWarning: The frame.append method is deprecated and will be removed from pandas in a future version. Use pandas.concat instead.\n",
      "  data = data.append(row, ignore_index=True)\n",
      "/var/folders/34/j315sbz96lj27_fdyrhc1jp40000gn/T/ipykernel_34659/1299711243.py:15: FutureWarning: The frame.append method is deprecated and will be removed from pandas in a future version. Use pandas.concat instead.\n",
      "  data = data.append(row, ignore_index=True)\n",
      "/var/folders/34/j315sbz96lj27_fdyrhc1jp40000gn/T/ipykernel_34659/1299711243.py:15: FutureWarning: The frame.append method is deprecated and will be removed from pandas in a future version. Use pandas.concat instead.\n",
      "  data = data.append(row, ignore_index=True)\n",
      "/var/folders/34/j315sbz96lj27_fdyrhc1jp40000gn/T/ipykernel_34659/1299711243.py:15: FutureWarning: The frame.append method is deprecated and will be removed from pandas in a future version. Use pandas.concat instead.\n",
      "  data = data.append(row, ignore_index=True)\n",
      "/var/folders/34/j315sbz96lj27_fdyrhc1jp40000gn/T/ipykernel_34659/1299711243.py:15: FutureWarning: The frame.append method is deprecated and will be removed from pandas in a future version. Use pandas.concat instead.\n",
      "  data = data.append(row, ignore_index=True)\n",
      "/var/folders/34/j315sbz96lj27_fdyrhc1jp40000gn/T/ipykernel_34659/1299711243.py:15: FutureWarning: The frame.append method is deprecated and will be removed from pandas in a future version. Use pandas.concat instead.\n",
      "  data = data.append(row, ignore_index=True)\n",
      "/var/folders/34/j315sbz96lj27_fdyrhc1jp40000gn/T/ipykernel_34659/1299711243.py:15: FutureWarning: The frame.append method is deprecated and will be removed from pandas in a future version. Use pandas.concat instead.\n",
      "  data = data.append(row, ignore_index=True)\n",
      "/var/folders/34/j315sbz96lj27_fdyrhc1jp40000gn/T/ipykernel_34659/1299711243.py:15: FutureWarning: The frame.append method is deprecated and will be removed from pandas in a future version. Use pandas.concat instead.\n",
      "  data = data.append(row, ignore_index=True)\n",
      "/var/folders/34/j315sbz96lj27_fdyrhc1jp40000gn/T/ipykernel_34659/1299711243.py:15: FutureWarning: The frame.append method is deprecated and will be removed from pandas in a future version. Use pandas.concat instead.\n",
      "  data = data.append(row, ignore_index=True)\n",
      "/var/folders/34/j315sbz96lj27_fdyrhc1jp40000gn/T/ipykernel_34659/1299711243.py:15: FutureWarning: The frame.append method is deprecated and will be removed from pandas in a future version. Use pandas.concat instead.\n",
      "  data = data.append(row, ignore_index=True)\n",
      "/var/folders/34/j315sbz96lj27_fdyrhc1jp40000gn/T/ipykernel_34659/1299711243.py:15: FutureWarning: The frame.append method is deprecated and will be removed from pandas in a future version. Use pandas.concat instead.\n",
      "  data = data.append(row, ignore_index=True)\n",
      "/var/folders/34/j315sbz96lj27_fdyrhc1jp40000gn/T/ipykernel_34659/1299711243.py:15: FutureWarning: The frame.append method is deprecated and will be removed from pandas in a future version. Use pandas.concat instead.\n",
      "  data = data.append(row, ignore_index=True)\n",
      "/var/folders/34/j315sbz96lj27_fdyrhc1jp40000gn/T/ipykernel_34659/1299711243.py:15: FutureWarning: The frame.append method is deprecated and will be removed from pandas in a future version. Use pandas.concat instead.\n",
      "  data = data.append(row, ignore_index=True)\n",
      "/var/folders/34/j315sbz96lj27_fdyrhc1jp40000gn/T/ipykernel_34659/1299711243.py:15: FutureWarning: The frame.append method is deprecated and will be removed from pandas in a future version. Use pandas.concat instead.\n",
      "  data = data.append(row, ignore_index=True)\n",
      "/var/folders/34/j315sbz96lj27_fdyrhc1jp40000gn/T/ipykernel_34659/1299711243.py:15: FutureWarning: The frame.append method is deprecated and will be removed from pandas in a future version. Use pandas.concat instead.\n",
      "  data = data.append(row, ignore_index=True)\n",
      "/var/folders/34/j315sbz96lj27_fdyrhc1jp40000gn/T/ipykernel_34659/1299711243.py:15: FutureWarning: The frame.append method is deprecated and will be removed from pandas in a future version. Use pandas.concat instead.\n",
      "  data = data.append(row, ignore_index=True)\n",
      "/var/folders/34/j315sbz96lj27_fdyrhc1jp40000gn/T/ipykernel_34659/1299711243.py:15: FutureWarning: The frame.append method is deprecated and will be removed from pandas in a future version. Use pandas.concat instead.\n",
      "  data = data.append(row, ignore_index=True)\n",
      "/var/folders/34/j315sbz96lj27_fdyrhc1jp40000gn/T/ipykernel_34659/1299711243.py:15: FutureWarning: The frame.append method is deprecated and will be removed from pandas in a future version. Use pandas.concat instead.\n",
      "  data = data.append(row, ignore_index=True)\n",
      "/var/folders/34/j315sbz96lj27_fdyrhc1jp40000gn/T/ipykernel_34659/1299711243.py:15: FutureWarning: The frame.append method is deprecated and will be removed from pandas in a future version. Use pandas.concat instead.\n",
      "  data = data.append(row, ignore_index=True)\n",
      "/var/folders/34/j315sbz96lj27_fdyrhc1jp40000gn/T/ipykernel_34659/1299711243.py:15: FutureWarning: The frame.append method is deprecated and will be removed from pandas in a future version. Use pandas.concat instead.\n",
      "  data = data.append(row, ignore_index=True)\n",
      "/var/folders/34/j315sbz96lj27_fdyrhc1jp40000gn/T/ipykernel_34659/1299711243.py:15: FutureWarning: The frame.append method is deprecated and will be removed from pandas in a future version. Use pandas.concat instead.\n",
      "  data = data.append(row, ignore_index=True)\n",
      "/var/folders/34/j315sbz96lj27_fdyrhc1jp40000gn/T/ipykernel_34659/1299711243.py:15: FutureWarning: The frame.append method is deprecated and will be removed from pandas in a future version. Use pandas.concat instead.\n",
      "  data = data.append(row, ignore_index=True)\n",
      "/var/folders/34/j315sbz96lj27_fdyrhc1jp40000gn/T/ipykernel_34659/1299711243.py:15: FutureWarning: The frame.append method is deprecated and will be removed from pandas in a future version. Use pandas.concat instead.\n",
      "  data = data.append(row, ignore_index=True)\n",
      "/var/folders/34/j315sbz96lj27_fdyrhc1jp40000gn/T/ipykernel_34659/1299711243.py:15: FutureWarning: The frame.append method is deprecated and will be removed from pandas in a future version. Use pandas.concat instead.\n",
      "  data = data.append(row, ignore_index=True)\n",
      "/var/folders/34/j315sbz96lj27_fdyrhc1jp40000gn/T/ipykernel_34659/1299711243.py:15: FutureWarning: The frame.append method is deprecated and will be removed from pandas in a future version. Use pandas.concat instead.\n",
      "  data = data.append(row, ignore_index=True)\n",
      "/var/folders/34/j315sbz96lj27_fdyrhc1jp40000gn/T/ipykernel_34659/1299711243.py:15: FutureWarning: The frame.append method is deprecated and will be removed from pandas in a future version. Use pandas.concat instead.\n",
      "  data = data.append(row, ignore_index=True)\n",
      "/var/folders/34/j315sbz96lj27_fdyrhc1jp40000gn/T/ipykernel_34659/1299711243.py:15: FutureWarning: The frame.append method is deprecated and will be removed from pandas in a future version. Use pandas.concat instead.\n",
      "  data = data.append(row, ignore_index=True)\n",
      "/var/folders/34/j315sbz96lj27_fdyrhc1jp40000gn/T/ipykernel_34659/1299711243.py:15: FutureWarning: The frame.append method is deprecated and will be removed from pandas in a future version. Use pandas.concat instead.\n",
      "  data = data.append(row, ignore_index=True)\n",
      "/var/folders/34/j315sbz96lj27_fdyrhc1jp40000gn/T/ipykernel_34659/1299711243.py:15: FutureWarning: The frame.append method is deprecated and will be removed from pandas in a future version. Use pandas.concat instead.\n",
      "  data = data.append(row, ignore_index=True)\n",
      "/var/folders/34/j315sbz96lj27_fdyrhc1jp40000gn/T/ipykernel_34659/1299711243.py:15: FutureWarning: The frame.append method is deprecated and will be removed from pandas in a future version. Use pandas.concat instead.\n",
      "  data = data.append(row, ignore_index=True)\n",
      "/var/folders/34/j315sbz96lj27_fdyrhc1jp40000gn/T/ipykernel_34659/1299711243.py:15: FutureWarning: The frame.append method is deprecated and will be removed from pandas in a future version. Use pandas.concat instead.\n",
      "  data = data.append(row, ignore_index=True)\n",
      "/var/folders/34/j315sbz96lj27_fdyrhc1jp40000gn/T/ipykernel_34659/1299711243.py:15: FutureWarning: The frame.append method is deprecated and will be removed from pandas in a future version. Use pandas.concat instead.\n",
      "  data = data.append(row, ignore_index=True)\n",
      "/var/folders/34/j315sbz96lj27_fdyrhc1jp40000gn/T/ipykernel_34659/1299711243.py:15: FutureWarning: The frame.append method is deprecated and will be removed from pandas in a future version. Use pandas.concat instead.\n",
      "  data = data.append(row, ignore_index=True)\n",
      "/var/folders/34/j315sbz96lj27_fdyrhc1jp40000gn/T/ipykernel_34659/1299711243.py:15: FutureWarning: The frame.append method is deprecated and will be removed from pandas in a future version. Use pandas.concat instead.\n",
      "  data = data.append(row, ignore_index=True)\n",
      "/var/folders/34/j315sbz96lj27_fdyrhc1jp40000gn/T/ipykernel_34659/1299711243.py:15: FutureWarning: The frame.append method is deprecated and will be removed from pandas in a future version. Use pandas.concat instead.\n",
      "  data = data.append(row, ignore_index=True)\n",
      "/var/folders/34/j315sbz96lj27_fdyrhc1jp40000gn/T/ipykernel_34659/1299711243.py:15: FutureWarning: The frame.append method is deprecated and will be removed from pandas in a future version. Use pandas.concat instead.\n",
      "  data = data.append(row, ignore_index=True)\n",
      "/var/folders/34/j315sbz96lj27_fdyrhc1jp40000gn/T/ipykernel_34659/1299711243.py:15: FutureWarning: The frame.append method is deprecated and will be removed from pandas in a future version. Use pandas.concat instead.\n",
      "  data = data.append(row, ignore_index=True)\n",
      "/var/folders/34/j315sbz96lj27_fdyrhc1jp40000gn/T/ipykernel_34659/1299711243.py:15: FutureWarning: The frame.append method is deprecated and will be removed from pandas in a future version. Use pandas.concat instead.\n",
      "  data = data.append(row, ignore_index=True)\n",
      "/var/folders/34/j315sbz96lj27_fdyrhc1jp40000gn/T/ipykernel_34659/1299711243.py:15: FutureWarning: The frame.append method is deprecated and will be removed from pandas in a future version. Use pandas.concat instead.\n",
      "  data = data.append(row, ignore_index=True)\n",
      "/var/folders/34/j315sbz96lj27_fdyrhc1jp40000gn/T/ipykernel_34659/1299711243.py:15: FutureWarning: The frame.append method is deprecated and will be removed from pandas in a future version. Use pandas.concat instead.\n",
      "  data = data.append(row, ignore_index=True)\n",
      "/var/folders/34/j315sbz96lj27_fdyrhc1jp40000gn/T/ipykernel_34659/1299711243.py:15: FutureWarning: The frame.append method is deprecated and will be removed from pandas in a future version. Use pandas.concat instead.\n",
      "  data = data.append(row, ignore_index=True)\n",
      "/var/folders/34/j315sbz96lj27_fdyrhc1jp40000gn/T/ipykernel_34659/1299711243.py:15: FutureWarning: The frame.append method is deprecated and will be removed from pandas in a future version. Use pandas.concat instead.\n",
      "  data = data.append(row, ignore_index=True)\n",
      "/var/folders/34/j315sbz96lj27_fdyrhc1jp40000gn/T/ipykernel_34659/1299711243.py:15: FutureWarning: The frame.append method is deprecated and will be removed from pandas in a future version. Use pandas.concat instead.\n",
      "  data = data.append(row, ignore_index=True)\n",
      "/var/folders/34/j315sbz96lj27_fdyrhc1jp40000gn/T/ipykernel_34659/1299711243.py:15: FutureWarning: The frame.append method is deprecated and will be removed from pandas in a future version. Use pandas.concat instead.\n",
      "  data = data.append(row, ignore_index=True)\n",
      "/var/folders/34/j315sbz96lj27_fdyrhc1jp40000gn/T/ipykernel_34659/1299711243.py:15: FutureWarning: The frame.append method is deprecated and will be removed from pandas in a future version. Use pandas.concat instead.\n",
      "  data = data.append(row, ignore_index=True)\n",
      "/var/folders/34/j315sbz96lj27_fdyrhc1jp40000gn/T/ipykernel_34659/1299711243.py:15: FutureWarning: The frame.append method is deprecated and will be removed from pandas in a future version. Use pandas.concat instead.\n",
      "  data = data.append(row, ignore_index=True)\n",
      "/var/folders/34/j315sbz96lj27_fdyrhc1jp40000gn/T/ipykernel_34659/1299711243.py:15: FutureWarning: The frame.append method is deprecated and will be removed from pandas in a future version. Use pandas.concat instead.\n",
      "  data = data.append(row, ignore_index=True)\n",
      "/var/folders/34/j315sbz96lj27_fdyrhc1jp40000gn/T/ipykernel_34659/1299711243.py:15: FutureWarning: The frame.append method is deprecated and will be removed from pandas in a future version. Use pandas.concat instead.\n",
      "  data = data.append(row, ignore_index=True)\n",
      "/var/folders/34/j315sbz96lj27_fdyrhc1jp40000gn/T/ipykernel_34659/1299711243.py:15: FutureWarning: The frame.append method is deprecated and will be removed from pandas in a future version. Use pandas.concat instead.\n",
      "  data = data.append(row, ignore_index=True)\n",
      "/var/folders/34/j315sbz96lj27_fdyrhc1jp40000gn/T/ipykernel_34659/1299711243.py:15: FutureWarning: The frame.append method is deprecated and will be removed from pandas in a future version. Use pandas.concat instead.\n",
      "  data = data.append(row, ignore_index=True)\n",
      "/var/folders/34/j315sbz96lj27_fdyrhc1jp40000gn/T/ipykernel_34659/1299711243.py:15: FutureWarning: The frame.append method is deprecated and will be removed from pandas in a future version. Use pandas.concat instead.\n",
      "  data = data.append(row, ignore_index=True)\n",
      "/var/folders/34/j315sbz96lj27_fdyrhc1jp40000gn/T/ipykernel_34659/1299711243.py:15: FutureWarning: The frame.append method is deprecated and will be removed from pandas in a future version. Use pandas.concat instead.\n",
      "  data = data.append(row, ignore_index=True)\n",
      "/var/folders/34/j315sbz96lj27_fdyrhc1jp40000gn/T/ipykernel_34659/1299711243.py:15: FutureWarning: The frame.append method is deprecated and will be removed from pandas in a future version. Use pandas.concat instead.\n",
      "  data = data.append(row, ignore_index=True)\n"
     ]
    }
   ],
   "source": [
    "data = pd.DataFrame()\n",
    "\n",
    "for dataset, results in final_results.items():\n",
    "    for method, result in results.items():\n",
    "        for key, value in result.items():\n",
    "            row = {\n",
    "                'dataset': dataset,\n",
    "                'method': method,\n",
    "                'classifier': key,\n",
    "                'Mean F1-score': value['mean_f1_score'],\n",
    "                'Dev F1-score': value['dev_f1_score'],\n",
    "                'Mean Preprocess Time': value['mean_preprocess_time'],\n",
    "                'Mean Train Time': value['mean_train_time']\n",
    "            }\n",
    "            data = data.append(row, ignore_index=True)\n",
    "\n",
    "#data.head(50)"
   ]
  },
  {
   "cell_type": "code",
   "execution_count": 324,
   "metadata": {},
   "outputs": [],
   "source": [
    "data[['Classifier', 'Processing method', 'Spliting']] = data['classifier'].str.split('_', expand=True)\n",
    "data.drop('classifier', axis=1, inplace=True)\n",
    "\n",
    "#Reorder columns\n",
    "data = data[['dataset', 'Spliting', 'Classifier', 'Processing method',  'Mean F1-score', 'Dev F1-score', 'Mean Preprocess Time', 'Mean Train Time']]\n"
   ]
  },
  {
   "cell_type": "code",
   "execution_count": 325,
   "metadata": {},
   "outputs": [
    {
     "data": {
      "text/html": [
       "<div>\n",
       "<style scoped>\n",
       "    .dataframe tbody tr th:only-of-type {\n",
       "        vertical-align: middle;\n",
       "    }\n",
       "\n",
       "    .dataframe tbody tr th {\n",
       "        vertical-align: top;\n",
       "    }\n",
       "\n",
       "    .dataframe thead th {\n",
       "        text-align: right;\n",
       "    }\n",
       "</style>\n",
       "<table border=\"1\" class=\"dataframe\">\n",
       "  <thead>\n",
       "    <tr style=\"text-align: right;\">\n",
       "      <th></th>\n",
       "      <th>dataset</th>\n",
       "      <th>Spliting</th>\n",
       "      <th>Classifier</th>\n",
       "      <th>Processing method</th>\n",
       "      <th>Mean F1-score</th>\n",
       "      <th>Dev F1-score</th>\n",
       "      <th>Mean Preprocess Time</th>\n",
       "      <th>Mean Train Time</th>\n",
       "    </tr>\n",
       "  </thead>\n",
       "  <tbody>\n",
       "    <tr>\n",
       "      <th>35</th>\n",
       "      <td>Loan</td>\n",
       "      <td>holdout</td>\n",
       "      <td>LogisticRegression</td>\n",
       "      <td>all</td>\n",
       "      <td>0.863712</td>\n",
       "      <td>0.007584</td>\n",
       "      <td>1.516483</td>\n",
       "      <td>1.821312</td>\n",
       "    </tr>\n",
       "    <tr>\n",
       "      <th>32</th>\n",
       "      <td>Loan</td>\n",
       "      <td>holdout</td>\n",
       "      <td>LogisticRegression</td>\n",
       "      <td>scaler</td>\n",
       "      <td>0.853114</td>\n",
       "      <td>0.006219</td>\n",
       "      <td>0.112431</td>\n",
       "      <td>2.416516</td>\n",
       "    </tr>\n",
       "    <tr>\n",
       "      <th>33</th>\n",
       "      <td>Loan</td>\n",
       "      <td>holdout</td>\n",
       "      <td>RandomForestClassifier</td>\n",
       "      <td>all</td>\n",
       "      <td>0.824782</td>\n",
       "      <td>0.021636</td>\n",
       "      <td>2.510880</td>\n",
       "      <td>4.569962</td>\n",
       "    </tr>\n",
       "    <tr>\n",
       "      <th>27</th>\n",
       "      <td>Loan</td>\n",
       "      <td>holdout</td>\n",
       "      <td>RandomForestClassifier</td>\n",
       "      <td>featureselection</td>\n",
       "      <td>0.821953</td>\n",
       "      <td>0.027380</td>\n",
       "      <td>1.393396</td>\n",
       "      <td>4.256864</td>\n",
       "    </tr>\n",
       "    <tr>\n",
       "      <th>24</th>\n",
       "      <td>Loan</td>\n",
       "      <td>holdout</td>\n",
       "      <td>RandomForestClassifier</td>\n",
       "      <td>none</td>\n",
       "      <td>0.792215</td>\n",
       "      <td>0.013310</td>\n",
       "      <td>0.000204</td>\n",
       "      <td>3.392501</td>\n",
       "    </tr>\n",
       "    <tr>\n",
       "      <th>30</th>\n",
       "      <td>Loan</td>\n",
       "      <td>holdout</td>\n",
       "      <td>RandomForestClassifier</td>\n",
       "      <td>scaler</td>\n",
       "      <td>0.784251</td>\n",
       "      <td>0.015108</td>\n",
       "      <td>0.045379</td>\n",
       "      <td>3.360642</td>\n",
       "    </tr>\n",
       "    <tr>\n",
       "      <th>34</th>\n",
       "      <td>Loan</td>\n",
       "      <td>holdout</td>\n",
       "      <td>KNeighborsClassifier</td>\n",
       "      <td>all</td>\n",
       "      <td>0.395771</td>\n",
       "      <td>0.016956</td>\n",
       "      <td>2.360869</td>\n",
       "      <td>0.032288</td>\n",
       "    </tr>\n",
       "    <tr>\n",
       "      <th>26</th>\n",
       "      <td>Loan</td>\n",
       "      <td>holdout</td>\n",
       "      <td>LogisticRegression</td>\n",
       "      <td>none</td>\n",
       "      <td>0.370266</td>\n",
       "      <td>0.013638</td>\n",
       "      <td>0.001491</td>\n",
       "      <td>2.041203</td>\n",
       "    </tr>\n",
       "    <tr>\n",
       "      <th>29</th>\n",
       "      <td>Loan</td>\n",
       "      <td>holdout</td>\n",
       "      <td>LogisticRegression</td>\n",
       "      <td>featureselection</td>\n",
       "      <td>0.353033</td>\n",
       "      <td>0.005675</td>\n",
       "      <td>1.143149</td>\n",
       "      <td>0.975482</td>\n",
       "    </tr>\n",
       "    <tr>\n",
       "      <th>31</th>\n",
       "      <td>Loan</td>\n",
       "      <td>holdout</td>\n",
       "      <td>KNeighborsClassifier</td>\n",
       "      <td>scaler</td>\n",
       "      <td>0.342358</td>\n",
       "      <td>0.009652</td>\n",
       "      <td>0.048996</td>\n",
       "      <td>0.010408</td>\n",
       "    </tr>\n",
       "    <tr>\n",
       "      <th>25</th>\n",
       "      <td>Loan</td>\n",
       "      <td>holdout</td>\n",
       "      <td>KNeighborsClassifier</td>\n",
       "      <td>none</td>\n",
       "      <td>0.293447</td>\n",
       "      <td>0.013635</td>\n",
       "      <td>0.000274</td>\n",
       "      <td>0.030427</td>\n",
       "    </tr>\n",
       "    <tr>\n",
       "      <th>28</th>\n",
       "      <td>Loan</td>\n",
       "      <td>holdout</td>\n",
       "      <td>KNeighborsClassifier</td>\n",
       "      <td>featureselection</td>\n",
       "      <td>0.286121</td>\n",
       "      <td>0.015924</td>\n",
       "      <td>1.007577</td>\n",
       "      <td>0.018396</td>\n",
       "    </tr>\n",
       "    <tr>\n",
       "      <th>47</th>\n",
       "      <td>Loan</td>\n",
       "      <td>cv</td>\n",
       "      <td>LogisticRegression</td>\n",
       "      <td>all</td>\n",
       "      <td>0.871885</td>\n",
       "      <td>0.008453</td>\n",
       "      <td>1.122355</td>\n",
       "      <td>1.131769</td>\n",
       "    </tr>\n",
       "    <tr>\n",
       "      <th>44</th>\n",
       "      <td>Loan</td>\n",
       "      <td>cv</td>\n",
       "      <td>LogisticRegression</td>\n",
       "      <td>scaler</td>\n",
       "      <td>0.860586</td>\n",
       "      <td>0.009043</td>\n",
       "      <td>0.071037</td>\n",
       "      <td>2.821454</td>\n",
       "    </tr>\n",
       "    <tr>\n",
       "      <th>45</th>\n",
       "      <td>Loan</td>\n",
       "      <td>cv</td>\n",
       "      <td>RandomForestClassifier</td>\n",
       "      <td>all</td>\n",
       "      <td>0.838110</td>\n",
       "      <td>0.011183</td>\n",
       "      <td>1.587966</td>\n",
       "      <td>6.056856</td>\n",
       "    </tr>\n",
       "    <tr>\n",
       "      <th>39</th>\n",
       "      <td>Loan</td>\n",
       "      <td>cv</td>\n",
       "      <td>RandomForestClassifier</td>\n",
       "      <td>featureselection</td>\n",
       "      <td>0.835742</td>\n",
       "      <td>0.014690</td>\n",
       "      <td>1.775378</td>\n",
       "      <td>6.235501</td>\n",
       "    </tr>\n",
       "    <tr>\n",
       "      <th>36</th>\n",
       "      <td>Loan</td>\n",
       "      <td>cv</td>\n",
       "      <td>RandomForestClassifier</td>\n",
       "      <td>none</td>\n",
       "      <td>0.802898</td>\n",
       "      <td>0.013880</td>\n",
       "      <td>0.000843</td>\n",
       "      <td>8.454681</td>\n",
       "    </tr>\n",
       "    <tr>\n",
       "      <th>42</th>\n",
       "      <td>Loan</td>\n",
       "      <td>cv</td>\n",
       "      <td>RandomForestClassifier</td>\n",
       "      <td>scaler</td>\n",
       "      <td>0.793990</td>\n",
       "      <td>0.009939</td>\n",
       "      <td>0.093656</td>\n",
       "      <td>7.415436</td>\n",
       "    </tr>\n",
       "    <tr>\n",
       "      <th>46</th>\n",
       "      <td>Loan</td>\n",
       "      <td>cv</td>\n",
       "      <td>KNeighborsClassifier</td>\n",
       "      <td>all</td>\n",
       "      <td>0.402354</td>\n",
       "      <td>0.005140</td>\n",
       "      <td>1.104877</td>\n",
       "      <td>0.015493</td>\n",
       "    </tr>\n",
       "    <tr>\n",
       "      <th>38</th>\n",
       "      <td>Loan</td>\n",
       "      <td>cv</td>\n",
       "      <td>LogisticRegression</td>\n",
       "      <td>none</td>\n",
       "      <td>0.364140</td>\n",
       "      <td>0.011368</td>\n",
       "      <td>0.000751</td>\n",
       "      <td>3.207343</td>\n",
       "    </tr>\n",
       "    <tr>\n",
       "      <th>41</th>\n",
       "      <td>Loan</td>\n",
       "      <td>cv</td>\n",
       "      <td>LogisticRegression</td>\n",
       "      <td>featureselection</td>\n",
       "      <td>0.342955</td>\n",
       "      <td>0.006989</td>\n",
       "      <td>1.754982</td>\n",
       "      <td>2.406181</td>\n",
       "    </tr>\n",
       "    <tr>\n",
       "      <th>43</th>\n",
       "      <td>Loan</td>\n",
       "      <td>cv</td>\n",
       "      <td>KNeighborsClassifier</td>\n",
       "      <td>scaler</td>\n",
       "      <td>0.336446</td>\n",
       "      <td>0.004434</td>\n",
       "      <td>0.062226</td>\n",
       "      <td>0.016936</td>\n",
       "    </tr>\n",
       "    <tr>\n",
       "      <th>37</th>\n",
       "      <td>Loan</td>\n",
       "      <td>cv</td>\n",
       "      <td>KNeighborsClassifier</td>\n",
       "      <td>none</td>\n",
       "      <td>0.294127</td>\n",
       "      <td>0.013359</td>\n",
       "      <td>0.000574</td>\n",
       "      <td>0.023992</td>\n",
       "    </tr>\n",
       "    <tr>\n",
       "      <th>40</th>\n",
       "      <td>Loan</td>\n",
       "      <td>cv</td>\n",
       "      <td>KNeighborsClassifier</td>\n",
       "      <td>featureselection</td>\n",
       "      <td>0.286917</td>\n",
       "      <td>0.010428</td>\n",
       "      <td>1.218048</td>\n",
       "      <td>0.017849</td>\n",
       "    </tr>\n",
       "    <tr>\n",
       "      <th>57</th>\n",
       "      <td>Drug Consumption</td>\n",
       "      <td>holdout</td>\n",
       "      <td>RandomForestClassifier</td>\n",
       "      <td>all</td>\n",
       "      <td>0.619613</td>\n",
       "      <td>0.046004</td>\n",
       "      <td>0.176274</td>\n",
       "      <td>0.644505</td>\n",
       "    </tr>\n",
       "    <tr>\n",
       "      <th>54</th>\n",
       "      <td>Drug Consumption</td>\n",
       "      <td>holdout</td>\n",
       "      <td>RandomForestClassifier</td>\n",
       "      <td>scaler</td>\n",
       "      <td>0.618249</td>\n",
       "      <td>0.047358</td>\n",
       "      <td>0.012463</td>\n",
       "      <td>0.439101</td>\n",
       "    </tr>\n",
       "    <tr>\n",
       "      <th>51</th>\n",
       "      <td>Drug Consumption</td>\n",
       "      <td>holdout</td>\n",
       "      <td>RandomForestClassifier</td>\n",
       "      <td>featureselection</td>\n",
       "      <td>0.615076</td>\n",
       "      <td>0.037274</td>\n",
       "      <td>0.152093</td>\n",
       "      <td>0.456545</td>\n",
       "    </tr>\n",
       "    <tr>\n",
       "      <th>48</th>\n",
       "      <td>Drug Consumption</td>\n",
       "      <td>holdout</td>\n",
       "      <td>RandomForestClassifier</td>\n",
       "      <td>none</td>\n",
       "      <td>0.614953</td>\n",
       "      <td>0.039272</td>\n",
       "      <td>0.000035</td>\n",
       "      <td>0.431282</td>\n",
       "    </tr>\n",
       "    <tr>\n",
       "      <th>53</th>\n",
       "      <td>Drug Consumption</td>\n",
       "      <td>holdout</td>\n",
       "      <td>LogisticRegression</td>\n",
       "      <td>featureselection</td>\n",
       "      <td>0.582562</td>\n",
       "      <td>0.012029</td>\n",
       "      <td>0.152668</td>\n",
       "      <td>0.426229</td>\n",
       "    </tr>\n",
       "    <tr>\n",
       "      <th>59</th>\n",
       "      <td>Drug Consumption</td>\n",
       "      <td>holdout</td>\n",
       "      <td>LogisticRegression</td>\n",
       "      <td>all</td>\n",
       "      <td>0.579181</td>\n",
       "      <td>0.009956</td>\n",
       "      <td>0.132328</td>\n",
       "      <td>0.254129</td>\n",
       "    </tr>\n",
       "    <tr>\n",
       "      <th>50</th>\n",
       "      <td>Drug Consumption</td>\n",
       "      <td>holdout</td>\n",
       "      <td>LogisticRegression</td>\n",
       "      <td>none</td>\n",
       "      <td>0.577798</td>\n",
       "      <td>0.007629</td>\n",
       "      <td>0.000029</td>\n",
       "      <td>0.143122</td>\n",
       "    </tr>\n",
       "    <tr>\n",
       "      <th>56</th>\n",
       "      <td>Drug Consumption</td>\n",
       "      <td>holdout</td>\n",
       "      <td>LogisticRegression</td>\n",
       "      <td>scaler</td>\n",
       "      <td>0.576245</td>\n",
       "      <td>0.011279</td>\n",
       "      <td>0.008051</td>\n",
       "      <td>0.128377</td>\n",
       "    </tr>\n",
       "    <tr>\n",
       "      <th>52</th>\n",
       "      <td>Drug Consumption</td>\n",
       "      <td>holdout</td>\n",
       "      <td>KNeighborsClassifier</td>\n",
       "      <td>featureselection</td>\n",
       "      <td>0.559983</td>\n",
       "      <td>0.021158</td>\n",
       "      <td>0.144124</td>\n",
       "      <td>0.003055</td>\n",
       "    </tr>\n",
       "    <tr>\n",
       "      <th>58</th>\n",
       "      <td>Drug Consumption</td>\n",
       "      <td>holdout</td>\n",
       "      <td>KNeighborsClassifier</td>\n",
       "      <td>all</td>\n",
       "      <td>0.552673</td>\n",
       "      <td>0.021643</td>\n",
       "      <td>0.135746</td>\n",
       "      <td>0.000627</td>\n",
       "    </tr>\n",
       "    <tr>\n",
       "      <th>49</th>\n",
       "      <td>Drug Consumption</td>\n",
       "      <td>holdout</td>\n",
       "      <td>KNeighborsClassifier</td>\n",
       "      <td>none</td>\n",
       "      <td>0.545234</td>\n",
       "      <td>0.025019</td>\n",
       "      <td>0.000025</td>\n",
       "      <td>0.002268</td>\n",
       "    </tr>\n",
       "    <tr>\n",
       "      <th>55</th>\n",
       "      <td>Drug Consumption</td>\n",
       "      <td>holdout</td>\n",
       "      <td>KNeighborsClassifier</td>\n",
       "      <td>scaler</td>\n",
       "      <td>0.536244</td>\n",
       "      <td>0.017050</td>\n",
       "      <td>0.006504</td>\n",
       "      <td>0.000618</td>\n",
       "    </tr>\n",
       "    <tr>\n",
       "      <th>66</th>\n",
       "      <td>Drug Consumption</td>\n",
       "      <td>cv</td>\n",
       "      <td>RandomForestClassifier</td>\n",
       "      <td>scaler</td>\n",
       "      <td>0.617967</td>\n",
       "      <td>0.022405</td>\n",
       "      <td>0.011284</td>\n",
       "      <td>0.531240</td>\n",
       "    </tr>\n",
       "    <tr>\n",
       "      <th>69</th>\n",
       "      <td>Drug Consumption</td>\n",
       "      <td>cv</td>\n",
       "      <td>RandomForestClassifier</td>\n",
       "      <td>all</td>\n",
       "      <td>0.616286</td>\n",
       "      <td>0.023729</td>\n",
       "      <td>0.143996</td>\n",
       "      <td>0.676396</td>\n",
       "    </tr>\n",
       "    <tr>\n",
       "      <th>63</th>\n",
       "      <td>Drug Consumption</td>\n",
       "      <td>cv</td>\n",
       "      <td>RandomForestClassifier</td>\n",
       "      <td>featureselection</td>\n",
       "      <td>0.610627</td>\n",
       "      <td>0.033151</td>\n",
       "      <td>0.124832</td>\n",
       "      <td>0.553507</td>\n",
       "    </tr>\n",
       "    <tr>\n",
       "      <th>60</th>\n",
       "      <td>Drug Consumption</td>\n",
       "      <td>cv</td>\n",
       "      <td>RandomForestClassifier</td>\n",
       "      <td>none</td>\n",
       "      <td>0.603316</td>\n",
       "      <td>0.028238</td>\n",
       "      <td>0.000015</td>\n",
       "      <td>0.531815</td>\n",
       "    </tr>\n",
       "    <tr>\n",
       "      <th>65</th>\n",
       "      <td>Drug Consumption</td>\n",
       "      <td>cv</td>\n",
       "      <td>LogisticRegression</td>\n",
       "      <td>featureselection</td>\n",
       "      <td>0.581283</td>\n",
       "      <td>0.033980</td>\n",
       "      <td>0.126478</td>\n",
       "      <td>0.423798</td>\n",
       "    </tr>\n",
       "    <tr>\n",
       "      <th>71</th>\n",
       "      <td>Drug Consumption</td>\n",
       "      <td>cv</td>\n",
       "      <td>LogisticRegression</td>\n",
       "      <td>all</td>\n",
       "      <td>0.580683</td>\n",
       "      <td>0.035395</td>\n",
       "      <td>0.319723</td>\n",
       "      <td>0.353264</td>\n",
       "    </tr>\n",
       "    <tr>\n",
       "      <th>62</th>\n",
       "      <td>Drug Consumption</td>\n",
       "      <td>cv</td>\n",
       "      <td>LogisticRegression</td>\n",
       "      <td>none</td>\n",
       "      <td>0.579639</td>\n",
       "      <td>0.037021</td>\n",
       "      <td>0.000024</td>\n",
       "      <td>0.202052</td>\n",
       "    </tr>\n",
       "    <tr>\n",
       "      <th>68</th>\n",
       "      <td>Drug Consumption</td>\n",
       "      <td>cv</td>\n",
       "      <td>LogisticRegression</td>\n",
       "      <td>scaler</td>\n",
       "      <td>0.576213</td>\n",
       "      <td>0.029427</td>\n",
       "      <td>0.007738</td>\n",
       "      <td>0.180419</td>\n",
       "    </tr>\n",
       "    <tr>\n",
       "      <th>61</th>\n",
       "      <td>Drug Consumption</td>\n",
       "      <td>cv</td>\n",
       "      <td>KNeighborsClassifier</td>\n",
       "      <td>none</td>\n",
       "      <td>0.561772</td>\n",
       "      <td>0.026790</td>\n",
       "      <td>0.000020</td>\n",
       "      <td>0.002873</td>\n",
       "    </tr>\n",
       "    <tr>\n",
       "      <th>64</th>\n",
       "      <td>Drug Consumption</td>\n",
       "      <td>cv</td>\n",
       "      <td>KNeighborsClassifier</td>\n",
       "      <td>featureselection</td>\n",
       "      <td>0.560163</td>\n",
       "      <td>0.025417</td>\n",
       "      <td>0.233851</td>\n",
       "      <td>0.005976</td>\n",
       "    </tr>\n",
       "    <tr>\n",
       "      <th>70</th>\n",
       "      <td>Drug Consumption</td>\n",
       "      <td>cv</td>\n",
       "      <td>KNeighborsClassifier</td>\n",
       "      <td>all</td>\n",
       "      <td>0.547245</td>\n",
       "      <td>0.024854</td>\n",
       "      <td>0.139132</td>\n",
       "      <td>0.001066</td>\n",
       "    </tr>\n",
       "    <tr>\n",
       "      <th>67</th>\n",
       "      <td>Drug Consumption</td>\n",
       "      <td>cv</td>\n",
       "      <td>KNeighborsClassifier</td>\n",
       "      <td>scaler</td>\n",
       "      <td>0.544435</td>\n",
       "      <td>0.037418</td>\n",
       "      <td>0.006263</td>\n",
       "      <td>0.001349</td>\n",
       "    </tr>\n",
       "    <tr>\n",
       "      <th>11</th>\n",
       "      <td>Breast Cancer</td>\n",
       "      <td>holdout</td>\n",
       "      <td>LogisticRegression</td>\n",
       "      <td>all</td>\n",
       "      <td>0.985023</td>\n",
       "      <td>0.012229</td>\n",
       "      <td>0.091289</td>\n",
       "      <td>0.009250</td>\n",
       "    </tr>\n",
       "  </tbody>\n",
       "</table>\n",
       "</div>"
      ],
      "text/plain": [
       "             dataset Spliting              Classifier Processing method  \\\n",
       "35              Loan  holdout      LogisticRegression               all   \n",
       "32              Loan  holdout      LogisticRegression            scaler   \n",
       "33              Loan  holdout  RandomForestClassifier               all   \n",
       "27              Loan  holdout  RandomForestClassifier  featureselection   \n",
       "24              Loan  holdout  RandomForestClassifier              none   \n",
       "30              Loan  holdout  RandomForestClassifier            scaler   \n",
       "34              Loan  holdout    KNeighborsClassifier               all   \n",
       "26              Loan  holdout      LogisticRegression              none   \n",
       "29              Loan  holdout      LogisticRegression  featureselection   \n",
       "31              Loan  holdout    KNeighborsClassifier            scaler   \n",
       "25              Loan  holdout    KNeighborsClassifier              none   \n",
       "28              Loan  holdout    KNeighborsClassifier  featureselection   \n",
       "47              Loan       cv      LogisticRegression               all   \n",
       "44              Loan       cv      LogisticRegression            scaler   \n",
       "45              Loan       cv  RandomForestClassifier               all   \n",
       "39              Loan       cv  RandomForestClassifier  featureselection   \n",
       "36              Loan       cv  RandomForestClassifier              none   \n",
       "42              Loan       cv  RandomForestClassifier            scaler   \n",
       "46              Loan       cv    KNeighborsClassifier               all   \n",
       "38              Loan       cv      LogisticRegression              none   \n",
       "41              Loan       cv      LogisticRegression  featureselection   \n",
       "43              Loan       cv    KNeighborsClassifier            scaler   \n",
       "37              Loan       cv    KNeighborsClassifier              none   \n",
       "40              Loan       cv    KNeighborsClassifier  featureselection   \n",
       "57  Drug Consumption  holdout  RandomForestClassifier               all   \n",
       "54  Drug Consumption  holdout  RandomForestClassifier            scaler   \n",
       "51  Drug Consumption  holdout  RandomForestClassifier  featureselection   \n",
       "48  Drug Consumption  holdout  RandomForestClassifier              none   \n",
       "53  Drug Consumption  holdout      LogisticRegression  featureselection   \n",
       "59  Drug Consumption  holdout      LogisticRegression               all   \n",
       "50  Drug Consumption  holdout      LogisticRegression              none   \n",
       "56  Drug Consumption  holdout      LogisticRegression            scaler   \n",
       "52  Drug Consumption  holdout    KNeighborsClassifier  featureselection   \n",
       "58  Drug Consumption  holdout    KNeighborsClassifier               all   \n",
       "49  Drug Consumption  holdout    KNeighborsClassifier              none   \n",
       "55  Drug Consumption  holdout    KNeighborsClassifier            scaler   \n",
       "66  Drug Consumption       cv  RandomForestClassifier            scaler   \n",
       "69  Drug Consumption       cv  RandomForestClassifier               all   \n",
       "63  Drug Consumption       cv  RandomForestClassifier  featureselection   \n",
       "60  Drug Consumption       cv  RandomForestClassifier              none   \n",
       "65  Drug Consumption       cv      LogisticRegression  featureselection   \n",
       "71  Drug Consumption       cv      LogisticRegression               all   \n",
       "62  Drug Consumption       cv      LogisticRegression              none   \n",
       "68  Drug Consumption       cv      LogisticRegression            scaler   \n",
       "61  Drug Consumption       cv    KNeighborsClassifier              none   \n",
       "64  Drug Consumption       cv    KNeighborsClassifier  featureselection   \n",
       "70  Drug Consumption       cv    KNeighborsClassifier               all   \n",
       "67  Drug Consumption       cv    KNeighborsClassifier            scaler   \n",
       "11     Breast Cancer  holdout      LogisticRegression               all   \n",
       "\n",
       "    Mean F1-score  Dev F1-score  Mean Preprocess Time  Mean Train Time  \n",
       "35       0.863712      0.007584              1.516483         1.821312  \n",
       "32       0.853114      0.006219              0.112431         2.416516  \n",
       "33       0.824782      0.021636              2.510880         4.569962  \n",
       "27       0.821953      0.027380              1.393396         4.256864  \n",
       "24       0.792215      0.013310              0.000204         3.392501  \n",
       "30       0.784251      0.015108              0.045379         3.360642  \n",
       "34       0.395771      0.016956              2.360869         0.032288  \n",
       "26       0.370266      0.013638              0.001491         2.041203  \n",
       "29       0.353033      0.005675              1.143149         0.975482  \n",
       "31       0.342358      0.009652              0.048996         0.010408  \n",
       "25       0.293447      0.013635              0.000274         0.030427  \n",
       "28       0.286121      0.015924              1.007577         0.018396  \n",
       "47       0.871885      0.008453              1.122355         1.131769  \n",
       "44       0.860586      0.009043              0.071037         2.821454  \n",
       "45       0.838110      0.011183              1.587966         6.056856  \n",
       "39       0.835742      0.014690              1.775378         6.235501  \n",
       "36       0.802898      0.013880              0.000843         8.454681  \n",
       "42       0.793990      0.009939              0.093656         7.415436  \n",
       "46       0.402354      0.005140              1.104877         0.015493  \n",
       "38       0.364140      0.011368              0.000751         3.207343  \n",
       "41       0.342955      0.006989              1.754982         2.406181  \n",
       "43       0.336446      0.004434              0.062226         0.016936  \n",
       "37       0.294127      0.013359              0.000574         0.023992  \n",
       "40       0.286917      0.010428              1.218048         0.017849  \n",
       "57       0.619613      0.046004              0.176274         0.644505  \n",
       "54       0.618249      0.047358              0.012463         0.439101  \n",
       "51       0.615076      0.037274              0.152093         0.456545  \n",
       "48       0.614953      0.039272              0.000035         0.431282  \n",
       "53       0.582562      0.012029              0.152668         0.426229  \n",
       "59       0.579181      0.009956              0.132328         0.254129  \n",
       "50       0.577798      0.007629              0.000029         0.143122  \n",
       "56       0.576245      0.011279              0.008051         0.128377  \n",
       "52       0.559983      0.021158              0.144124         0.003055  \n",
       "58       0.552673      0.021643              0.135746         0.000627  \n",
       "49       0.545234      0.025019              0.000025         0.002268  \n",
       "55       0.536244      0.017050              0.006504         0.000618  \n",
       "66       0.617967      0.022405              0.011284         0.531240  \n",
       "69       0.616286      0.023729              0.143996         0.676396  \n",
       "63       0.610627      0.033151              0.124832         0.553507  \n",
       "60       0.603316      0.028238              0.000015         0.531815  \n",
       "65       0.581283      0.033980              0.126478         0.423798  \n",
       "71       0.580683      0.035395              0.319723         0.353264  \n",
       "62       0.579639      0.037021              0.000024         0.202052  \n",
       "68       0.576213      0.029427              0.007738         0.180419  \n",
       "61       0.561772      0.026790              0.000020         0.002873  \n",
       "64       0.560163      0.025417              0.233851         0.005976  \n",
       "70       0.547245      0.024854              0.139132         0.001066  \n",
       "67       0.544435      0.037418              0.006263         0.001349  \n",
       "11       0.985023      0.012229              0.091289         0.009250  "
      ]
     },
     "execution_count": 325,
     "metadata": {},
     "output_type": "execute_result"
    }
   ],
   "source": [
    "#Sort by F1-score\n",
    "#Set index to dataset\n",
    "#data.set_index('dataset', inplace=True)\n",
    "data.sort_values(by=['dataset','Spliting','Mean F1-score'], ascending=False, inplace=True)\n",
    "data.head(49)"
   ]
  },
  {
   "cell_type": "code",
   "execution_count": 326,
   "metadata": {},
   "outputs": [
    {
     "data": {
      "image/png": "[encoded data removed]",
      "text/plain": [
       "<Figure size 720x360 with 1 Axes>"
      ]
     },
     "metadata": {
      "needs_background": "light"
     },
     "output_type": "display_data"
    }
   ],
   "source": [
    "#For each dataset, plot the average F1-score for each classifier, two different bars for each dataset\n",
    "data.groupby(['dataset', 'Classifier'])['Mean F1-score'].mean().unstack().plot(kind='bar', figsize=(10,5))\n",
    "plt.title('Mean F1-score by classifier across data sets')\n",
    "plt.ylabel('F1-score')\n",
    "plt.xlabel('Data sets')\n",
    "plt.show()\n",
    "\n",
    "    "
   ]
  },
  {
   "cell_type": "code",
   "execution_count": 327,
   "metadata": {},
   "outputs": [
    {
     "data": {
      "image/png": "[encoded data removed]",
      "text/plain": [
       "<Figure size 720x360 with 1 Axes>"
      ]
     },
     "metadata": {
      "needs_background": "light"
     },
     "output_type": "display_data"
    }
   ],
   "source": [
    "#For each dataset, plot the average F1-score for each classifier, two different bars for each dataset\n",
    "data.groupby(['dataset', 'Spliting'])['Mean F1-score'].mean().unstack().plot(kind='bar', figsize=(10,5))\n",
    "plt.title('Mean F1-score by validation strategy')\n",
    "plt.ylabel('F1-score')\n",
    "plt.xlabel('Data sets')\n",
    "plt.show()\n"
   ]
  },
  {
   "cell_type": "code",
   "execution_count": 328,
   "metadata": {},
   "outputs": [
    {
     "data": {
      "image/png": "[encoded data removed]",
      "text/plain": [
       "<Figure size 720x360 with 1 Axes>"
      ]
     },
     "metadata": {
      "needs_background": "light"
     },
     "output_type": "display_data"
    }
   ],
   "source": [
    "data.groupby(['dataset', 'Classifier'])['Mean F1-score'].mean().unstack().plot(kind='bar', figsize=(10,5))\n",
    "plt.title('Mean F1-score by data sets and classifier')\n",
    "plt.ylabel('F1-score')\n",
    "plt.xlabel('Data sets')\n",
    "plt.show()"
   ]
  },
  {
   "cell_type": "code",
   "execution_count": 329,
   "metadata": {},
   "outputs": [
    {
     "data": {
      "image/png": "[encoded data removed]",
      "text/plain": [
       "<Figure size 720x360 with 1 Axes>"
      ]
     },
     "metadata": {
      "needs_background": "light"
     },
     "output_type": "display_data"
    }
   ],
   "source": [
    "#Log the train time\n",
    "#data['Mean Train Time'] = -np.log(data['Mean Train Time'])\n",
    "\n",
    "#Adjust the y axis to log scale\n",
    "data.groupby(['dataset', 'Classifier'])['Mean Train Time'].mean().unstack().plot(kind='bar', align='edge', figsize=(10,5))\n",
    "plt.title('Mean Train Time by data sets and classifier')\n",
    "plt.ylabel('Train Time')\n",
    "plt.xlabel('Data sets')\n",
    "plt.yscale('symlog', linthresh=0.01)\n",
    "plt.ylim(0, 10)\n",
    "plt.show()\n",
    "\n"
   ]
  },
  {
   "cell_type": "code",
   "execution_count": 330,
   "metadata": {},
   "outputs": [
    {
     "data": {
      "image/png": "[encoded data removed]",
      "text/plain": [
       "<Figure size 720x360 with 1 Axes>"
      ]
     },
     "metadata": {
      "needs_background": "light"
     },
     "output_type": "display_data"
    }
   ],
   "source": [
    "#Plot only training time for \"processing method\", one bar where \"processing method\" is \"none\" and one bar where \"processing method\" is \"all\"\n",
    "#Exclude \"random forest\" from the plot\n",
    "#data[data['Classifier'] != 'RandomForestClassifier'].groupby(['Processing method', 'Spliting'])['Mean Train Time'].mean().unstack().plot(kind='bar', figsize=(10,5))\n",
    "data.groupby(['Processing method', 'Spliting'])['Mean Train Time'].mean().unstack().plot(kind='bar', figsize=(10,5))\n",
    "\n",
    "plt.title('Mean training time by processing method and spliting strategy')\n",
    "plt.ylabel('Average training time')\n",
    "plt.xlabel('Processing method')\n",
    "plt.show()\n"
   ]
  },
  {
   "cell_type": "code",
   "execution_count": 331,
   "metadata": {},
   "outputs": [
    {
     "data": {
      "image/png": "[encoded data removed]",
      "text/plain": [
       "<Figure size 720x360 with 1 Axes>"
      ]
     },
     "metadata": {
      "needs_background": "light"
     },
     "output_type": "display_data"
    }
   ],
   "source": [
    "#Compare the preprocessing steps, each bar one category of preprocessing\n",
    "data.groupby(['Processing method', 'Spliting'])['Mean F1-score'].mean().unstack().plot(kind='bar', figsize=(10,5))\n",
    "plt.title('Mean F1-score by preprocessing method and spliting strategy')\n",
    "plt.ylabel('F1-score')\n",
    "plt.xlabel('Preprocessing methods')\n",
    "plt.show()\n"
   ]
  },
  {
   "cell_type": "code",
   "execution_count": 332,
   "metadata": {},
   "outputs": [
    {
     "data": {
      "text/html": [
       "<div>\n",
       "<style scoped>\n",
       "    .dataframe tbody tr th:only-of-type {\n",
       "        vertical-align: middle;\n",
       "    }\n",
       "\n",
       "    .dataframe tbody tr th {\n",
       "        vertical-align: top;\n",
       "    }\n",
       "\n",
       "    .dataframe thead th {\n",
       "        text-align: right;\n",
       "    }\n",
       "</style>\n",
       "<table border=\"1\" class=\"dataframe\">\n",
       "  <thead>\n",
       "    <tr style=\"text-align: right;\">\n",
       "      <th></th>\n",
       "      <th>dataset</th>\n",
       "      <th>Spliting</th>\n",
       "      <th>Classifier</th>\n",
       "      <th>Processing method</th>\n",
       "      <th>Mean F1-score</th>\n",
       "      <th>Dev F1-score</th>\n",
       "      <th>Mean Preprocess Time</th>\n",
       "      <th>Mean Train Time</th>\n",
       "    </tr>\n",
       "  </thead>\n",
       "  <tbody>\n",
       "    <tr>\n",
       "      <th>47</th>\n",
       "      <td>Loan</td>\n",
       "      <td>cv</td>\n",
       "      <td>LogisticRegression</td>\n",
       "      <td>all</td>\n",
       "      <td>0.871885</td>\n",
       "      <td>0.008453</td>\n",
       "      <td>1.122355</td>\n",
       "      <td>1.131769</td>\n",
       "    </tr>\n",
       "  </tbody>\n",
       "</table>\n",
       "</div>"
      ],
      "text/plain": [
       "   dataset Spliting          Classifier Processing method  Mean F1-score  \\\n",
       "47    Loan       cv  LogisticRegression               all       0.871885   \n",
       "\n",
       "    Dev F1-score  Mean Preprocess Time  Mean Train Time  \n",
       "47      0.008453              1.122355         1.131769  "
      ]
     },
     "execution_count": 332,
     "metadata": {},
     "output_type": "execute_result"
    }
   ],
   "source": [
    "#When data set==Loan, select the highest F1-score with spliting strategy==holdout\n",
    "data[(data['dataset'] == 'Loan') & (data['Spliting'] == 'holdout')].sort_values(by=['Mean F1-score'], ascending=False).head(1)\n",
    "data[(data['dataset'] == 'Loan') & (data['Spliting'] == 'cv')].sort_values(by=['Mean F1-score'], ascending=False).head(1)\n",
    "\n"
   ]
  },
  {
   "cell_type": "code",
   "execution_count": 333,
   "metadata": {},
   "outputs": [
    {
     "data": {
      "image/png": "[encoded data removed]",
      "text/plain": [
       "<Figure size 720x360 with 1 Axes>"
      ]
     },
     "metadata": {
      "needs_background": "light"
     },
     "output_type": "display_data"
    }
   ],
   "source": [
    "#Compare the preprocessing steps, each bar one category of preprocessing\n",
    "\n",
    "data.groupby(['dataset', 'Processing method'])['Mean F1-score'].mean().unstack().plot(kind='bar', figsize=(10,5))\n",
    "plt.title('Mean F1-score by preprocessing method across the data sets')\n",
    "plt.ylabel('F1-score')\n",
    "plt.xlabel('Data sets')\n",
    "plt.legend(bbox_to_anchor=(1.05, 1), loc='upper left', borderaxespad=0.)\n",
    "plt.show()\n",
    "\n"
   ]
  },
  {
   "cell_type": "code",
   "execution_count": 334,
   "metadata": {},
   "outputs": [
    {
     "data": {
      "text/plain": [
       "Text(0, 0.5, 'Dev F1-score')"
      ]
     },
     "execution_count": 334,
     "metadata": {},
     "output_type": "execute_result"
    },
    {
     "data": {
      "image/png": "[encoded data removed]",
      "text/plain": [
       "<Figure size 720x360 with 1 Axes>"
      ]
     },
     "metadata": {
      "needs_background": "light"
     },
     "output_type": "display_data"
    }
   ],
   "source": [
    "##Only where spliting == CV, plot the dev F1-score for each classifier, two different bars for each dataset\n",
    "data[data['Spliting'] == 'cv'].groupby(['dataset', 'Classifier'])['Dev F1-score'].mean().unstack().plot(kind='bar', figsize=(10,5))\n",
    "plt.title('Deviation of the F1-score in CV across the datasets')\n",
    "plt.xlabel('Data sets')\n",
    "plt.ylabel('Dev F1-score')\n"
   ]
  },
  {
   "attachments": {},
   "cell_type": "markdown",
   "metadata": {},
   "source": [
    "## Model tuning"
   ]
  },
  {
   "cell_type": "code",
   "execution_count": 335,
   "metadata": {},
   "outputs": [
    {
     "name": "stdout",
     "output_type": "stream",
     "text": [
      "          dataset Spliting            Classifier Processing method  \\\n",
      "11  Breast Cancer  holdout    LogisticRegression               all   \n",
      "8   Breast Cancer  holdout    LogisticRegression            scaler   \n",
      "10  Breast Cancer  holdout  KNeighborsClassifier               all   \n",
      "\n",
      "    Mean F1-score  Dev F1-score  Mean Preprocess Time  Mean Train Time  \n",
      "11       0.985023      0.012229              0.091289         0.009250  \n",
      "8        0.975056      0.015852              0.007712         0.019498  \n",
      "10       0.949846      0.052558              0.088133         0.000774  \n",
      "\n",
      "\n",
      "\n",
      "   dataset Spliting              Classifier Processing method  Mean F1-score  \\\n",
      "35    Loan  holdout      LogisticRegression               all       0.863712   \n",
      "32    Loan  holdout      LogisticRegression            scaler       0.853114   \n",
      "33    Loan  holdout  RandomForestClassifier               all       0.824782   \n",
      "\n",
      "    Dev F1-score  Mean Preprocess Time  Mean Train Time  \n",
      "35      0.007584              1.516483         1.821312  \n",
      "32      0.006219              0.112431         2.416516  \n",
      "33      0.021636              2.510880         4.569962  \n",
      "\n",
      "\n",
      "\n",
      "             dataset Spliting              Classifier Processing method  \\\n",
      "57  Drug Consumption  holdout  RandomForestClassifier               all   \n",
      "54  Drug Consumption  holdout  RandomForestClassifier            scaler   \n",
      "51  Drug Consumption  holdout  RandomForestClassifier  featureselection   \n",
      "\n",
      "    Mean F1-score  Dev F1-score  Mean Preprocess Time  Mean Train Time  \n",
      "57       0.619613      0.046004              0.176274         0.644505  \n",
      "54       0.618249      0.047358              0.012463         0.439101  \n",
      "51       0.615076      0.037274              0.152093         0.456545  \n",
      "\n",
      "\n",
      "\n",
      "           dataset Spliting              Classifier Processing method  \\\n",
      "78  Bank Marketing  holdout  RandomForestClassifier            scaler   \n",
      "72  Bank Marketing  holdout  RandomForestClassifier              none   \n",
      "81  Bank Marketing  holdout  RandomForestClassifier               all   \n",
      "\n",
      "    Mean F1-score  Dev F1-score  Mean Preprocess Time  Mean Train Time  \n",
      "78       0.900355      0.005468              0.036317         5.307969  \n",
      "72       0.899972      0.006250              0.001377         6.946544  \n",
      "81       0.899378      0.005980              0.322431         4.800438  \n",
      "\n",
      "\n",
      "\n"
     ]
    }
   ],
   "source": [
    "##Print for each dataset the row with the top 3 F1-scores\n",
    "for dataset in dataset_names:\n",
    "    print(data[data['dataset'] == dataset].head(3))\n",
    "    print(\"\\n\\n\")\n",
    "    \n",
    "\n",
    "\n"
   ]
  },
  {
   "cell_type": "code",
   "execution_count": 336,
   "metadata": {},
   "outputs": [],
   "source": [
    "from sklearn.model_selection import RandomizedSearchCV\n",
    "from sklearn.pipeline import Pipeline\n",
    "\n",
    "\n",
    "param_space = {\n",
    "    'RandomForestClassifier': {\n",
    "        'model__n_estimators': [10, 50, 100, 200, 500],\n",
    "        'model__max_depth': [None, 5, 10, 20, 50],\n",
    "        'model__min_samples_split': [2, 5, 10, 20, 50],\n",
    "        'model__min_samples_leaf': [1, 2, 5, 10, 20],\n",
    "        'model__max_features': ['auto', 'sqrt', 'log2', None],\n",
    "        'model__bootstrap': [True, False]\n",
    "    },\n",
    "    'KNeighborsClassifier': {\n",
    "        'model__n_neighbors': [1, 2, 5, 10, 20, 50],\n",
    "        'model__weights': ['uniform', 'distance'],\n",
    "        'model__algorithm': ['auto', 'ball_tree', 'kd_tree', 'brute'],\n",
    "        'model__leaf_size': [10, 20, 30, 50],\n",
    "        'model__p': [1, 2]\n",
    "    },\n",
    "    'LogisticRegression': {\n",
    "        'model__penalty': ['l2'],\n",
    "        'model__C': [0.1, 0.5, 1.0, 2.0, 5.0],\n",
    "        'model__solver': ['newton-cg', 'lbfgs', 'liblinear', 'sag', 'saga'],\n",
    "        'model__max_iter': [10, 50, 100, 200, 500]\n",
    "    }\n",
    "}\n",
    "\n",
    "def random_search(X, y, classifier, param_space, n_iter=10, cv=5):\n",
    "    pipe = Pipeline(steps=[('scaler', StandardScaler()), ('model', classifier)])\n",
    "    clf = RandomizedSearchCV(pipe, param_space, n_iter=n_iter, cv=cv, verbose=1, n_jobs=-1,random_state=42)\n",
    "    clf.fit(X, y)\n",
    "    for i in range(n_iter):\n",
    "        print(f\"Parameters combination {i+1}: {clf.cv_results_['params'][i]}\")\n",
    "        print(f\"Mean cross-validated score for that combination: {clf.cv_results_['mean_test_score'][i]}\")\n",
    "        print(f\"Mean cross-validated fit time for that combination: {clf.cv_results_['mean_fit_time'][i]}\\n\")       \n",
    "\n",
    "    return clf.best_params_"
   ]
  },
  {
   "cell_type": "code",
   "execution_count": 337,
   "metadata": {},
   "outputs": [
    {
     "name": "stdout",
     "output_type": "stream",
     "text": [
      "RandomForestClassifier()\n",
      "Score: 0.6096563806441238\n",
      "KNeighborsClassifier()\n"
     ]
    },
    {
     "ename": "KeyboardInterrupt",
     "evalue": "",
     "output_type": "error",
     "traceback": [
      "\u001b[0;31m---------------------------------------------------------------------------\u001b[0m",
      "\u001b[0;31mKeyboardInterrupt\u001b[0m                         Traceback (most recent call last)",
      "\u001b[1;32m/Users/kristian/Documents/ML_Ex1/ML-with-the-Boiz/Ex1_final/finale/comparison-final.ipynb Cell 31\u001b[0m in \u001b[0;36m<cell line: 12>\u001b[0;34m()\u001b[0m\n\u001b[1;32m     <a href='vscode-notebook-cell:/Users/kristian/Documents/ML_Ex1/ML-with-the-Boiz/Ex1_final/finale/comparison-final.ipynb#X36sZmlsZQ%3D%3D?line=11'>12</a>\u001b[0m \u001b[39mfor\u001b[39;00m classifier \u001b[39min\u001b[39;00m classifiers:\n\u001b[1;32m     <a href='vscode-notebook-cell:/Users/kristian/Documents/ML_Ex1/ML-with-the-Boiz/Ex1_final/finale/comparison-final.ipynb#X36sZmlsZQ%3D%3D?line=12'>13</a>\u001b[0m     \u001b[39mprint\u001b[39m(classifier)\n\u001b[0;32m---> <a href='vscode-notebook-cell:/Users/kristian/Documents/ML_Ex1/ML-with-the-Boiz/Ex1_final/finale/comparison-final.ipynb#X36sZmlsZQ%3D%3D?line=13'>14</a>\u001b[0m     \u001b[39mprint\u001b[39m(\u001b[39m\"\u001b[39m\u001b[39mScore:\u001b[39m\u001b[39m\"\u001b[39m ,cv_pipeline(classifier, X, y)\u001b[39m.\u001b[39mmean())\n\u001b[1;32m     <a href='vscode-notebook-cell:/Users/kristian/Documents/ML_Ex1/ML-with-the-Boiz/Ex1_final/finale/comparison-final.ipynb#X36sZmlsZQ%3D%3D?line=15'>16</a>\u001b[0m random_search(X, y, RandomForestClassifier(), param_space[\u001b[39m'\u001b[39m\u001b[39mRandomForestClassifier\u001b[39m\u001b[39m'\u001b[39m], n_iter\u001b[39m=\u001b[39m\u001b[39m10\u001b[39m, cv\u001b[39m=\u001b[39m\u001b[39m5\u001b[39m)\n\u001b[1;32m     <a href='vscode-notebook-cell:/Users/kristian/Documents/ML_Ex1/ML-with-the-Boiz/Ex1_final/finale/comparison-final.ipynb#X36sZmlsZQ%3D%3D?line=16'>17</a>\u001b[0m random_search(X, y, KNeighborsClassifier(), param_space[\u001b[39m'\u001b[39m\u001b[39mKNeighborsClassifier\u001b[39m\u001b[39m'\u001b[39m], n_iter\u001b[39m=\u001b[39m\u001b[39m10\u001b[39m, cv\u001b[39m=\u001b[39m\u001b[39m5\u001b[39m)\n",
      "\u001b[1;32m/Users/kristian/Documents/ML_Ex1/ML-with-the-Boiz/Ex1_final/finale/comparison-final.ipynb Cell 31\u001b[0m in \u001b[0;36mcv_pipeline\u001b[0;34m(model, X, y, cv)\u001b[0m\n\u001b[1;32m      <a href='vscode-notebook-cell:/Users/kristian/Documents/ML_Ex1/ML-with-the-Boiz/Ex1_final/finale/comparison-final.ipynb#X36sZmlsZQ%3D%3D?line=3'>4</a>\u001b[0m \u001b[39mdef\u001b[39;00m \u001b[39mcv_pipeline\u001b[39m(model, X, y, cv\u001b[39m=\u001b[39m\u001b[39m5\u001b[39m):\n\u001b[1;32m      <a href='vscode-notebook-cell:/Users/kristian/Documents/ML_Ex1/ML-with-the-Boiz/Ex1_final/finale/comparison-final.ipynb#X36sZmlsZQ%3D%3D?line=4'>5</a>\u001b[0m     pipe \u001b[39m=\u001b[39m Pipeline(steps\u001b[39m=\u001b[39m[(\u001b[39m'\u001b[39m\u001b[39mscaler\u001b[39m\u001b[39m'\u001b[39m, StandardScaler()), (\u001b[39m'\u001b[39m\u001b[39mmodel\u001b[39m\u001b[39m'\u001b[39m, model)])\n\u001b[0;32m----> <a href='vscode-notebook-cell:/Users/kristian/Documents/ML_Ex1/ML-with-the-Boiz/Ex1_final/finale/comparison-final.ipynb#X36sZmlsZQ%3D%3D?line=5'>6</a>\u001b[0m     scores \u001b[39m=\u001b[39m cross_val_score(pipe, X, y, scoring\u001b[39m=\u001b[39;49m\u001b[39m'\u001b[39;49m\u001b[39mf1\u001b[39;49m\u001b[39m'\u001b[39;49m, cv\u001b[39m=\u001b[39;49mcv)\n\u001b[1;32m      <a href='vscode-notebook-cell:/Users/kristian/Documents/ML_Ex1/ML-with-the-Boiz/Ex1_final/finale/comparison-final.ipynb#X36sZmlsZQ%3D%3D?line=6'>7</a>\u001b[0m     \u001b[39mreturn\u001b[39;00m (scores)\n",
      "File \u001b[0;32m~/opt/anaconda3/lib/python3.9/site-packages/sklearn/model_selection/_validation.py:509\u001b[0m, in \u001b[0;36mcross_val_score\u001b[0;34m(estimator, X, y, groups, scoring, cv, n_jobs, verbose, fit_params, pre_dispatch, error_score)\u001b[0m\n\u001b[1;32m    506\u001b[0m \u001b[39m# To ensure multimetric format is not supported\u001b[39;00m\n\u001b[1;32m    507\u001b[0m scorer \u001b[39m=\u001b[39m check_scoring(estimator, scoring\u001b[39m=\u001b[39mscoring)\n\u001b[0;32m--> 509\u001b[0m cv_results \u001b[39m=\u001b[39m cross_validate(\n\u001b[1;32m    510\u001b[0m     estimator\u001b[39m=\u001b[39;49mestimator,\n\u001b[1;32m    511\u001b[0m     X\u001b[39m=\u001b[39;49mX,\n\u001b[1;32m    512\u001b[0m     y\u001b[39m=\u001b[39;49my,\n\u001b[1;32m    513\u001b[0m     groups\u001b[39m=\u001b[39;49mgroups,\n\u001b[1;32m    514\u001b[0m     scoring\u001b[39m=\u001b[39;49m{\u001b[39m\"\u001b[39;49m\u001b[39mscore\u001b[39;49m\u001b[39m\"\u001b[39;49m: scorer},\n\u001b[1;32m    515\u001b[0m     cv\u001b[39m=\u001b[39;49mcv,\n\u001b[1;32m    516\u001b[0m     n_jobs\u001b[39m=\u001b[39;49mn_jobs,\n\u001b[1;32m    517\u001b[0m     verbose\u001b[39m=\u001b[39;49mverbose,\n\u001b[1;32m    518\u001b[0m     fit_params\u001b[39m=\u001b[39;49mfit_params,\n\u001b[1;32m    519\u001b[0m     pre_dispatch\u001b[39m=\u001b[39;49mpre_dispatch,\n\u001b[1;32m    520\u001b[0m     error_score\u001b[39m=\u001b[39;49merror_score,\n\u001b[1;32m    521\u001b[0m )\n\u001b[1;32m    522\u001b[0m \u001b[39mreturn\u001b[39;00m cv_results[\u001b[39m\"\u001b[39m\u001b[39mtest_score\u001b[39m\u001b[39m\"\u001b[39m]\n",
      "File \u001b[0;32m~/opt/anaconda3/lib/python3.9/site-packages/sklearn/model_selection/_validation.py:267\u001b[0m, in \u001b[0;36mcross_validate\u001b[0;34m(estimator, X, y, groups, scoring, cv, n_jobs, verbose, fit_params, pre_dispatch, return_train_score, return_estimator, error_score)\u001b[0m\n\u001b[1;32m    264\u001b[0m \u001b[39m# We clone the estimator to make sure that all the folds are\u001b[39;00m\n\u001b[1;32m    265\u001b[0m \u001b[39m# independent, and that it is pickle-able.\u001b[39;00m\n\u001b[1;32m    266\u001b[0m parallel \u001b[39m=\u001b[39m Parallel(n_jobs\u001b[39m=\u001b[39mn_jobs, verbose\u001b[39m=\u001b[39mverbose, pre_dispatch\u001b[39m=\u001b[39mpre_dispatch)\n\u001b[0;32m--> 267\u001b[0m results \u001b[39m=\u001b[39m parallel(\n\u001b[1;32m    268\u001b[0m     delayed(_fit_and_score)(\n\u001b[1;32m    269\u001b[0m         clone(estimator),\n\u001b[1;32m    270\u001b[0m         X,\n\u001b[1;32m    271\u001b[0m         y,\n\u001b[1;32m    272\u001b[0m         scorers,\n\u001b[1;32m    273\u001b[0m         train,\n\u001b[1;32m    274\u001b[0m         test,\n\u001b[1;32m    275\u001b[0m         verbose,\n\u001b[1;32m    276\u001b[0m         \u001b[39mNone\u001b[39;49;00m,\n\u001b[1;32m    277\u001b[0m         fit_params,\n\u001b[1;32m    278\u001b[0m         return_train_score\u001b[39m=\u001b[39;49mreturn_train_score,\n\u001b[1;32m    279\u001b[0m         return_times\u001b[39m=\u001b[39;49m\u001b[39mTrue\u001b[39;49;00m,\n\u001b[1;32m    280\u001b[0m         return_estimator\u001b[39m=\u001b[39;49mreturn_estimator,\n\u001b[1;32m    281\u001b[0m         error_score\u001b[39m=\u001b[39;49merror_score,\n\u001b[1;32m    282\u001b[0m     )\n\u001b[1;32m    283\u001b[0m     \u001b[39mfor\u001b[39;49;00m train, test \u001b[39min\u001b[39;49;00m cv\u001b[39m.\u001b[39;49msplit(X, y, groups)\n\u001b[1;32m    284\u001b[0m )\n\u001b[1;32m    286\u001b[0m _warn_about_fit_failures(results, error_score)\n\u001b[1;32m    288\u001b[0m \u001b[39m# For callabe scoring, the return type is only know after calling. If the\u001b[39;00m\n\u001b[1;32m    289\u001b[0m \u001b[39m# return type is a dictionary, the error scores can now be inserted with\u001b[39;00m\n\u001b[1;32m    290\u001b[0m \u001b[39m# the correct key.\u001b[39;00m\n",
      "File \u001b[0;32m~/opt/anaconda3/lib/python3.9/site-packages/joblib/parallel.py:1088\u001b[0m, in \u001b[0;36mParallel.__call__\u001b[0;34m(self, iterable)\u001b[0m\n\u001b[1;32m   1085\u001b[0m \u001b[39mif\u001b[39;00m \u001b[39mself\u001b[39m\u001b[39m.\u001b[39mdispatch_one_batch(iterator):\n\u001b[1;32m   1086\u001b[0m     \u001b[39mself\u001b[39m\u001b[39m.\u001b[39m_iterating \u001b[39m=\u001b[39m \u001b[39mself\u001b[39m\u001b[39m.\u001b[39m_original_iterator \u001b[39mis\u001b[39;00m \u001b[39mnot\u001b[39;00m \u001b[39mNone\u001b[39;00m\n\u001b[0;32m-> 1088\u001b[0m \u001b[39mwhile\u001b[39;00m \u001b[39mself\u001b[39;49m\u001b[39m.\u001b[39;49mdispatch_one_batch(iterator):\n\u001b[1;32m   1089\u001b[0m     \u001b[39mpass\u001b[39;00m\n\u001b[1;32m   1091\u001b[0m \u001b[39mif\u001b[39;00m pre_dispatch \u001b[39m==\u001b[39m \u001b[39m\"\u001b[39m\u001b[39mall\u001b[39m\u001b[39m\"\u001b[39m \u001b[39mor\u001b[39;00m n_jobs \u001b[39m==\u001b[39m \u001b[39m1\u001b[39m:\n\u001b[1;32m   1092\u001b[0m     \u001b[39m# The iterable was consumed all at once by the above for loop.\u001b[39;00m\n\u001b[1;32m   1093\u001b[0m     \u001b[39m# No need to wait for async callbacks to trigger to\u001b[39;00m\n\u001b[1;32m   1094\u001b[0m     \u001b[39m# consumption.\u001b[39;00m\n",
      "File \u001b[0;32m~/opt/anaconda3/lib/python3.9/site-packages/joblib/parallel.py:901\u001b[0m, in \u001b[0;36mParallel.dispatch_one_batch\u001b[0;34m(self, iterator)\u001b[0m\n\u001b[1;32m    899\u001b[0m     \u001b[39mreturn\u001b[39;00m \u001b[39mFalse\u001b[39;00m\n\u001b[1;32m    900\u001b[0m \u001b[39melse\u001b[39;00m:\n\u001b[0;32m--> 901\u001b[0m     \u001b[39mself\u001b[39;49m\u001b[39m.\u001b[39;49m_dispatch(tasks)\n\u001b[1;32m    902\u001b[0m     \u001b[39mreturn\u001b[39;00m \u001b[39mTrue\u001b[39;00m\n",
      "File \u001b[0;32m~/opt/anaconda3/lib/python3.9/site-packages/joblib/parallel.py:819\u001b[0m, in \u001b[0;36mParallel._dispatch\u001b[0;34m(self, batch)\u001b[0m\n\u001b[1;32m    817\u001b[0m \u001b[39mwith\u001b[39;00m \u001b[39mself\u001b[39m\u001b[39m.\u001b[39m_lock:\n\u001b[1;32m    818\u001b[0m     job_idx \u001b[39m=\u001b[39m \u001b[39mlen\u001b[39m(\u001b[39mself\u001b[39m\u001b[39m.\u001b[39m_jobs)\n\u001b[0;32m--> 819\u001b[0m     job \u001b[39m=\u001b[39m \u001b[39mself\u001b[39;49m\u001b[39m.\u001b[39;49m_backend\u001b[39m.\u001b[39;49mapply_async(batch, callback\u001b[39m=\u001b[39;49mcb)\n\u001b[1;32m    820\u001b[0m     \u001b[39m# A job can complete so quickly than its callback is\u001b[39;00m\n\u001b[1;32m    821\u001b[0m     \u001b[39m# called before we get here, causing self._jobs to\u001b[39;00m\n\u001b[1;32m    822\u001b[0m     \u001b[39m# grow. To ensure correct results ordering, .insert is\u001b[39;00m\n\u001b[1;32m    823\u001b[0m     \u001b[39m# used (rather than .append) in the following line\u001b[39;00m\n\u001b[1;32m    824\u001b[0m     \u001b[39mself\u001b[39m\u001b[39m.\u001b[39m_jobs\u001b[39m.\u001b[39minsert(job_idx, job)\n",
      "File \u001b[0;32m~/opt/anaconda3/lib/python3.9/site-packages/joblib/_parallel_backends.py:208\u001b[0m, in \u001b[0;36mSequentialBackend.apply_async\u001b[0;34m(self, func, callback)\u001b[0m\n\u001b[1;32m    206\u001b[0m \u001b[39mdef\u001b[39;00m \u001b[39mapply_async\u001b[39m(\u001b[39mself\u001b[39m, func, callback\u001b[39m=\u001b[39m\u001b[39mNone\u001b[39;00m):\n\u001b[1;32m    207\u001b[0m     \u001b[39m\"\"\"Schedule a func to be run\"\"\"\u001b[39;00m\n\u001b[0;32m--> 208\u001b[0m     result \u001b[39m=\u001b[39m ImmediateResult(func)\n\u001b[1;32m    209\u001b[0m     \u001b[39mif\u001b[39;00m callback:\n\u001b[1;32m    210\u001b[0m         callback(result)\n",
      "File \u001b[0;32m~/opt/anaconda3/lib/python3.9/site-packages/joblib/_parallel_backends.py:597\u001b[0m, in \u001b[0;36mImmediateResult.__init__\u001b[0;34m(self, batch)\u001b[0m\n\u001b[1;32m    594\u001b[0m \u001b[39mdef\u001b[39;00m \u001b[39m__init__\u001b[39m(\u001b[39mself\u001b[39m, batch):\n\u001b[1;32m    595\u001b[0m     \u001b[39m# Don't delay the application, to avoid keeping the input\u001b[39;00m\n\u001b[1;32m    596\u001b[0m     \u001b[39m# arguments in memory\u001b[39;00m\n\u001b[0;32m--> 597\u001b[0m     \u001b[39mself\u001b[39m\u001b[39m.\u001b[39mresults \u001b[39m=\u001b[39m batch()\n",
      "File \u001b[0;32m~/opt/anaconda3/lib/python3.9/site-packages/joblib/parallel.py:288\u001b[0m, in \u001b[0;36mBatchedCalls.__call__\u001b[0;34m(self)\u001b[0m\n\u001b[1;32m    284\u001b[0m \u001b[39mdef\u001b[39;00m \u001b[39m__call__\u001b[39m(\u001b[39mself\u001b[39m):\n\u001b[1;32m    285\u001b[0m     \u001b[39m# Set the default nested backend to self._backend but do not set the\u001b[39;00m\n\u001b[1;32m    286\u001b[0m     \u001b[39m# change the default number of processes to -1\u001b[39;00m\n\u001b[1;32m    287\u001b[0m     \u001b[39mwith\u001b[39;00m parallel_backend(\u001b[39mself\u001b[39m\u001b[39m.\u001b[39m_backend, n_jobs\u001b[39m=\u001b[39m\u001b[39mself\u001b[39m\u001b[39m.\u001b[39m_n_jobs):\n\u001b[0;32m--> 288\u001b[0m         \u001b[39mreturn\u001b[39;00m [func(\u001b[39m*\u001b[39margs, \u001b[39m*\u001b[39m\u001b[39m*\u001b[39mkwargs)\n\u001b[1;32m    289\u001b[0m                 \u001b[39mfor\u001b[39;00m func, args, kwargs \u001b[39min\u001b[39;00m \u001b[39mself\u001b[39m\u001b[39m.\u001b[39mitems]\n",
      "File \u001b[0;32m~/opt/anaconda3/lib/python3.9/site-packages/joblib/parallel.py:288\u001b[0m, in \u001b[0;36m<listcomp>\u001b[0;34m(.0)\u001b[0m\n\u001b[1;32m    284\u001b[0m \u001b[39mdef\u001b[39;00m \u001b[39m__call__\u001b[39m(\u001b[39mself\u001b[39m):\n\u001b[1;32m    285\u001b[0m     \u001b[39m# Set the default nested backend to self._backend but do not set the\u001b[39;00m\n\u001b[1;32m    286\u001b[0m     \u001b[39m# change the default number of processes to -1\u001b[39;00m\n\u001b[1;32m    287\u001b[0m     \u001b[39mwith\u001b[39;00m parallel_backend(\u001b[39mself\u001b[39m\u001b[39m.\u001b[39m_backend, n_jobs\u001b[39m=\u001b[39m\u001b[39mself\u001b[39m\u001b[39m.\u001b[39m_n_jobs):\n\u001b[0;32m--> 288\u001b[0m         \u001b[39mreturn\u001b[39;00m [func(\u001b[39m*\u001b[39;49margs, \u001b[39m*\u001b[39;49m\u001b[39m*\u001b[39;49mkwargs)\n\u001b[1;32m    289\u001b[0m                 \u001b[39mfor\u001b[39;00m func, args, kwargs \u001b[39min\u001b[39;00m \u001b[39mself\u001b[39m\u001b[39m.\u001b[39mitems]\n",
      "File \u001b[0;32m~/opt/anaconda3/lib/python3.9/site-packages/sklearn/utils/fixes.py:216\u001b[0m, in \u001b[0;36m_FuncWrapper.__call__\u001b[0;34m(self, *args, **kwargs)\u001b[0m\n\u001b[1;32m    214\u001b[0m \u001b[39mdef\u001b[39;00m \u001b[39m__call__\u001b[39m(\u001b[39mself\u001b[39m, \u001b[39m*\u001b[39margs, \u001b[39m*\u001b[39m\u001b[39m*\u001b[39mkwargs):\n\u001b[1;32m    215\u001b[0m     \u001b[39mwith\u001b[39;00m config_context(\u001b[39m*\u001b[39m\u001b[39m*\u001b[39m\u001b[39mself\u001b[39m\u001b[39m.\u001b[39mconfig):\n\u001b[0;32m--> 216\u001b[0m         \u001b[39mreturn\u001b[39;00m \u001b[39mself\u001b[39;49m\u001b[39m.\u001b[39;49mfunction(\u001b[39m*\u001b[39;49margs, \u001b[39m*\u001b[39;49m\u001b[39m*\u001b[39;49mkwargs)\n",
      "File \u001b[0;32m~/opt/anaconda3/lib/python3.9/site-packages/sklearn/model_selection/_validation.py:702\u001b[0m, in \u001b[0;36m_fit_and_score\u001b[0;34m(estimator, X, y, scorer, train, test, verbose, parameters, fit_params, return_train_score, return_parameters, return_n_test_samples, return_times, return_estimator, split_progress, candidate_progress, error_score)\u001b[0m\n\u001b[1;32m    699\u001b[0m result[\u001b[39m\"\u001b[39m\u001b[39mfit_error\u001b[39m\u001b[39m\"\u001b[39m] \u001b[39m=\u001b[39m \u001b[39mNone\u001b[39;00m\n\u001b[1;32m    701\u001b[0m fit_time \u001b[39m=\u001b[39m time\u001b[39m.\u001b[39mtime() \u001b[39m-\u001b[39m start_time\n\u001b[0;32m--> 702\u001b[0m test_scores \u001b[39m=\u001b[39m _score(estimator, X_test, y_test, scorer, error_score)\n\u001b[1;32m    703\u001b[0m score_time \u001b[39m=\u001b[39m time\u001b[39m.\u001b[39mtime() \u001b[39m-\u001b[39m start_time \u001b[39m-\u001b[39m fit_time\n\u001b[1;32m    704\u001b[0m \u001b[39mif\u001b[39;00m return_train_score:\n",
      "File \u001b[0;32m~/opt/anaconda3/lib/python3.9/site-packages/sklearn/model_selection/_validation.py:761\u001b[0m, in \u001b[0;36m_score\u001b[0;34m(estimator, X_test, y_test, scorer, error_score)\u001b[0m\n\u001b[1;32m    759\u001b[0m         scores \u001b[39m=\u001b[39m scorer(estimator, X_test)\n\u001b[1;32m    760\u001b[0m     \u001b[39melse\u001b[39;00m:\n\u001b[0;32m--> 761\u001b[0m         scores \u001b[39m=\u001b[39m scorer(estimator, X_test, y_test)\n\u001b[1;32m    762\u001b[0m \u001b[39mexcept\u001b[39;00m \u001b[39mException\u001b[39;00m:\n\u001b[1;32m    763\u001b[0m     \u001b[39mif\u001b[39;00m error_score \u001b[39m==\u001b[39m \u001b[39m\"\u001b[39m\u001b[39mraise\u001b[39m\u001b[39m\"\u001b[39m:\n",
      "File \u001b[0;32m~/opt/anaconda3/lib/python3.9/site-packages/sklearn/metrics/_scorer.py:103\u001b[0m, in \u001b[0;36m_MultimetricScorer.__call__\u001b[0;34m(self, estimator, *args, **kwargs)\u001b[0m\n\u001b[1;32m    101\u001b[0m \u001b[39mfor\u001b[39;00m name, scorer \u001b[39min\u001b[39;00m \u001b[39mself\u001b[39m\u001b[39m.\u001b[39m_scorers\u001b[39m.\u001b[39mitems():\n\u001b[1;32m    102\u001b[0m     \u001b[39mif\u001b[39;00m \u001b[39misinstance\u001b[39m(scorer, _BaseScorer):\n\u001b[0;32m--> 103\u001b[0m         score \u001b[39m=\u001b[39m scorer\u001b[39m.\u001b[39;49m_score(cached_call, estimator, \u001b[39m*\u001b[39;49margs, \u001b[39m*\u001b[39;49m\u001b[39m*\u001b[39;49mkwargs)\n\u001b[1;32m    104\u001b[0m     \u001b[39melse\u001b[39;00m:\n\u001b[1;32m    105\u001b[0m         score \u001b[39m=\u001b[39m scorer(estimator, \u001b[39m*\u001b[39margs, \u001b[39m*\u001b[39m\u001b[39m*\u001b[39mkwargs)\n",
      "File \u001b[0;32m~/opt/anaconda3/lib/python3.9/site-packages/sklearn/metrics/_scorer.py:258\u001b[0m, in \u001b[0;36m_PredictScorer._score\u001b[0;34m(self, method_caller, estimator, X, y_true, sample_weight)\u001b[0m\n\u001b[1;32m    230\u001b[0m \u001b[39mdef\u001b[39;00m \u001b[39m_score\u001b[39m(\u001b[39mself\u001b[39m, method_caller, estimator, X, y_true, sample_weight\u001b[39m=\u001b[39m\u001b[39mNone\u001b[39;00m):\n\u001b[1;32m    231\u001b[0m     \u001b[39m\"\"\"Evaluate predicted target values for X relative to y_true.\u001b[39;00m\n\u001b[1;32m    232\u001b[0m \n\u001b[1;32m    233\u001b[0m \u001b[39m    Parameters\u001b[39;00m\n\u001b[0;32m   (...)\u001b[0m\n\u001b[1;32m    255\u001b[0m \u001b[39m        Score function applied to prediction of estimator on X.\u001b[39;00m\n\u001b[1;32m    256\u001b[0m \u001b[39m    \"\"\"\u001b[39;00m\n\u001b[0;32m--> 258\u001b[0m     y_pred \u001b[39m=\u001b[39m method_caller(estimator, \u001b[39m\"\u001b[39;49m\u001b[39mpredict\u001b[39;49m\u001b[39m\"\u001b[39;49m, X)\n\u001b[1;32m    259\u001b[0m     \u001b[39mif\u001b[39;00m sample_weight \u001b[39mis\u001b[39;00m \u001b[39mnot\u001b[39;00m \u001b[39mNone\u001b[39;00m:\n\u001b[1;32m    260\u001b[0m         \u001b[39mreturn\u001b[39;00m \u001b[39mself\u001b[39m\u001b[39m.\u001b[39m_sign \u001b[39m*\u001b[39m \u001b[39mself\u001b[39m\u001b[39m.\u001b[39m_score_func(\n\u001b[1;32m    261\u001b[0m             y_true, y_pred, sample_weight\u001b[39m=\u001b[39msample_weight, \u001b[39m*\u001b[39m\u001b[39m*\u001b[39m\u001b[39mself\u001b[39m\u001b[39m.\u001b[39m_kwargs\n\u001b[1;32m    262\u001b[0m         )\n",
      "File \u001b[0;32m~/opt/anaconda3/lib/python3.9/site-packages/sklearn/metrics/_scorer.py:68\u001b[0m, in \u001b[0;36m_cached_call\u001b[0;34m(cache, estimator, method, *args, **kwargs)\u001b[0m\n\u001b[1;32m     66\u001b[0m \u001b[39m\"\"\"Call estimator with method and args and kwargs.\"\"\"\u001b[39;00m\n\u001b[1;32m     67\u001b[0m \u001b[39mif\u001b[39;00m cache \u001b[39mis\u001b[39;00m \u001b[39mNone\u001b[39;00m:\n\u001b[0;32m---> 68\u001b[0m     \u001b[39mreturn\u001b[39;00m \u001b[39mgetattr\u001b[39;49m(estimator, method)(\u001b[39m*\u001b[39;49margs, \u001b[39m*\u001b[39;49m\u001b[39m*\u001b[39;49mkwargs)\n\u001b[1;32m     70\u001b[0m \u001b[39mtry\u001b[39;00m:\n\u001b[1;32m     71\u001b[0m     \u001b[39mreturn\u001b[39;00m cache[method]\n",
      "File \u001b[0;32m~/opt/anaconda3/lib/python3.9/site-packages/sklearn/utils/metaestimators.py:113\u001b[0m, in \u001b[0;36m_AvailableIfDescriptor.__get__.<locals>.<lambda>\u001b[0;34m(*args, **kwargs)\u001b[0m\n\u001b[1;32m    110\u001b[0m         \u001b[39mraise\u001b[39;00m attr_err\n\u001b[1;32m    112\u001b[0m     \u001b[39m# lambda, but not partial, allows help() to work with update_wrapper\u001b[39;00m\n\u001b[0;32m--> 113\u001b[0m     out \u001b[39m=\u001b[39m \u001b[39mlambda\u001b[39;00m \u001b[39m*\u001b[39margs, \u001b[39m*\u001b[39m\u001b[39m*\u001b[39mkwargs: \u001b[39mself\u001b[39;49m\u001b[39m.\u001b[39;49mfn(obj, \u001b[39m*\u001b[39;49margs, \u001b[39m*\u001b[39;49m\u001b[39m*\u001b[39;49mkwargs)  \u001b[39m# noqa\u001b[39;00m\n\u001b[1;32m    114\u001b[0m \u001b[39melse\u001b[39;00m:\n\u001b[1;32m    116\u001b[0m     \u001b[39mdef\u001b[39;00m \u001b[39mfn\u001b[39m(\u001b[39m*\u001b[39margs, \u001b[39m*\u001b[39m\u001b[39m*\u001b[39mkwargs):\n",
      "File \u001b[0;32m~/opt/anaconda3/lib/python3.9/site-packages/sklearn/pipeline.py:470\u001b[0m, in \u001b[0;36mPipeline.predict\u001b[0;34m(self, X, **predict_params)\u001b[0m\n\u001b[1;32m    468\u001b[0m \u001b[39mfor\u001b[39;00m _, name, transform \u001b[39min\u001b[39;00m \u001b[39mself\u001b[39m\u001b[39m.\u001b[39m_iter(with_final\u001b[39m=\u001b[39m\u001b[39mFalse\u001b[39;00m):\n\u001b[1;32m    469\u001b[0m     Xt \u001b[39m=\u001b[39m transform\u001b[39m.\u001b[39mtransform(Xt)\n\u001b[0;32m--> 470\u001b[0m \u001b[39mreturn\u001b[39;00m \u001b[39mself\u001b[39;49m\u001b[39m.\u001b[39;49msteps[\u001b[39m-\u001b[39;49m\u001b[39m1\u001b[39;49m][\u001b[39m1\u001b[39;49m]\u001b[39m.\u001b[39;49mpredict(Xt, \u001b[39m*\u001b[39;49m\u001b[39m*\u001b[39;49mpredict_params)\n",
      "File \u001b[0;32m~/opt/anaconda3/lib/python3.9/site-packages/sklearn/neighbors/_classification.py:214\u001b[0m, in \u001b[0;36mKNeighborsClassifier.predict\u001b[0;34m(self, X)\u001b[0m\n\u001b[1;32m    200\u001b[0m \u001b[39mdef\u001b[39;00m \u001b[39mpredict\u001b[39m(\u001b[39mself\u001b[39m, X):\n\u001b[1;32m    201\u001b[0m     \u001b[39m\"\"\"Predict the class labels for the provided data.\u001b[39;00m\n\u001b[1;32m    202\u001b[0m \n\u001b[1;32m    203\u001b[0m \u001b[39m    Parameters\u001b[39;00m\n\u001b[0;32m   (...)\u001b[0m\n\u001b[1;32m    212\u001b[0m \u001b[39m        Class labels for each data sample.\u001b[39;00m\n\u001b[1;32m    213\u001b[0m \u001b[39m    \"\"\"\u001b[39;00m\n\u001b[0;32m--> 214\u001b[0m     neigh_dist, neigh_ind \u001b[39m=\u001b[39m \u001b[39mself\u001b[39;49m\u001b[39m.\u001b[39;49mkneighbors(X)\n\u001b[1;32m    215\u001b[0m     classes_ \u001b[39m=\u001b[39m \u001b[39mself\u001b[39m\u001b[39m.\u001b[39mclasses_\n\u001b[1;32m    216\u001b[0m     _y \u001b[39m=\u001b[39m \u001b[39mself\u001b[39m\u001b[39m.\u001b[39m_y\n",
      "File \u001b[0;32m~/opt/anaconda3/lib/python3.9/site-packages/sklearn/neighbors/_base.py:752\u001b[0m, in \u001b[0;36mKNeighborsMixin.kneighbors\u001b[0;34m(self, X, n_neighbors, return_distance)\u001b[0m\n\u001b[1;32m    749\u001b[0m     \u001b[39melse\u001b[39;00m:\n\u001b[1;32m    750\u001b[0m         kwds \u001b[39m=\u001b[39m \u001b[39mself\u001b[39m\u001b[39m.\u001b[39meffective_metric_params_\n\u001b[0;32m--> 752\u001b[0m     chunked_results \u001b[39m=\u001b[39m \u001b[39mlist\u001b[39;49m(\n\u001b[1;32m    753\u001b[0m         pairwise_distances_chunked(\n\u001b[1;32m    754\u001b[0m             X,\n\u001b[1;32m    755\u001b[0m             \u001b[39mself\u001b[39;49m\u001b[39m.\u001b[39;49m_fit_X,\n\u001b[1;32m    756\u001b[0m             reduce_func\u001b[39m=\u001b[39;49mreduce_func,\n\u001b[1;32m    757\u001b[0m             metric\u001b[39m=\u001b[39;49m\u001b[39mself\u001b[39;49m\u001b[39m.\u001b[39;49meffective_metric_,\n\u001b[1;32m    758\u001b[0m             n_jobs\u001b[39m=\u001b[39;49mn_jobs,\n\u001b[1;32m    759\u001b[0m             \u001b[39m*\u001b[39;49m\u001b[39m*\u001b[39;49mkwds,\n\u001b[1;32m    760\u001b[0m         )\n\u001b[1;32m    761\u001b[0m     )\n\u001b[1;32m    763\u001b[0m \u001b[39melif\u001b[39;00m \u001b[39mself\u001b[39m\u001b[39m.\u001b[39m_fit_method \u001b[39min\u001b[39;00m [\u001b[39m\"\u001b[39m\u001b[39mball_tree\u001b[39m\u001b[39m\"\u001b[39m, \u001b[39m\"\u001b[39m\u001b[39mkd_tree\u001b[39m\u001b[39m\"\u001b[39m]:\n\u001b[1;32m    764\u001b[0m     \u001b[39mif\u001b[39;00m issparse(X):\n",
      "File \u001b[0;32m~/opt/anaconda3/lib/python3.9/site-packages/sklearn/metrics/pairwise.py:1717\u001b[0m, in \u001b[0;36mpairwise_distances_chunked\u001b[0;34m(X, Y, reduce_func, metric, n_jobs, working_memory, **kwds)\u001b[0m\n\u001b[1;32m   1715\u001b[0m \u001b[39melse\u001b[39;00m:\n\u001b[1;32m   1716\u001b[0m     X_chunk \u001b[39m=\u001b[39m X[sl]\n\u001b[0;32m-> 1717\u001b[0m D_chunk \u001b[39m=\u001b[39m pairwise_distances(X_chunk, Y, metric\u001b[39m=\u001b[39;49mmetric, n_jobs\u001b[39m=\u001b[39;49mn_jobs, \u001b[39m*\u001b[39;49m\u001b[39m*\u001b[39;49mkwds)\n\u001b[1;32m   1718\u001b[0m \u001b[39mif\u001b[39;00m (X \u001b[39mis\u001b[39;00m Y \u001b[39mor\u001b[39;00m Y \u001b[39mis\u001b[39;00m \u001b[39mNone\u001b[39;00m) \u001b[39mand\u001b[39;00m PAIRWISE_DISTANCE_FUNCTIONS\u001b[39m.\u001b[39mget(\n\u001b[1;32m   1719\u001b[0m     metric, \u001b[39mNone\u001b[39;00m\n\u001b[1;32m   1720\u001b[0m ) \u001b[39mis\u001b[39;00m euclidean_distances:\n\u001b[1;32m   1721\u001b[0m     \u001b[39m# zeroing diagonal, taking care of aliases of \"euclidean\",\u001b[39;00m\n\u001b[1;32m   1722\u001b[0m     \u001b[39m# i.e. \"l2\"\u001b[39;00m\n\u001b[1;32m   1723\u001b[0m     D_chunk\u001b[39m.\u001b[39mflat[sl\u001b[39m.\u001b[39mstart :: _num_samples(X) \u001b[39m+\u001b[39m \u001b[39m1\u001b[39m] \u001b[39m=\u001b[39m \u001b[39m0\u001b[39m\n",
      "File \u001b[0;32m~/opt/anaconda3/lib/python3.9/site-packages/sklearn/metrics/pairwise.py:1889\u001b[0m, in \u001b[0;36mpairwise_distances\u001b[0;34m(X, Y, metric, n_jobs, force_all_finite, **kwds)\u001b[0m\n\u001b[1;32m   1886\u001b[0m         \u001b[39mreturn\u001b[39;00m distance\u001b[39m.\u001b[39msquareform(distance\u001b[39m.\u001b[39mpdist(X, metric\u001b[39m=\u001b[39mmetric, \u001b[39m*\u001b[39m\u001b[39m*\u001b[39mkwds))\n\u001b[1;32m   1887\u001b[0m     func \u001b[39m=\u001b[39m partial(distance\u001b[39m.\u001b[39mcdist, metric\u001b[39m=\u001b[39mmetric, \u001b[39m*\u001b[39m\u001b[39m*\u001b[39mkwds)\n\u001b[0;32m-> 1889\u001b[0m \u001b[39mreturn\u001b[39;00m _parallel_pairwise(X, Y, func, n_jobs, \u001b[39m*\u001b[39;49m\u001b[39m*\u001b[39;49mkwds)\n",
      "File \u001b[0;32m~/opt/anaconda3/lib/python3.9/site-packages/sklearn/metrics/pairwise.py:1430\u001b[0m, in \u001b[0;36m_parallel_pairwise\u001b[0;34m(X, Y, func, n_jobs, **kwds)\u001b[0m\n\u001b[1;32m   1427\u001b[0m X, Y, dtype \u001b[39m=\u001b[39m _return_float_dtype(X, Y)\n\u001b[1;32m   1429\u001b[0m \u001b[39mif\u001b[39;00m effective_n_jobs(n_jobs) \u001b[39m==\u001b[39m \u001b[39m1\u001b[39m:\n\u001b[0;32m-> 1430\u001b[0m     \u001b[39mreturn\u001b[39;00m func(X, Y, \u001b[39m*\u001b[39;49m\u001b[39m*\u001b[39;49mkwds)\n\u001b[1;32m   1432\u001b[0m \u001b[39m# enforce a threading backend to prevent data communication overhead\u001b[39;00m\n\u001b[1;32m   1433\u001b[0m fd \u001b[39m=\u001b[39m delayed(_dist_wrapper)\n",
      "File \u001b[0;32m~/opt/anaconda3/lib/python3.9/site-packages/sklearn/metrics/pairwise.py:330\u001b[0m, in \u001b[0;36meuclidean_distances\u001b[0;34m(X, Y, Y_norm_squared, squared, X_norm_squared)\u001b[0m\n\u001b[1;32m    324\u001b[0m     \u001b[39mif\u001b[39;00m Y_norm_squared\u001b[39m.\u001b[39mshape \u001b[39m!=\u001b[39m (\u001b[39m1\u001b[39m, Y\u001b[39m.\u001b[39mshape[\u001b[39m0\u001b[39m]):\n\u001b[1;32m    325\u001b[0m         \u001b[39mraise\u001b[39;00m \u001b[39mValueError\u001b[39;00m(\n\u001b[1;32m    326\u001b[0m             \u001b[39mf\u001b[39m\u001b[39m\"\u001b[39m\u001b[39mIncompatible dimensions for Y of shape \u001b[39m\u001b[39m{\u001b[39;00mY\u001b[39m.\u001b[39mshape\u001b[39m}\u001b[39;00m\u001b[39m and \u001b[39m\u001b[39m\"\u001b[39m\n\u001b[1;32m    327\u001b[0m             \u001b[39mf\u001b[39m\u001b[39m\"\u001b[39m\u001b[39mY_norm_squared of shape \u001b[39m\u001b[39m{\u001b[39;00moriginal_shape\u001b[39m}\u001b[39;00m\u001b[39m.\u001b[39m\u001b[39m\"\u001b[39m\n\u001b[1;32m    328\u001b[0m         )\n\u001b[0;32m--> 330\u001b[0m \u001b[39mreturn\u001b[39;00m _euclidean_distances(X, Y, X_norm_squared, Y_norm_squared, squared)\n",
      "File \u001b[0;32m~/opt/anaconda3/lib/python3.9/site-packages/sklearn/metrics/pairwise.py:374\u001b[0m, in \u001b[0;36m_euclidean_distances\u001b[0;34m(X, Y, X_norm_squared, Y_norm_squared, squared)\u001b[0m\n\u001b[1;32m    372\u001b[0m     distances \u001b[39m+\u001b[39m\u001b[39m=\u001b[39m XX\n\u001b[1;32m    373\u001b[0m     distances \u001b[39m+\u001b[39m\u001b[39m=\u001b[39m YY\n\u001b[0;32m--> 374\u001b[0m np\u001b[39m.\u001b[39;49mmaximum(distances, \u001b[39m0\u001b[39;49m, out\u001b[39m=\u001b[39;49mdistances)\n\u001b[1;32m    376\u001b[0m \u001b[39m# Ensure that distances between vectors and themselves are set to 0.0.\u001b[39;00m\n\u001b[1;32m    377\u001b[0m \u001b[39m# This may not be the case due to floating point rounding errors.\u001b[39;00m\n\u001b[1;32m    378\u001b[0m \u001b[39mif\u001b[39;00m X \u001b[39mis\u001b[39;00m Y:\n",
      "\u001b[0;31mKeyboardInterrupt\u001b[0m: "
     ]
    }
   ],
   "source": [
    "X = bank.drop(\"target\", axis=1)\n",
    "y = bank[\"target\"]\n",
    "\n",
    "def cv_pipeline(model, X, y, cv=5):\n",
    "    pipe = Pipeline(steps=[('scaler', StandardScaler()), ('model', model)])\n",
    "    scores = cross_val_score(pipe, X, y, scoring='f1', cv=cv)\n",
    "    return (scores)\n",
    "\n",
    "\n",
    "classifiers = [RandomForestClassifier(), KNeighborsClassifier(), LogisticRegression()]\n",
    "\n",
    "for classifier in classifiers:\n",
    "    print(classifier)\n",
    "    print(\"Score:\" ,cv_pipeline(classifier, X, y).mean())\n",
    "\n",
    "random_search(X, y, RandomForestClassifier(), param_space['RandomForestClassifier'], n_iter=10, cv=5)\n",
    "random_search(X, y, KNeighborsClassifier(), param_space['KNeighborsClassifier'], n_iter=10, cv=5)\n",
    "random_search(X, y, LogisticRegression(), param_space['LogisticRegression'], n_iter=10, cv=5)"
   ]
  }
 ],
 "metadata": {
  "kernelspec": {
   "display_name": "base",
   "language": "python",
   "name": "python3"
  },
  "language_info": {
   "codemirror_mode": {
    "name": "ipython",
    "version": 3
   },
   "file_extension": ".py",
   "mimetype": "text/x-python",
   "name": "python",
   "nbconvert_exporter": "python",
   "pygments_lexer": "ipython3",
   "version": "3.9.12"
  },
  "orig_nbformat": 4
 },
 "nbformat": 4,
 "nbformat_minor": 2
}
