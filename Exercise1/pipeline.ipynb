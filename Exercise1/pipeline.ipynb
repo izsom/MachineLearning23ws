{
 "cells": [
  {
   "cell_type": "code",
   "execution_count": 1,
   "metadata": {},
   "outputs": [],
   "source": [
    "import pandas as pd\n",
    "import numpy as np\n",
    "import matplotlib.pyplot as plt\n",
    "import seaborn as sns\n",
    "from sklearn import metrics\n",
    "from sklearn.model_selection import KFold\n",
    "from sklearn.svm import SVC\n",
    "from sklearn.model_selection import train_test_split\n",
    "from sklearn.feature_selection import SelectKBest, f_classif, VarianceThreshold, chi2\n",
    "from sklearn.preprocessing import StandardScaler, MinMaxScaler, RobustScaler, OrdinalEncoder, LabelEncoder\n",
    "from sklearn.linear_model import SGDClassifier\n",
    "from sklearn.ensemble import RandomForestClassifier\n",
    "from sklearn.svm import LinearSVC\n",
    "from sklearn.tree import DecisionTreeClassifier\n",
    "from sklearn.naive_bayes import GaussianNB\n",
    "from sklearn.neighbors import KNeighborsClassifier\n",
    "from imblearn.over_sampling import SMOTE\n",
    "import time"
   ]
  },
  {
   "cell_type": "markdown",
   "metadata": {},
   "source": [
    "## Create the evaluation function"
   ]
  },
  {
   "cell_type": "code",
   "execution_count": 2,
   "metadata": {},
   "outputs": [],
   "source": [
    "# Function for feature selection version 1\n",
    "def feature_selection(X, Y):\n",
    "    f, p = f_classif(X, Y)\n",
    "    corr_df = pd.DataFrame({'features': X.columns, 'f_val': f, 'p_val': p})\n",
    "    # using the 3 level significance test \n",
    "    # (***: p_val < 0.001, **: p_val < 0.01, *: p_val < 0.05)\n",
    "    # we will select the features with p_val < 0.05\n",
    "    p_tr = 0.001\n",
    "    relevant_features = corr_df.loc[corr_df['p_val'] < p_tr, \"features\"].tolist()\n",
    "    # print(f\"There are {len(relevant_features)} relevant features and they are: {relevant_features}\")\n",
    "    \n",
    "    return relevant_features"
   ]
  },
  {
   "cell_type": "markdown",
   "metadata": {},
   "source": [
    "I created a feature selection function that includes different selection methods:"
   ]
  },
  {
   "cell_type": "code",
   "execution_count": 3,
   "metadata": {},
   "outputs": [],
   "source": [
    "# Function for feature selection version 2\n",
    "def select_features(X, y, method, corr_threshold=0.5):\n",
    "    \n",
    "    if method is None:\n",
    "        return X.columns\n",
    "        \n",
    "    # Feature selection using chi-squared\n",
    "    elif method == 'p-value':\n",
    "        # Remove constant features\n",
    "        X = X.loc[:, X.apply(pd.Series.nunique) != 1]\n",
    "        p_values = []\n",
    "        for feature in X.columns:\n",
    "            f, p = chi2(X[[feature]], y)\n",
    "            p_values.append(p)\n",
    "\n",
    "        p_values = np.array(p_values).reshape(-1)\n",
    "        p_values = pd.Series(p_values, index=X.columns).sort_values()\n",
    "        selected_features = p_values[p_values < 0.05].index\n",
    "    \n",
    "    # Feature selection using VarianceThreshold\n",
    "    elif method == 'variance':\n",
    "        X = X.loc[:, X.apply(pd.Series.nunique) != 1]\n",
    "        var_thr = VarianceThreshold(threshold=0.25)\n",
    "        var_thr.fit(X)\n",
    "        selected_features = X.columns[var_thr.get_support()]  \n",
    "    \n",
    "    # Feature selection using Pearson correlation\n",
    "    elif method == 'correlation':\n",
    "        X = X.loc[:, X.apply(pd.Series.nunique) != 1]\n",
    "        corr = X.corr()\n",
    "        col_corr = set()\n",
    "\n",
    "        corr_matrix = np.abs(corr.values)\n",
    "\n",
    "        n = corr_matrix.shape[0]\n",
    "\n",
    "        for i in range(n):\n",
    "            for j in range(i):\n",
    "                if corr_matrix[i, j] > corr_threshold:\n",
    "                    colname = X.columns[i]\n",
    "                    col_corr.add(colname)\n",
    "\n",
    "        selected_features = [col for col in X.columns if col not in col_corr]\n",
    "\n",
    "    # More methods to be added \n",
    "                \n",
    "    return selected_features"
   ]
  },
  {
   "cell_type": "markdown",
   "metadata": {},
   "source": [
    "I created a scaling function which includes different scaling methods:"
   ]
  },
  {
   "cell_type": "code",
   "execution_count": 4,
   "metadata": {},
   "outputs": [],
   "source": [
    "# Function for scaling the data\n",
    "def scale(X_train, X_test, method):\n",
    "    \n",
    "    if method is None:\n",
    "        return X_train, X_test\n",
    "\n",
    "    # Scaling using StandardScaler \n",
    "    elif method == 'standard':\n",
    "        scaler = StandardScaler().fit(X_train)\n",
    "\n",
    "    # Scaling using MinMaxScaler\n",
    "    elif method == 'minmax':\n",
    "        scaler = MinMaxScaler().fit(X_train)\n",
    "\n",
    "    # Scaling using RobustScaler\n",
    "    elif method == 'robust':\n",
    "        scaler = RobustScaler().fit(X_train)\n",
    "\n",
    "    X_train_scaled = scaler.transform(X_train)\n",
    "    X_test_scaled = scaler.transform(X_test)\n",
    "                \n",
    "    return X_train_scaled, X_test_scaled"
   ]
  },
  {
   "cell_type": "markdown",
   "metadata": {},
   "source": [
    "Time measurements have been added"
   ]
  },
  {
   "cell_type": "code",
   "execution_count": 5,
   "metadata": {},
   "outputs": [],
   "source": [
    "def evaluate_model(X, Y, feature_selection, scaling, classifier, splitting, folds=5):\n",
    "    if splitting == \"cv\":\n",
    "        kf = KFold(n_splits=folds, shuffle=True, random_state=18)\n",
    "        metric_results = {}\n",
    "        #do the KFold cross validation\n",
    "        for train_index, test_index in kf.split(X,Y):\n",
    "            # split the data into train and test for this fold\n",
    "            X_train, X_test = X.iloc[train_index], X.iloc[test_index]\n",
    "            y_train, y_test = Y.iloc[train_index], Y.iloc[test_index]   \n",
    "            \n",
    "            # preprocess the data\n",
    "            # feature selection\n",
    "            preprocess_start_time = time.time()\n",
    "            rel_features = select_features(X_train, y_train, feature_selection)\n",
    "            n_features_orig = X_train.shape[1]\n",
    "            n_features = len(rel_features)\n",
    "            # scaling the data\n",
    "            X_train_preprocessed, X_test_preprocessed = scale(X_train[rel_features], X_test[rel_features], scaling)\n",
    "            preprocess_end_time = time.time()\n",
    "            preprocess_time = preprocess_end_time - preprocess_start_time\n",
    "\n",
    "            \n",
    "\n",
    "            \"\"\" if preprocess == \"none\":\n",
    "                X_train_preprocessed = X_train\n",
    "                X_test_preprocessed = X_test\n",
    "            elif preprocess == \"featureselection\":\n",
    "                # sig_selector = VarianceThreshold(threshold=0.4)\n",
    "                # X_train_preprocessed = sig_selector.fit_transform(X_train)\n",
    "                # X_test_preprocessed = sig_selector.transform(X_test)\n",
    "                rel_features = select_features(X_train, y_train, )\n",
    "                X_train_preprocessed = X_train[rel_features]\n",
    "                X_test_preprocessed = X_test[rel_features]\n",
    "            else:\n",
    "                scaler = StandardScaler()\n",
    "                X_train_preprocessed = scaler.fit_transform(X_train)\n",
    "                X_test_preprocessed = scaler.transform(X_test) \"\"\"\n",
    "                \n",
    "            # train and evaluate the model\n",
    "            clf = classifier\n",
    "            train_start_time = time.time()\n",
    "            clf.fit(X_train_preprocessed, y_train)\n",
    "            train_end_time = time.time()\n",
    "            training_time = train_end_time - train_start_time\n",
    "            \n",
    "            pred_start_time = time.time()\n",
    "            Y_pred_fold = clf.predict(X_test_preprocessed)\n",
    "            pred_end_time = time.time()\n",
    "            prediction_time = pred_end_time - pred_start_time\n",
    "                \n",
    "            # calculate the accuracy, precision, recall and f1 score per fold\n",
    "            accuracy = metrics.accuracy_score(y_test, Y_pred_fold)\n",
    "            precision = metrics.precision_score(y_test, Y_pred_fold, average='weighted')\n",
    "            recall = metrics.recall_score(y_test, Y_pred_fold, average='weighted')\n",
    "            f1 = metrics.f1_score(y_test, Y_pred_fold, average='weighted')\n",
    "\n",
    "            # add the scores to the dict\n",
    "            metric_results.setdefault('accuracy', []).append(accuracy)\n",
    "            metric_results.setdefault('precision', []).append(precision)\n",
    "            metric_results.setdefault('recall', []).append(recall)\n",
    "            metric_results.setdefault('f1', []).append(f1)\n",
    "            metric_results.setdefault('training_time', []).append(training_time)\n",
    "            metric_results.setdefault('prediction_time', []).append(prediction_time)\n",
    "            metric_results.setdefault('preprocess_time', []).append(preprocess_time)\n",
    "            \n",
    "            \n",
    "        # Calculate the mean of the metrics over all folds\n",
    "        accuracy_mean = np.mean(metric_results['accuracy'])\n",
    "        precision_mean = np.mean(metric_results['precision'])\n",
    "        recall_mean = np.mean(metric_results['recall'])\n",
    "        f1_mean = np.mean(metric_results['f1'])\n",
    "        training_time_mean = np.mean(metric_results['training_time'])\n",
    "        prediction_time_mean = np.mean(metric_results['prediction_time'])\n",
    "        preprocess_time_mean = np.mean(metric_results['preprocess_time'])\n",
    "        \n",
    "        # Calculate the standard deviation of f1\n",
    "        f1_std = np.std(metric_results['f1'])\n",
    "\n",
    "        return {'classifier': classifier.__class__.__name__, 'splitting': splitting, 'feature_selection': feature_selection, 'scaling': scaling, 'n_features_orig': n_features_orig, 'n_features': n_features, 'accuracy': accuracy_mean, 'precision': precision_mean, 'recall': recall_mean, 'f1': f1_mean, 'f1_std': f1_std, 'preprocess_time': preprocess_time_mean,'training_time': training_time_mean, 'prediction_time': prediction_time_mean}\n",
    "\n",
    "    elif splitting == \"holdout\":\n",
    "        X_train, X_test, y_train, y_test = train_test_split(X, Y, test_size=0.3, random_state=18)\n",
    "        \n",
    "        # preprocess the data\n",
    "        # feature selection\n",
    "        preprocess_start_time = time.time()\n",
    "        rel_features = select_features(X_train, y_train, feature_selection)\n",
    "        n_features_orig = X_train.shape[1]\n",
    "        n_features = len(rel_features)\n",
    "        # scaling the data\n",
    "        X_train_preprocessed, X_test_preprocessed = scale(X_train[rel_features], X_test[rel_features], scaling)\n",
    "        preprocess_end_time = time.time()\n",
    "        preprocess_time = preprocess_end_time - preprocess_start_time\n",
    "\n",
    "\n",
    "        \n",
    "\n",
    "        # train and evaluate the model\n",
    "        clf = classifier\n",
    "        train_start_time = time.time()\n",
    "        clf.fit(X_train_preprocessed, y_train)\n",
    "        train_end_time = time.time()\n",
    "        training_time = train_end_time - train_start_time\n",
    "        \n",
    "        pred_start_time = time.time()\n",
    "        Y_pred = clf.predict(X_test_preprocessed)\n",
    "        pred_end_time = time.time()\n",
    "        prediction_time = pred_end_time - pred_start_time\n",
    "\n",
    "        # calculate the accuracy, precision, recall and f1 score per fold\n",
    "        accuracy = metrics.accuracy_score(y_test, Y_pred)\n",
    "        precision = metrics.precision_score(y_test, Y_pred, average='weighted')\n",
    "        recall = metrics.recall_score(y_test, Y_pred, average='weighted')\n",
    "        f1 = metrics.f1_score(y_test, Y_pred, average='weighted')\n",
    "\n",
    "        return {'classifier': classifier.__class__.__name__, 'splitting': splitting, 'feature_selection': feature_selection, 'scaling': scaling, 'n_features_orig': n_features_orig, 'n_features': n_features, 'accuracy': accuracy, 'precision': precision, 'recall': recall, 'f1': f1, 'preprocess_time': preprocess_time,'training_time': training_time, 'prediction_time': prediction_time}\n",
    "    "
   ]
  },
  {
   "cell_type": "markdown",
   "metadata": {},
   "source": [
    "### Smote function for balancing class column"
   ]
  },
  {
   "cell_type": "markdown",
   "metadata": {},
   "source": [
    "For those datasets that have an imbalanced response variable the smote method can be implimented to compensate for the class imbalance in the data"
   ]
  },
  {
   "cell_type": "code",
   "execution_count": 6,
   "metadata": {},
   "outputs": [],
   "source": [
    "def apply_smote(df, target_column, k_neighbors=4, random_state=321):\n",
    "\n",
    "    X = df.drop(target_column, axis=1)\n",
    "    y = df[target_column]\n",
    "\n",
    "    sm = SMOTE(random_state=random_state, k_neighbors=k_neighbors)\n",
    "    X_resampled, y_resampled = sm.fit_resample(X, y)\n",
    "\n",
    "    return X_resampled, y_resampled"
   ]
  },
  {
   "cell_type": "code",
   "execution_count": null,
   "metadata": {},
   "outputs": [],
   "source": []
  },
  {
   "cell_type": "markdown",
   "metadata": {},
   "source": [
    "## Load the data\n",
    "\n"
   ]
  },
  {
   "cell_type": "markdown",
   "metadata": {},
   "source": [
    "### Congressional voting\n",
    "An iterativ imputation has been already done on the data."
   ]
  },
  {
   "cell_type": "code",
   "execution_count": 7,
   "metadata": {},
   "outputs": [],
   "source": [
    "test_df = pd.read_csv(\"./preprocessed-datasets/CongressionVoting_prepro.csv\")\n",
    "test_df.set_index('ID', inplace=True)\n",
    "test_df_X = test_df.drop(columns=[\"class\"])\n",
    "test_df_Y = test_df[\"class\"]"
   ]
  },
  {
   "cell_type": "markdown",
   "metadata": {},
   "source": [
    "## Evaluation\n",
    "\n",
    "The **evaluate_model** function takes:\n",
    "* the input feature (*X*),\n",
    "* the dependent variable (*Y*)\n",
    "* the preprocessing method as a string:\n",
    "    * the so far implemented possible options can be found in the *preprocess_options* list. Here *else* is implemented as the *StandardScaler()*, however it could be combined with additional feature selection to achieve a better result.\n",
    "* classifier as a function:\n",
    "    * so far the only tried one is *SVC(C=3, kernel='sigmoid')*\n",
    "* folds to define the number of  folds. The default value is 5."
   ]
  },
  {
   "cell_type": "code",
   "execution_count": 8,
   "metadata": {},
   "outputs": [],
   "source": [
    "#preprocess_options = [\"none\", \"featureselection\", \"else\"]"
   ]
  },
  {
   "cell_type": "markdown",
   "metadata": {},
   "source": [
    "The changed evaluate_model function is the following:\n",
    "* takes the input feature and the dependent variable\n",
    "* splits the data into train and test set\n",
    "* preprocesses the data\n",
    "    * feature selection\n",
    "    * scaling \n",
    "* trains the classifier on the train set"
   ]
  },
  {
   "cell_type": "code",
   "execution_count": 9,
   "metadata": {},
   "outputs": [
    {
     "data": {
      "text/plain": [
       "{'classifier': 'SVC',\n",
       " 'splitting': 'cv',\n",
       " 'feature_selection': 'p-value',\n",
       " 'scaling': 'robust',\n",
       " 'n_features_orig': 16,\n",
       " 'n_features': 13,\n",
       " 'accuracy': 0.9447145877378436,\n",
       " 'precision': 0.9458858894825214,\n",
       " 'recall': 0.9447145877378436,\n",
       " 'f1': 0.9446694623832087,\n",
       " 'f1_std': 0.023332176291890664,\n",
       " 'preprocess_time': 0.06401348114013672,\n",
       " 'training_time': 0.00048012733459472655,\n",
       " 'prediction_time': 0.0}"
      ]
     },
     "execution_count": 9,
     "metadata": {},
     "output_type": "execute_result"
    }
   ],
   "source": [
    "evaluate_model(test_df_X, test_df_Y, \"p-value\", \"robust\", SVC(C=3, kernel='sigmoid'), splitting=\"cv\")"
   ]
  },
  {
   "cell_type": "markdown",
   "metadata": {},
   "source": [
    "## Experimeting a bit"
   ]
  },
  {
   "cell_type": "markdown",
   "metadata": {},
   "source": [
    "Loading the datasets"
   ]
  },
  {
   "cell_type": "code",
   "execution_count": 10,
   "metadata": {},
   "outputs": [
    {
     "name": "stdout",
     "output_type": "stream",
     "text": [
      "<class 'pandas.core.frame.DataFrame'>\n",
      "RangeIndex: 41188 entries, 0 to 41187\n",
      "Data columns (total 35 columns):\n",
      " #   Column                         Non-Null Count  Dtype  \n",
      "---  ------                         --------------  -----  \n",
      " 0   Unnamed: 0                     41188 non-null  int64  \n",
      " 1   age                            41188 non-null  float64\n",
      " 2   default                        41188 non-null  float64\n",
      " 3   housing                        41188 non-null  float64\n",
      " 4   loan                           41188 non-null  float64\n",
      " 5   campaign                       41188 non-null  float64\n",
      " 6   pdays                          41188 non-null  float64\n",
      " 7   previous                       41188 non-null  float64\n",
      " 8   emp.var.rate                   41188 non-null  float64\n",
      " 9   cons.price.idx                 41188 non-null  float64\n",
      " 10  cons.conf.idx                  41188 non-null  float64\n",
      " 11  euribor3m                      41188 non-null  float64\n",
      " 12  nr.employed                    41188 non-null  float64\n",
      " 13  class                          41188 non-null  float64\n",
      " 14  job_blue-collar                41188 non-null  float64\n",
      " 15  job_management                 41188 non-null  float64\n",
      " 16  job_other                      41188 non-null  float64\n",
      " 17  job_self-employed              41188 non-null  float64\n",
      " 18  job_serivces                   41188 non-null  float64\n",
      " 19  job_technician                 41188 non-null  float64\n",
      " 20  marital_divorced               41188 non-null  float64\n",
      " 21  marital_married                41188 non-null  float64\n",
      " 22  marital_single                 41188 non-null  float64\n",
      " 23  marital_unknown                41188 non-null  float64\n",
      " 24  education_basic.4y             41188 non-null  float64\n",
      " 25  education_basic.6y             41188 non-null  float64\n",
      " 26  education_basic.9y             41188 non-null  float64\n",
      " 27  education_high.school          41188 non-null  float64\n",
      " 28  education_illiterate           41188 non-null  float64\n",
      " 29  education_professional.course  41188 non-null  float64\n",
      " 30  education_university.degree    41188 non-null  float64\n",
      " 31  education_unknown              41188 non-null  float64\n",
      " 32  poutcome_failure               41188 non-null  float64\n",
      " 33  poutcome_nonexistent           41188 non-null  float64\n",
      " 34  poutcome_success               41188 non-null  float64\n",
      "dtypes: float64(34), int64(1)\n",
      "memory usage: 11.0 MB\n"
     ]
    }
   ],
   "source": [
    "bank_marketing = pd.read_csv(\"./preprocessed-datasets/bank_marketing_prepro.csv\")\n",
    "bank_marketing.info()"
   ]
  },
  {
   "cell_type": "code",
   "execution_count": 11,
   "metadata": {},
   "outputs": [
    {
     "name": "stdout",
     "output_type": "stream",
     "text": [
      "<class 'pandas.core.frame.DataFrame'>\n",
      "RangeIndex: 6497 entries, 0 to 6496\n",
      "Data columns (total 14 columns):\n",
      " #   Column                Non-Null Count  Dtype  \n",
      "---  ------                --------------  -----  \n",
      " 0   Unnamed: 0            6497 non-null   int64  \n",
      " 1   fixed acidity         6497 non-null   float64\n",
      " 2   volatile acidity      6497 non-null   float64\n",
      " 3   citric acid           6497 non-null   float64\n",
      " 4   residual sugar        6497 non-null   float64\n",
      " 5   chlorides             6497 non-null   float64\n",
      " 6   free sulfur dioxide   6497 non-null   float64\n",
      " 7   total sulfur dioxide  6497 non-null   float64\n",
      " 8   density               6497 non-null   float64\n",
      " 9   pH                    6497 non-null   float64\n",
      " 10  sulphates             6497 non-null   float64\n",
      " 11  alcohol               6497 non-null   float64\n",
      " 12  class                 6497 non-null   int64  \n",
      " 13  wine_type             6497 non-null   int64  \n",
      "dtypes: float64(11), int64(3)\n",
      "memory usage: 710.7 KB\n"
     ]
    }
   ],
   "source": [
    "wine_quality = pd.read_csv(\"./preprocessed-datasets/wine_quality_prepro.csv\")\n",
    "wine_quality.info()"
   ]
  },
  {
   "cell_type": "code",
   "execution_count": 12,
   "metadata": {},
   "outputs": [
    {
     "name": "stdout",
     "output_type": "stream",
     "text": [
      "<class 'pandas.core.frame.DataFrame'>\n",
      "Int64Index: 217 entries, 140 to 324\n",
      "Data columns (total 17 columns):\n",
      " #   Column                                  Non-Null Count  Dtype  \n",
      "---  ------                                  --------------  -----  \n",
      " 0   handicapped-infants                     217 non-null    float64\n",
      " 1   water-project-cost-sharing              217 non-null    float64\n",
      " 2   adoption-of-the-budget-resolution       217 non-null    float64\n",
      " 3   physician-fee-freeze                    217 non-null    float64\n",
      " 4   el-salvador-aid                         217 non-null    float64\n",
      " 5   religious-groups-in-schools             217 non-null    float64\n",
      " 6   anti-satellite-test-ban                 217 non-null    float64\n",
      " 7   aid-to-nicaraguan-contras               217 non-null    float64\n",
      " 8   mx-missile                              217 non-null    float64\n",
      " 9   immigration                             217 non-null    float64\n",
      " 10  synfuels-crporation-cutback             217 non-null    float64\n",
      " 11  education-spending                      217 non-null    float64\n",
      " 12  superfund-right-to-sue                  217 non-null    float64\n",
      " 13  crime                                   217 non-null    float64\n",
      " 14  duty-free-exports                       217 non-null    float64\n",
      " 15  export-administration-act-south-africa  217 non-null    float64\n",
      " 16  class                                   217 non-null    object \n",
      "dtypes: float64(16), object(1)\n",
      "memory usage: 30.5+ KB\n"
     ]
    }
   ],
   "source": [
    "congression_voting = pd.read_csv(\"./preprocessed-datasets/CongressionVoting_prepro.csv\")\n",
    "congression_voting.set_index('ID', inplace=True)\n",
    "congression_voting.info()"
   ]
  },
  {
   "cell_type": "code",
   "execution_count": 13,
   "metadata": {},
   "outputs": [
    {
     "name": "stdout",
     "output_type": "stream",
     "text": [
      "<class 'pandas.core.frame.DataFrame'>\n",
      "Int64Index: 750 entries, 0 to 749\n",
      "Columns: 10001 entries, V1 to class\n",
      "dtypes: int64(10000), object(1)\n",
      "memory usage: 57.2+ MB\n"
     ]
    }
   ],
   "source": [
    "reviews = pd.read_csv(\"./preprocessed-datasets/Review_prepro.csv\")\n",
    "reviews.set_index('ID', inplace=True)\n",
    "reviews.info()"
   ]
  },
  {
   "cell_type": "code",
   "execution_count": 19,
   "metadata": {},
   "outputs": [
    {
     "name": "stderr",
     "output_type": "stream",
     "text": [
      "c:\\Users\\zsomb\\anaconda3\\lib\\site-packages\\sklearn\\svm\\_base.py:1225: ConvergenceWarning: Liblinear failed to converge, increase the number of iterations.\n",
      "  warnings.warn(\n",
      "c:\\Users\\zsomb\\anaconda3\\lib\\site-packages\\sklearn\\metrics\\_classification.py:1334: UndefinedMetricWarning: Precision is ill-defined and being set to 0.0 in labels with no predicted samples. Use `zero_division` parameter to control this behavior.\n",
      "  _warn_prf(average, modifier, msg_start, len(result))\n"
     ]
    },
    {
     "name": "stdout",
     "output_type": "stream",
     "text": [
      "Time taken for wine_quality, p-value, None, LinearSVC, holdout: 11.002210855484009 seconds\n"
     ]
    },
    {
     "name": "stderr",
     "output_type": "stream",
     "text": [
      "c:\\Users\\zsomb\\anaconda3\\lib\\site-packages\\sklearn\\svm\\_base.py:1225: ConvergenceWarning: Liblinear failed to converge, increase the number of iterations.\n",
      "  warnings.warn(\n",
      "c:\\Users\\zsomb\\anaconda3\\lib\\site-packages\\sklearn\\metrics\\_classification.py:1334: UndefinedMetricWarning: Precision is ill-defined and being set to 0.0 in labels with no predicted samples. Use `zero_division` parameter to control this behavior.\n",
      "  _warn_prf(average, modifier, msg_start, len(result))\n",
      "c:\\Users\\zsomb\\anaconda3\\lib\\site-packages\\sklearn\\svm\\_base.py:1225: ConvergenceWarning: Liblinear failed to converge, increase the number of iterations.\n",
      "  warnings.warn(\n",
      "c:\\Users\\zsomb\\anaconda3\\lib\\site-packages\\sklearn\\metrics\\_classification.py:1334: UndefinedMetricWarning: Precision is ill-defined and being set to 0.0 in labels with no predicted samples. Use `zero_division` parameter to control this behavior.\n",
      "  _warn_prf(average, modifier, msg_start, len(result))\n",
      "c:\\Users\\zsomb\\anaconda3\\lib\\site-packages\\sklearn\\svm\\_base.py:1225: ConvergenceWarning: Liblinear failed to converge, increase the number of iterations.\n",
      "  warnings.warn(\n",
      "c:\\Users\\zsomb\\anaconda3\\lib\\site-packages\\sklearn\\metrics\\_classification.py:1334: UndefinedMetricWarning: Precision is ill-defined and being set to 0.0 in labels with no predicted samples. Use `zero_division` parameter to control this behavior.\n",
      "  _warn_prf(average, modifier, msg_start, len(result))\n",
      "c:\\Users\\zsomb\\anaconda3\\lib\\site-packages\\sklearn\\svm\\_base.py:1225: ConvergenceWarning: Liblinear failed to converge, increase the number of iterations.\n",
      "  warnings.warn(\n",
      "c:\\Users\\zsomb\\anaconda3\\lib\\site-packages\\sklearn\\metrics\\_classification.py:1334: UndefinedMetricWarning: Precision is ill-defined and being set to 0.0 in labels with no predicted samples. Use `zero_division` parameter to control this behavior.\n",
      "  _warn_prf(average, modifier, msg_start, len(result))\n",
      "c:\\Users\\zsomb\\anaconda3\\lib\\site-packages\\sklearn\\svm\\_base.py:1225: ConvergenceWarning: Liblinear failed to converge, increase the number of iterations.\n",
      "  warnings.warn(\n",
      "c:\\Users\\zsomb\\anaconda3\\lib\\site-packages\\sklearn\\metrics\\_classification.py:1334: UndefinedMetricWarning: Precision is ill-defined and being set to 0.0 in labels with no predicted samples. Use `zero_division` parameter to control this behavior.\n",
      "  _warn_prf(average, modifier, msg_start, len(result))\n"
     ]
    },
    {
     "name": "stdout",
     "output_type": "stream",
     "text": [
      "Time taken for wine_quality, p-value, None, LinearSVC, cv: 91.04194211959839 seconds\n",
      "Time taken for wine_quality, p-value, None, DecisionTreeClassifier, holdout: 0.6861841678619385 seconds\n",
      "Time taken for wine_quality, p-value, None, DecisionTreeClassifier, cv: 3.5447843074798584 seconds\n",
      "Time taken for wine_quality, p-value, None, RandomForestClassifier, holdout: 8.763733625411987 seconds\n",
      "Time taken for wine_quality, p-value, None, RandomForestClassifier, cv: 46.717021226882935 seconds\n"
     ]
    },
    {
     "name": "stderr",
     "output_type": "stream",
     "text": [
      "c:\\Users\\zsomb\\anaconda3\\lib\\site-packages\\sklearn\\metrics\\_classification.py:1334: UndefinedMetricWarning: Precision is ill-defined and being set to 0.0 in labels with no predicted samples. Use `zero_division` parameter to control this behavior.\n",
      "  _warn_prf(average, modifier, msg_start, len(result))\n"
     ]
    },
    {
     "name": "stdout",
     "output_type": "stream",
     "text": [
      "Time taken for wine_quality, p-value, None, SVC, holdout: 36.224743604660034 seconds\n"
     ]
    },
    {
     "name": "stderr",
     "output_type": "stream",
     "text": [
      "c:\\Users\\zsomb\\anaconda3\\lib\\site-packages\\sklearn\\metrics\\_classification.py:1334: UndefinedMetricWarning: Precision is ill-defined and being set to 0.0 in labels with no predicted samples. Use `zero_division` parameter to control this behavior.\n",
      "  _warn_prf(average, modifier, msg_start, len(result))\n",
      "c:\\Users\\zsomb\\anaconda3\\lib\\site-packages\\sklearn\\metrics\\_classification.py:1334: UndefinedMetricWarning: Precision is ill-defined and being set to 0.0 in labels with no predicted samples. Use `zero_division` parameter to control this behavior.\n",
      "  _warn_prf(average, modifier, msg_start, len(result))\n",
      "c:\\Users\\zsomb\\anaconda3\\lib\\site-packages\\sklearn\\metrics\\_classification.py:1334: UndefinedMetricWarning: Precision is ill-defined and being set to 0.0 in labels with no predicted samples. Use `zero_division` parameter to control this behavior.\n",
      "  _warn_prf(average, modifier, msg_start, len(result))\n",
      "c:\\Users\\zsomb\\anaconda3\\lib\\site-packages\\sklearn\\metrics\\_classification.py:1334: UndefinedMetricWarning: Precision is ill-defined and being set to 0.0 in labels with no predicted samples. Use `zero_division` parameter to control this behavior.\n",
      "  _warn_prf(average, modifier, msg_start, len(result))\n",
      "c:\\Users\\zsomb\\anaconda3\\lib\\site-packages\\sklearn\\metrics\\_classification.py:1334: UndefinedMetricWarning: Precision is ill-defined and being set to 0.0 in labels with no predicted samples. Use `zero_division` parameter to control this behavior.\n",
      "  _warn_prf(average, modifier, msg_start, len(result))\n"
     ]
    },
    {
     "name": "stdout",
     "output_type": "stream",
     "text": [
      "Time taken for wine_quality, p-value, None, SVC, cv: 183.79859733581543 seconds\n"
     ]
    },
    {
     "name": "stderr",
     "output_type": "stream",
     "text": [
      "c:\\Users\\zsomb\\anaconda3\\lib\\site-packages\\sklearn\\svm\\_base.py:1225: ConvergenceWarning: Liblinear failed to converge, increase the number of iterations.\n",
      "  warnings.warn(\n"
     ]
    },
    {
     "name": "stdout",
     "output_type": "stream",
     "text": [
      "Time taken for wine_quality, p-value, standard, LinearSVC, holdout: 10.881654024124146 seconds\n"
     ]
    },
    {
     "name": "stderr",
     "output_type": "stream",
     "text": [
      "c:\\Users\\zsomb\\anaconda3\\lib\\site-packages\\sklearn\\svm\\_base.py:1225: ConvergenceWarning: Liblinear failed to converge, increase the number of iterations.\n",
      "  warnings.warn(\n",
      "c:\\Users\\zsomb\\anaconda3\\lib\\site-packages\\sklearn\\svm\\_base.py:1225: ConvergenceWarning: Liblinear failed to converge, increase the number of iterations.\n",
      "  warnings.warn(\n",
      "c:\\Users\\zsomb\\anaconda3\\lib\\site-packages\\sklearn\\svm\\_base.py:1225: ConvergenceWarning: Liblinear failed to converge, increase the number of iterations.\n",
      "  warnings.warn(\n",
      "c:\\Users\\zsomb\\anaconda3\\lib\\site-packages\\sklearn\\svm\\_base.py:1225: ConvergenceWarning: Liblinear failed to converge, increase the number of iterations.\n",
      "  warnings.warn(\n",
      "c:\\Users\\zsomb\\anaconda3\\lib\\site-packages\\sklearn\\svm\\_base.py:1225: ConvergenceWarning: Liblinear failed to converge, increase the number of iterations.\n",
      "  warnings.warn(\n"
     ]
    },
    {
     "name": "stdout",
     "output_type": "stream",
     "text": [
      "Time taken for wine_quality, p-value, standard, LinearSVC, cv: 63.30300736427307 seconds\n",
      "Time taken for wine_quality, p-value, standard, DecisionTreeClassifier, holdout: 0.664170503616333 seconds\n",
      "Time taken for wine_quality, p-value, standard, DecisionTreeClassifier, cv: 3.468334197998047 seconds\n",
      "Time taken for wine_quality, p-value, standard, RandomForestClassifier, holdout: 8.125564575195312 seconds\n",
      "Time taken for wine_quality, p-value, standard, RandomForestClassifier, cv: 28.18683123588562 seconds\n",
      "Time taken for wine_quality, p-value, standard, SVC, holdout: 7.127349615097046 seconds\n",
      "Time taken for wine_quality, p-value, standard, SVC, cv: 36.76977562904358 seconds\n"
     ]
    },
    {
     "name": "stderr",
     "output_type": "stream",
     "text": [
      "c:\\Users\\zsomb\\anaconda3\\lib\\site-packages\\sklearn\\svm\\_base.py:1225: ConvergenceWarning: Liblinear failed to converge, increase the number of iterations.\n",
      "  warnings.warn(\n",
      "c:\\Users\\zsomb\\anaconda3\\lib\\site-packages\\sklearn\\metrics\\_classification.py:1334: UndefinedMetricWarning: Precision is ill-defined and being set to 0.0 in labels with no predicted samples. Use `zero_division` parameter to control this behavior.\n",
      "  _warn_prf(average, modifier, msg_start, len(result))\n"
     ]
    },
    {
     "name": "stdout",
     "output_type": "stream",
     "text": [
      "Time taken for wine_quality, None, None, LinearSVC, holdout: 5.157526016235352 seconds\n"
     ]
    },
    {
     "name": "stderr",
     "output_type": "stream",
     "text": [
      "c:\\Users\\zsomb\\anaconda3\\lib\\site-packages\\sklearn\\svm\\_base.py:1225: ConvergenceWarning: Liblinear failed to converge, increase the number of iterations.\n",
      "  warnings.warn(\n",
      "c:\\Users\\zsomb\\anaconda3\\lib\\site-packages\\sklearn\\metrics\\_classification.py:1334: UndefinedMetricWarning: Precision is ill-defined and being set to 0.0 in labels with no predicted samples. Use `zero_division` parameter to control this behavior.\n",
      "  _warn_prf(average, modifier, msg_start, len(result))\n",
      "c:\\Users\\zsomb\\anaconda3\\lib\\site-packages\\sklearn\\svm\\_base.py:1225: ConvergenceWarning: Liblinear failed to converge, increase the number of iterations.\n",
      "  warnings.warn(\n",
      "c:\\Users\\zsomb\\anaconda3\\lib\\site-packages\\sklearn\\metrics\\_classification.py:1334: UndefinedMetricWarning: Precision is ill-defined and being set to 0.0 in labels with no predicted samples. Use `zero_division` parameter to control this behavior.\n",
      "  _warn_prf(average, modifier, msg_start, len(result))\n",
      "c:\\Users\\zsomb\\anaconda3\\lib\\site-packages\\sklearn\\svm\\_base.py:1225: ConvergenceWarning: Liblinear failed to converge, increase the number of iterations.\n",
      "  warnings.warn(\n",
      "c:\\Users\\zsomb\\anaconda3\\lib\\site-packages\\sklearn\\metrics\\_classification.py:1334: UndefinedMetricWarning: Precision is ill-defined and being set to 0.0 in labels with no predicted samples. Use `zero_division` parameter to control this behavior.\n",
      "  _warn_prf(average, modifier, msg_start, len(result))\n",
      "c:\\Users\\zsomb\\anaconda3\\lib\\site-packages\\sklearn\\svm\\_base.py:1225: ConvergenceWarning: Liblinear failed to converge, increase the number of iterations.\n",
      "  warnings.warn(\n",
      "c:\\Users\\zsomb\\anaconda3\\lib\\site-packages\\sklearn\\metrics\\_classification.py:1334: UndefinedMetricWarning: Precision is ill-defined and being set to 0.0 in labels with no predicted samples. Use `zero_division` parameter to control this behavior.\n",
      "  _warn_prf(average, modifier, msg_start, len(result))\n",
      "c:\\Users\\zsomb\\anaconda3\\lib\\site-packages\\sklearn\\svm\\_base.py:1225: ConvergenceWarning: Liblinear failed to converge, increase the number of iterations.\n",
      "  warnings.warn(\n",
      "c:\\Users\\zsomb\\anaconda3\\lib\\site-packages\\sklearn\\metrics\\_classification.py:1334: UndefinedMetricWarning: Precision is ill-defined and being set to 0.0 in labels with no predicted samples. Use `zero_division` parameter to control this behavior.\n",
      "  _warn_prf(average, modifier, msg_start, len(result))\n"
     ]
    },
    {
     "name": "stdout",
     "output_type": "stream",
     "text": [
      "Time taken for wine_quality, None, None, LinearSVC, cv: 30.18687891960144 seconds\n",
      "Time taken for wine_quality, None, None, DecisionTreeClassifier, holdout: 0.24011468887329102 seconds\n",
      "Time taken for wine_quality, None, None, DecisionTreeClassifier, cv: 1.1023366451263428 seconds\n",
      "Time taken for wine_quality, None, None, RandomForestClassifier, holdout: 2.911257266998291 seconds\n",
      "Time taken for wine_quality, None, None, RandomForestClassifier, cv: 16.339695930480957 seconds\n"
     ]
    },
    {
     "name": "stderr",
     "output_type": "stream",
     "text": [
      "c:\\Users\\zsomb\\anaconda3\\lib\\site-packages\\sklearn\\metrics\\_classification.py:1334: UndefinedMetricWarning: Precision is ill-defined and being set to 0.0 in labels with no predicted samples. Use `zero_division` parameter to control this behavior.\n",
      "  _warn_prf(average, modifier, msg_start, len(result))\n"
     ]
    },
    {
     "name": "stdout",
     "output_type": "stream",
     "text": [
      "Time taken for wine_quality, None, None, SVC, holdout: 11.720835447311401 seconds\n"
     ]
    },
    {
     "name": "stderr",
     "output_type": "stream",
     "text": [
      "c:\\Users\\zsomb\\anaconda3\\lib\\site-packages\\sklearn\\metrics\\_classification.py:1334: UndefinedMetricWarning: Precision is ill-defined and being set to 0.0 in labels with no predicted samples. Use `zero_division` parameter to control this behavior.\n",
      "  _warn_prf(average, modifier, msg_start, len(result))\n",
      "c:\\Users\\zsomb\\anaconda3\\lib\\site-packages\\sklearn\\metrics\\_classification.py:1334: UndefinedMetricWarning: Precision is ill-defined and being set to 0.0 in labels with no predicted samples. Use `zero_division` parameter to control this behavior.\n",
      "  _warn_prf(average, modifier, msg_start, len(result))\n",
      "c:\\Users\\zsomb\\anaconda3\\lib\\site-packages\\sklearn\\metrics\\_classification.py:1334: UndefinedMetricWarning: Precision is ill-defined and being set to 0.0 in labels with no predicted samples. Use `zero_division` parameter to control this behavior.\n",
      "  _warn_prf(average, modifier, msg_start, len(result))\n",
      "c:\\Users\\zsomb\\anaconda3\\lib\\site-packages\\sklearn\\metrics\\_classification.py:1334: UndefinedMetricWarning: Precision is ill-defined and being set to 0.0 in labels with no predicted samples. Use `zero_division` parameter to control this behavior.\n",
      "  _warn_prf(average, modifier, msg_start, len(result))\n",
      "c:\\Users\\zsomb\\anaconda3\\lib\\site-packages\\sklearn\\metrics\\_classification.py:1334: UndefinedMetricWarning: Precision is ill-defined and being set to 0.0 in labels with no predicted samples. Use `zero_division` parameter to control this behavior.\n",
      "  _warn_prf(average, modifier, msg_start, len(result))\n"
     ]
    },
    {
     "name": "stdout",
     "output_type": "stream",
     "text": [
      "Time taken for wine_quality, None, None, SVC, cv: 62.794262409210205 seconds\n"
     ]
    },
    {
     "name": "stderr",
     "output_type": "stream",
     "text": [
      "c:\\Users\\zsomb\\anaconda3\\lib\\site-packages\\sklearn\\svm\\_base.py:1225: ConvergenceWarning: Liblinear failed to converge, increase the number of iterations.\n",
      "  warnings.warn(\n"
     ]
    },
    {
     "name": "stdout",
     "output_type": "stream",
     "text": [
      "Time taken for wine_quality, None, standard, LinearSVC, holdout: 3.8198678493499756 seconds\n"
     ]
    },
    {
     "name": "stderr",
     "output_type": "stream",
     "text": [
      "c:\\Users\\zsomb\\anaconda3\\lib\\site-packages\\sklearn\\svm\\_base.py:1225: ConvergenceWarning: Liblinear failed to converge, increase the number of iterations.\n",
      "  warnings.warn(\n",
      "c:\\Users\\zsomb\\anaconda3\\lib\\site-packages\\sklearn\\svm\\_base.py:1225: ConvergenceWarning: Liblinear failed to converge, increase the number of iterations.\n",
      "  warnings.warn(\n",
      "c:\\Users\\zsomb\\anaconda3\\lib\\site-packages\\sklearn\\svm\\_base.py:1225: ConvergenceWarning: Liblinear failed to converge, increase the number of iterations.\n",
      "  warnings.warn(\n",
      "c:\\Users\\zsomb\\anaconda3\\lib\\site-packages\\sklearn\\svm\\_base.py:1225: ConvergenceWarning: Liblinear failed to converge, increase the number of iterations.\n",
      "  warnings.warn(\n",
      "c:\\Users\\zsomb\\anaconda3\\lib\\site-packages\\sklearn\\svm\\_base.py:1225: ConvergenceWarning: Liblinear failed to converge, increase the number of iterations.\n",
      "  warnings.warn(\n"
     ]
    },
    {
     "name": "stdout",
     "output_type": "stream",
     "text": [
      "Time taken for wine_quality, None, standard, LinearSVC, cv: 22.29910397529602 seconds\n",
      "Time taken for wine_quality, None, standard, DecisionTreeClassifier, holdout: 0.22029471397399902 seconds\n",
      "Time taken for wine_quality, None, standard, DecisionTreeClassifier, cv: 1.117704153060913 seconds\n",
      "Time taken for wine_quality, None, standard, RandomForestClassifier, holdout: 2.9499614238739014 seconds\n",
      "Time taken for wine_quality, None, standard, RandomForestClassifier, cv: 16.108306646347046 seconds\n",
      "Time taken for wine_quality, None, standard, SVC, holdout: 6.888356685638428 seconds\n",
      "Time taken for wine_quality, None, standard, SVC, cv: 37.05074405670166 seconds\n",
      "Time taken for congression_voting, p-value, None, LinearSVC, holdout: 0.0339658260345459 seconds\n",
      "Time taken for congression_voting, p-value, None, LinearSVC, cv: 0.1786494255065918 seconds\n",
      "Time taken for congression_voting, p-value, None, DecisionTreeClassifier, holdout: 0.03945779800415039 seconds\n",
      "Time taken for congression_voting, p-value, None, DecisionTreeClassifier, cv: 0.18075251579284668 seconds\n",
      "Time taken for congression_voting, p-value, None, RandomForestClassifier, holdout: 0.14529061317443848 seconds\n",
      "Time taken for congression_voting, p-value, None, RandomForestClassifier, cv: 0.6823787689208984 seconds\n",
      "Time taken for congression_voting, p-value, None, SVC, holdout: 0.035948991775512695 seconds\n",
      "Time taken for congression_voting, p-value, None, SVC, cv: 0.18137240409851074 seconds\n",
      "Time taken for congression_voting, p-value, standard, LinearSVC, holdout: 0.03720283508300781 seconds\n",
      "Time taken for congression_voting, p-value, standard, LinearSVC, cv: 0.1799001693725586 seconds\n",
      "Time taken for congression_voting, p-value, standard, DecisionTreeClassifier, holdout: 0.030797958374023438 seconds\n",
      "Time taken for congression_voting, p-value, standard, DecisionTreeClassifier, cv: 0.19022250175476074 seconds\n",
      "Time taken for congression_voting, p-value, standard, RandomForestClassifier, holdout: 0.1396937370300293 seconds\n",
      "Time taken for congression_voting, p-value, standard, RandomForestClassifier, cv: 0.6890628337860107 seconds\n",
      "Time taken for congression_voting, p-value, standard, SVC, holdout: 0.031664371490478516 seconds\n",
      "Time taken for congression_voting, p-value, standard, SVC, cv: 0.1851496696472168 seconds\n",
      "Time taken for congression_voting, None, None, LinearSVC, holdout: 0.00837397575378418 seconds\n",
      "Time taken for congression_voting, None, None, LinearSVC, cv: 0.031531572341918945 seconds\n",
      "Time taken for congression_voting, None, None, DecisionTreeClassifier, holdout: 0.006505489349365234 seconds\n",
      "Time taken for congression_voting, None, None, DecisionTreeClassifier, cv: 0.026689767837524414 seconds\n",
      "Time taken for congression_voting, None, None, RandomForestClassifier, holdout: 0.10356593132019043 seconds\n",
      "Time taken for congression_voting, None, None, RandomForestClassifier, cv: 0.537592887878418 seconds\n",
      "Time taken for congression_voting, None, None, SVC, holdout: 0.003890514373779297 seconds\n",
      "Time taken for congression_voting, None, None, SVC, cv: 0.030954599380493164 seconds\n",
      "Time taken for congression_voting, None, standard, LinearSVC, holdout: 0.00754547119140625 seconds\n",
      "Time taken for congression_voting, None, standard, LinearSVC, cv: 0.029876232147216797 seconds\n",
      "Time taken for congression_voting, None, standard, DecisionTreeClassifier, holdout: 0.011870145797729492 seconds\n",
      "Time taken for congression_voting, None, standard, DecisionTreeClassifier, cv: 0.027985811233520508 seconds\n",
      "Time taken for congression_voting, None, standard, RandomForestClassifier, holdout: 0.11167550086975098 seconds\n",
      "Time taken for congression_voting, None, standard, RandomForestClassifier, cv: 0.5436036586761475 seconds\n",
      "Time taken for congression_voting, None, standard, SVC, holdout: 0.007112264633178711 seconds\n",
      "Time taken for congression_voting, None, standard, SVC, cv: 0.03484225273132324 seconds\n"
     ]
    },
    {
     "name": "stderr",
     "output_type": "stream",
     "text": [
      "c:\\Users\\zsomb\\anaconda3\\lib\\site-packages\\sklearn\\svm\\_base.py:1225: ConvergenceWarning: Liblinear failed to converge, increase the number of iterations.\n",
      "  warnings.warn(\n"
     ]
    },
    {
     "name": "stdout",
     "output_type": "stream",
     "text": [
      "Time taken for bank_marketing, p-value, None, LinearSVC, holdout: 7.362521409988403 seconds\n"
     ]
    },
    {
     "name": "stderr",
     "output_type": "stream",
     "text": [
      "c:\\Users\\zsomb\\anaconda3\\lib\\site-packages\\sklearn\\svm\\_base.py:1225: ConvergenceWarning: Liblinear failed to converge, increase the number of iterations.\n",
      "  warnings.warn(\n",
      "c:\\Users\\zsomb\\anaconda3\\lib\\site-packages\\sklearn\\svm\\_base.py:1225: ConvergenceWarning: Liblinear failed to converge, increase the number of iterations.\n",
      "  warnings.warn(\n",
      "c:\\Users\\zsomb\\anaconda3\\lib\\site-packages\\sklearn\\svm\\_base.py:1225: ConvergenceWarning: Liblinear failed to converge, increase the number of iterations.\n",
      "  warnings.warn(\n",
      "c:\\Users\\zsomb\\anaconda3\\lib\\site-packages\\sklearn\\metrics\\_classification.py:1334: UndefinedMetricWarning: Precision is ill-defined and being set to 0.0 in labels with no predicted samples. Use `zero_division` parameter to control this behavior.\n",
      "  _warn_prf(average, modifier, msg_start, len(result))\n",
      "c:\\Users\\zsomb\\anaconda3\\lib\\site-packages\\sklearn\\svm\\_base.py:1225: ConvergenceWarning: Liblinear failed to converge, increase the number of iterations.\n",
      "  warnings.warn(\n",
      "c:\\Users\\zsomb\\anaconda3\\lib\\site-packages\\sklearn\\svm\\_base.py:1225: ConvergenceWarning: Liblinear failed to converge, increase the number of iterations.\n",
      "  warnings.warn(\n",
      "c:\\Users\\zsomb\\anaconda3\\lib\\site-packages\\sklearn\\metrics\\_classification.py:1334: UndefinedMetricWarning: Precision is ill-defined and being set to 0.0 in labels with no predicted samples. Use `zero_division` parameter to control this behavior.\n",
      "  _warn_prf(average, modifier, msg_start, len(result))\n"
     ]
    },
    {
     "name": "stdout",
     "output_type": "stream",
     "text": [
      "Time taken for bank_marketing, p-value, None, LinearSVC, cv: 40.34942150115967 seconds\n",
      "Time taken for bank_marketing, p-value, None, DecisionTreeClassifier, holdout: 0.7385656833648682 seconds\n",
      "Time taken for bank_marketing, p-value, None, DecisionTreeClassifier, cv: 3.7203011512756348 seconds\n",
      "Time taken for bank_marketing, p-value, None, RandomForestClassifier, holdout: 5.348848819732666 seconds\n",
      "Time taken for bank_marketing, p-value, None, RandomForestClassifier, cv: 27.95101308822632 seconds\n",
      "Time taken for bank_marketing, p-value, None, SVC, holdout: 156.78397178649902 seconds\n",
      "Time taken for bank_marketing, p-value, None, SVC, cv: 407.6827471256256 seconds\n"
     ]
    },
    {
     "name": "stderr",
     "output_type": "stream",
     "text": [
      "c:\\Users\\zsomb\\anaconda3\\lib\\site-packages\\sklearn\\svm\\_base.py:1225: ConvergenceWarning: Liblinear failed to converge, increase the number of iterations.\n",
      "  warnings.warn(\n"
     ]
    },
    {
     "name": "stdout",
     "output_type": "stream",
     "text": [
      "Time taken for bank_marketing, p-value, standard, LinearSVC, holdout: 8.959404945373535 seconds\n"
     ]
    },
    {
     "name": "stderr",
     "output_type": "stream",
     "text": [
      "c:\\Users\\zsomb\\anaconda3\\lib\\site-packages\\sklearn\\svm\\_base.py:1225: ConvergenceWarning: Liblinear failed to converge, increase the number of iterations.\n",
      "  warnings.warn(\n",
      "c:\\Users\\zsomb\\anaconda3\\lib\\site-packages\\sklearn\\svm\\_base.py:1225: ConvergenceWarning: Liblinear failed to converge, increase the number of iterations.\n",
      "  warnings.warn(\n",
      "c:\\Users\\zsomb\\anaconda3\\lib\\site-packages\\sklearn\\svm\\_base.py:1225: ConvergenceWarning: Liblinear failed to converge, increase the number of iterations.\n",
      "  warnings.warn(\n",
      "c:\\Users\\zsomb\\anaconda3\\lib\\site-packages\\sklearn\\svm\\_base.py:1225: ConvergenceWarning: Liblinear failed to converge, increase the number of iterations.\n",
      "  warnings.warn(\n",
      "c:\\Users\\zsomb\\anaconda3\\lib\\site-packages\\sklearn\\svm\\_base.py:1225: ConvergenceWarning: Liblinear failed to converge, increase the number of iterations.\n",
      "  warnings.warn(\n"
     ]
    },
    {
     "name": "stdout",
     "output_type": "stream",
     "text": [
      "Time taken for bank_marketing, p-value, standard, LinearSVC, cv: 52.30731391906738 seconds\n",
      "Time taken for bank_marketing, p-value, standard, DecisionTreeClassifier, holdout: 0.7677788734436035 seconds\n",
      "Time taken for bank_marketing, p-value, standard, DecisionTreeClassifier, cv: 3.7997798919677734 seconds\n",
      "Time taken for bank_marketing, p-value, standard, RandomForestClassifier, holdout: 5.198429107666016 seconds\n",
      "Time taken for bank_marketing, p-value, standard, RandomForestClassifier, cv: 28.648070573806763 seconds\n",
      "Time taken for bank_marketing, p-value, standard, SVC, holdout: 222.89551758766174 seconds\n",
      "Time taken for bank_marketing, p-value, standard, SVC, cv: 1134.2525215148926 seconds\n"
     ]
    },
    {
     "name": "stderr",
     "output_type": "stream",
     "text": [
      "c:\\Users\\zsomb\\anaconda3\\lib\\site-packages\\sklearn\\svm\\_base.py:1225: ConvergenceWarning: Liblinear failed to converge, increase the number of iterations.\n",
      "  warnings.warn(\n"
     ]
    },
    {
     "name": "stdout",
     "output_type": "stream",
     "text": [
      "Time taken for bank_marketing, None, None, LinearSVC, holdout: 6.255280256271362 seconds\n"
     ]
    },
    {
     "name": "stderr",
     "output_type": "stream",
     "text": [
      "c:\\Users\\zsomb\\anaconda3\\lib\\site-packages\\sklearn\\svm\\_base.py:1225: ConvergenceWarning: Liblinear failed to converge, increase the number of iterations.\n",
      "  warnings.warn(\n",
      "c:\\Users\\zsomb\\anaconda3\\lib\\site-packages\\sklearn\\svm\\_base.py:1225: ConvergenceWarning: Liblinear failed to converge, increase the number of iterations.\n",
      "  warnings.warn(\n",
      "c:\\Users\\zsomb\\anaconda3\\lib\\site-packages\\sklearn\\metrics\\_classification.py:1334: UndefinedMetricWarning: Precision is ill-defined and being set to 0.0 in labels with no predicted samples. Use `zero_division` parameter to control this behavior.\n",
      "  _warn_prf(average, modifier, msg_start, len(result))\n",
      "c:\\Users\\zsomb\\anaconda3\\lib\\site-packages\\sklearn\\svm\\_base.py:1225: ConvergenceWarning: Liblinear failed to converge, increase the number of iterations.\n",
      "  warnings.warn(\n",
      "c:\\Users\\zsomb\\anaconda3\\lib\\site-packages\\sklearn\\svm\\_base.py:1225: ConvergenceWarning: Liblinear failed to converge, increase the number of iterations.\n",
      "  warnings.warn(\n",
      "c:\\Users\\zsomb\\anaconda3\\lib\\site-packages\\sklearn\\svm\\_base.py:1225: ConvergenceWarning: Liblinear failed to converge, increase the number of iterations.\n",
      "  warnings.warn(\n"
     ]
    },
    {
     "name": "stdout",
     "output_type": "stream",
     "text": [
      "Time taken for bank_marketing, None, None, LinearSVC, cv: 40.310142040252686 seconds\n",
      "Time taken for bank_marketing, None, None, DecisionTreeClassifier, holdout: 0.3856945037841797 seconds\n",
      "Time taken for bank_marketing, None, None, DecisionTreeClassifier, cv: 1.8612432479858398 seconds\n",
      "Time taken for bank_marketing, None, None, RandomForestClassifier, holdout: 4.698254346847534 seconds\n",
      "Time taken for bank_marketing, None, None, RandomForestClassifier, cv: 24.83307695388794 seconds\n",
      "Time taken for bank_marketing, None, None, SVC, holdout: 152.1526210308075 seconds\n",
      "Time taken for bank_marketing, None, None, SVC, cv: 408.2940664291382 seconds\n"
     ]
    },
    {
     "name": "stderr",
     "output_type": "stream",
     "text": [
      "c:\\Users\\zsomb\\anaconda3\\lib\\site-packages\\sklearn\\svm\\_base.py:1225: ConvergenceWarning: Liblinear failed to converge, increase the number of iterations.\n",
      "  warnings.warn(\n"
     ]
    },
    {
     "name": "stdout",
     "output_type": "stream",
     "text": [
      "Time taken for bank_marketing, None, standard, LinearSVC, holdout: 10.854837656021118 seconds\n"
     ]
    },
    {
     "name": "stderr",
     "output_type": "stream",
     "text": [
      "c:\\Users\\zsomb\\anaconda3\\lib\\site-packages\\sklearn\\svm\\_base.py:1225: ConvergenceWarning: Liblinear failed to converge, increase the number of iterations.\n",
      "  warnings.warn(\n",
      "c:\\Users\\zsomb\\anaconda3\\lib\\site-packages\\sklearn\\svm\\_base.py:1225: ConvergenceWarning: Liblinear failed to converge, increase the number of iterations.\n",
      "  warnings.warn(\n",
      "c:\\Users\\zsomb\\anaconda3\\lib\\site-packages\\sklearn\\svm\\_base.py:1225: ConvergenceWarning: Liblinear failed to converge, increase the number of iterations.\n",
      "  warnings.warn(\n",
      "c:\\Users\\zsomb\\anaconda3\\lib\\site-packages\\sklearn\\svm\\_base.py:1225: ConvergenceWarning: Liblinear failed to converge, increase the number of iterations.\n",
      "  warnings.warn(\n",
      "c:\\Users\\zsomb\\anaconda3\\lib\\site-packages\\sklearn\\svm\\_base.py:1225: ConvergenceWarning: Liblinear failed to converge, increase the number of iterations.\n",
      "  warnings.warn(\n"
     ]
    },
    {
     "name": "stdout",
     "output_type": "stream",
     "text": [
      "Time taken for bank_marketing, None, standard, LinearSVC, cv: 59.89737510681152 seconds\n",
      "Time taken for bank_marketing, None, standard, DecisionTreeClassifier, holdout: 0.4243602752685547 seconds\n",
      "Time taken for bank_marketing, None, standard, DecisionTreeClassifier, cv: 2.135155200958252 seconds\n",
      "Time taken for bank_marketing, None, standard, RandomForestClassifier, holdout: 5.0780298709869385 seconds\n",
      "Time taken for bank_marketing, None, standard, RandomForestClassifier, cv: 26.42084574699402 seconds\n",
      "Time taken for bank_marketing, None, standard, SVC, holdout: 217.98662304878235 seconds\n",
      "Time taken for bank_marketing, None, standard, SVC, cv: 2808.5688996315002 seconds\n"
     ]
    }
   ],
   "source": [
    "datasets = {\n",
    "    'wine_quality': wine_quality,\n",
    "    #'reviews': reviews,\n",
    "    'congression_voting': congression_voting,\n",
    "    'bank_marketing': bank_marketing\n",
    "}\n",
    "\n",
    "feature_selection_methods = ['p-value', None] # , 'variance' , 'correlation']\n",
    "scaling_methods = [None, 'standard'] #, 'robust', 'minmax']\n",
    "classifiers = [LinearSVC(), DecisionTreeClassifier(),RandomForestClassifier(), SVC(C=3, kernel='sigmoid')] #, GaussianNB()]\n",
    "splitting_methods = ['holdout', 'cv']\n",
    "\n",
    "results = []\n",
    "\n",
    "for dataset_name, dataset in datasets.items():\n",
    "    for feature_selection_method in feature_selection_methods:\n",
    "        for scaling_method in scaling_methods:\n",
    "            for classifier in classifiers:\n",
    "                for splitting_method in splitting_methods: # ,'cv']:\n",
    "                    if dataset_name == 'wine_quality' or dataset_name == 'bank_marketing':\n",
    "                        target_column = 'class'\n",
    "                        X,Y = apply_smote(dataset,target_column)\n",
    "                    else:\n",
    "                        X = dataset.drop(columns=[\"class\"])\n",
    "                        Y = dataset[\"class\"]\n",
    "                    start_time = time.time()\n",
    "                    evaluation_result = evaluate_model(X, Y, feature_selection_method, scaling_method, classifier, splitting_method)\n",
    "                    end_time = time.time()\n",
    "                    time_taken = end_time - start_time\n",
    "                    print(f\"Time taken for {dataset_name}, {feature_selection_method}, {scaling_method}, {classifier.__class__.__name__}, {splitting_method}: {time_taken} seconds\")\n",
    "                    results.append({'dataset': dataset_name, 'result': evaluation_result})\n",
    "\n"
   ]
  },
  {
   "cell_type": "code",
   "execution_count": 20,
   "metadata": {},
   "outputs": [
    {
     "data": {
      "text/html": [
       "<div>\n",
       "<style scoped>\n",
       "    .dataframe tbody tr th:only-of-type {\n",
       "        vertical-align: middle;\n",
       "    }\n",
       "\n",
       "    .dataframe tbody tr th {\n",
       "        vertical-align: top;\n",
       "    }\n",
       "\n",
       "    .dataframe thead th {\n",
       "        text-align: right;\n",
       "    }\n",
       "</style>\n",
       "<table border=\"1\" class=\"dataframe\">\n",
       "  <thead>\n",
       "    <tr style=\"text-align: right;\">\n",
       "      <th></th>\n",
       "      <th>dataset</th>\n",
       "      <th>classifier</th>\n",
       "      <th>splitting</th>\n",
       "      <th>feature_selection</th>\n",
       "      <th>scaling</th>\n",
       "      <th>n_features_orig</th>\n",
       "      <th>n_features</th>\n",
       "      <th>accuracy</th>\n",
       "      <th>precision</th>\n",
       "      <th>recall</th>\n",
       "      <th>f1</th>\n",
       "      <th>preprocess_time</th>\n",
       "      <th>training_time</th>\n",
       "      <th>prediction_time</th>\n",
       "      <th>f1_std</th>\n",
       "    </tr>\n",
       "  </thead>\n",
       "  <tbody>\n",
       "    <tr>\n",
       "      <th>0</th>\n",
       "      <td>wine_quality</td>\n",
       "      <td>LinearSVC</td>\n",
       "      <td>holdout</td>\n",
       "      <td>p-value</td>\n",
       "      <td>None</td>\n",
       "      <td>13</td>\n",
       "      <td>12</td>\n",
       "      <td>0.151948</td>\n",
       "      <td>0.199730</td>\n",
       "      <td>0.151948</td>\n",
       "      <td>0.129240</td>\n",
       "      <td>0.109783</td>\n",
       "      <td>10.847568</td>\n",
       "      <td>0.009605</td>\n",
       "      <td>NaN</td>\n",
       "    </tr>\n",
       "    <tr>\n",
       "      <th>1</th>\n",
       "      <td>wine_quality</td>\n",
       "      <td>LinearSVC</td>\n",
       "      <td>cv</td>\n",
       "      <td>p-value</td>\n",
       "      <td>None</td>\n",
       "      <td>13</td>\n",
       "      <td>12</td>\n",
       "      <td>0.181846</td>\n",
       "      <td>0.274092</td>\n",
       "      <td>0.181846</td>\n",
       "      <td>0.107007</td>\n",
       "      <td>0.165360</td>\n",
       "      <td>18.017434</td>\n",
       "      <td>0.005404</td>\n",
       "      <td>0.011428</td>\n",
       "    </tr>\n",
       "    <tr>\n",
       "      <th>2</th>\n",
       "      <td>wine_quality</td>\n",
       "      <td>DecisionTreeClassifier</td>\n",
       "      <td>holdout</td>\n",
       "      <td>p-value</td>\n",
       "      <td>None</td>\n",
       "      <td>13</td>\n",
       "      <td>12</td>\n",
       "      <td>0.781733</td>\n",
       "      <td>0.778158</td>\n",
       "      <td>0.781733</td>\n",
       "      <td>0.779631</td>\n",
       "      <td>0.182003</td>\n",
       "      <td>0.460149</td>\n",
       "      <td>0.010132</td>\n",
       "      <td>NaN</td>\n",
       "    </tr>\n",
       "    <tr>\n",
       "      <th>3</th>\n",
       "      <td>wine_quality</td>\n",
       "      <td>DecisionTreeClassifier</td>\n",
       "      <td>cv</td>\n",
       "      <td>p-value</td>\n",
       "      <td>None</td>\n",
       "      <td>13</td>\n",
       "      <td>12</td>\n",
       "      <td>0.802791</td>\n",
       "      <td>0.799491</td>\n",
       "      <td>0.802791</td>\n",
       "      <td>0.800747</td>\n",
       "      <td>0.138892</td>\n",
       "      <td>0.545366</td>\n",
       "      <td>0.004202</td>\n",
       "      <td>0.008543</td>\n",
       "    </tr>\n",
       "    <tr>\n",
       "      <th>4</th>\n",
       "      <td>wine_quality</td>\n",
       "      <td>RandomForestClassifier</td>\n",
       "      <td>holdout</td>\n",
       "      <td>p-value</td>\n",
       "      <td>None</td>\n",
       "      <td>13</td>\n",
       "      <td>12</td>\n",
       "      <td>0.863499</td>\n",
       "      <td>0.859042</td>\n",
       "      <td>0.863499</td>\n",
       "      <td>0.860306</td>\n",
       "      <td>0.223293</td>\n",
       "      <td>8.237601</td>\n",
       "      <td>0.277826</td>\n",
       "      <td>NaN</td>\n",
       "    </tr>\n",
       "    <tr>\n",
       "      <th>...</th>\n",
       "      <td>...</td>\n",
       "      <td>...</td>\n",
       "      <td>...</td>\n",
       "      <td>...</td>\n",
       "      <td>...</td>\n",
       "      <td>...</td>\n",
       "      <td>...</td>\n",
       "      <td>...</td>\n",
       "      <td>...</td>\n",
       "      <td>...</td>\n",
       "      <td>...</td>\n",
       "      <td>...</td>\n",
       "      <td>...</td>\n",
       "      <td>...</td>\n",
       "      <td>...</td>\n",
       "    </tr>\n",
       "    <tr>\n",
       "      <th>91</th>\n",
       "      <td>bank_marketing</td>\n",
       "      <td>DecisionTreeClassifier</td>\n",
       "      <td>cv</td>\n",
       "      <td>None</td>\n",
       "      <td>standard</td>\n",
       "      <td>34</td>\n",
       "      <td>34</td>\n",
       "      <td>0.908340</td>\n",
       "      <td>0.908406</td>\n",
       "      <td>0.908340</td>\n",
       "      <td>0.908336</td>\n",
       "      <td>0.049288</td>\n",
       "      <td>0.350233</td>\n",
       "      <td>0.001120</td>\n",
       "      <td>0.001183</td>\n",
       "    </tr>\n",
       "    <tr>\n",
       "      <th>92</th>\n",
       "      <td>bank_marketing</td>\n",
       "      <td>RandomForestClassifier</td>\n",
       "      <td>holdout</td>\n",
       "      <td>None</td>\n",
       "      <td>standard</td>\n",
       "      <td>34</td>\n",
       "      <td>34</td>\n",
       "      <td>0.935702</td>\n",
       "      <td>0.936984</td>\n",
       "      <td>0.935702</td>\n",
       "      <td>0.935659</td>\n",
       "      <td>0.049223</td>\n",
       "      <td>4.620787</td>\n",
       "      <td>0.341235</td>\n",
       "      <td>NaN</td>\n",
       "    </tr>\n",
       "    <tr>\n",
       "      <th>93</th>\n",
       "      <td>bank_marketing</td>\n",
       "      <td>RandomForestClassifier</td>\n",
       "      <td>cv</td>\n",
       "      <td>None</td>\n",
       "      <td>standard</td>\n",
       "      <td>34</td>\n",
       "      <td>34</td>\n",
       "      <td>0.938998</td>\n",
       "      <td>0.940016</td>\n",
       "      <td>0.938998</td>\n",
       "      <td>0.938963</td>\n",
       "      <td>0.045083</td>\n",
       "      <td>5.005033</td>\n",
       "      <td>0.203964</td>\n",
       "      <td>0.000683</td>\n",
       "    </tr>\n",
       "    <tr>\n",
       "      <th>94</th>\n",
       "      <td>bank_marketing</td>\n",
       "      <td>SVC</td>\n",
       "      <td>holdout</td>\n",
       "      <td>None</td>\n",
       "      <td>standard</td>\n",
       "      <td>34</td>\n",
       "      <td>34</td>\n",
       "      <td>0.586256</td>\n",
       "      <td>0.586253</td>\n",
       "      <td>0.586256</td>\n",
       "      <td>0.586253</td>\n",
       "      <td>0.039375</td>\n",
       "      <td>200.235632</td>\n",
       "      <td>17.643829</td>\n",
       "      <td>NaN</td>\n",
       "    </tr>\n",
       "    <tr>\n",
       "      <th>95</th>\n",
       "      <td>bank_marketing</td>\n",
       "      <td>SVC</td>\n",
       "      <td>cv</td>\n",
       "      <td>None</td>\n",
       "      <td>standard</td>\n",
       "      <td>34</td>\n",
       "      <td>34</td>\n",
       "      <td>0.583466</td>\n",
       "      <td>0.583482</td>\n",
       "      <td>0.583466</td>\n",
       "      <td>0.583468</td>\n",
       "      <td>0.087935</td>\n",
       "      <td>523.449328</td>\n",
       "      <td>38.101670</td>\n",
       "      <td>0.003281</td>\n",
       "    </tr>\n",
       "  </tbody>\n",
       "</table>\n",
       "<p>96 rows × 15 columns</p>\n",
       "</div>"
      ],
      "text/plain": [
       "           dataset              classifier splitting feature_selection  \\\n",
       "0     wine_quality               LinearSVC   holdout           p-value   \n",
       "1     wine_quality               LinearSVC        cv           p-value   \n",
       "2     wine_quality  DecisionTreeClassifier   holdout           p-value   \n",
       "3     wine_quality  DecisionTreeClassifier        cv           p-value   \n",
       "4     wine_quality  RandomForestClassifier   holdout           p-value   \n",
       "..             ...                     ...       ...               ...   \n",
       "91  bank_marketing  DecisionTreeClassifier        cv              None   \n",
       "92  bank_marketing  RandomForestClassifier   holdout              None   \n",
       "93  bank_marketing  RandomForestClassifier        cv              None   \n",
       "94  bank_marketing                     SVC   holdout              None   \n",
       "95  bank_marketing                     SVC        cv              None   \n",
       "\n",
       "     scaling  n_features_orig  n_features  accuracy  precision    recall  \\\n",
       "0       None               13          12  0.151948   0.199730  0.151948   \n",
       "1       None               13          12  0.181846   0.274092  0.181846   \n",
       "2       None               13          12  0.781733   0.778158  0.781733   \n",
       "3       None               13          12  0.802791   0.799491  0.802791   \n",
       "4       None               13          12  0.863499   0.859042  0.863499   \n",
       "..       ...              ...         ...       ...        ...       ...   \n",
       "91  standard               34          34  0.908340   0.908406  0.908340   \n",
       "92  standard               34          34  0.935702   0.936984  0.935702   \n",
       "93  standard               34          34  0.938998   0.940016  0.938998   \n",
       "94  standard               34          34  0.586256   0.586253  0.586256   \n",
       "95  standard               34          34  0.583466   0.583482  0.583466   \n",
       "\n",
       "          f1  preprocess_time  training_time  prediction_time    f1_std  \n",
       "0   0.129240         0.109783      10.847568         0.009605       NaN  \n",
       "1   0.107007         0.165360      18.017434         0.005404  0.011428  \n",
       "2   0.779631         0.182003       0.460149         0.010132       NaN  \n",
       "3   0.800747         0.138892       0.545366         0.004202  0.008543  \n",
       "4   0.860306         0.223293       8.237601         0.277826       NaN  \n",
       "..       ...              ...            ...              ...       ...  \n",
       "91  0.908336         0.049288       0.350233         0.001120  0.001183  \n",
       "92  0.935659         0.049223       4.620787         0.341235       NaN  \n",
       "93  0.938963         0.045083       5.005033         0.203964  0.000683  \n",
       "94  0.586253         0.039375     200.235632        17.643829       NaN  \n",
       "95  0.583468         0.087935     523.449328        38.101670  0.003281  \n",
       "\n",
       "[96 rows x 15 columns]"
      ]
     },
     "execution_count": 20,
     "metadata": {},
     "output_type": "execute_result"
    }
   ],
   "source": [
    "df = pd.DataFrame(results)\n",
    "results_df = pd.json_normalize(df['result'])\n",
    "results_df.insert(0, 'dataset', df['dataset'])\n",
    "results_df.to_csv('./data/results_wo_reviews.csv', index=False)\n",
    "results_df"
   ]
  },
  {
   "cell_type": "code",
   "execution_count": 34,
   "metadata": {},
   "outputs": [],
   "source": [
    "# in case the pipeline is not run separately\n",
    "results_df = pd.read_csv('./data/results_wo_reviews.csv')\n",
    "results_df.fillna(\"no_preprocessing\", inplace=True)"
   ]
  },
  {
   "cell_type": "code",
   "execution_count": 15,
   "metadata": {},
   "outputs": [
    {
     "data": {
      "image/png": "[encoded data removed]",
      "text/plain": [
       "<Figure size 1200x600 with 1 Axes>"
      ]
     },
     "metadata": {},
     "output_type": "display_data"
    }
   ],
   "source": [
    "plt.figure(figsize=(12, 6))\n",
    "sns.barplot(x='dataset', y='f1', hue='classifier', data=results_df)\n",
    "plt.title('Comparison of f1 across datasets and classifiers')\n",
    "plt.show()"
   ]
  },
  {
   "cell_type": "code",
   "execution_count": 16,
   "metadata": {},
   "outputs": [
    {
     "data": {
      "image/png": "[encoded data removed]",
      "text/plain": [
       "<Figure size 1200x600 with 1 Axes>"
      ]
     },
     "metadata": {},
     "output_type": "display_data"
    }
   ],
   "source": [
    "#plot f1-score across datasets for each classifier, cv vs holdout\n",
    "plt.figure(figsize=(12, 6))\n",
    "sns.barplot(x='dataset', y='f1', hue='splitting', data=results_df)\n",
    "plt.title('Mean F1-score by validation strategy')\n",
    "plt.ylabel('F1-score')\n",
    "plt.xlabel('Data sets')\n",
    "plt.show()"
   ]
  },
  {
   "cell_type": "code",
   "execution_count": 35,
   "metadata": {},
   "outputs": [
    {
     "data": {
      "image/png": "[encoded data removed]",
      "text/plain": [
       "<Figure size 1200x600 with 1 Axes>"
      ]
     },
     "metadata": {},
     "output_type": "display_data"
    }
   ],
   "source": [
    "# data.groupby(['dataset', 'Spliting'])['Mean F1-score'].mean().unstack().plot(kind='bar', figsize=(10,5))\n",
    "plt.figure(figsize=(12, 6))\n",
    "sns.barplot(x='dataset', y='f1', hue='feature_selection', data=results_df)\n",
    "plt.title('Mean F1-score by validation strategy')\n",
    "plt.ylabel('F1-score')\n",
    "plt.xlabel('Data sets')\n",
    "plt.show()"
   ]
  },
  {
   "cell_type": "code",
   "execution_count": 36,
   "metadata": {},
   "outputs": [
    {
     "data": {
      "image/png": "[encoded data removed]",
      "text/plain": [
       "<Figure size 1200x600 with 1 Axes>"
      ]
     },
     "metadata": {},
     "output_type": "display_data"
    }
   ],
   "source": [
    "plt.figure(figsize=(12, 6))\n",
    "sns.barplot(x='dataset', y='f1', hue='scaling', data=results_df)\n",
    "plt.title('Mean F1-score by validation strategy')\n",
    "plt.ylabel('F1-score')\n",
    "plt.xlabel('Data sets')\n",
    "plt.show()"
   ]
  },
  {
   "cell_type": "code",
   "execution_count": 21,
   "metadata": {},
   "outputs": [
    {
     "data": {
      "image/png": "[encoded data removed]",
      "text/plain": [
       "<Figure size 1200x600 with 1 Axes>"
      ]
     },
     "metadata": {},
     "output_type": "display_data"
    }
   ],
   "source": [
    "plt.figure(figsize=(12, 6))\n",
    "sns.barplot(x='dataset', y='training_time', hue='classifier', data=results_df, log=True)\n",
    "plt.title('Comparison of the log transformed training time across datasets and classifiers')\n",
    "plt.show()"
   ]
  }
 ],
 "metadata": {
  "kernelspec": {
   "display_name": "Python 3",
   "language": "python",
   "name": "python3"
  },
  "language_info": {
   "codemirror_mode": {
    "name": "ipython",
    "version": 3
   },
   "file_extension": ".py",
   "mimetype": "text/x-python",
   "name": "python",
   "nbconvert_exporter": "python",
   "pygments_lexer": "ipython3",
   "version": "3.10.9"
  }
 },
 "nbformat": 4,
 "nbformat_minor": 2
}
