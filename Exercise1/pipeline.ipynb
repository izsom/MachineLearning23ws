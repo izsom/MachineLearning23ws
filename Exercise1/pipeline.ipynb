{
 "cells": [
  {
   "cell_type": "code",
   "execution_count": 15,
   "metadata": {},
   "outputs": [],
   "source": [
    "import pandas as pd\n",
    "import numpy as np\n",
    "import matplotlib.pyplot as plt\n",
    "import seaborn as sns\n",
    "from sklearn import metrics\n",
    "from sklearn.model_selection import KFold\n",
    "from sklearn.svm import SVC\n",
    "from sklearn.model_selection import train_test_split\n",
    "from sklearn.feature_selection import SelectKBest, f_classif, VarianceThreshold, chi2\n",
    "from sklearn.preprocessing import StandardScaler, MinMaxScaler, RobustScaler, OrdinalEncoder, LabelEncoder\n",
    "from sklearn.linear_model import SGDClassifier\n",
    "from sklearn.ensemble import RandomForestClassifier\n",
    "from sklearn.svm import LinearSVC\n",
    "from sklearn.tree import DecisionTreeClassifier\n",
    "from sklearn.naive_bayes import GaussianNB\n",
    "from sklearn.neighbors import KNeighborsClassifier\n",
    "import time"
   ]
  },
  {
   "cell_type": "markdown",
   "metadata": {},
   "source": [
    "## Create the evaluation function"
   ]
  },
  {
   "cell_type": "code",
   "execution_count": 16,
   "metadata": {},
   "outputs": [],
   "source": [
    "# Function for feature selection version 1\n",
    "def feature_selection(X, Y):\n",
    "    f, p = f_classif(X, Y)\n",
    "    corr_df = pd.DataFrame({'features': X.columns, 'f_val': f, 'p_val': p})\n",
    "    # using the 3 level significance test \n",
    "    # (***: p_val < 0.001, **: p_val < 0.01, *: p_val < 0.05)\n",
    "    # we will select the features with p_val < 0.05\n",
    "    p_tr = 0.001\n",
    "    relevant_features = corr_df.loc[corr_df['p_val'] < p_tr, \"features\"].tolist()\n",
    "    # print(f\"There are {len(relevant_features)} relevant features and they are: {relevant_features}\")\n",
    "    \n",
    "    return relevant_features"
   ]
  },
  {
   "cell_type": "markdown",
   "metadata": {},
   "source": [
    "I created a feature selection function that includes different selection methods:"
   ]
  },
  {
   "cell_type": "code",
   "execution_count": 17,
   "metadata": {},
   "outputs": [],
   "source": [
    "# Function for feature selection version 2\n",
    "def select_features(X, y, method, corr_threshold=0.5):\n",
    "    \n",
    "    if method is None:\n",
    "        return X.columns\n",
    "        \n",
    "    # Feature selection using chi-squared\n",
    "    elif method == 'p-value':\n",
    "        # Remove constant features\n",
    "        X = X.loc[:, X.apply(pd.Series.nunique) != 1]\n",
    "        p_values = []\n",
    "        for feature in X.columns:\n",
    "            f, p = chi2(X[[feature]], y)\n",
    "            p_values.append(p)\n",
    "\n",
    "        p_values = np.array(p_values).reshape(-1)\n",
    "        p_values = pd.Series(p_values, index=X.columns).sort_values()\n",
    "        selected_features = p_values[p_values < 0.05].index\n",
    "    \n",
    "    # Feature selection using VarianceThreshold\n",
    "    elif method == 'variance':\n",
    "        X = X.loc[:, X.apply(pd.Series.nunique) != 1]\n",
    "        var_thr = VarianceThreshold(threshold=0.25)\n",
    "        var_thr.fit(X)\n",
    "        selected_features = X.columns[var_thr.get_support()]  \n",
    "    \n",
    "    # Feature selection using Pearson correlation\n",
    "    elif method == 'correlation':\n",
    "        X = X.loc[:, X.apply(pd.Series.nunique) != 1]\n",
    "        corr = X.corr()\n",
    "        col_corr = set()\n",
    "\n",
    "        corr_matrix = np.abs(corr.values)\n",
    "\n",
    "        n = corr_matrix.shape[0]\n",
    "\n",
    "        for i in range(n):\n",
    "            for j in range(i):\n",
    "                if corr_matrix[i, j] > corr_threshold:\n",
    "                    colname = X.columns[i]\n",
    "                    col_corr.add(colname)\n",
    "\n",
    "        selected_features = [col for col in X.columns if col not in col_corr]\n",
    "\n",
    "    # More methods to be added \n",
    "                \n",
    "    return selected_features"
   ]
  },
  {
   "cell_type": "markdown",
   "metadata": {},
   "source": [
    "I created a scaling function which includes different scaling methods:"
   ]
  },
  {
   "cell_type": "code",
   "execution_count": 18,
   "metadata": {},
   "outputs": [],
   "source": [
    "# Function for scaling the data\n",
    "def scale(X_train, X_test, method):\n",
    "    \n",
    "    if method is None:\n",
    "        return X_train, X_test\n",
    "\n",
    "    # Scaling using StandardScaler \n",
    "    elif method == 'standard':\n",
    "        scaler = StandardScaler().fit(X_train)\n",
    "\n",
    "    # Scaling using MinMaxScaler\n",
    "    elif method == 'minmax':\n",
    "        scaler = MinMaxScaler().fit(X_train)\n",
    "\n",
    "    # Scaling using RobustScaler\n",
    "    elif method == 'robust':\n",
    "        scaler = RobustScaler().fit(X_train)\n",
    "\n",
    "    X_train_scaled = scaler.transform(X_train)\n",
    "    X_test_scaled = scaler.transform(X_test)\n",
    "                \n",
    "    return X_train_scaled, X_test_scaled"
   ]
  },
  {
   "cell_type": "markdown",
   "metadata": {},
   "source": [
    "We will have to add some time measurements"
   ]
  },
  {
   "cell_type": "code",
   "execution_count": 19,
   "metadata": {},
   "outputs": [],
   "source": [
    "def evaluate_model(X, Y, feature_selection, scaling, classifier, splitting, folds=5):\n",
    "    if splitting == \"cv\":\n",
    "        kf = KFold(n_splits=folds, shuffle=True, random_state=18)\n",
    "        metric_results = {}\n",
    "        #do the KFold cross validation\n",
    "        for train_index, test_index in kf.split(X,Y):\n",
    "            # split the data into train and test for this fold\n",
    "            X_train, X_test = X.iloc[train_index], X.iloc[test_index]\n",
    "            y_train, y_test = Y.iloc[train_index], Y.iloc[test_index]   \n",
    "            \n",
    "            # preprocess the data\n",
    "            # feature selection\n",
    "            rel_features = select_features(X_train, y_train, feature_selection)\n",
    "            n_features_orig = X_train.shape[1]\n",
    "            n_features = len(rel_features)\n",
    "\n",
    "            # scaling the data\n",
    "            X_train_preprocessed, X_test_preprocessed = scale(X_train[rel_features], X_test[rel_features], scaling)\n",
    "\n",
    "            \"\"\" if preprocess == \"none\":\n",
    "                X_train_preprocessed = X_train\n",
    "                X_test_preprocessed = X_test\n",
    "            elif preprocess == \"featureselection\":\n",
    "                # sig_selector = VarianceThreshold(threshold=0.4)\n",
    "                # X_train_preprocessed = sig_selector.fit_transform(X_train)\n",
    "                # X_test_preprocessed = sig_selector.transform(X_test)\n",
    "                rel_features = select_features(X_train, y_train, )\n",
    "                X_train_preprocessed = X_train[rel_features]\n",
    "                X_test_preprocessed = X_test[rel_features]\n",
    "            else:\n",
    "                scaler = StandardScaler()\n",
    "                X_train_preprocessed = scaler.fit_transform(X_train)\n",
    "                X_test_preprocessed = scaler.transform(X_test) \"\"\"\n",
    "                \n",
    "            # train and evaluate the model\n",
    "            clf = classifier\n",
    "            clf.fit(X_train_preprocessed, y_train)\n",
    "            Y_pred_fold = clf.predict(X_test_preprocessed)\n",
    "                \n",
    "            # calculate the accuracy, precision, recall and f1 score per fold\n",
    "            accuracy = metrics.accuracy_score(y_test, Y_pred_fold)\n",
    "            precision = metrics.precision_score(y_test, Y_pred_fold, average='weighted')\n",
    "            recall = metrics.recall_score(y_test, Y_pred_fold, average='weighted')\n",
    "            f1 = metrics.f1_score(y_test, Y_pred_fold, average='weighted')\n",
    "\n",
    "            # add the scores to the dict\n",
    "            metric_results.setdefault('accuracy', []).append(accuracy)\n",
    "            metric_results.setdefault('precision', []).append(precision)\n",
    "            metric_results.setdefault('recall', []).append(recall)\n",
    "            metric_results.setdefault('f1', []).append(f1)\n",
    "\n",
    "        # Calculate the mean of the metrics over all folds\n",
    "        accuracy_mean = np.mean(metric_results['accuracy'])\n",
    "        precision_mean = np.mean(metric_results['precision'])\n",
    "        recall_mean = np.mean(metric_results['recall'])\n",
    "        f1_mean = np.mean(metric_results['f1'])\n",
    "\n",
    "        # Calculate the standard deviation of f1\n",
    "        f1_std = np.std(metric_results['f1'])\n",
    "\n",
    "        return {'classifier': classifier.__class__.__name__, 'splitting': splitting, 'feature_selection': feature_selection, 'scaling': scaling, 'n_features_orig': n_features_orig, 'n_features': n_features, 'accuracy': accuracy_mean, 'precision': precision_mean, 'recall': recall_mean, 'f1': f1_mean, 'f1_std': f1_std}\n",
    "\n",
    "    elif splitting == \"holdout\":\n",
    "        X_train, X_test, y_train, y_test = train_test_split(X, Y, test_size=0.3, random_state=18)\n",
    "        \n",
    "        # preprocess the data\n",
    "        # feature selection\n",
    "        rel_features = select_features(X_train, y_train, feature_selection)\n",
    "        n_features_orig = X_train.shape[1]\n",
    "        n_features = len(rel_features)\n",
    "\n",
    "        # scaling the data\n",
    "        X_train_preprocessed, X_test_preprocessed = scale(X_train[rel_features], X_test[rel_features], scaling)\n",
    "\n",
    "        # train and evaluate the model\n",
    "        clf = classifier\n",
    "        clf.fit(X_train_preprocessed, y_train)\n",
    "        Y_pred = clf.predict(X_test_preprocessed)\n",
    "\n",
    "        # calculate the accuracy, precision, recall and f1 score per fold\n",
    "        accuracy = metrics.accuracy_score(y_test, Y_pred)\n",
    "        precision = metrics.precision_score(y_test, Y_pred, average='weighted')\n",
    "        recall = metrics.recall_score(y_test, Y_pred, average='weighted')\n",
    "        f1 = metrics.f1_score(y_test, Y_pred, average='weighted')\n",
    "\n",
    "        return {'classifier': classifier.__class__.__name__, 'splitting': splitting, 'feature_selection': feature_selection, 'scaling': scaling, 'n_features_orig': n_features_orig, 'n_features': n_features, 'accuracy': accuracy, 'precision': precision, 'recall': recall, 'f1': f1}\n",
    "    "
   ]
  },
  {
   "cell_type": "markdown",
   "metadata": {},
   "source": [
    "## Load the data"
   ]
  },
  {
   "cell_type": "markdown",
   "metadata": {},
   "source": [
    "### Congressional voting\n",
    "An iterativ imputation has been already done on the data."
   ]
  },
  {
   "cell_type": "code",
   "execution_count": 20,
   "metadata": {},
   "outputs": [],
   "source": [
    "test_df = pd.read_csv(\"./preprocessed-datasets/CongressionVoting_prepro.csv\")\n",
    "test_df.set_index('ID', inplace=True)\n",
    "test_df_X = test_df.drop(columns=[\"class\"])\n",
    "test_df_Y = test_df[\"class\"]"
   ]
  },
  {
   "cell_type": "markdown",
   "metadata": {},
   "source": [
    "## Evaluation\n",
    "\n",
    "The **evaluate_model** function takes:\n",
    "* the input feature (*X*),\n",
    "* the dependent variable (*Y*)\n",
    "* the preprocessing method as a string:\n",
    "    * the so far implemented possible options can be found in the *preprocess_options* list. Here *else* is implemented as the *StandardScaler()*, however it could be combined with additional feature selection to achieve a better result.\n",
    "* classifier as a function:\n",
    "    * so far the only tried one is *SVC(C=3, kernel='sigmoid')*\n",
    "* folds to define the number of  folds. The default value is 5."
   ]
  },
  {
   "cell_type": "code",
   "execution_count": 21,
   "metadata": {},
   "outputs": [],
   "source": [
    "#preprocess_options = [\"none\", \"featureselection\", \"else\"]"
   ]
  },
  {
   "cell_type": "markdown",
   "metadata": {},
   "source": [
    "The changed evaluate_model function is the following:\n",
    "* takes the input feature and the dependent variable\n",
    "* splits the data into train and test set\n",
    "* preprocesses the data\n",
    "    * feature selection\n",
    "    * scaling \n",
    "* trains the classifier on the train set"
   ]
  },
  {
   "cell_type": "code",
   "execution_count": 22,
   "metadata": {},
   "outputs": [
    {
     "data": {
      "text/plain": [
       "{'classifier': 'SVC',\n",
       " 'splitting': 'cv',\n",
       " 'feature_selection': None,\n",
       " 'scaling': 'standard',\n",
       " 'n_features_orig': 16,\n",
       " 'n_features': 16,\n",
       " 'accuracy': 0.9539112050739957,\n",
       " 'precision': 0.9550828119249172,\n",
       " 'recall': 0.9539112050739957,\n",
       " 'f1': 0.9536452231720876,\n",
       " 'f1_std': 0.02997516371593895}"
      ]
     },
     "execution_count": 22,
     "metadata": {},
     "output_type": "execute_result"
    }
   ],
   "source": [
    "evaluate_model(test_df_X, test_df_Y, None, \"standard\", SVC(C=3, kernel='sigmoid'), splitting=\"cv\")"
   ]
  },
  {
   "cell_type": "markdown",
   "metadata": {},
   "source": [
    "## Experimeting a bit"
   ]
  },
  {
   "cell_type": "markdown",
   "metadata": {},
   "source": [
    "Loading the datasets"
   ]
  },
  {
   "cell_type": "code",
   "execution_count": 23,
   "metadata": {},
   "outputs": [
    {
     "name": "stdout",
     "output_type": "stream",
     "text": [
      "<class 'pandas.core.frame.DataFrame'>\n",
      "RangeIndex: 41188 entries, 0 to 41187\n",
      "Data columns (total 35 columns):\n",
      " #   Column                         Non-Null Count  Dtype  \n",
      "---  ------                         --------------  -----  \n",
      " 0   Unnamed: 0                     41188 non-null  int64  \n",
      " 1   age                            41188 non-null  float64\n",
      " 2   default                        41188 non-null  float64\n",
      " 3   housing                        41188 non-null  float64\n",
      " 4   loan                           41188 non-null  float64\n",
      " 5   campaign                       41188 non-null  float64\n",
      " 6   pdays                          41188 non-null  float64\n",
      " 7   previous                       41188 non-null  float64\n",
      " 8   emp.var.rate                   41188 non-null  float64\n",
      " 9   cons.price.idx                 41188 non-null  float64\n",
      " 10  cons.conf.idx                  41188 non-null  float64\n",
      " 11  euribor3m                      41188 non-null  float64\n",
      " 12  nr.employed                    41188 non-null  float64\n",
      " 13  class                          41188 non-null  float64\n",
      " 14  job_blue-collar                41188 non-null  float64\n",
      " 15  job_management                 41188 non-null  float64\n",
      " 16  job_other                      41188 non-null  float64\n",
      " 17  job_self-employed              41188 non-null  float64\n",
      " 18  job_serivces                   41188 non-null  float64\n",
      " 19  job_technician                 41188 non-null  float64\n",
      " 20  marital_divorced               41188 non-null  float64\n",
      " 21  marital_married                41188 non-null  float64\n",
      " 22  marital_single                 41188 non-null  float64\n",
      " 23  marital_unknown                41188 non-null  float64\n",
      " 24  education_basic.4y             41188 non-null  float64\n",
      " 25  education_basic.6y             41188 non-null  float64\n",
      " 26  education_basic.9y             41188 non-null  float64\n",
      " 27  education_high.school          41188 non-null  float64\n",
      " 28  education_illiterate           41188 non-null  float64\n",
      " 29  education_professional.course  41188 non-null  float64\n",
      " 30  education_university.degree    41188 non-null  float64\n",
      " 31  education_unknown              41188 non-null  float64\n",
      " 32  poutcome_failure               41188 non-null  float64\n",
      " 33  poutcome_nonexistent           41188 non-null  float64\n",
      " 34  poutcome_success               41188 non-null  float64\n",
      "dtypes: float64(34), int64(1)\n",
      "memory usage: 11.0 MB\n"
     ]
    }
   ],
   "source": [
    "bank_marketing = pd.read_csv(\"./preprocessed-datasets/bank_marketing_prepro.csv\")\n",
    "bank_marketing.info()"
   ]
  },
  {
   "cell_type": "code",
   "execution_count": 24,
   "metadata": {},
   "outputs": [
    {
     "name": "stdout",
     "output_type": "stream",
     "text": [
      "<class 'pandas.core.frame.DataFrame'>\n",
      "RangeIndex: 6497 entries, 0 to 6496\n",
      "Data columns (total 14 columns):\n",
      " #   Column                Non-Null Count  Dtype  \n",
      "---  ------                --------------  -----  \n",
      " 0   Unnamed: 0            6497 non-null   int64  \n",
      " 1   fixed acidity         6497 non-null   float64\n",
      " 2   volatile acidity      6497 non-null   float64\n",
      " 3   citric acid           6497 non-null   float64\n",
      " 4   residual sugar        6497 non-null   float64\n",
      " 5   chlorides             6497 non-null   float64\n",
      " 6   free sulfur dioxide   6497 non-null   float64\n",
      " 7   total sulfur dioxide  6497 non-null   float64\n",
      " 8   density               6497 non-null   float64\n",
      " 9   pH                    6497 non-null   float64\n",
      " 10  sulphates             6497 non-null   float64\n",
      " 11  alcohol               6497 non-null   float64\n",
      " 12  class                 6497 non-null   int64  \n",
      " 13  wine_type             6497 non-null   int64  \n",
      "dtypes: float64(11), int64(3)\n",
      "memory usage: 710.7 KB\n"
     ]
    }
   ],
   "source": [
    "wine_quality = pd.read_csv(\"./preprocessed-datasets/wine_quality_prepro.csv\")\n",
    "wine_quality.info()"
   ]
  },
  {
   "cell_type": "code",
   "execution_count": 25,
   "metadata": {},
   "outputs": [
    {
     "name": "stdout",
     "output_type": "stream",
     "text": [
      "<class 'pandas.core.frame.DataFrame'>\n",
      "Int64Index: 217 entries, 140 to 324\n",
      "Data columns (total 17 columns):\n",
      " #   Column                                  Non-Null Count  Dtype  \n",
      "---  ------                                  --------------  -----  \n",
      " 0   handicapped-infants                     217 non-null    float64\n",
      " 1   water-project-cost-sharing              217 non-null    float64\n",
      " 2   adoption-of-the-budget-resolution       217 non-null    float64\n",
      " 3   physician-fee-freeze                    217 non-null    float64\n",
      " 4   el-salvador-aid                         217 non-null    float64\n",
      " 5   religious-groups-in-schools             217 non-null    float64\n",
      " 6   anti-satellite-test-ban                 217 non-null    float64\n",
      " 7   aid-to-nicaraguan-contras               217 non-null    float64\n",
      " 8   mx-missile                              217 non-null    float64\n",
      " 9   immigration                             217 non-null    float64\n",
      " 10  synfuels-crporation-cutback             217 non-null    float64\n",
      " 11  education-spending                      217 non-null    float64\n",
      " 12  superfund-right-to-sue                  217 non-null    float64\n",
      " 13  crime                                   217 non-null    float64\n",
      " 14  duty-free-exports                       217 non-null    float64\n",
      " 15  export-administration-act-south-africa  217 non-null    float64\n",
      " 16  class                                   217 non-null    object \n",
      "dtypes: float64(16), object(1)\n",
      "memory usage: 30.5+ KB\n"
     ]
    }
   ],
   "source": [
    "congression_voting = pd.read_csv(\"./preprocessed-datasets/CongressionVoting_prepro.csv\")\n",
    "congression_voting.set_index('ID', inplace=True)\n",
    "congression_voting.info()"
   ]
  },
  {
   "cell_type": "code",
   "execution_count": 26,
   "metadata": {},
   "outputs": [
    {
     "name": "stdout",
     "output_type": "stream",
     "text": [
      "<class 'pandas.core.frame.DataFrame'>\n",
      "Int64Index: 750 entries, 0 to 749\n",
      "Columns: 10001 entries, V1 to class\n",
      "dtypes: int64(10000), object(1)\n",
      "memory usage: 57.2+ MB\n"
     ]
    }
   ],
   "source": [
    "reviews = pd.read_csv(\"./preprocessed-datasets/Review_prepro.csv\")\n",
    "reviews.set_index('ID', inplace=True)\n",
    "reviews.info()"
   ]
  },
  {
   "cell_type": "code",
   "execution_count": 27,
   "metadata": {},
   "outputs": [
    {
     "name": "stderr",
     "output_type": "stream",
     "text": [
      "/Users/rebekaangyal/Library/Python/3.9/lib/python/site-packages/sklearn/svm/_base.py:1244: ConvergenceWarning: Liblinear failed to converge, increase the number of iterations.\n",
      "  warnings.warn(\n",
      "/Users/rebekaangyal/Library/Python/3.9/lib/python/site-packages/sklearn/metrics/_classification.py:1344: UndefinedMetricWarning: Precision is ill-defined and being set to 0.0 in labels with no predicted samples. Use `zero_division` parameter to control this behavior.\n",
      "  _warn_prf(average, modifier, msg_start, len(result))\n"
     ]
    },
    {
     "name": "stdout",
     "output_type": "stream",
     "text": [
      "Time taken for wine_quality, p-value, None, LinearSVC, holdout: 1.6154003143310547 seconds\n",
      "Time taken for wine_quality, p-value, None, DecisionTreeClassifier, holdout: 0.16407489776611328 seconds\n"
     ]
    },
    {
     "name": "stderr",
     "output_type": "stream",
     "text": [
      "/Users/rebekaangyal/Library/Python/3.9/lib/python/site-packages/sklearn/svm/_base.py:1244: ConvergenceWarning: Liblinear failed to converge, increase the number of iterations.\n",
      "  warnings.warn(\n",
      "/Users/rebekaangyal/Library/Python/3.9/lib/python/site-packages/sklearn/metrics/_classification.py:1344: UndefinedMetricWarning: Precision is ill-defined and being set to 0.0 in labels with no predicted samples. Use `zero_division` parameter to control this behavior.\n",
      "  _warn_prf(average, modifier, msg_start, len(result))\n",
      "/Users/rebekaangyal/Library/Python/3.9/lib/python/site-packages/sklearn/metrics/_classification.py:1344: UndefinedMetricWarning: Recall is ill-defined and being set to 0.0 in labels with no true samples. Use `zero_division` parameter to control this behavior.\n",
      "  _warn_prf(average, modifier, msg_start, len(result))\n"
     ]
    },
    {
     "name": "stdout",
     "output_type": "stream",
     "text": [
      "Time taken for wine_quality, p-value, standard, LinearSVC, holdout: 1.663012981414795 seconds\n",
      "Time taken for wine_quality, p-value, standard, DecisionTreeClassifier, holdout: 0.1291027069091797 seconds\n"
     ]
    },
    {
     "name": "stderr",
     "output_type": "stream",
     "text": [
      "/Users/rebekaangyal/Library/Python/3.9/lib/python/site-packages/sklearn/svm/_base.py:1244: ConvergenceWarning: Liblinear failed to converge, increase the number of iterations.\n",
      "  warnings.warn(\n",
      "/Users/rebekaangyal/Library/Python/3.9/lib/python/site-packages/sklearn/metrics/_classification.py:1344: UndefinedMetricWarning: Precision is ill-defined and being set to 0.0 in labels with no predicted samples. Use `zero_division` parameter to control this behavior.\n",
      "  _warn_prf(average, modifier, msg_start, len(result))\n",
      "/Users/rebekaangyal/Library/Python/3.9/lib/python/site-packages/sklearn/metrics/_classification.py:1344: UndefinedMetricWarning: Recall is ill-defined and being set to 0.0 in labels with no true samples. Use `zero_division` parameter to control this behavior.\n",
      "  _warn_prf(average, modifier, msg_start, len(result))\n"
     ]
    },
    {
     "name": "stdout",
     "output_type": "stream",
     "text": [
      "Time taken for reviews, p-value, None, LinearSVC, holdout: 92.38470983505249 seconds\n"
     ]
    },
    {
     "name": "stderr",
     "output_type": "stream",
     "text": [
      "/Users/rebekaangyal/Library/Python/3.9/lib/python/site-packages/sklearn/metrics/_classification.py:1344: UndefinedMetricWarning: Precision is ill-defined and being set to 0.0 in labels with no predicted samples. Use `zero_division` parameter to control this behavior.\n",
      "  _warn_prf(average, modifier, msg_start, len(result))\n"
     ]
    },
    {
     "name": "stdout",
     "output_type": "stream",
     "text": [
      "Time taken for reviews, p-value, None, DecisionTreeClassifier, holdout: 125.12743496894836 seconds\n"
     ]
    },
    {
     "name": "stderr",
     "output_type": "stream",
     "text": [
      "/Users/rebekaangyal/Library/Python/3.9/lib/python/site-packages/sklearn/svm/_base.py:1244: ConvergenceWarning: Liblinear failed to converge, increase the number of iterations.\n",
      "  warnings.warn(\n",
      "/Users/rebekaangyal/Library/Python/3.9/lib/python/site-packages/sklearn/metrics/_classification.py:1344: UndefinedMetricWarning: Recall is ill-defined and being set to 0.0 in labels with no true samples. Use `zero_division` parameter to control this behavior.\n",
      "  _warn_prf(average, modifier, msg_start, len(result))\n"
     ]
    },
    {
     "name": "stdout",
     "output_type": "stream",
     "text": [
      "Time taken for reviews, p-value, standard, LinearSVC, holdout: 642.6072850227356 seconds\n"
     ]
    },
    {
     "name": "stderr",
     "output_type": "stream",
     "text": [
      "/Users/rebekaangyal/Library/Python/3.9/lib/python/site-packages/sklearn/metrics/_classification.py:1344: UndefinedMetricWarning: Precision is ill-defined and being set to 0.0 in labels with no predicted samples. Use `zero_division` parameter to control this behavior.\n",
      "  _warn_prf(average, modifier, msg_start, len(result))\n"
     ]
    },
    {
     "name": "stdout",
     "output_type": "stream",
     "text": [
      "Time taken for reviews, p-value, standard, DecisionTreeClassifier, holdout: 83.9962706565857 seconds\n",
      "Time taken for congression_voting, p-value, None, LinearSVC, holdout: 0.10294795036315918 seconds\n",
      "Time taken for congression_voting, p-value, None, DecisionTreeClassifier, holdout: 0.11632895469665527 seconds\n",
      "Time taken for congression_voting, p-value, standard, LinearSVC, holdout: 0.18544936180114746 seconds\n",
      "Time taken for congression_voting, p-value, standard, DecisionTreeClassifier, holdout: 0.1359248161315918 seconds\n"
     ]
    },
    {
     "name": "stderr",
     "output_type": "stream",
     "text": [
      "/Users/rebekaangyal/Library/Python/3.9/lib/python/site-packages/sklearn/svm/_base.py:1244: ConvergenceWarning: Liblinear failed to converge, increase the number of iterations.\n",
      "  warnings.warn(\n",
      "/Users/rebekaangyal/Library/Python/3.9/lib/python/site-packages/sklearn/metrics/_classification.py:1344: UndefinedMetricWarning: Precision is ill-defined and being set to 0.0 in labels with no predicted samples. Use `zero_division` parameter to control this behavior.\n",
      "  _warn_prf(average, modifier, msg_start, len(result))\n"
     ]
    },
    {
     "name": "stdout",
     "output_type": "stream",
     "text": [
      "Time taken for bank_marketing, p-value, None, LinearSVC, holdout: 7.985713958740234 seconds\n",
      "Time taken for bank_marketing, p-value, None, DecisionTreeClassifier, holdout: 0.8764472007751465 seconds\n"
     ]
    },
    {
     "name": "stderr",
     "output_type": "stream",
     "text": [
      "/Users/rebekaangyal/Library/Python/3.9/lib/python/site-packages/sklearn/svm/_base.py:1244: ConvergenceWarning: Liblinear failed to converge, increase the number of iterations.\n",
      "  warnings.warn(\n"
     ]
    },
    {
     "name": "stdout",
     "output_type": "stream",
     "text": [
      "Time taken for bank_marketing, p-value, standard, LinearSVC, holdout: 11.225059747695923 seconds\n",
      "Time taken for bank_marketing, p-value, standard, DecisionTreeClassifier, holdout: 0.8368051052093506 seconds\n"
     ]
    }
   ],
   "source": [
    "datasets = {\n",
    "    'wine_quality': wine_quality,\n",
    "    'reviews': reviews,\n",
    "    'congression_voting': congression_voting,\n",
    "    'bank_marketing': bank_marketing\n",
    "}\n",
    "\n",
    "feature_selection_methods = ['p-value'] # None , 'variance', 'correlation']\n",
    "scaling_methods = [None, 'standard'] #, 'minmax', 'robust']\n",
    "classifiers = [LinearSVC(), DecisionTreeClassifier()] #, GaussianNB()]\n",
    "\n",
    "results = []\n",
    "\n",
    "for dataset_name, dataset in datasets.items():\n",
    "    for feature_selection_method in feature_selection_methods:\n",
    "        for scaling_method in scaling_methods:\n",
    "            for classifier in classifiers:\n",
    "                for splitting_method in [\"holdout\"]: # ,'cv']:\n",
    "                    X = dataset.drop(columns=[\"class\"])\n",
    "                    Y = dataset[\"class\"]\n",
    "                    start_time = time.time()\n",
    "                    evaluation_result = evaluate_model(X, Y, feature_selection_method, scaling_method, classifier, splitting_method)\n",
    "                    end_time = time.time()\n",
    "                    time_taken = end_time - start_time\n",
    "                    print(f\"Time taken for {dataset_name}, {feature_selection_method}, {scaling_method}, {classifier.__class__.__name__}, {splitting_method}: {time_taken} seconds\")\n",
    "                    results.append({'dataset': dataset_name, 'result': evaluation_result})\n",
    "\n"
   ]
  },
  {
   "cell_type": "code",
   "execution_count": 28,
   "metadata": {},
   "outputs": [
    {
     "data": {
      "text/html": [
       "<div>\n",
       "<style scoped>\n",
       "    .dataframe tbody tr th:only-of-type {\n",
       "        vertical-align: middle;\n",
       "    }\n",
       "\n",
       "    .dataframe tbody tr th {\n",
       "        vertical-align: top;\n",
       "    }\n",
       "\n",
       "    .dataframe thead th {\n",
       "        text-align: right;\n",
       "    }\n",
       "</style>\n",
       "<table border=\"1\" class=\"dataframe\">\n",
       "  <thead>\n",
       "    <tr style=\"text-align: right;\">\n",
       "      <th></th>\n",
       "      <th>dataset</th>\n",
       "      <th>classifier</th>\n",
       "      <th>splitting</th>\n",
       "      <th>feature_selection</th>\n",
       "      <th>scaling</th>\n",
       "      <th>n_features_orig</th>\n",
       "      <th>n_features</th>\n",
       "      <th>accuracy</th>\n",
       "      <th>precision</th>\n",
       "      <th>recall</th>\n",
       "      <th>f1</th>\n",
       "    </tr>\n",
       "  </thead>\n",
       "  <tbody>\n",
       "    <tr>\n",
       "      <th>0</th>\n",
       "      <td>wine_quality</td>\n",
       "      <td>LinearSVC</td>\n",
       "      <td>holdout</td>\n",
       "      <td>p-value</td>\n",
       "      <td>None</td>\n",
       "      <td>13</td>\n",
       "      <td>4</td>\n",
       "      <td>0.430256</td>\n",
       "      <td>0.409428</td>\n",
       "      <td>0.430256</td>\n",
       "      <td>0.360814</td>\n",
       "    </tr>\n",
       "    <tr>\n",
       "      <th>1</th>\n",
       "      <td>wine_quality</td>\n",
       "      <td>DecisionTreeClassifier</td>\n",
       "      <td>holdout</td>\n",
       "      <td>p-value</td>\n",
       "      <td>None</td>\n",
       "      <td>13</td>\n",
       "      <td>4</td>\n",
       "      <td>0.572308</td>\n",
       "      <td>0.577383</td>\n",
       "      <td>0.572308</td>\n",
       "      <td>0.574542</td>\n",
       "    </tr>\n",
       "    <tr>\n",
       "      <th>2</th>\n",
       "      <td>wine_quality</td>\n",
       "      <td>LinearSVC</td>\n",
       "      <td>holdout</td>\n",
       "      <td>p-value</td>\n",
       "      <td>standard</td>\n",
       "      <td>13</td>\n",
       "      <td>4</td>\n",
       "      <td>0.516923</td>\n",
       "      <td>0.480603</td>\n",
       "      <td>0.516923</td>\n",
       "      <td>0.455992</td>\n",
       "    </tr>\n",
       "    <tr>\n",
       "      <th>3</th>\n",
       "      <td>wine_quality</td>\n",
       "      <td>DecisionTreeClassifier</td>\n",
       "      <td>holdout</td>\n",
       "      <td>p-value</td>\n",
       "      <td>standard</td>\n",
       "      <td>13</td>\n",
       "      <td>4</td>\n",
       "      <td>0.570769</td>\n",
       "      <td>0.574581</td>\n",
       "      <td>0.570769</td>\n",
       "      <td>0.572357</td>\n",
       "    </tr>\n",
       "    <tr>\n",
       "      <th>4</th>\n",
       "      <td>reviews</td>\n",
       "      <td>LinearSVC</td>\n",
       "      <td>holdout</td>\n",
       "      <td>p-value</td>\n",
       "      <td>None</td>\n",
       "      <td>10000</td>\n",
       "      <td>5797</td>\n",
       "      <td>0.506667</td>\n",
       "      <td>0.540704</td>\n",
       "      <td>0.506667</td>\n",
       "      <td>0.480788</td>\n",
       "    </tr>\n",
       "    <tr>\n",
       "      <th>5</th>\n",
       "      <td>reviews</td>\n",
       "      <td>DecisionTreeClassifier</td>\n",
       "      <td>holdout</td>\n",
       "      <td>p-value</td>\n",
       "      <td>None</td>\n",
       "      <td>10000</td>\n",
       "      <td>5797</td>\n",
       "      <td>0.328889</td>\n",
       "      <td>0.394603</td>\n",
       "      <td>0.328889</td>\n",
       "      <td>0.334275</td>\n",
       "    </tr>\n",
       "    <tr>\n",
       "      <th>6</th>\n",
       "      <td>reviews</td>\n",
       "      <td>LinearSVC</td>\n",
       "      <td>holdout</td>\n",
       "      <td>p-value</td>\n",
       "      <td>standard</td>\n",
       "      <td>10000</td>\n",
       "      <td>5797</td>\n",
       "      <td>0.577778</td>\n",
       "      <td>0.680304</td>\n",
       "      <td>0.577778</td>\n",
       "      <td>0.572254</td>\n",
       "    </tr>\n",
       "    <tr>\n",
       "      <th>7</th>\n",
       "      <td>reviews</td>\n",
       "      <td>DecisionTreeClassifier</td>\n",
       "      <td>holdout</td>\n",
       "      <td>p-value</td>\n",
       "      <td>standard</td>\n",
       "      <td>10000</td>\n",
       "      <td>5797</td>\n",
       "      <td>0.324444</td>\n",
       "      <td>0.373115</td>\n",
       "      <td>0.324444</td>\n",
       "      <td>0.324778</td>\n",
       "    </tr>\n",
       "    <tr>\n",
       "      <th>8</th>\n",
       "      <td>congression_voting</td>\n",
       "      <td>LinearSVC</td>\n",
       "      <td>holdout</td>\n",
       "      <td>p-value</td>\n",
       "      <td>None</td>\n",
       "      <td>16</td>\n",
       "      <td>14</td>\n",
       "      <td>0.969697</td>\n",
       "      <td>0.969697</td>\n",
       "      <td>0.969697</td>\n",
       "      <td>0.969697</td>\n",
       "    </tr>\n",
       "    <tr>\n",
       "      <th>9</th>\n",
       "      <td>congression_voting</td>\n",
       "      <td>DecisionTreeClassifier</td>\n",
       "      <td>holdout</td>\n",
       "      <td>p-value</td>\n",
       "      <td>None</td>\n",
       "      <td>16</td>\n",
       "      <td>14</td>\n",
       "      <td>0.954545</td>\n",
       "      <td>0.954678</td>\n",
       "      <td>0.954545</td>\n",
       "      <td>0.954380</td>\n",
       "    </tr>\n",
       "    <tr>\n",
       "      <th>10</th>\n",
       "      <td>congression_voting</td>\n",
       "      <td>LinearSVC</td>\n",
       "      <td>holdout</td>\n",
       "      <td>p-value</td>\n",
       "      <td>standard</td>\n",
       "      <td>16</td>\n",
       "      <td>14</td>\n",
       "      <td>0.969697</td>\n",
       "      <td>0.969697</td>\n",
       "      <td>0.969697</td>\n",
       "      <td>0.969697</td>\n",
       "    </tr>\n",
       "    <tr>\n",
       "      <th>11</th>\n",
       "      <td>congression_voting</td>\n",
       "      <td>DecisionTreeClassifier</td>\n",
       "      <td>holdout</td>\n",
       "      <td>p-value</td>\n",
       "      <td>standard</td>\n",
       "      <td>16</td>\n",
       "      <td>14</td>\n",
       "      <td>0.939394</td>\n",
       "      <td>0.940296</td>\n",
       "      <td>0.939394</td>\n",
       "      <td>0.938921</td>\n",
       "    </tr>\n",
       "    <tr>\n",
       "      <th>12</th>\n",
       "      <td>bank_marketing</td>\n",
       "      <td>LinearSVC</td>\n",
       "      <td>holdout</td>\n",
       "      <td>p-value</td>\n",
       "      <td>None</td>\n",
       "      <td>34</td>\n",
       "      <td>24</td>\n",
       "      <td>0.887999</td>\n",
       "      <td>0.788542</td>\n",
       "      <td>0.887999</td>\n",
       "      <td>0.835320</td>\n",
       "    </tr>\n",
       "    <tr>\n",
       "      <th>13</th>\n",
       "      <td>bank_marketing</td>\n",
       "      <td>DecisionTreeClassifier</td>\n",
       "      <td>holdout</td>\n",
       "      <td>p-value</td>\n",
       "      <td>None</td>\n",
       "      <td>34</td>\n",
       "      <td>24</td>\n",
       "      <td>0.850125</td>\n",
       "      <td>0.852475</td>\n",
       "      <td>0.850125</td>\n",
       "      <td>0.851284</td>\n",
       "    </tr>\n",
       "    <tr>\n",
       "      <th>14</th>\n",
       "      <td>bank_marketing</td>\n",
       "      <td>LinearSVC</td>\n",
       "      <td>holdout</td>\n",
       "      <td>p-value</td>\n",
       "      <td>standard</td>\n",
       "      <td>34</td>\n",
       "      <td>24</td>\n",
       "      <td>0.898762</td>\n",
       "      <td>0.880115</td>\n",
       "      <td>0.898762</td>\n",
       "      <td>0.871951</td>\n",
       "    </tr>\n",
       "    <tr>\n",
       "      <th>15</th>\n",
       "      <td>bank_marketing</td>\n",
       "      <td>DecisionTreeClassifier</td>\n",
       "      <td>holdout</td>\n",
       "      <td>p-value</td>\n",
       "      <td>standard</td>\n",
       "      <td>34</td>\n",
       "      <td>24</td>\n",
       "      <td>0.849721</td>\n",
       "      <td>0.851842</td>\n",
       "      <td>0.849721</td>\n",
       "      <td>0.850768</td>\n",
       "    </tr>\n",
       "  </tbody>\n",
       "</table>\n",
       "</div>"
      ],
      "text/plain": [
       "               dataset              classifier splitting feature_selection  \\\n",
       "0         wine_quality               LinearSVC   holdout           p-value   \n",
       "1         wine_quality  DecisionTreeClassifier   holdout           p-value   \n",
       "2         wine_quality               LinearSVC   holdout           p-value   \n",
       "3         wine_quality  DecisionTreeClassifier   holdout           p-value   \n",
       "4              reviews               LinearSVC   holdout           p-value   \n",
       "5              reviews  DecisionTreeClassifier   holdout           p-value   \n",
       "6              reviews               LinearSVC   holdout           p-value   \n",
       "7              reviews  DecisionTreeClassifier   holdout           p-value   \n",
       "8   congression_voting               LinearSVC   holdout           p-value   \n",
       "9   congression_voting  DecisionTreeClassifier   holdout           p-value   \n",
       "10  congression_voting               LinearSVC   holdout           p-value   \n",
       "11  congression_voting  DecisionTreeClassifier   holdout           p-value   \n",
       "12      bank_marketing               LinearSVC   holdout           p-value   \n",
       "13      bank_marketing  DecisionTreeClassifier   holdout           p-value   \n",
       "14      bank_marketing               LinearSVC   holdout           p-value   \n",
       "15      bank_marketing  DecisionTreeClassifier   holdout           p-value   \n",
       "\n",
       "     scaling  n_features_orig  n_features  accuracy  precision    recall  \\\n",
       "0       None               13           4  0.430256   0.409428  0.430256   \n",
       "1       None               13           4  0.572308   0.577383  0.572308   \n",
       "2   standard               13           4  0.516923   0.480603  0.516923   \n",
       "3   standard               13           4  0.570769   0.574581  0.570769   \n",
       "4       None            10000        5797  0.506667   0.540704  0.506667   \n",
       "5       None            10000        5797  0.328889   0.394603  0.328889   \n",
       "6   standard            10000        5797  0.577778   0.680304  0.577778   \n",
       "7   standard            10000        5797  0.324444   0.373115  0.324444   \n",
       "8       None               16          14  0.969697   0.969697  0.969697   \n",
       "9       None               16          14  0.954545   0.954678  0.954545   \n",
       "10  standard               16          14  0.969697   0.969697  0.969697   \n",
       "11  standard               16          14  0.939394   0.940296  0.939394   \n",
       "12      None               34          24  0.887999   0.788542  0.887999   \n",
       "13      None               34          24  0.850125   0.852475  0.850125   \n",
       "14  standard               34          24  0.898762   0.880115  0.898762   \n",
       "15  standard               34          24  0.849721   0.851842  0.849721   \n",
       "\n",
       "          f1  \n",
       "0   0.360814  \n",
       "1   0.574542  \n",
       "2   0.455992  \n",
       "3   0.572357  \n",
       "4   0.480788  \n",
       "5   0.334275  \n",
       "6   0.572254  \n",
       "7   0.324778  \n",
       "8   0.969697  \n",
       "9   0.954380  \n",
       "10  0.969697  \n",
       "11  0.938921  \n",
       "12  0.835320  \n",
       "13  0.851284  \n",
       "14  0.871951  \n",
       "15  0.850768  "
      ]
     },
     "execution_count": 28,
     "metadata": {},
     "output_type": "execute_result"
    }
   ],
   "source": [
    "df = pd.DataFrame(results)\n",
    "results_df = pd.json_normalize(df['result'])\n",
    "results_df.insert(0, 'dataset', df['dataset'])\n",
    "results_df"
   ]
  },
  {
   "cell_type": "code",
   "execution_count": 29,
   "metadata": {},
   "outputs": [
    {
     "data": {
      "image/png": "[encoded data removed]",
      "text/plain": [
       "<Figure size 1200x600 with 1 Axes>"
      ]
     },
     "metadata": {},
     "output_type": "display_data"
    }
   ],
   "source": [
    "plt.figure(figsize=(12, 6))\n",
    "sns.barplot(x='dataset', y='f1', hue='classifier', data=results_df)\n",
    "plt.title('Comparison of f1 across datasets and classifiers')\n",
    "plt.show()"
   ]
  },
  {
   "cell_type": "code",
   "execution_count": null,
   "metadata": {},
   "outputs": [],
   "source": []
  }
 ],
 "metadata": {
  "kernelspec": {
   "display_name": "base",
   "language": "python",
   "name": "python3"
  },
  "language_info": {
   "codemirror_mode": {
    "name": "ipython",
    "version": 3
   },
   "file_extension": ".py",
   "mimetype": "text/x-python",
   "name": "python",
   "nbconvert_exporter": "python",
   "pygments_lexer": "ipython3",
   "version": "3.9.6"
  }
 },
 "nbformat": 4,
 "nbformat_minor": 2
}
