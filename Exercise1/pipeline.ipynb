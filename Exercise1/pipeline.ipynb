{
 "cells": [
  {
   "cell_type": "code",
   "execution_count": 166,
   "metadata": {},
   "outputs": [],
   "source": [
    "import pandas as pd\n",
    "import numpy as np\n",
    "import matplotlib.pyplot as plt\n",
    "import seaborn as sns\n",
    "from sklearn import metrics\n",
    "from sklearn.model_selection import KFold\n",
    "from sklearn.svm import SVC\n",
    "from sklearn.model_selection import train_test_split\n",
    "from sklearn.feature_selection import SelectKBest, f_classif, VarianceThreshold, chi2\n",
    "from sklearn.preprocessing import StandardScaler, MinMaxScaler, RobustScaler, OrdinalEncoder, LabelEncoder\n",
    "from sklearn.linear_model import SGDClassifier\n",
    "from sklearn.ensemble import RandomForestClassifier\n",
    "from sklearn.svm import LinearSVC\n",
    "from sklearn.tree import DecisionTreeClassifier\n",
    "from sklearn.naive_bayes import GaussianNB\n",
    "from sklearn.neighbors import KNeighborsClassifier\n",
    "from sklearn.linear_model import SGDClassifier\n",
    "from imblearn.over_sampling import SMOTE\n",
    "from sklearn.linear_model import LogisticRegression\n",
    "import time"
   ]
  },
  {
   "cell_type": "markdown",
   "metadata": {},
   "source": [
    "## Create the evaluation function"
   ]
  },
  {
   "cell_type": "code",
   "execution_count": 167,
   "metadata": {},
   "outputs": [],
   "source": [
    "# Function for feature selection version 1\n",
    "def feature_selection(X, Y):\n",
    "    f, p = f_classif(X, Y)\n",
    "    corr_df = pd.DataFrame({'features': X.columns, 'f_val': f, 'p_val': p})\n",
    "    # using the 3 level significance test \n",
    "    # (***: p_val < 0.001, **: p_val < 0.01, *: p_val < 0.05)\n",
    "    # we will select the features with p_val < 0.05\n",
    "    p_tr = 0.001\n",
    "    relevant_features = corr_df.loc[corr_df['p_val'] < p_tr, \"features\"].tolist()\n",
    "    # print(f\"There are {len(relevant_features)} relevant features and they are: {relevant_features}\")\n",
    "    \n",
    "    return relevant_features"
   ]
  },
  {
   "cell_type": "markdown",
   "metadata": {},
   "source": [
    "I created a feature selection function that includes different selection methods:"
   ]
  },
  {
   "cell_type": "code",
   "execution_count": 168,
   "metadata": {},
   "outputs": [],
   "source": [
    "# Function for feature selection version 2\n",
    "def select_features(X, y, method, corr_threshold=0.5):\n",
    "    \n",
    "    if method is None:\n",
    "        return X.columns\n",
    "        \n",
    "    # Feature selection using chi-squared\n",
    "    elif method == 'p-value':\n",
    "        # Remove constant features\n",
    "        X = X.loc[:, X.apply(pd.Series.nunique) != 1]\n",
    "        p_values = []\n",
    "        for feature in X.columns:\n",
    "            f, p = chi2(X[[feature]], y)\n",
    "            p_values.append(p)\n",
    "\n",
    "        p_values = np.array(p_values).reshape(-1)\n",
    "        p_values = pd.Series(p_values, index=X.columns).sort_values()\n",
    "        selected_features = p_values[p_values < 0.05].index\n",
    "    \n",
    "    # Feature selection using VarianceThreshold\n",
    "    elif method == 'variance':\n",
    "        X = X.loc[:, X.apply(pd.Series.nunique) != 1]\n",
    "        var_thr = VarianceThreshold(threshold=0.25)\n",
    "        var_thr.fit(X)\n",
    "        selected_features = X.columns[var_thr.get_support()]  \n",
    "    \n",
    "    # Feature selection using Pearson correlation\n",
    "    elif method == 'correlation':\n",
    "        X = X.loc[:, X.apply(pd.Series.nunique) != 1]\n",
    "        corr = X.corr()\n",
    "        col_corr = set()\n",
    "\n",
    "        corr_matrix = np.abs(corr.values)\n",
    "\n",
    "        n = corr_matrix.shape[0]\n",
    "\n",
    "        for i in range(n):\n",
    "            for j in range(i):\n",
    "                if corr_matrix[i, j] > corr_threshold:\n",
    "                    colname = X.columns[i]\n",
    "                    col_corr.add(colname)\n",
    "\n",
    "        selected_features = [col for col in X.columns if col not in col_corr]\n",
    "\n",
    "    # More methods to be added \n",
    "                \n",
    "    return selected_features"
   ]
  },
  {
   "cell_type": "markdown",
   "metadata": {},
   "source": [
    "I created a scaling function which includes different scaling methods:"
   ]
  },
  {
   "cell_type": "code",
   "execution_count": 169,
   "metadata": {},
   "outputs": [],
   "source": [
    "# Function for scaling the data\n",
    "def scale(X_train, X_test, method):\n",
    "    \n",
    "    if method is None:\n",
    "        return X_train, X_test\n",
    "\n",
    "    # Scaling using StandardScaler \n",
    "    elif method == 'standard':\n",
    "        scaler = StandardScaler().fit(X_train)\n",
    "\n",
    "    # Scaling using MinMaxScaler\n",
    "    elif method == 'minmax':\n",
    "        scaler = MinMaxScaler().fit(X_train)\n",
    "\n",
    "    # Scaling using RobustScaler\n",
    "    elif method == 'robust':\n",
    "        scaler = RobustScaler().fit(X_train)\n",
    "\n",
    "    X_train_scaled = scaler.transform(X_train)\n",
    "    X_test_scaled = scaler.transform(X_test)\n",
    "                \n",
    "    return X_train_scaled, X_test_scaled"
   ]
  },
  {
   "cell_type": "markdown",
   "metadata": {},
   "source": [
    "Time measurements have been added"
   ]
  },
  {
   "cell_type": "code",
   "execution_count": 170,
   "metadata": {},
   "outputs": [],
   "source": [
    "def evaluate_model(X, Y, feature_selection, scaling, classifier, splitting, folds=5):\n",
    "    if splitting == \"cv\":\n",
    "        kf = KFold(n_splits=folds, shuffle=True, random_state=18)\n",
    "        metric_results = {}\n",
    "        #do the KFold cross validation\n",
    "        for train_index, test_index in kf.split(X,Y):\n",
    "            # split the data into train and test for this fold\n",
    "            X_train, X_test = X.iloc[train_index], X.iloc[test_index]\n",
    "            y_train, y_test = Y.iloc[train_index], Y.iloc[test_index]   \n",
    "            \n",
    "            # preprocess the data\n",
    "            # feature selection\n",
    "            preprocess_start_time = time.time()\n",
    "            rel_features = select_features(X_train, y_train, feature_selection)\n",
    "            n_features_orig = X_train.shape[1]\n",
    "            n_features = len(rel_features)\n",
    "            # scaling the data\n",
    "            X_train_preprocessed, X_test_preprocessed = scale(X_train[rel_features], X_test[rel_features], scaling)\n",
    "            preprocess_end_time = time.time()\n",
    "            preprocess_time = preprocess_end_time - preprocess_start_time\n",
    "                \n",
    "            # train and evaluate the model\n",
    "            clf = classifier\n",
    "            train_start_time = time.time()\n",
    "            clf.fit(X_train_preprocessed, y_train)\n",
    "            train_end_time = time.time()\n",
    "            training_time = train_end_time - train_start_time\n",
    "            \n",
    "            pred_start_time = time.time()\n",
    "            Y_pred_fold = clf.predict(X_test_preprocessed)\n",
    "            pred_end_time = time.time()\n",
    "            prediction_time = pred_end_time - pred_start_time\n",
    "                \n",
    "            # calculate the accuracy, precision, recall and f1 score per fold\n",
    "            accuracy = metrics.accuracy_score(y_test, Y_pred_fold)\n",
    "            precision = metrics.precision_score(y_test, Y_pred_fold, average='weighted')\n",
    "            recall = metrics.recall_score(y_test, Y_pred_fold, average='weighted')\n",
    "            f1 = metrics.f1_score(y_test, Y_pred_fold, average='weighted')\n",
    "\n",
    "            # add the scores to the dict\n",
    "            metric_results.setdefault('accuracy', []).append(accuracy)\n",
    "            metric_results.setdefault('precision', []).append(precision)\n",
    "            metric_results.setdefault('recall', []).append(recall)\n",
    "            metric_results.setdefault('f1', []).append(f1)\n",
    "            metric_results.setdefault('training_time', []).append(training_time)\n",
    "            metric_results.setdefault('prediction_time', []).append(prediction_time)\n",
    "            metric_results.setdefault('preprocess_time', []).append(preprocess_time)\n",
    "            \n",
    "            \n",
    "        # Calculate the mean of the metrics over all folds\n",
    "        accuracy_mean = np.mean(metric_results['accuracy'])\n",
    "        precision_mean = np.mean(metric_results['precision'])\n",
    "        recall_mean = np.mean(metric_results['recall'])\n",
    "        f1_mean = np.mean(metric_results['f1'])\n",
    "        training_time_mean = np.mean(metric_results['training_time'])\n",
    "        prediction_time_mean = np.mean(metric_results['prediction_time'])\n",
    "        preprocess_time_mean = np.mean(metric_results['preprocess_time'])\n",
    "        \n",
    "        # Calculate the standard deviation of f1\n",
    "        f1_std = np.std(metric_results['f1'])\n",
    "\n",
    "        return {'classifier': classifier.__class__.__name__, 'splitting': splitting, 'feature_selection': feature_selection, 'scaling': scaling, 'n_features_orig': n_features_orig, 'n_features': n_features, 'accuracy': accuracy_mean, 'precision': precision_mean, 'recall': recall_mean, 'f1': f1_mean, 'f1_std': f1_std, 'preprocess_time': preprocess_time_mean,'training_time': training_time_mean, 'prediction_time': prediction_time_mean}\n",
    "\n",
    "    elif splitting == \"holdout\":\n",
    "        X_train, X_test, y_train, y_test = train_test_split(X, Y, test_size=0.3, random_state=18)\n",
    "        \n",
    "        # preprocess the data\n",
    "        # feature selection\n",
    "        preprocess_start_time = time.time()\n",
    "        rel_features = select_features(X_train, y_train, feature_selection)\n",
    "        n_features_orig = X_train.shape[1]\n",
    "        n_features = len(rel_features)\n",
    "        # scaling the data\n",
    "        X_train_preprocessed, X_test_preprocessed = scale(X_train[rel_features], X_test[rel_features], scaling)\n",
    "        preprocess_end_time = time.time()\n",
    "        preprocess_time = preprocess_end_time - preprocess_start_time\n",
    "\n",
    "\n",
    "        \n",
    "\n",
    "        # train and evaluate the model\n",
    "        clf = classifier\n",
    "        train_start_time = time.time()\n",
    "        clf.fit(X_train_preprocessed, y_train)\n",
    "        train_end_time = time.time()\n",
    "        training_time = train_end_time - train_start_time\n",
    "        \n",
    "        pred_start_time = time.time()\n",
    "        Y_pred = clf.predict(X_test_preprocessed)\n",
    "        pred_end_time = time.time()\n",
    "        prediction_time = pred_end_time - pred_start_time\n",
    "\n",
    "        # calculate the accuracy, precision, recall and f1 score per fold\n",
    "        accuracy = metrics.accuracy_score(y_test, Y_pred)\n",
    "        precision = metrics.precision_score(y_test, Y_pred, average='weighted')\n",
    "        recall = metrics.recall_score(y_test, Y_pred, average='weighted')\n",
    "        f1 = metrics.f1_score(y_test, Y_pred, average='weighted')\n",
    "\n",
    "        return {'classifier': classifier.__class__.__name__, 'splitting': splitting, 'feature_selection': feature_selection, 'scaling': scaling, 'n_features_orig': n_features_orig, 'n_features': n_features, 'accuracy': accuracy, 'precision': precision, 'recall': recall, 'f1': f1, 'preprocess_time': preprocess_time,'training_time': training_time, 'prediction_time': prediction_time}\n",
    "    "
   ]
  },
  {
   "cell_type": "markdown",
   "metadata": {},
   "source": [
    "### Smote function for balancing class column"
   ]
  },
  {
   "cell_type": "markdown",
   "metadata": {},
   "source": [
    "For those datasets that have an imbalanced response variable the smote method can be implimented to compensate for the class imbalance in the data"
   ]
  },
  {
   "cell_type": "code",
   "execution_count": 171,
   "metadata": {},
   "outputs": [],
   "source": [
    "def apply_smote(df, target_column, k_neighbors=4, random_state=321):\n",
    "\n",
    "    X = df.drop(target_column, axis=1)\n",
    "    y = df[target_column]\n",
    "\n",
    "    sm = SMOTE(random_state=random_state, k_neighbors=k_neighbors)\n",
    "    X_resampled, y_resampled = sm.fit_resample(X, y)\n",
    "\n",
    "    return X_resampled, y_resampled"
   ]
  },
  {
   "cell_type": "code",
   "execution_count": null,
   "metadata": {},
   "outputs": [],
   "source": []
  },
  {
   "cell_type": "markdown",
   "metadata": {},
   "source": [
    "## Load the data\n",
    "\n"
   ]
  },
  {
   "cell_type": "markdown",
   "metadata": {},
   "source": [
    "### Congressional voting\n",
    "An iterativ imputation has been already done on the data."
   ]
  },
  {
   "cell_type": "code",
   "execution_count": 172,
   "metadata": {},
   "outputs": [],
   "source": [
    "test_df = pd.read_csv(\"./preprocessed-datasets/CongressionVoting_prepro.csv\")\n",
    "test_df.set_index('ID', inplace=True)\n",
    "test_df_X = test_df.drop(columns=[\"class\"])\n",
    "test_df_Y = test_df[\"class\"]"
   ]
  },
  {
   "cell_type": "markdown",
   "metadata": {},
   "source": [
    "## Evaluation\n",
    "\n",
    "The **evaluate_model** function takes:\n",
    "* the input feature (*X*),\n",
    "* the dependent variable (*Y*)\n",
    "* the preprocessing method as a string:\n",
    "    * the so far implemented possible options can be found in the *preprocess_options* list. Here *else* is implemented as the *StandardScaler()*, however it could be combined with additional feature selection to achieve a better result.\n",
    "* classifier as a function:\n",
    "    * so far the only tried one is *SVC(C=3, kernel='sigmoid')*\n",
    "* folds to define the number of  folds. The default value is 5."
   ]
  },
  {
   "cell_type": "code",
   "execution_count": 173,
   "metadata": {},
   "outputs": [],
   "source": [
    "#preprocess_options = [\"none\", \"featureselection\", \"else\"]"
   ]
  },
  {
   "cell_type": "markdown",
   "metadata": {},
   "source": [
    "The changed evaluate_model function is the following:\n",
    "* takes the input feature and the dependent variable\n",
    "* splits the data into train and test set\n",
    "* preprocesses the data\n",
    "    * feature selection\n",
    "    * scaling \n",
    "* trains the classifier on the train set"
   ]
  },
  {
   "cell_type": "code",
   "execution_count": 174,
   "metadata": {},
   "outputs": [
    {
     "data": {
      "text/plain": [
       "{'classifier': 'SVC',\n",
       " 'splitting': 'cv',\n",
       " 'feature_selection': 'p-value',\n",
       " 'scaling': 'robust',\n",
       " 'n_features_orig': 16,\n",
       " 'n_features': 13,\n",
       " 'accuracy': 0.9447145877378436,\n",
       " 'precision': 0.9458858894825214,\n",
       " 'recall': 0.9447145877378436,\n",
       " 'f1': 0.9446694623832087,\n",
       " 'f1_std': 0.023332176291890664,\n",
       " 'preprocess_time': 0.14551119804382323,\n",
       " 'training_time': 0.0026483535766601562,\n",
       " 'prediction_time': 0.0005918025970458984}"
      ]
     },
     "execution_count": 174,
     "metadata": {},
     "output_type": "execute_result"
    }
   ],
   "source": [
    "evaluate_model(test_df_X, test_df_Y, \"p-value\", \"robust\", SVC(C=3, kernel='sigmoid'), splitting=\"cv\")"
   ]
  },
  {
   "cell_type": "markdown",
   "metadata": {},
   "source": [
    "## Experimeting a bit"
   ]
  },
  {
   "cell_type": "markdown",
   "metadata": {},
   "source": [
    "Loading the datasets"
   ]
  },
  {
   "cell_type": "code",
   "execution_count": 175,
   "metadata": {},
   "outputs": [
    {
     "name": "stdout",
     "output_type": "stream",
     "text": [
      "<class 'pandas.core.frame.DataFrame'>\n",
      "RangeIndex: 41188 entries, 0 to 41187\n",
      "Data columns (total 35 columns):\n",
      " #   Column                         Non-Null Count  Dtype  \n",
      "---  ------                         --------------  -----  \n",
      " 0   Unnamed: 0                     41188 non-null  int64  \n",
      " 1   age                            41188 non-null  int64  \n",
      " 2   default                        41188 non-null  float64\n",
      " 3   housing                        41188 non-null  float64\n",
      " 4   loan                           41188 non-null  float64\n",
      " 5   campaign                       41188 non-null  int64  \n",
      " 6   pdays                          41188 non-null  int64  \n",
      " 7   previous                       41188 non-null  int64  \n",
      " 8   emp.var.rate                   41188 non-null  float64\n",
      " 9   cons.price.idx                 41188 non-null  float64\n",
      " 10  cons.conf.idx                  41188 non-null  float64\n",
      " 11  euribor3m                      41188 non-null  float64\n",
      " 12  nr.employed                    41188 non-null  float64\n",
      " 13  class                          41188 non-null  int64  \n",
      " 14  job_blue-collar                41188 non-null  int64  \n",
      " 15  job_management                 41188 non-null  int64  \n",
      " 16  job_other                      41188 non-null  int64  \n",
      " 17  job_self-employed              41188 non-null  int64  \n",
      " 18  job_serivces                   41188 non-null  int64  \n",
      " 19  job_technician                 41188 non-null  int64  \n",
      " 20  marital_divorced               41188 non-null  int64  \n",
      " 21  marital_married                41188 non-null  int64  \n",
      " 22  marital_single                 41188 non-null  int64  \n",
      " 23  marital_unknown                41188 non-null  int64  \n",
      " 24  education_basic.4y             41188 non-null  int64  \n",
      " 25  education_basic.6y             41188 non-null  int64  \n",
      " 26  education_basic.9y             41188 non-null  int64  \n",
      " 27  education_high.school          41188 non-null  int64  \n",
      " 28  education_illiterate           41188 non-null  int64  \n",
      " 29  education_professional.course  41188 non-null  int64  \n",
      " 30  education_university.degree    41188 non-null  int64  \n",
      " 31  education_unknown              41188 non-null  int64  \n",
      " 32  poutcome_failure               41188 non-null  int64  \n",
      " 33  poutcome_nonexistent           41188 non-null  int64  \n",
      " 34  poutcome_success               41188 non-null  int64  \n",
      "dtypes: float64(8), int64(27)\n",
      "memory usage: 11.0 MB\n"
     ]
    }
   ],
   "source": [
    "bank_marketing = pd.read_csv(\"./preprocessed-datasets/bank_marketing_prepro.csv\")\n",
    "bank_marketing.info()"
   ]
  },
  {
   "cell_type": "code",
   "execution_count": 176,
   "metadata": {},
   "outputs": [
    {
     "name": "stdout",
     "output_type": "stream",
     "text": [
      "<class 'pandas.core.frame.DataFrame'>\n",
      "RangeIndex: 6497 entries, 0 to 6496\n",
      "Data columns (total 14 columns):\n",
      " #   Column                Non-Null Count  Dtype  \n",
      "---  ------                --------------  -----  \n",
      " 0   Unnamed: 0            6497 non-null   int64  \n",
      " 1   fixed acidity         6497 non-null   float64\n",
      " 2   volatile acidity      6497 non-null   float64\n",
      " 3   citric acid           6497 non-null   float64\n",
      " 4   residual sugar        6497 non-null   float64\n",
      " 5   chlorides             6497 non-null   float64\n",
      " 6   free sulfur dioxide   6497 non-null   float64\n",
      " 7   total sulfur dioxide  6497 non-null   float64\n",
      " 8   density               6497 non-null   float64\n",
      " 9   pH                    6497 non-null   float64\n",
      " 10  sulphates             6497 non-null   float64\n",
      " 11  alcohol               6497 non-null   float64\n",
      " 12  class                 6497 non-null   int64  \n",
      " 13  wine_type             6497 non-null   int64  \n",
      "dtypes: float64(11), int64(3)\n",
      "memory usage: 710.7 KB\n"
     ]
    }
   ],
   "source": [
    "wine_quality = pd.read_csv(\"./preprocessed-datasets/wine_quality_prepro.csv\")\n",
    "wine_quality.info()"
   ]
  },
  {
   "cell_type": "code",
   "execution_count": 177,
   "metadata": {},
   "outputs": [
    {
     "name": "stdout",
     "output_type": "stream",
     "text": [
      "<class 'pandas.core.frame.DataFrame'>\n",
      "Int64Index: 217 entries, 140 to 324\n",
      "Data columns (total 17 columns):\n",
      " #   Column                                  Non-Null Count  Dtype  \n",
      "---  ------                                  --------------  -----  \n",
      " 0   handicapped-infants                     217 non-null    float64\n",
      " 1   water-project-cost-sharing              217 non-null    float64\n",
      " 2   adoption-of-the-budget-resolution       217 non-null    float64\n",
      " 3   physician-fee-freeze                    217 non-null    float64\n",
      " 4   el-salvador-aid                         217 non-null    float64\n",
      " 5   religious-groups-in-schools             217 non-null    float64\n",
      " 6   anti-satellite-test-ban                 217 non-null    float64\n",
      " 7   aid-to-nicaraguan-contras               217 non-null    float64\n",
      " 8   mx-missile                              217 non-null    float64\n",
      " 9   immigration                             217 non-null    float64\n",
      " 10  synfuels-crporation-cutback             217 non-null    float64\n",
      " 11  education-spending                      217 non-null    float64\n",
      " 12  superfund-right-to-sue                  217 non-null    float64\n",
      " 13  crime                                   217 non-null    float64\n",
      " 14  duty-free-exports                       217 non-null    float64\n",
      " 15  export-administration-act-south-africa  217 non-null    float64\n",
      " 16  class                                   217 non-null    object \n",
      "dtypes: float64(16), object(1)\n",
      "memory usage: 30.5+ KB\n"
     ]
    }
   ],
   "source": [
    "congression_voting = pd.read_csv(\"./preprocessed-datasets/CongressionVoting_prepro.csv\")\n",
    "congression_voting.set_index('ID', inplace=True)\n",
    "congression_voting.info()"
   ]
  },
  {
   "cell_type": "code",
   "execution_count": 178,
   "metadata": {},
   "outputs": [
    {
     "name": "stdout",
     "output_type": "stream",
     "text": [
      "<class 'pandas.core.frame.DataFrame'>\n",
      "Int64Index: 750 entries, 0 to 749\n",
      "Columns: 10001 entries, V1 to class\n",
      "dtypes: int64(10000), object(1)\n",
      "memory usage: 57.2+ MB\n"
     ]
    }
   ],
   "source": [
    "reviews = pd.read_csv(\"./preprocessed-datasets/Review_prepro.csv\")\n",
    "reviews.set_index('ID', inplace=True)\n",
    "reviews.info()"
   ]
  },
  {
   "cell_type": "code",
   "execution_count": 180,
   "metadata": {},
   "outputs": [
    {
     "name": "stderr",
     "output_type": "stream",
     "text": [
      "/Users/rebekaangyal/Library/Python/3.9/lib/python/site-packages/sklearn/metrics/_classification.py:1344: UndefinedMetricWarning: Precision is ill-defined and being set to 0.0 in labels with no predicted samples. Use `zero_division` parameter to control this behavior.\n",
      "  _warn_prf(average, modifier, msg_start, len(result))\n",
      "/Users/rebekaangyal/Library/Python/3.9/lib/python/site-packages/sklearn/metrics/_classification.py:1344: UndefinedMetricWarning: Recall is ill-defined and being set to 0.0 in labels with no true samples. Use `zero_division` parameter to control this behavior.\n",
      "  _warn_prf(average, modifier, msg_start, len(result))\n"
     ]
    },
    {
     "name": "stdout",
     "output_type": "stream",
     "text": [
      "Time taken for reviews, None, None, KNeighborsClassifier, holdout: preprocessing time: 0.18355202674865723 seconds, training time: 0.588871955871582 seconds\n"
     ]
    },
    {
     "name": "stderr",
     "output_type": "stream",
     "text": [
      "/Users/rebekaangyal/Library/Python/3.9/lib/python/site-packages/sklearn/metrics/_classification.py:1344: UndefinedMetricWarning: Precision is ill-defined and being set to 0.0 in labels with no predicted samples. Use `zero_division` parameter to control this behavior.\n",
      "  _warn_prf(average, modifier, msg_start, len(result))\n",
      "/Users/rebekaangyal/Library/Python/3.9/lib/python/site-packages/sklearn/metrics/_classification.py:1344: UndefinedMetricWarning: Recall is ill-defined and being set to 0.0 in labels with no true samples. Use `zero_division` parameter to control this behavior.\n",
      "  _warn_prf(average, modifier, msg_start, len(result))\n",
      "/Users/rebekaangyal/Library/Python/3.9/lib/python/site-packages/sklearn/metrics/_classification.py:1344: UndefinedMetricWarning: Precision is ill-defined and being set to 0.0 in labels with no predicted samples. Use `zero_division` parameter to control this behavior.\n",
      "  _warn_prf(average, modifier, msg_start, len(result))\n",
      "/Users/rebekaangyal/Library/Python/3.9/lib/python/site-packages/sklearn/metrics/_classification.py:1344: UndefinedMetricWarning: Precision is ill-defined and being set to 0.0 in labels with no predicted samples. Use `zero_division` parameter to control this behavior.\n",
      "  _warn_prf(average, modifier, msg_start, len(result))\n",
      "/Users/rebekaangyal/Library/Python/3.9/lib/python/site-packages/sklearn/metrics/_classification.py:1344: UndefinedMetricWarning: Recall is ill-defined and being set to 0.0 in labels with no true samples. Use `zero_division` parameter to control this behavior.\n",
      "  _warn_prf(average, modifier, msg_start, len(result))\n",
      "/Users/rebekaangyal/Library/Python/3.9/lib/python/site-packages/sklearn/metrics/_classification.py:1344: UndefinedMetricWarning: Precision is ill-defined and being set to 0.0 in labels with no predicted samples. Use `zero_division` parameter to control this behavior.\n",
      "  _warn_prf(average, modifier, msg_start, len(result))\n",
      "/Users/rebekaangyal/Library/Python/3.9/lib/python/site-packages/sklearn/metrics/_classification.py:1344: UndefinedMetricWarning: Recall is ill-defined and being set to 0.0 in labels with no true samples. Use `zero_division` parameter to control this behavior.\n",
      "  _warn_prf(average, modifier, msg_start, len(result))\n",
      "/Users/rebekaangyal/Library/Python/3.9/lib/python/site-packages/sklearn/metrics/_classification.py:1344: UndefinedMetricWarning: Precision is ill-defined and being set to 0.0 in labels with no predicted samples. Use `zero_division` parameter to control this behavior.\n",
      "  _warn_prf(average, modifier, msg_start, len(result))\n"
     ]
    },
    {
     "name": "stdout",
     "output_type": "stream",
     "text": [
      "Time taken for reviews, None, None, KNeighborsClassifier, cv: preprocessing time: 0.033992671966552736 seconds, training time: 0.18857893943786622 seconds\n",
      "Time taken for reviews, None, None, DecisionTreeClassifier, holdout: preprocessing time: 0.04437518119812012 seconds, training time: 1.6125969886779785 seconds\n"
     ]
    },
    {
     "name": "stderr",
     "output_type": "stream",
     "text": [
      "/Users/rebekaangyal/Library/Python/3.9/lib/python/site-packages/sklearn/metrics/_classification.py:1344: UndefinedMetricWarning: Precision is ill-defined and being set to 0.0 in labels with no predicted samples. Use `zero_division` parameter to control this behavior.\n",
      "  _warn_prf(average, modifier, msg_start, len(result))\n",
      "/Users/rebekaangyal/Library/Python/3.9/lib/python/site-packages/sklearn/metrics/_classification.py:1344: UndefinedMetricWarning: Recall is ill-defined and being set to 0.0 in labels with no true samples. Use `zero_division` parameter to control this behavior.\n",
      "  _warn_prf(average, modifier, msg_start, len(result))\n",
      "/Users/rebekaangyal/Library/Python/3.9/lib/python/site-packages/sklearn/metrics/_classification.py:1344: UndefinedMetricWarning: Precision is ill-defined and being set to 0.0 in labels with no predicted samples. Use `zero_division` parameter to control this behavior.\n",
      "  _warn_prf(average, modifier, msg_start, len(result))\n",
      "/Users/rebekaangyal/Library/Python/3.9/lib/python/site-packages/sklearn/metrics/_classification.py:1344: UndefinedMetricWarning: Recall is ill-defined and being set to 0.0 in labels with no true samples. Use `zero_division` parameter to control this behavior.\n",
      "  _warn_prf(average, modifier, msg_start, len(result))\n",
      "/Users/rebekaangyal/Library/Python/3.9/lib/python/site-packages/sklearn/metrics/_classification.py:1344: UndefinedMetricWarning: Precision is ill-defined and being set to 0.0 in labels with no predicted samples. Use `zero_division` parameter to control this behavior.\n",
      "  _warn_prf(average, modifier, msg_start, len(result))\n",
      "/Users/rebekaangyal/Library/Python/3.9/lib/python/site-packages/sklearn/metrics/_classification.py:1344: UndefinedMetricWarning: Recall is ill-defined and being set to 0.0 in labels with no true samples. Use `zero_division` parameter to control this behavior.\n",
      "  _warn_prf(average, modifier, msg_start, len(result))\n",
      "/Users/rebekaangyal/Library/Python/3.9/lib/python/site-packages/sklearn/metrics/_classification.py:1344: UndefinedMetricWarning: Precision is ill-defined and being set to 0.0 in labels with no predicted samples. Use `zero_division` parameter to control this behavior.\n",
      "  _warn_prf(average, modifier, msg_start, len(result))\n",
      "/Users/rebekaangyal/Library/Python/3.9/lib/python/site-packages/sklearn/metrics/_classification.py:1344: UndefinedMetricWarning: Recall is ill-defined and being set to 0.0 in labels with no true samples. Use `zero_division` parameter to control this behavior.\n",
      "  _warn_prf(average, modifier, msg_start, len(result))\n",
      "/Users/rebekaangyal/Library/Python/3.9/lib/python/site-packages/sklearn/metrics/_classification.py:1344: UndefinedMetricWarning: Precision is ill-defined and being set to 0.0 in labels with no predicted samples. Use `zero_division` parameter to control this behavior.\n",
      "  _warn_prf(average, modifier, msg_start, len(result))\n"
     ]
    },
    {
     "name": "stdout",
     "output_type": "stream",
     "text": [
      "Time taken for reviews, None, None, DecisionTreeClassifier, cv: preprocessing time: 0.029095983505249022 seconds, training time: 1.6863929271697997 seconds\n"
     ]
    },
    {
     "name": "stderr",
     "output_type": "stream",
     "text": [
      "/Users/rebekaangyal/Library/Python/3.9/lib/python/site-packages/sklearn/metrics/_classification.py:1344: UndefinedMetricWarning: Precision is ill-defined and being set to 0.0 in labels with no predicted samples. Use `zero_division` parameter to control this behavior.\n",
      "  _warn_prf(average, modifier, msg_start, len(result))\n"
     ]
    },
    {
     "name": "stdout",
     "output_type": "stream",
     "text": [
      "Time taken for reviews, None, None, RandomForestClassifier, holdout: preprocessing time: 0.04990577697753906 seconds, training time: 2.715338945388794 seconds\n"
     ]
    },
    {
     "name": "stderr",
     "output_type": "stream",
     "text": [
      "/Users/rebekaangyal/Library/Python/3.9/lib/python/site-packages/sklearn/metrics/_classification.py:1344: UndefinedMetricWarning: Precision is ill-defined and being set to 0.0 in labels with no predicted samples. Use `zero_division` parameter to control this behavior.\n",
      "  _warn_prf(average, modifier, msg_start, len(result))\n",
      "/Users/rebekaangyal/Library/Python/3.9/lib/python/site-packages/sklearn/metrics/_classification.py:1344: UndefinedMetricWarning: Recall is ill-defined and being set to 0.0 in labels with no true samples. Use `zero_division` parameter to control this behavior.\n",
      "  _warn_prf(average, modifier, msg_start, len(result))\n",
      "/Users/rebekaangyal/Library/Python/3.9/lib/python/site-packages/sklearn/metrics/_classification.py:1344: UndefinedMetricWarning: Precision is ill-defined and being set to 0.0 in labels with no predicted samples. Use `zero_division` parameter to control this behavior.\n",
      "  _warn_prf(average, modifier, msg_start, len(result))\n",
      "/Users/rebekaangyal/Library/Python/3.9/lib/python/site-packages/sklearn/metrics/_classification.py:1344: UndefinedMetricWarning: Recall is ill-defined and being set to 0.0 in labels with no true samples. Use `zero_division` parameter to control this behavior.\n",
      "  _warn_prf(average, modifier, msg_start, len(result))\n",
      "/Users/rebekaangyal/Library/Python/3.9/lib/python/site-packages/sklearn/metrics/_classification.py:1344: UndefinedMetricWarning: Precision is ill-defined and being set to 0.0 in labels with no predicted samples. Use `zero_division` parameter to control this behavior.\n",
      "  _warn_prf(average, modifier, msg_start, len(result))\n",
      "/Users/rebekaangyal/Library/Python/3.9/lib/python/site-packages/sklearn/metrics/_classification.py:1344: UndefinedMetricWarning: Recall is ill-defined and being set to 0.0 in labels with no true samples. Use `zero_division` parameter to control this behavior.\n",
      "  _warn_prf(average, modifier, msg_start, len(result))\n",
      "/Users/rebekaangyal/Library/Python/3.9/lib/python/site-packages/sklearn/metrics/_classification.py:1344: UndefinedMetricWarning: Precision is ill-defined and being set to 0.0 in labels with no predicted samples. Use `zero_division` parameter to control this behavior.\n",
      "  _warn_prf(average, modifier, msg_start, len(result))\n",
      "/Users/rebekaangyal/Library/Python/3.9/lib/python/site-packages/sklearn/metrics/_classification.py:1344: UndefinedMetricWarning: Recall is ill-defined and being set to 0.0 in labels with no true samples. Use `zero_division` parameter to control this behavior.\n",
      "  _warn_prf(average, modifier, msg_start, len(result))\n",
      "/Users/rebekaangyal/Library/Python/3.9/lib/python/site-packages/sklearn/metrics/_classification.py:1344: UndefinedMetricWarning: Precision is ill-defined and being set to 0.0 in labels with no predicted samples. Use `zero_division` parameter to control this behavior.\n",
      "  _warn_prf(average, modifier, msg_start, len(result))\n"
     ]
    },
    {
     "name": "stdout",
     "output_type": "stream",
     "text": [
      "Time taken for reviews, None, None, RandomForestClassifier, cv: preprocessing time: 0.031125783920288086 seconds, training time: 1.7106135845184327 seconds\n"
     ]
    },
    {
     "name": "stderr",
     "output_type": "stream",
     "text": [
      "/Users/rebekaangyal/Library/Python/3.9/lib/python/site-packages/sklearn/metrics/_classification.py:1344: UndefinedMetricWarning: Precision is ill-defined and being set to 0.0 in labels with no predicted samples. Use `zero_division` parameter to control this behavior.\n",
      "  _warn_prf(average, modifier, msg_start, len(result))\n"
     ]
    },
    {
     "name": "stdout",
     "output_type": "stream",
     "text": [
      "Time taken for reviews, None, standard, KNeighborsClassifier, holdout: preprocessing time: 0.506777286529541 seconds, training time: 0.048973798751831055 seconds\n"
     ]
    },
    {
     "name": "stderr",
     "output_type": "stream",
     "text": [
      "/Users/rebekaangyal/Library/Python/3.9/lib/python/site-packages/sklearn/metrics/_classification.py:1344: UndefinedMetricWarning: Precision is ill-defined and being set to 0.0 in labels with no predicted samples. Use `zero_division` parameter to control this behavior.\n",
      "  _warn_prf(average, modifier, msg_start, len(result))\n",
      "/Users/rebekaangyal/Library/Python/3.9/lib/python/site-packages/sklearn/metrics/_classification.py:1344: UndefinedMetricWarning: Recall is ill-defined and being set to 0.0 in labels with no true samples. Use `zero_division` parameter to control this behavior.\n",
      "  _warn_prf(average, modifier, msg_start, len(result))\n",
      "/Users/rebekaangyal/Library/Python/3.9/lib/python/site-packages/sklearn/metrics/_classification.py:1344: UndefinedMetricWarning: Precision is ill-defined and being set to 0.0 in labels with no predicted samples. Use `zero_division` parameter to control this behavior.\n",
      "  _warn_prf(average, modifier, msg_start, len(result))\n",
      "/Users/rebekaangyal/Library/Python/3.9/lib/python/site-packages/sklearn/metrics/_classification.py:1344: UndefinedMetricWarning: Precision is ill-defined and being set to 0.0 in labels with no predicted samples. Use `zero_division` parameter to control this behavior.\n",
      "  _warn_prf(average, modifier, msg_start, len(result))\n",
      "/Users/rebekaangyal/Library/Python/3.9/lib/python/site-packages/sklearn/metrics/_classification.py:1344: UndefinedMetricWarning: Precision is ill-defined and being set to 0.0 in labels with no predicted samples. Use `zero_division` parameter to control this behavior.\n",
      "  _warn_prf(average, modifier, msg_start, len(result))\n",
      "/Users/rebekaangyal/Library/Python/3.9/lib/python/site-packages/sklearn/metrics/_classification.py:1344: UndefinedMetricWarning: Recall is ill-defined and being set to 0.0 in labels with no true samples. Use `zero_division` parameter to control this behavior.\n",
      "  _warn_prf(average, modifier, msg_start, len(result))\n",
      "/Users/rebekaangyal/Library/Python/3.9/lib/python/site-packages/sklearn/metrics/_classification.py:1344: UndefinedMetricWarning: Precision is ill-defined and being set to 0.0 in labels with no predicted samples. Use `zero_division` parameter to control this behavior.\n",
      "  _warn_prf(average, modifier, msg_start, len(result))\n"
     ]
    },
    {
     "name": "stdout",
     "output_type": "stream",
     "text": [
      "Time taken for reviews, None, standard, KNeighborsClassifier, cv: preprocessing time: 0.5561811923980713 seconds, training time: 0.05706524848937988 seconds\n",
      "Time taken for reviews, None, standard, DecisionTreeClassifier, holdout: preprocessing time: 0.48235082626342773 seconds, training time: 1.3118081092834473 seconds\n"
     ]
    },
    {
     "name": "stderr",
     "output_type": "stream",
     "text": [
      "/Users/rebekaangyal/Library/Python/3.9/lib/python/site-packages/sklearn/metrics/_classification.py:1344: UndefinedMetricWarning: Precision is ill-defined and being set to 0.0 in labels with no predicted samples. Use `zero_division` parameter to control this behavior.\n",
      "  _warn_prf(average, modifier, msg_start, len(result))\n",
      "/Users/rebekaangyal/Library/Python/3.9/lib/python/site-packages/sklearn/metrics/_classification.py:1344: UndefinedMetricWarning: Recall is ill-defined and being set to 0.0 in labels with no true samples. Use `zero_division` parameter to control this behavior.\n",
      "  _warn_prf(average, modifier, msg_start, len(result))\n",
      "/Users/rebekaangyal/Library/Python/3.9/lib/python/site-packages/sklearn/metrics/_classification.py:1344: UndefinedMetricWarning: Precision is ill-defined and being set to 0.0 in labels with no predicted samples. Use `zero_division` parameter to control this behavior.\n",
      "  _warn_prf(average, modifier, msg_start, len(result))\n",
      "/Users/rebekaangyal/Library/Python/3.9/lib/python/site-packages/sklearn/metrics/_classification.py:1344: UndefinedMetricWarning: Recall is ill-defined and being set to 0.0 in labels with no true samples. Use `zero_division` parameter to control this behavior.\n",
      "  _warn_prf(average, modifier, msg_start, len(result))\n",
      "/Users/rebekaangyal/Library/Python/3.9/lib/python/site-packages/sklearn/metrics/_classification.py:1344: UndefinedMetricWarning: Precision is ill-defined and being set to 0.0 in labels with no predicted samples. Use `zero_division` parameter to control this behavior.\n",
      "  _warn_prf(average, modifier, msg_start, len(result))\n",
      "/Users/rebekaangyal/Library/Python/3.9/lib/python/site-packages/sklearn/metrics/_classification.py:1344: UndefinedMetricWarning: Recall is ill-defined and being set to 0.0 in labels with no true samples. Use `zero_division` parameter to control this behavior.\n",
      "  _warn_prf(average, modifier, msg_start, len(result))\n",
      "/Users/rebekaangyal/Library/Python/3.9/lib/python/site-packages/sklearn/metrics/_classification.py:1344: UndefinedMetricWarning: Precision is ill-defined and being set to 0.0 in labels with no predicted samples. Use `zero_division` parameter to control this behavior.\n",
      "  _warn_prf(average, modifier, msg_start, len(result))\n",
      "/Users/rebekaangyal/Library/Python/3.9/lib/python/site-packages/sklearn/metrics/_classification.py:1344: UndefinedMetricWarning: Recall is ill-defined and being set to 0.0 in labels with no true samples. Use `zero_division` parameter to control this behavior.\n",
      "  _warn_prf(average, modifier, msg_start, len(result))\n",
      "/Users/rebekaangyal/Library/Python/3.9/lib/python/site-packages/sklearn/metrics/_classification.py:1344: UndefinedMetricWarning: Precision is ill-defined and being set to 0.0 in labels with no predicted samples. Use `zero_division` parameter to control this behavior.\n",
      "  _warn_prf(average, modifier, msg_start, len(result))\n"
     ]
    },
    {
     "name": "stdout",
     "output_type": "stream",
     "text": [
      "Time taken for reviews, None, standard, DecisionTreeClassifier, cv: preprocessing time: 0.47115440368652345 seconds, training time: 1.4088537216186523 seconds\n"
     ]
    },
    {
     "name": "stderr",
     "output_type": "stream",
     "text": [
      "/Users/rebekaangyal/Library/Python/3.9/lib/python/site-packages/sklearn/metrics/_classification.py:1344: UndefinedMetricWarning: Precision is ill-defined and being set to 0.0 in labels with no predicted samples. Use `zero_division` parameter to control this behavior.\n",
      "  _warn_prf(average, modifier, msg_start, len(result))\n"
     ]
    },
    {
     "name": "stdout",
     "output_type": "stream",
     "text": [
      "Time taken for reviews, None, standard, RandomForestClassifier, holdout: preprocessing time: 0.4669358730316162 seconds, training time: 1.6972157955169678 seconds\n"
     ]
    },
    {
     "name": "stderr",
     "output_type": "stream",
     "text": [
      "/Users/rebekaangyal/Library/Python/3.9/lib/python/site-packages/sklearn/metrics/_classification.py:1344: UndefinedMetricWarning: Precision is ill-defined and being set to 0.0 in labels with no predicted samples. Use `zero_division` parameter to control this behavior.\n",
      "  _warn_prf(average, modifier, msg_start, len(result))\n",
      "/Users/rebekaangyal/Library/Python/3.9/lib/python/site-packages/sklearn/metrics/_classification.py:1344: UndefinedMetricWarning: Recall is ill-defined and being set to 0.0 in labels with no true samples. Use `zero_division` parameter to control this behavior.\n",
      "  _warn_prf(average, modifier, msg_start, len(result))\n",
      "/Users/rebekaangyal/Library/Python/3.9/lib/python/site-packages/sklearn/metrics/_classification.py:1344: UndefinedMetricWarning: Precision is ill-defined and being set to 0.0 in labels with no predicted samples. Use `zero_division` parameter to control this behavior.\n",
      "  _warn_prf(average, modifier, msg_start, len(result))\n",
      "/Users/rebekaangyal/Library/Python/3.9/lib/python/site-packages/sklearn/metrics/_classification.py:1344: UndefinedMetricWarning: Recall is ill-defined and being set to 0.0 in labels with no true samples. Use `zero_division` parameter to control this behavior.\n",
      "  _warn_prf(average, modifier, msg_start, len(result))\n",
      "/Users/rebekaangyal/Library/Python/3.9/lib/python/site-packages/sklearn/metrics/_classification.py:1344: UndefinedMetricWarning: Precision is ill-defined and being set to 0.0 in labels with no predicted samples. Use `zero_division` parameter to control this behavior.\n",
      "  _warn_prf(average, modifier, msg_start, len(result))\n",
      "/Users/rebekaangyal/Library/Python/3.9/lib/python/site-packages/sklearn/metrics/_classification.py:1344: UndefinedMetricWarning: Recall is ill-defined and being set to 0.0 in labels with no true samples. Use `zero_division` parameter to control this behavior.\n",
      "  _warn_prf(average, modifier, msg_start, len(result))\n",
      "/Users/rebekaangyal/Library/Python/3.9/lib/python/site-packages/sklearn/metrics/_classification.py:1344: UndefinedMetricWarning: Precision is ill-defined and being set to 0.0 in labels with no predicted samples. Use `zero_division` parameter to control this behavior.\n",
      "  _warn_prf(average, modifier, msg_start, len(result))\n",
      "/Users/rebekaangyal/Library/Python/3.9/lib/python/site-packages/sklearn/metrics/_classification.py:1344: UndefinedMetricWarning: Precision is ill-defined and being set to 0.0 in labels with no predicted samples. Use `zero_division` parameter to control this behavior.\n",
      "  _warn_prf(average, modifier, msg_start, len(result))\n"
     ]
    },
    {
     "name": "stdout",
     "output_type": "stream",
     "text": [
      "Time taken for reviews, None, standard, RandomForestClassifier, cv: preprocessing time: 0.4898835182189941 seconds, training time: 1.6188488006591797 seconds\n"
     ]
    },
    {
     "name": "stderr",
     "output_type": "stream",
     "text": [
      "/Users/rebekaangyal/Library/Python/3.9/lib/python/site-packages/sklearn/metrics/_classification.py:1344: UndefinedMetricWarning: Precision is ill-defined and being set to 0.0 in labels with no predicted samples. Use `zero_division` parameter to control this behavior.\n",
      "  _warn_prf(average, modifier, msg_start, len(result))\n",
      "/Users/rebekaangyal/Library/Python/3.9/lib/python/site-packages/sklearn/metrics/_classification.py:1344: UndefinedMetricWarning: Recall is ill-defined and being set to 0.0 in labels with no true samples. Use `zero_division` parameter to control this behavior.\n",
      "  _warn_prf(average, modifier, msg_start, len(result))\n"
     ]
    },
    {
     "name": "stdout",
     "output_type": "stream",
     "text": [
      "Time taken for reviews, p-value, None, KNeighborsClassifier, holdout: preprocessing time: 71.8312828540802 seconds, training time: 0.09829497337341309 seconds\n"
     ]
    },
    {
     "name": "stderr",
     "output_type": "stream",
     "text": [
      "/Users/rebekaangyal/Library/Python/3.9/lib/python/site-packages/sklearn/metrics/_classification.py:1344: UndefinedMetricWarning: Precision is ill-defined and being set to 0.0 in labels with no predicted samples. Use `zero_division` parameter to control this behavior.\n",
      "  _warn_prf(average, modifier, msg_start, len(result))\n",
      "/Users/rebekaangyal/Library/Python/3.9/lib/python/site-packages/sklearn/metrics/_classification.py:1344: UndefinedMetricWarning: Recall is ill-defined and being set to 0.0 in labels with no true samples. Use `zero_division` parameter to control this behavior.\n",
      "  _warn_prf(average, modifier, msg_start, len(result))\n",
      "/Users/rebekaangyal/Library/Python/3.9/lib/python/site-packages/sklearn/metrics/_classification.py:1344: UndefinedMetricWarning: Precision is ill-defined and being set to 0.0 in labels with no predicted samples. Use `zero_division` parameter to control this behavior.\n",
      "  _warn_prf(average, modifier, msg_start, len(result))\n",
      "/Users/rebekaangyal/Library/Python/3.9/lib/python/site-packages/sklearn/metrics/_classification.py:1344: UndefinedMetricWarning: Precision is ill-defined and being set to 0.0 in labels with no predicted samples. Use `zero_division` parameter to control this behavior.\n",
      "  _warn_prf(average, modifier, msg_start, len(result))\n",
      "/Users/rebekaangyal/Library/Python/3.9/lib/python/site-packages/sklearn/metrics/_classification.py:1344: UndefinedMetricWarning: Recall is ill-defined and being set to 0.0 in labels with no true samples. Use `zero_division` parameter to control this behavior.\n",
      "  _warn_prf(average, modifier, msg_start, len(result))\n",
      "/Users/rebekaangyal/Library/Python/3.9/lib/python/site-packages/sklearn/metrics/_classification.py:1344: UndefinedMetricWarning: Precision is ill-defined and being set to 0.0 in labels with no predicted samples. Use `zero_division` parameter to control this behavior.\n",
      "  _warn_prf(average, modifier, msg_start, len(result))\n",
      "/Users/rebekaangyal/Library/Python/3.9/lib/python/site-packages/sklearn/metrics/_classification.py:1344: UndefinedMetricWarning: Recall is ill-defined and being set to 0.0 in labels with no true samples. Use `zero_division` parameter to control this behavior.\n",
      "  _warn_prf(average, modifier, msg_start, len(result))\n",
      "/Users/rebekaangyal/Library/Python/3.9/lib/python/site-packages/sklearn/metrics/_classification.py:1344: UndefinedMetricWarning: Precision is ill-defined and being set to 0.0 in labels with no predicted samples. Use `zero_division` parameter to control this behavior.\n",
      "  _warn_prf(average, modifier, msg_start, len(result))\n"
     ]
    },
    {
     "name": "stdout",
     "output_type": "stream",
     "text": [
      "Time taken for reviews, p-value, None, KNeighborsClassifier, cv: preprocessing time: 84.95424556732178 seconds, training time: 0.1096503734588623 seconds\n"
     ]
    },
    {
     "name": "stderr",
     "output_type": "stream",
     "text": [
      "/Users/rebekaangyal/Library/Python/3.9/lib/python/site-packages/sklearn/metrics/_classification.py:1344: UndefinedMetricWarning: Precision is ill-defined and being set to 0.0 in labels with no predicted samples. Use `zero_division` parameter to control this behavior.\n",
      "  _warn_prf(average, modifier, msg_start, len(result))\n"
     ]
    },
    {
     "name": "stdout",
     "output_type": "stream",
     "text": [
      "Time taken for reviews, p-value, None, DecisionTreeClassifier, holdout: preprocessing time: 77.20761322975159 seconds, training time: 1.002474069595337 seconds\n"
     ]
    },
    {
     "name": "stderr",
     "output_type": "stream",
     "text": [
      "/Users/rebekaangyal/Library/Python/3.9/lib/python/site-packages/sklearn/metrics/_classification.py:1344: UndefinedMetricWarning: Precision is ill-defined and being set to 0.0 in labels with no predicted samples. Use `zero_division` parameter to control this behavior.\n",
      "  _warn_prf(average, modifier, msg_start, len(result))\n",
      "/Users/rebekaangyal/Library/Python/3.9/lib/python/site-packages/sklearn/metrics/_classification.py:1344: UndefinedMetricWarning: Recall is ill-defined and being set to 0.0 in labels with no true samples. Use `zero_division` parameter to control this behavior.\n",
      "  _warn_prf(average, modifier, msg_start, len(result))\n",
      "/Users/rebekaangyal/Library/Python/3.9/lib/python/site-packages/sklearn/metrics/_classification.py:1344: UndefinedMetricWarning: Precision is ill-defined and being set to 0.0 in labels with no predicted samples. Use `zero_division` parameter to control this behavior.\n",
      "  _warn_prf(average, modifier, msg_start, len(result))\n",
      "/Users/rebekaangyal/Library/Python/3.9/lib/python/site-packages/sklearn/metrics/_classification.py:1344: UndefinedMetricWarning: Recall is ill-defined and being set to 0.0 in labels with no true samples. Use `zero_division` parameter to control this behavior.\n",
      "  _warn_prf(average, modifier, msg_start, len(result))\n",
      "/Users/rebekaangyal/Library/Python/3.9/lib/python/site-packages/sklearn/metrics/_classification.py:1344: UndefinedMetricWarning: Recall is ill-defined and being set to 0.0 in labels with no true samples. Use `zero_division` parameter to control this behavior.\n",
      "  _warn_prf(average, modifier, msg_start, len(result))\n",
      "/Users/rebekaangyal/Library/Python/3.9/lib/python/site-packages/sklearn/metrics/_classification.py:1344: UndefinedMetricWarning: Precision is ill-defined and being set to 0.0 in labels with no predicted samples. Use `zero_division` parameter to control this behavior.\n",
      "  _warn_prf(average, modifier, msg_start, len(result))\n",
      "/Users/rebekaangyal/Library/Python/3.9/lib/python/site-packages/sklearn/metrics/_classification.py:1344: UndefinedMetricWarning: Recall is ill-defined and being set to 0.0 in labels with no true samples. Use `zero_division` parameter to control this behavior.\n",
      "  _warn_prf(average, modifier, msg_start, len(result))\n",
      "/Users/rebekaangyal/Library/Python/3.9/lib/python/site-packages/sklearn/metrics/_classification.py:1344: UndefinedMetricWarning: Precision is ill-defined and being set to 0.0 in labels with no predicted samples. Use `zero_division` parameter to control this behavior.\n",
      "  _warn_prf(average, modifier, msg_start, len(result))\n"
     ]
    },
    {
     "name": "stdout",
     "output_type": "stream",
     "text": [
      "Time taken for reviews, p-value, None, DecisionTreeClassifier, cv: preprocessing time: 70.370490026474 seconds, training time: 1.0828888893127442 seconds\n"
     ]
    },
    {
     "name": "stderr",
     "output_type": "stream",
     "text": [
      "/Users/rebekaangyal/Library/Python/3.9/lib/python/site-packages/sklearn/metrics/_classification.py:1344: UndefinedMetricWarning: Precision is ill-defined and being set to 0.0 in labels with no predicted samples. Use `zero_division` parameter to control this behavior.\n",
      "  _warn_prf(average, modifier, msg_start, len(result))\n"
     ]
    },
    {
     "name": "stdout",
     "output_type": "stream",
     "text": [
      "Time taken for reviews, p-value, None, RandomForestClassifier, holdout: preprocessing time: 106.38257312774658 seconds, training time: 2.0690789222717285 seconds\n"
     ]
    },
    {
     "name": "stderr",
     "output_type": "stream",
     "text": [
      "/Users/rebekaangyal/Library/Python/3.9/lib/python/site-packages/sklearn/metrics/_classification.py:1344: UndefinedMetricWarning: Precision is ill-defined and being set to 0.0 in labels with no predicted samples. Use `zero_division` parameter to control this behavior.\n",
      "  _warn_prf(average, modifier, msg_start, len(result))\n",
      "/Users/rebekaangyal/Library/Python/3.9/lib/python/site-packages/sklearn/metrics/_classification.py:1344: UndefinedMetricWarning: Recall is ill-defined and being set to 0.0 in labels with no true samples. Use `zero_division` parameter to control this behavior.\n",
      "  _warn_prf(average, modifier, msg_start, len(result))\n",
      "/Users/rebekaangyal/Library/Python/3.9/lib/python/site-packages/sklearn/metrics/_classification.py:1344: UndefinedMetricWarning: Precision is ill-defined and being set to 0.0 in labels with no predicted samples. Use `zero_division` parameter to control this behavior.\n",
      "  _warn_prf(average, modifier, msg_start, len(result))\n",
      "/Users/rebekaangyal/Library/Python/3.9/lib/python/site-packages/sklearn/metrics/_classification.py:1344: UndefinedMetricWarning: Recall is ill-defined and being set to 0.0 in labels with no true samples. Use `zero_division` parameter to control this behavior.\n",
      "  _warn_prf(average, modifier, msg_start, len(result))\n",
      "/Users/rebekaangyal/Library/Python/3.9/lib/python/site-packages/sklearn/metrics/_classification.py:1344: UndefinedMetricWarning: Precision is ill-defined and being set to 0.0 in labels with no predicted samples. Use `zero_division` parameter to control this behavior.\n",
      "  _warn_prf(average, modifier, msg_start, len(result))\n",
      "/Users/rebekaangyal/Library/Python/3.9/lib/python/site-packages/sklearn/metrics/_classification.py:1344: UndefinedMetricWarning: Recall is ill-defined and being set to 0.0 in labels with no true samples. Use `zero_division` parameter to control this behavior.\n",
      "  _warn_prf(average, modifier, msg_start, len(result))\n",
      "/Users/rebekaangyal/Library/Python/3.9/lib/python/site-packages/sklearn/metrics/_classification.py:1344: UndefinedMetricWarning: Precision is ill-defined and being set to 0.0 in labels with no predicted samples. Use `zero_division` parameter to control this behavior.\n",
      "  _warn_prf(average, modifier, msg_start, len(result))\n",
      "/Users/rebekaangyal/Library/Python/3.9/lib/python/site-packages/sklearn/metrics/_classification.py:1344: UndefinedMetricWarning: Precision is ill-defined and being set to 0.0 in labels with no predicted samples. Use `zero_division` parameter to control this behavior.\n",
      "  _warn_prf(average, modifier, msg_start, len(result))\n"
     ]
    },
    {
     "name": "stdout",
     "output_type": "stream",
     "text": [
      "Time taken for reviews, p-value, None, RandomForestClassifier, cv: preprocessing time: 75.00950498580933 seconds, training time: 1.3805222034454345 seconds\n"
     ]
    },
    {
     "name": "stderr",
     "output_type": "stream",
     "text": [
      "/Users/rebekaangyal/Library/Python/3.9/lib/python/site-packages/sklearn/metrics/_classification.py:1344: UndefinedMetricWarning: Precision is ill-defined and being set to 0.0 in labels with no predicted samples. Use `zero_division` parameter to control this behavior.\n",
      "  _warn_prf(average, modifier, msg_start, len(result))\n"
     ]
    },
    {
     "name": "stdout",
     "output_type": "stream",
     "text": [
      "Time taken for reviews, p-value, standard, KNeighborsClassifier, holdout: preprocessing time: 64.42492008209229 seconds, training time: 0.0280759334564209 seconds\n"
     ]
    },
    {
     "name": "stderr",
     "output_type": "stream",
     "text": [
      "/Users/rebekaangyal/Library/Python/3.9/lib/python/site-packages/sklearn/metrics/_classification.py:1344: UndefinedMetricWarning: Precision is ill-defined and being set to 0.0 in labels with no predicted samples. Use `zero_division` parameter to control this behavior.\n",
      "  _warn_prf(average, modifier, msg_start, len(result))\n",
      "/Users/rebekaangyal/Library/Python/3.9/lib/python/site-packages/sklearn/metrics/_classification.py:1344: UndefinedMetricWarning: Recall is ill-defined and being set to 0.0 in labels with no true samples. Use `zero_division` parameter to control this behavior.\n",
      "  _warn_prf(average, modifier, msg_start, len(result))\n",
      "/Users/rebekaangyal/Library/Python/3.9/lib/python/site-packages/sklearn/metrics/_classification.py:1344: UndefinedMetricWarning: Precision is ill-defined and being set to 0.0 in labels with no predicted samples. Use `zero_division` parameter to control this behavior.\n",
      "  _warn_prf(average, modifier, msg_start, len(result))\n",
      "/Users/rebekaangyal/Library/Python/3.9/lib/python/site-packages/sklearn/metrics/_classification.py:1344: UndefinedMetricWarning: Precision is ill-defined and being set to 0.0 in labels with no predicted samples. Use `zero_division` parameter to control this behavior.\n",
      "  _warn_prf(average, modifier, msg_start, len(result))\n",
      "/Users/rebekaangyal/Library/Python/3.9/lib/python/site-packages/sklearn/metrics/_classification.py:1344: UndefinedMetricWarning: Recall is ill-defined and being set to 0.0 in labels with no true samples. Use `zero_division` parameter to control this behavior.\n",
      "  _warn_prf(average, modifier, msg_start, len(result))\n",
      "/Users/rebekaangyal/Library/Python/3.9/lib/python/site-packages/sklearn/metrics/_classification.py:1344: UndefinedMetricWarning: Precision is ill-defined and being set to 0.0 in labels with no predicted samples. Use `zero_division` parameter to control this behavior.\n",
      "  _warn_prf(average, modifier, msg_start, len(result))\n",
      "/Users/rebekaangyal/Library/Python/3.9/lib/python/site-packages/sklearn/metrics/_classification.py:1344: UndefinedMetricWarning: Recall is ill-defined and being set to 0.0 in labels with no true samples. Use `zero_division` parameter to control this behavior.\n",
      "  _warn_prf(average, modifier, msg_start, len(result))\n",
      "/Users/rebekaangyal/Library/Python/3.9/lib/python/site-packages/sklearn/metrics/_classification.py:1344: UndefinedMetricWarning: Precision is ill-defined and being set to 0.0 in labels with no predicted samples. Use `zero_division` parameter to control this behavior.\n",
      "  _warn_prf(average, modifier, msg_start, len(result))\n"
     ]
    },
    {
     "name": "stdout",
     "output_type": "stream",
     "text": [
      "Time taken for reviews, p-value, standard, KNeighborsClassifier, cv: preprocessing time: 73.35817461013794 seconds, training time: 0.036687469482421874 seconds\n",
      "Time taken for reviews, p-value, standard, DecisionTreeClassifier, holdout: preprocessing time: 69.1601037979126 seconds, training time: 0.9591090679168701 seconds\n"
     ]
    },
    {
     "name": "stderr",
     "output_type": "stream",
     "text": [
      "/Users/rebekaangyal/Library/Python/3.9/lib/python/site-packages/sklearn/metrics/_classification.py:1344: UndefinedMetricWarning: Precision is ill-defined and being set to 0.0 in labels with no predicted samples. Use `zero_division` parameter to control this behavior.\n",
      "  _warn_prf(average, modifier, msg_start, len(result))\n",
      "/Users/rebekaangyal/Library/Python/3.9/lib/python/site-packages/sklearn/metrics/_classification.py:1344: UndefinedMetricWarning: Recall is ill-defined and being set to 0.0 in labels with no true samples. Use `zero_division` parameter to control this behavior.\n",
      "  _warn_prf(average, modifier, msg_start, len(result))\n",
      "/Users/rebekaangyal/Library/Python/3.9/lib/python/site-packages/sklearn/metrics/_classification.py:1344: UndefinedMetricWarning: Precision is ill-defined and being set to 0.0 in labels with no predicted samples. Use `zero_division` parameter to control this behavior.\n",
      "  _warn_prf(average, modifier, msg_start, len(result))\n",
      "/Users/rebekaangyal/Library/Python/3.9/lib/python/site-packages/sklearn/metrics/_classification.py:1344: UndefinedMetricWarning: Recall is ill-defined and being set to 0.0 in labels with no true samples. Use `zero_division` parameter to control this behavior.\n",
      "  _warn_prf(average, modifier, msg_start, len(result))\n",
      "/Users/rebekaangyal/Library/Python/3.9/lib/python/site-packages/sklearn/metrics/_classification.py:1344: UndefinedMetricWarning: Precision is ill-defined and being set to 0.0 in labels with no predicted samples. Use `zero_division` parameter to control this behavior.\n",
      "  _warn_prf(average, modifier, msg_start, len(result))\n",
      "/Users/rebekaangyal/Library/Python/3.9/lib/python/site-packages/sklearn/metrics/_classification.py:1344: UndefinedMetricWarning: Recall is ill-defined and being set to 0.0 in labels with no true samples. Use `zero_division` parameter to control this behavior.\n",
      "  _warn_prf(average, modifier, msg_start, len(result))\n",
      "/Users/rebekaangyal/Library/Python/3.9/lib/python/site-packages/sklearn/metrics/_classification.py:1344: UndefinedMetricWarning: Precision is ill-defined and being set to 0.0 in labels with no predicted samples. Use `zero_division` parameter to control this behavior.\n",
      "  _warn_prf(average, modifier, msg_start, len(result))\n",
      "/Users/rebekaangyal/Library/Python/3.9/lib/python/site-packages/sklearn/metrics/_classification.py:1344: UndefinedMetricWarning: Recall is ill-defined and being set to 0.0 in labels with no true samples. Use `zero_division` parameter to control this behavior.\n",
      "  _warn_prf(average, modifier, msg_start, len(result))\n",
      "/Users/rebekaangyal/Library/Python/3.9/lib/python/site-packages/sklearn/metrics/_classification.py:1344: UndefinedMetricWarning: Precision is ill-defined and being set to 0.0 in labels with no predicted samples. Use `zero_division` parameter to control this behavior.\n",
      "  _warn_prf(average, modifier, msg_start, len(result))\n"
     ]
    },
    {
     "name": "stdout",
     "output_type": "stream",
     "text": [
      "Time taken for reviews, p-value, standard, DecisionTreeClassifier, cv: preprocessing time: 71.63160243034363 seconds, training time: 1.0727156162261964 seconds\n"
     ]
    },
    {
     "name": "stderr",
     "output_type": "stream",
     "text": [
      "/Users/rebekaangyal/Library/Python/3.9/lib/python/site-packages/sklearn/metrics/_classification.py:1344: UndefinedMetricWarning: Precision is ill-defined and being set to 0.0 in labels with no predicted samples. Use `zero_division` parameter to control this behavior.\n",
      "  _warn_prf(average, modifier, msg_start, len(result))\n"
     ]
    },
    {
     "name": "stdout",
     "output_type": "stream",
     "text": [
      "Time taken for reviews, p-value, standard, RandomForestClassifier, holdout: preprocessing time: 72.79871726036072 seconds, training time: 1.2675161361694336 seconds\n"
     ]
    },
    {
     "name": "stderr",
     "output_type": "stream",
     "text": [
      "/Users/rebekaangyal/Library/Python/3.9/lib/python/site-packages/sklearn/metrics/_classification.py:1344: UndefinedMetricWarning: Precision is ill-defined and being set to 0.0 in labels with no predicted samples. Use `zero_division` parameter to control this behavior.\n",
      "  _warn_prf(average, modifier, msg_start, len(result))\n",
      "/Users/rebekaangyal/Library/Python/3.9/lib/python/site-packages/sklearn/metrics/_classification.py:1344: UndefinedMetricWarning: Recall is ill-defined and being set to 0.0 in labels with no true samples. Use `zero_division` parameter to control this behavior.\n",
      "  _warn_prf(average, modifier, msg_start, len(result))\n",
      "/Users/rebekaangyal/Library/Python/3.9/lib/python/site-packages/sklearn/metrics/_classification.py:1344: UndefinedMetricWarning: Precision is ill-defined and being set to 0.0 in labels with no predicted samples. Use `zero_division` parameter to control this behavior.\n",
      "  _warn_prf(average, modifier, msg_start, len(result))\n",
      "/Users/rebekaangyal/Library/Python/3.9/lib/python/site-packages/sklearn/metrics/_classification.py:1344: UndefinedMetricWarning: Recall is ill-defined and being set to 0.0 in labels with no true samples. Use `zero_division` parameter to control this behavior.\n",
      "  _warn_prf(average, modifier, msg_start, len(result))\n",
      "/Users/rebekaangyal/Library/Python/3.9/lib/python/site-packages/sklearn/metrics/_classification.py:1344: UndefinedMetricWarning: Precision is ill-defined and being set to 0.0 in labels with no predicted samples. Use `zero_division` parameter to control this behavior.\n",
      "  _warn_prf(average, modifier, msg_start, len(result))\n",
      "/Users/rebekaangyal/Library/Python/3.9/lib/python/site-packages/sklearn/metrics/_classification.py:1344: UndefinedMetricWarning: Recall is ill-defined and being set to 0.0 in labels with no true samples. Use `zero_division` parameter to control this behavior.\n",
      "  _warn_prf(average, modifier, msg_start, len(result))\n",
      "/Users/rebekaangyal/Library/Python/3.9/lib/python/site-packages/sklearn/metrics/_classification.py:1344: UndefinedMetricWarning: Precision is ill-defined and being set to 0.0 in labels with no predicted samples. Use `zero_division` parameter to control this behavior.\n",
      "  _warn_prf(average, modifier, msg_start, len(result))\n"
     ]
    },
    {
     "name": "stdout",
     "output_type": "stream",
     "text": [
      "Time taken for reviews, p-value, standard, RandomForestClassifier, cv: preprocessing time: 74.39846315383912 seconds, training time: 1.4346036911010742 seconds\n"
     ]
    },
    {
     "name": "stderr",
     "output_type": "stream",
     "text": [
      "/Users/rebekaangyal/Library/Python/3.9/lib/python/site-packages/sklearn/metrics/_classification.py:1344: UndefinedMetricWarning: Precision is ill-defined and being set to 0.0 in labels with no predicted samples. Use `zero_division` parameter to control this behavior.\n",
      "  _warn_prf(average, modifier, msg_start, len(result))\n"
     ]
    }
   ],
   "source": [
    "datasets = {\n",
    "    #'wine_quality': wine_quality,\n",
    "    'reviews': reviews,\n",
    "    #'congression_voting': congression_voting,\n",
    "    #'bank_marketing': bank_marketing\n",
    "}\n",
    "\n",
    "feature_selection_methods = [None, 'p-value'] # , 'variance' , 'correlation']\n",
    "scaling_methods = [None, 'standard'] #, 'robust', 'minmax']\n",
    "classifiers = [KNeighborsClassifier(), DecisionTreeClassifier(), RandomForestClassifier()] # LinearSVC(), SVC(C=3, kernel='sigmoid')] #, GaussianNB()]\n",
    "splitting_methods = ['holdout', 'cv']\n",
    "\n",
    "results = []\n",
    "\n",
    "for dataset_name, dataset in datasets.items():\n",
    "    for feature_selection_method in feature_selection_methods:\n",
    "        for scaling_method in scaling_methods:\n",
    "            for classifier in classifiers:\n",
    "                for splitting_method in splitting_methods: # ,'cv']:\n",
    "                    if dataset_name == 'wine_quality' or dataset_name == 'bank_marketing':\n",
    "                        target_column = 'class'\n",
    "                        X,Y = apply_smote(dataset,target_column)\n",
    "                    else:\n",
    "                        X = dataset.drop(columns=[\"class\"])\n",
    "                        Y = dataset[\"class\"]\n",
    "                    evaluation_result = evaluate_model(X, Y, feature_selection_method, scaling_method, classifier, splitting_method)\n",
    "                    print(f\"Time taken for {dataset_name}, {feature_selection_method}, {scaling_method}, {classifier.__class__.__name__}, {splitting_method}: preprocessing time: {evaluation_result['preprocess_time']} seconds, training time: {evaluation_result['training_time']} seconds\")\n",
    "                    results.append({'dataset': dataset_name, 'result': evaluation_result})\n",
    "\n"
   ]
  },
  {
   "cell_type": "code",
   "execution_count": 186,
   "metadata": {},
   "outputs": [
    {
     "data": {
      "text/html": [
       "<div>\n",
       "<style scoped>\n",
       "    .dataframe tbody tr th:only-of-type {\n",
       "        vertical-align: middle;\n",
       "    }\n",
       "\n",
       "    .dataframe tbody tr th {\n",
       "        vertical-align: top;\n",
       "    }\n",
       "\n",
       "    .dataframe thead th {\n",
       "        text-align: right;\n",
       "    }\n",
       "</style>\n",
       "<table border=\"1\" class=\"dataframe\">\n",
       "  <thead>\n",
       "    <tr style=\"text-align: right;\">\n",
       "      <th></th>\n",
       "      <th>dataset</th>\n",
       "      <th>classifier</th>\n",
       "      <th>splitting</th>\n",
       "      <th>feature_selection</th>\n",
       "      <th>scaling</th>\n",
       "      <th>n_features_orig</th>\n",
       "      <th>n_features</th>\n",
       "      <th>accuracy</th>\n",
       "      <th>precision</th>\n",
       "      <th>recall</th>\n",
       "      <th>f1</th>\n",
       "      <th>preprocess_time</th>\n",
       "      <th>training_time</th>\n",
       "      <th>prediction_time</th>\n",
       "      <th>f1_std</th>\n",
       "    </tr>\n",
       "  </thead>\n",
       "  <tbody>\n",
       "    <tr>\n",
       "      <th>0</th>\n",
       "      <td>reviews</td>\n",
       "      <td>KNeighborsClassifier</td>\n",
       "      <td>holdout</td>\n",
       "      <td>None</td>\n",
       "      <td>None</td>\n",
       "      <td>10000</td>\n",
       "      <td>10000</td>\n",
       "      <td>0.168889</td>\n",
       "      <td>0.226259</td>\n",
       "      <td>0.168889</td>\n",
       "      <td>0.167173</td>\n",
       "      <td>0.183552</td>\n",
       "      <td>0.588872</td>\n",
       "      <td>0.371689</td>\n",
       "      <td>NaN</td>\n",
       "    </tr>\n",
       "    <tr>\n",
       "      <th>1</th>\n",
       "      <td>reviews</td>\n",
       "      <td>KNeighborsClassifier</td>\n",
       "      <td>cv</td>\n",
       "      <td>None</td>\n",
       "      <td>None</td>\n",
       "      <td>10000</td>\n",
       "      <td>10000</td>\n",
       "      <td>0.190667</td>\n",
       "      <td>0.229280</td>\n",
       "      <td>0.190667</td>\n",
       "      <td>0.177675</td>\n",
       "      <td>0.033993</td>\n",
       "      <td>0.188579</td>\n",
       "      <td>0.299308</td>\n",
       "      <td>0.042618</td>\n",
       "    </tr>\n",
       "    <tr>\n",
       "      <th>2</th>\n",
       "      <td>reviews</td>\n",
       "      <td>DecisionTreeClassifier</td>\n",
       "      <td>holdout</td>\n",
       "      <td>None</td>\n",
       "      <td>None</td>\n",
       "      <td>10000</td>\n",
       "      <td>10000</td>\n",
       "      <td>0.333333</td>\n",
       "      <td>0.390857</td>\n",
       "      <td>0.333333</td>\n",
       "      <td>0.340607</td>\n",
       "      <td>0.044375</td>\n",
       "      <td>1.612597</td>\n",
       "      <td>0.094909</td>\n",
       "      <td>NaN</td>\n",
       "    </tr>\n",
       "    <tr>\n",
       "      <th>3</th>\n",
       "      <td>reviews</td>\n",
       "      <td>DecisionTreeClassifier</td>\n",
       "      <td>cv</td>\n",
       "      <td>None</td>\n",
       "      <td>None</td>\n",
       "      <td>10000</td>\n",
       "      <td>10000</td>\n",
       "      <td>0.312000</td>\n",
       "      <td>0.370688</td>\n",
       "      <td>0.312000</td>\n",
       "      <td>0.312211</td>\n",
       "      <td>0.029096</td>\n",
       "      <td>1.686393</td>\n",
       "      <td>0.094763</td>\n",
       "      <td>0.048509</td>\n",
       "    </tr>\n",
       "    <tr>\n",
       "      <th>4</th>\n",
       "      <td>reviews</td>\n",
       "      <td>RandomForestClassifier</td>\n",
       "      <td>holdout</td>\n",
       "      <td>None</td>\n",
       "      <td>None</td>\n",
       "      <td>10000</td>\n",
       "      <td>10000</td>\n",
       "      <td>0.484444</td>\n",
       "      <td>0.592447</td>\n",
       "      <td>0.484444</td>\n",
       "      <td>0.481131</td>\n",
       "      <td>0.049906</td>\n",
       "      <td>2.715339</td>\n",
       "      <td>0.146309</td>\n",
       "      <td>NaN</td>\n",
       "    </tr>\n",
       "    <tr>\n",
       "      <th>5</th>\n",
       "      <td>reviews</td>\n",
       "      <td>RandomForestClassifier</td>\n",
       "      <td>cv</td>\n",
       "      <td>None</td>\n",
       "      <td>None</td>\n",
       "      <td>10000</td>\n",
       "      <td>10000</td>\n",
       "      <td>0.529333</td>\n",
       "      <td>0.595120</td>\n",
       "      <td>0.529333</td>\n",
       "      <td>0.518244</td>\n",
       "      <td>0.031126</td>\n",
       "      <td>1.710614</td>\n",
       "      <td>0.121008</td>\n",
       "      <td>0.053394</td>\n",
       "    </tr>\n",
       "    <tr>\n",
       "      <th>6</th>\n",
       "      <td>reviews</td>\n",
       "      <td>KNeighborsClassifier</td>\n",
       "      <td>holdout</td>\n",
       "      <td>None</td>\n",
       "      <td>standard</td>\n",
       "      <td>10000</td>\n",
       "      <td>10000</td>\n",
       "      <td>0.062222</td>\n",
       "      <td>0.082339</td>\n",
       "      <td>0.062222</td>\n",
       "      <td>0.043111</td>\n",
       "      <td>0.506777</td>\n",
       "      <td>0.048974</td>\n",
       "      <td>0.105852</td>\n",
       "      <td>NaN</td>\n",
       "    </tr>\n",
       "    <tr>\n",
       "      <th>7</th>\n",
       "      <td>reviews</td>\n",
       "      <td>KNeighborsClassifier</td>\n",
       "      <td>cv</td>\n",
       "      <td>None</td>\n",
       "      <td>standard</td>\n",
       "      <td>10000</td>\n",
       "      <td>10000</td>\n",
       "      <td>0.036000</td>\n",
       "      <td>0.034935</td>\n",
       "      <td>0.036000</td>\n",
       "      <td>0.017145</td>\n",
       "      <td>0.556181</td>\n",
       "      <td>0.057065</td>\n",
       "      <td>0.073821</td>\n",
       "      <td>0.012510</td>\n",
       "    </tr>\n",
       "    <tr>\n",
       "      <th>8</th>\n",
       "      <td>reviews</td>\n",
       "      <td>DecisionTreeClassifier</td>\n",
       "      <td>holdout</td>\n",
       "      <td>None</td>\n",
       "      <td>standard</td>\n",
       "      <td>10000</td>\n",
       "      <td>10000</td>\n",
       "      <td>0.342222</td>\n",
       "      <td>0.388153</td>\n",
       "      <td>0.342222</td>\n",
       "      <td>0.341065</td>\n",
       "      <td>0.482351</td>\n",
       "      <td>1.311808</td>\n",
       "      <td>0.005961</td>\n",
       "      <td>NaN</td>\n",
       "    </tr>\n",
       "    <tr>\n",
       "      <th>9</th>\n",
       "      <td>reviews</td>\n",
       "      <td>DecisionTreeClassifier</td>\n",
       "      <td>cv</td>\n",
       "      <td>None</td>\n",
       "      <td>standard</td>\n",
       "      <td>10000</td>\n",
       "      <td>10000</td>\n",
       "      <td>0.321333</td>\n",
       "      <td>0.363486</td>\n",
       "      <td>0.321333</td>\n",
       "      <td>0.317793</td>\n",
       "      <td>0.471154</td>\n",
       "      <td>1.408854</td>\n",
       "      <td>0.006259</td>\n",
       "      <td>0.051515</td>\n",
       "    </tr>\n",
       "    <tr>\n",
       "      <th>10</th>\n",
       "      <td>reviews</td>\n",
       "      <td>RandomForestClassifier</td>\n",
       "      <td>holdout</td>\n",
       "      <td>None</td>\n",
       "      <td>standard</td>\n",
       "      <td>10000</td>\n",
       "      <td>10000</td>\n",
       "      <td>0.466667</td>\n",
       "      <td>0.607040</td>\n",
       "      <td>0.466667</td>\n",
       "      <td>0.466699</td>\n",
       "      <td>0.466936</td>\n",
       "      <td>1.697216</td>\n",
       "      <td>0.037522</td>\n",
       "      <td>NaN</td>\n",
       "    </tr>\n",
       "    <tr>\n",
       "      <th>11</th>\n",
       "      <td>reviews</td>\n",
       "      <td>RandomForestClassifier</td>\n",
       "      <td>cv</td>\n",
       "      <td>None</td>\n",
       "      <td>standard</td>\n",
       "      <td>10000</td>\n",
       "      <td>10000</td>\n",
       "      <td>0.508000</td>\n",
       "      <td>0.565238</td>\n",
       "      <td>0.508000</td>\n",
       "      <td>0.491576</td>\n",
       "      <td>0.489884</td>\n",
       "      <td>1.618849</td>\n",
       "      <td>0.030618</td>\n",
       "      <td>0.032141</td>\n",
       "    </tr>\n",
       "    <tr>\n",
       "      <th>12</th>\n",
       "      <td>reviews</td>\n",
       "      <td>KNeighborsClassifier</td>\n",
       "      <td>holdout</td>\n",
       "      <td>p-value</td>\n",
       "      <td>None</td>\n",
       "      <td>10000</td>\n",
       "      <td>5797</td>\n",
       "      <td>0.173333</td>\n",
       "      <td>0.225048</td>\n",
       "      <td>0.173333</td>\n",
       "      <td>0.168212</td>\n",
       "      <td>71.831283</td>\n",
       "      <td>0.098295</td>\n",
       "      <td>0.158054</td>\n",
       "      <td>NaN</td>\n",
       "    </tr>\n",
       "    <tr>\n",
       "      <th>13</th>\n",
       "      <td>reviews</td>\n",
       "      <td>KNeighborsClassifier</td>\n",
       "      <td>cv</td>\n",
       "      <td>p-value</td>\n",
       "      <td>None</td>\n",
       "      <td>10000</td>\n",
       "      <td>6054</td>\n",
       "      <td>0.190667</td>\n",
       "      <td>0.227124</td>\n",
       "      <td>0.190667</td>\n",
       "      <td>0.175787</td>\n",
       "      <td>84.954246</td>\n",
       "      <td>0.109650</td>\n",
       "      <td>0.162403</td>\n",
       "      <td>0.035482</td>\n",
       "    </tr>\n",
       "    <tr>\n",
       "      <th>14</th>\n",
       "      <td>reviews</td>\n",
       "      <td>DecisionTreeClassifier</td>\n",
       "      <td>holdout</td>\n",
       "      <td>p-value</td>\n",
       "      <td>None</td>\n",
       "      <td>10000</td>\n",
       "      <td>5797</td>\n",
       "      <td>0.324444</td>\n",
       "      <td>0.366170</td>\n",
       "      <td>0.324444</td>\n",
       "      <td>0.324742</td>\n",
       "      <td>77.207613</td>\n",
       "      <td>1.002474</td>\n",
       "      <td>0.058476</td>\n",
       "      <td>NaN</td>\n",
       "    </tr>\n",
       "    <tr>\n",
       "      <th>15</th>\n",
       "      <td>reviews</td>\n",
       "      <td>DecisionTreeClassifier</td>\n",
       "      <td>cv</td>\n",
       "      <td>p-value</td>\n",
       "      <td>None</td>\n",
       "      <td>10000</td>\n",
       "      <td>6054</td>\n",
       "      <td>0.324000</td>\n",
       "      <td>0.379860</td>\n",
       "      <td>0.324000</td>\n",
       "      <td>0.323865</td>\n",
       "      <td>70.370490</td>\n",
       "      <td>1.082889</td>\n",
       "      <td>0.061743</td>\n",
       "      <td>0.043315</td>\n",
       "    </tr>\n",
       "    <tr>\n",
       "      <th>16</th>\n",
       "      <td>reviews</td>\n",
       "      <td>RandomForestClassifier</td>\n",
       "      <td>holdout</td>\n",
       "      <td>p-value</td>\n",
       "      <td>None</td>\n",
       "      <td>10000</td>\n",
       "      <td>5797</td>\n",
       "      <td>0.528889</td>\n",
       "      <td>0.621514</td>\n",
       "      <td>0.528889</td>\n",
       "      <td>0.526818</td>\n",
       "      <td>106.382573</td>\n",
       "      <td>2.069079</td>\n",
       "      <td>0.129956</td>\n",
       "      <td>NaN</td>\n",
       "    </tr>\n",
       "    <tr>\n",
       "      <th>17</th>\n",
       "      <td>reviews</td>\n",
       "      <td>RandomForestClassifier</td>\n",
       "      <td>cv</td>\n",
       "      <td>p-value</td>\n",
       "      <td>None</td>\n",
       "      <td>10000</td>\n",
       "      <td>6054</td>\n",
       "      <td>0.552000</td>\n",
       "      <td>0.608933</td>\n",
       "      <td>0.552000</td>\n",
       "      <td>0.530164</td>\n",
       "      <td>75.009505</td>\n",
       "      <td>1.380522</td>\n",
       "      <td>0.083349</td>\n",
       "      <td>0.027016</td>\n",
       "    </tr>\n",
       "    <tr>\n",
       "      <th>18</th>\n",
       "      <td>reviews</td>\n",
       "      <td>KNeighborsClassifier</td>\n",
       "      <td>holdout</td>\n",
       "      <td>p-value</td>\n",
       "      <td>standard</td>\n",
       "      <td>10000</td>\n",
       "      <td>5797</td>\n",
       "      <td>0.102222</td>\n",
       "      <td>0.180997</td>\n",
       "      <td>0.102222</td>\n",
       "      <td>0.084008</td>\n",
       "      <td>64.424920</td>\n",
       "      <td>0.028076</td>\n",
       "      <td>0.068353</td>\n",
       "      <td>NaN</td>\n",
       "    </tr>\n",
       "    <tr>\n",
       "      <th>19</th>\n",
       "      <td>reviews</td>\n",
       "      <td>KNeighborsClassifier</td>\n",
       "      <td>cv</td>\n",
       "      <td>p-value</td>\n",
       "      <td>standard</td>\n",
       "      <td>10000</td>\n",
       "      <td>6054</td>\n",
       "      <td>0.080000</td>\n",
       "      <td>0.126089</td>\n",
       "      <td>0.080000</td>\n",
       "      <td>0.067674</td>\n",
       "      <td>73.358175</td>\n",
       "      <td>0.036687</td>\n",
       "      <td>0.052278</td>\n",
       "      <td>0.012667</td>\n",
       "    </tr>\n",
       "    <tr>\n",
       "      <th>20</th>\n",
       "      <td>reviews</td>\n",
       "      <td>DecisionTreeClassifier</td>\n",
       "      <td>holdout</td>\n",
       "      <td>p-value</td>\n",
       "      <td>standard</td>\n",
       "      <td>10000</td>\n",
       "      <td>5797</td>\n",
       "      <td>0.333333</td>\n",
       "      <td>0.398257</td>\n",
       "      <td>0.333333</td>\n",
       "      <td>0.341091</td>\n",
       "      <td>69.160104</td>\n",
       "      <td>0.959109</td>\n",
       "      <td>0.004338</td>\n",
       "      <td>NaN</td>\n",
       "    </tr>\n",
       "    <tr>\n",
       "      <th>21</th>\n",
       "      <td>reviews</td>\n",
       "      <td>DecisionTreeClassifier</td>\n",
       "      <td>cv</td>\n",
       "      <td>p-value</td>\n",
       "      <td>standard</td>\n",
       "      <td>10000</td>\n",
       "      <td>6054</td>\n",
       "      <td>0.317333</td>\n",
       "      <td>0.353043</td>\n",
       "      <td>0.317333</td>\n",
       "      <td>0.314184</td>\n",
       "      <td>71.631602</td>\n",
       "      <td>1.072716</td>\n",
       "      <td>0.003346</td>\n",
       "      <td>0.058833</td>\n",
       "    </tr>\n",
       "    <tr>\n",
       "      <th>22</th>\n",
       "      <td>reviews</td>\n",
       "      <td>RandomForestClassifier</td>\n",
       "      <td>holdout</td>\n",
       "      <td>p-value</td>\n",
       "      <td>standard</td>\n",
       "      <td>10000</td>\n",
       "      <td>5797</td>\n",
       "      <td>0.440000</td>\n",
       "      <td>0.545957</td>\n",
       "      <td>0.440000</td>\n",
       "      <td>0.440693</td>\n",
       "      <td>72.798717</td>\n",
       "      <td>1.267516</td>\n",
       "      <td>0.033903</td>\n",
       "      <td>NaN</td>\n",
       "    </tr>\n",
       "    <tr>\n",
       "      <th>23</th>\n",
       "      <td>reviews</td>\n",
       "      <td>RandomForestClassifier</td>\n",
       "      <td>cv</td>\n",
       "      <td>p-value</td>\n",
       "      <td>standard</td>\n",
       "      <td>10000</td>\n",
       "      <td>6054</td>\n",
       "      <td>0.525333</td>\n",
       "      <td>0.579842</td>\n",
       "      <td>0.525333</td>\n",
       "      <td>0.512226</td>\n",
       "      <td>74.398463</td>\n",
       "      <td>1.434604</td>\n",
       "      <td>0.027424</td>\n",
       "      <td>0.040200</td>\n",
       "    </tr>\n",
       "  </tbody>\n",
       "</table>\n",
       "</div>"
      ],
      "text/plain": [
       "    dataset              classifier splitting feature_selection   scaling  \\\n",
       "0   reviews    KNeighborsClassifier   holdout              None      None   \n",
       "1   reviews    KNeighborsClassifier        cv              None      None   \n",
       "2   reviews  DecisionTreeClassifier   holdout              None      None   \n",
       "3   reviews  DecisionTreeClassifier        cv              None      None   \n",
       "4   reviews  RandomForestClassifier   holdout              None      None   \n",
       "5   reviews  RandomForestClassifier        cv              None      None   \n",
       "6   reviews    KNeighborsClassifier   holdout              None  standard   \n",
       "7   reviews    KNeighborsClassifier        cv              None  standard   \n",
       "8   reviews  DecisionTreeClassifier   holdout              None  standard   \n",
       "9   reviews  DecisionTreeClassifier        cv              None  standard   \n",
       "10  reviews  RandomForestClassifier   holdout              None  standard   \n",
       "11  reviews  RandomForestClassifier        cv              None  standard   \n",
       "12  reviews    KNeighborsClassifier   holdout           p-value      None   \n",
       "13  reviews    KNeighborsClassifier        cv           p-value      None   \n",
       "14  reviews  DecisionTreeClassifier   holdout           p-value      None   \n",
       "15  reviews  DecisionTreeClassifier        cv           p-value      None   \n",
       "16  reviews  RandomForestClassifier   holdout           p-value      None   \n",
       "17  reviews  RandomForestClassifier        cv           p-value      None   \n",
       "18  reviews    KNeighborsClassifier   holdout           p-value  standard   \n",
       "19  reviews    KNeighborsClassifier        cv           p-value  standard   \n",
       "20  reviews  DecisionTreeClassifier   holdout           p-value  standard   \n",
       "21  reviews  DecisionTreeClassifier        cv           p-value  standard   \n",
       "22  reviews  RandomForestClassifier   holdout           p-value  standard   \n",
       "23  reviews  RandomForestClassifier        cv           p-value  standard   \n",
       "\n",
       "    n_features_orig  n_features  accuracy  precision    recall        f1  \\\n",
       "0             10000       10000  0.168889   0.226259  0.168889  0.167173   \n",
       "1             10000       10000  0.190667   0.229280  0.190667  0.177675   \n",
       "2             10000       10000  0.333333   0.390857  0.333333  0.340607   \n",
       "3             10000       10000  0.312000   0.370688  0.312000  0.312211   \n",
       "4             10000       10000  0.484444   0.592447  0.484444  0.481131   \n",
       "5             10000       10000  0.529333   0.595120  0.529333  0.518244   \n",
       "6             10000       10000  0.062222   0.082339  0.062222  0.043111   \n",
       "7             10000       10000  0.036000   0.034935  0.036000  0.017145   \n",
       "8             10000       10000  0.342222   0.388153  0.342222  0.341065   \n",
       "9             10000       10000  0.321333   0.363486  0.321333  0.317793   \n",
       "10            10000       10000  0.466667   0.607040  0.466667  0.466699   \n",
       "11            10000       10000  0.508000   0.565238  0.508000  0.491576   \n",
       "12            10000        5797  0.173333   0.225048  0.173333  0.168212   \n",
       "13            10000        6054  0.190667   0.227124  0.190667  0.175787   \n",
       "14            10000        5797  0.324444   0.366170  0.324444  0.324742   \n",
       "15            10000        6054  0.324000   0.379860  0.324000  0.323865   \n",
       "16            10000        5797  0.528889   0.621514  0.528889  0.526818   \n",
       "17            10000        6054  0.552000   0.608933  0.552000  0.530164   \n",
       "18            10000        5797  0.102222   0.180997  0.102222  0.084008   \n",
       "19            10000        6054  0.080000   0.126089  0.080000  0.067674   \n",
       "20            10000        5797  0.333333   0.398257  0.333333  0.341091   \n",
       "21            10000        6054  0.317333   0.353043  0.317333  0.314184   \n",
       "22            10000        5797  0.440000   0.545957  0.440000  0.440693   \n",
       "23            10000        6054  0.525333   0.579842  0.525333  0.512226   \n",
       "\n",
       "    preprocess_time  training_time  prediction_time    f1_std  \n",
       "0          0.183552       0.588872         0.371689       NaN  \n",
       "1          0.033993       0.188579         0.299308  0.042618  \n",
       "2          0.044375       1.612597         0.094909       NaN  \n",
       "3          0.029096       1.686393         0.094763  0.048509  \n",
       "4          0.049906       2.715339         0.146309       NaN  \n",
       "5          0.031126       1.710614         0.121008  0.053394  \n",
       "6          0.506777       0.048974         0.105852       NaN  \n",
       "7          0.556181       0.057065         0.073821  0.012510  \n",
       "8          0.482351       1.311808         0.005961       NaN  \n",
       "9          0.471154       1.408854         0.006259  0.051515  \n",
       "10         0.466936       1.697216         0.037522       NaN  \n",
       "11         0.489884       1.618849         0.030618  0.032141  \n",
       "12        71.831283       0.098295         0.158054       NaN  \n",
       "13        84.954246       0.109650         0.162403  0.035482  \n",
       "14        77.207613       1.002474         0.058476       NaN  \n",
       "15        70.370490       1.082889         0.061743  0.043315  \n",
       "16       106.382573       2.069079         0.129956       NaN  \n",
       "17        75.009505       1.380522         0.083349  0.027016  \n",
       "18        64.424920       0.028076         0.068353       NaN  \n",
       "19        73.358175       0.036687         0.052278  0.012667  \n",
       "20        69.160104       0.959109         0.004338       NaN  \n",
       "21        71.631602       1.072716         0.003346  0.058833  \n",
       "22        72.798717       1.267516         0.033903       NaN  \n",
       "23        74.398463       1.434604         0.027424  0.040200  "
      ]
     },
     "execution_count": 186,
     "metadata": {},
     "output_type": "execute_result"
    }
   ],
   "source": [
    "df = pd.DataFrame(results)\n",
    "results_df = pd.json_normalize(df['result'])\n",
    "results_df.insert(0, 'dataset', df['dataset'])\n",
    "#results_df.to_csv('./data/results_one_half_reviews.csv', index=False)\n",
    "results_df"
   ]
  },
  {
   "cell_type": "code",
   "execution_count": 27,
   "metadata": {},
   "outputs": [],
   "source": [
    "# in case the pipeline is not run separately\n",
    "#results_df_old = pd.read_csv('./data/results_wo_reviews.csv')\n",
    "#results_df = pd.concat([results_df_old, results_df])\n",
    "#results_df.to_csv('./data/results.csv', index=False)\n",
    "results_df.fillna(\"no_preprocessing\", inplace=True)"
   ]
  },
  {
   "cell_type": "code",
   "execution_count": 26,
   "metadata": {},
   "outputs": [],
   "source": []
  },
  {
   "cell_type": "code",
   "execution_count": 28,
   "metadata": {},
   "outputs": [
    {
     "data": {
      "image/png": "[encoded data removed]",
      "text/plain": [
       "<Figure size 1200x600 with 1 Axes>"
      ]
     },
     "metadata": {},
     "output_type": "display_data"
    }
   ],
   "source": [
    "plt.figure(figsize=(12, 6))\n",
    "sns.barplot(x='dataset', y='f1', hue='classifier', data=results_df)\n",
    "plt.title('Comparison of f1 across datasets and classifiers')\n",
    "plt.show()"
   ]
  },
  {
   "cell_type": "code",
   "execution_count": 29,
   "metadata": {},
   "outputs": [
    {
     "data": {
      "image/png": "[encoded data removed]",
      "text/plain": [
       "<Figure size 1200x600 with 1 Axes>"
      ]
     },
     "metadata": {},
     "output_type": "display_data"
    }
   ],
   "source": [
    "#plot f1-score across datasets for each classifier, cv vs holdout\n",
    "plt.figure(figsize=(12, 6))\n",
    "sns.barplot(x='dataset', y='f1', hue='splitting', data=results_df)\n",
    "plt.title('Mean F1-score by validation strategy')\n",
    "plt.ylabel('F1-score')\n",
    "plt.xlabel('Data sets')\n",
    "plt.show()"
   ]
  },
  {
   "cell_type": "code",
   "execution_count": 30,
   "metadata": {},
   "outputs": [
    {
     "data": {
      "image/png": "[encoded data removed]",
      "text/plain": [
       "<Figure size 1200x600 with 1 Axes>"
      ]
     },
     "metadata": {},
     "output_type": "display_data"
    }
   ],
   "source": [
    "# data.groupby(['dataset', 'Spliting'])['Mean F1-score'].mean().unstack().plot(kind='bar', figsize=(10,5))\n",
    "plt.figure(figsize=(12, 6))\n",
    "sns.barplot(x='dataset', y='f1', hue='feature_selection', data=results_df)\n",
    "plt.title('Mean F1-score by validation strategy')\n",
    "plt.ylabel('F1-score')\n",
    "plt.xlabel('Data sets')\n",
    "plt.show()"
   ]
  },
  {
   "cell_type": "code",
   "execution_count": 31,
   "metadata": {},
   "outputs": [
    {
     "data": {
      "image/png": "[encoded data removed]",
      "text/plain": [
       "<Figure size 1200x600 with 1 Axes>"
      ]
     },
     "metadata": {},
     "output_type": "display_data"
    }
   ],
   "source": [
    "plt.figure(figsize=(12, 6))\n",
    "sns.barplot(x='dataset', y='f1', hue='scaling', data=results_df)\n",
    "plt.title('Mean F1-score by validation strategy')\n",
    "plt.ylabel('F1-score')\n",
    "plt.xlabel('Data sets')\n",
    "plt.show()"
   ]
  },
  {
   "cell_type": "code",
   "execution_count": 32,
   "metadata": {},
   "outputs": [
    {
     "data": {
      "image/png": "[encoded data removed]",
      "text/plain": [
       "<Figure size 1200x600 with 1 Axes>"
      ]
     },
     "metadata": {},
     "output_type": "display_data"
    }
   ],
   "source": [
    "plt.figure(figsize=(12, 6))\n",
    "sns.barplot(x='dataset', y='training_time', hue='classifier', data=results_df, log=True)\n",
    "plt.title('Comparison of the log transformed training time across datasets and classifiers')\n",
    "plt.show()"
   ]
  }
 ],
 "metadata": {
  "kernelspec": {
   "display_name": "Python 3",
   "language": "python",
   "name": "python3"
  },
  "language_info": {
   "codemirror_mode": {
    "name": "ipython",
    "version": 3
   },
   "file_extension": ".py",
   "mimetype": "text/x-python",
   "name": "python",
   "nbconvert_exporter": "python",
   "pygments_lexer": "ipython3",
   "version": "3.9.6"
  }
 },
 "nbformat": 4,
 "nbformat_minor": 2
}
