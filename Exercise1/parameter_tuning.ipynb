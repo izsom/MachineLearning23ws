{
 "cells": [
  {
   "cell_type": "code",
   "execution_count": 47,
   "metadata": {},
   "outputs": [],
   "source": [
    "import pandas as pd\n",
    "import numpy as np\n",
    "import matplotlib.pyplot as plt\n",
    "import seaborn as sns\n",
    "from sklearn import metrics\n",
    "from sklearn.model_selection import KFold\n",
    "from sklearn.svm import SVC\n",
    "from sklearn.model_selection import train_test_split\n",
    "from sklearn.feature_selection import SelectKBest, f_classif, VarianceThreshold, chi2\n",
    "from sklearn.preprocessing import StandardScaler, MinMaxScaler, RobustScaler\n",
    "from sklearn.linear_model import SGDClassifier\n",
    "from sklearn.ensemble import RandomForestClassifier\n",
    "from sklearn.svm import LinearSVC\n",
    "from sklearn.tree import DecisionTreeClassifier\n",
    "from sklearn.neighbors import KNeighborsClassifier\n",
    "from sklearn.linear_model import SGDClassifier\n",
    "from imblearn.over_sampling import SMOTE\n",
    "from sklearn.linear_model import LogisticRegression\n",
    "import time\n",
    "from sklearn.model_selection import RandomizedSearchCV, GridSearchCV\n",
    "from sklearn.metrics import classification_report "
   ]
  },
  {
   "cell_type": "markdown",
   "metadata": {},
   "source": [
    "# Parameter tuning"
   ]
  },
  {
   "cell_type": "markdown",
   "metadata": {},
   "source": [
    "For Hyperparameter Tuning we considered GridSearchCV and RandomizedSearchCV. GridSearchCV evaluates all the options listed in the parameter grid, which can be computationally expensive. Therefore, we chose RandomizedSearchCV, which randomly chooses from different parameter combinations to find the best score."
   ]
  },
  {
   "cell_type": "code",
   "execution_count": 10,
   "metadata": {},
   "outputs": [],
   "source": [
    "combined_results = pd.read_csv('data/combined_results.csv')"
   ]
  },
  {
   "cell_type": "markdown",
   "metadata": {},
   "source": [
    "## 1. Dataset Congressional Voting"
   ]
  },
  {
   "cell_type": "code",
   "execution_count": 11,
   "metadata": {},
   "outputs": [],
   "source": [
    "congressional_voting_results = combined_results[combined_results['dataset'] == 'congression_voting']"
   ]
  },
  {
   "cell_type": "markdown",
   "metadata": {},
   "source": [
    "Top 5 combinations based on F1 score:"
   ]
  },
  {
   "cell_type": "code",
   "execution_count": 12,
   "metadata": {},
   "outputs": [
    {
     "data": {
      "text/html": [
       "<div>\n",
       "<style scoped>\n",
       "    .dataframe tbody tr th:only-of-type {\n",
       "        vertical-align: middle;\n",
       "    }\n",
       "\n",
       "    .dataframe tbody tr th {\n",
       "        vertical-align: top;\n",
       "    }\n",
       "\n",
       "    .dataframe thead th {\n",
       "        text-align: right;\n",
       "    }\n",
       "</style>\n",
       "<table border=\"1\" class=\"dataframe\">\n",
       "  <thead>\n",
       "    <tr style=\"text-align: right;\">\n",
       "      <th></th>\n",
       "      <th>dataset</th>\n",
       "      <th>classifier</th>\n",
       "      <th>splitting</th>\n",
       "      <th>feature_selection</th>\n",
       "      <th>scaling</th>\n",
       "      <th>n_features_orig</th>\n",
       "      <th>n_features</th>\n",
       "      <th>accuracy</th>\n",
       "      <th>precision</th>\n",
       "      <th>recall</th>\n",
       "      <th>f1</th>\n",
       "      <th>preprocess_time</th>\n",
       "      <th>training_time</th>\n",
       "      <th>prediction_time</th>\n",
       "      <th>f1_std</th>\n",
       "    </tr>\n",
       "  </thead>\n",
       "  <tbody>\n",
       "    <tr>\n",
       "      <th>82</th>\n",
       "      <td>congression_voting</td>\n",
       "      <td>RandomForestClassifier</td>\n",
       "      <td>holdout</td>\n",
       "      <td>none</td>\n",
       "      <td>standard</td>\n",
       "      <td>16</td>\n",
       "      <td>16</td>\n",
       "      <td>0.954545</td>\n",
       "      <td>0.954678</td>\n",
       "      <td>0.954545</td>\n",
       "      <td>0.95438</td>\n",
       "      <td>0.012542</td>\n",
       "      <td>0.084082</td>\n",
       "      <td>0.018900</td>\n",
       "      <td>NaN</td>\n",
       "    </tr>\n",
       "    <tr>\n",
       "      <th>88</th>\n",
       "      <td>congression_voting</td>\n",
       "      <td>RandomForestClassifier</td>\n",
       "      <td>holdout</td>\n",
       "      <td>none</td>\n",
       "      <td>robust</td>\n",
       "      <td>16</td>\n",
       "      <td>16</td>\n",
       "      <td>0.954545</td>\n",
       "      <td>0.954678</td>\n",
       "      <td>0.954545</td>\n",
       "      <td>0.95438</td>\n",
       "      <td>0.000000</td>\n",
       "      <td>0.104615</td>\n",
       "      <td>0.000000</td>\n",
       "      <td>NaN</td>\n",
       "    </tr>\n",
       "    <tr>\n",
       "      <th>94</th>\n",
       "      <td>congression_voting</td>\n",
       "      <td>RandomForestClassifier</td>\n",
       "      <td>holdout</td>\n",
       "      <td>none</td>\n",
       "      <td>minmax</td>\n",
       "      <td>16</td>\n",
       "      <td>16</td>\n",
       "      <td>0.954545</td>\n",
       "      <td>0.954678</td>\n",
       "      <td>0.954545</td>\n",
       "      <td>0.95438</td>\n",
       "      <td>0.000740</td>\n",
       "      <td>0.088130</td>\n",
       "      <td>0.016628</td>\n",
       "      <td>NaN</td>\n",
       "    </tr>\n",
       "    <tr>\n",
       "      <th>100</th>\n",
       "      <td>congression_voting</td>\n",
       "      <td>RandomForestClassifier</td>\n",
       "      <td>holdout</td>\n",
       "      <td>p-value</td>\n",
       "      <td>none</td>\n",
       "      <td>16</td>\n",
       "      <td>14</td>\n",
       "      <td>0.954545</td>\n",
       "      <td>0.954678</td>\n",
       "      <td>0.954545</td>\n",
       "      <td>0.95438</td>\n",
       "      <td>0.032598</td>\n",
       "      <td>0.083973</td>\n",
       "      <td>0.018123</td>\n",
       "      <td>NaN</td>\n",
       "    </tr>\n",
       "    <tr>\n",
       "      <th>106</th>\n",
       "      <td>congression_voting</td>\n",
       "      <td>RandomForestClassifier</td>\n",
       "      <td>holdout</td>\n",
       "      <td>p-value</td>\n",
       "      <td>standard</td>\n",
       "      <td>16</td>\n",
       "      <td>14</td>\n",
       "      <td>0.954545</td>\n",
       "      <td>0.954678</td>\n",
       "      <td>0.954545</td>\n",
       "      <td>0.95438</td>\n",
       "      <td>0.038320</td>\n",
       "      <td>0.095003</td>\n",
       "      <td>0.000000</td>\n",
       "      <td>NaN</td>\n",
       "    </tr>\n",
       "  </tbody>\n",
       "</table>\n",
       "</div>"
      ],
      "text/plain": [
       "                dataset              classifier splitting feature_selection  \\\n",
       "82   congression_voting  RandomForestClassifier   holdout              none   \n",
       "88   congression_voting  RandomForestClassifier   holdout              none   \n",
       "94   congression_voting  RandomForestClassifier   holdout              none   \n",
       "100  congression_voting  RandomForestClassifier   holdout           p-value   \n",
       "106  congression_voting  RandomForestClassifier   holdout           p-value   \n",
       "\n",
       "      scaling  n_features_orig  n_features  accuracy  precision    recall  \\\n",
       "82   standard               16          16  0.954545   0.954678  0.954545   \n",
       "88     robust               16          16  0.954545   0.954678  0.954545   \n",
       "94     minmax               16          16  0.954545   0.954678  0.954545   \n",
       "100      none               16          14  0.954545   0.954678  0.954545   \n",
       "106  standard               16          14  0.954545   0.954678  0.954545   \n",
       "\n",
       "          f1  preprocess_time  training_time  prediction_time  f1_std  \n",
       "82   0.95438         0.012542       0.084082         0.018900     NaN  \n",
       "88   0.95438         0.000000       0.104615         0.000000     NaN  \n",
       "94   0.95438         0.000740       0.088130         0.016628     NaN  \n",
       "100  0.95438         0.032598       0.083973         0.018123     NaN  \n",
       "106  0.95438         0.038320       0.095003         0.000000     NaN  "
      ]
     },
     "execution_count": 12,
     "metadata": {},
     "output_type": "execute_result"
    }
   ],
   "source": [
    "congressional_voting_results.nlargest(5, 'f1')"
   ]
  },
  {
   "cell_type": "markdown",
   "metadata": {},
   "source": [
    "For parameter tuning we use the best combination:\n",
    "- classifier: RandomForest\n",
    "- feature_selection: None\n",
    "- scaling: standard"
   ]
  },
  {
   "cell_type": "code",
   "execution_count": 13,
   "metadata": {},
   "outputs": [],
   "source": [
    "# Read the preprocessed dataset\n",
    "congressional_voting = pd.read_csv(\"./preprocessed-datasets/CongressionVoting_prepro.csv\")\n",
    "X = congressional_voting.drop(\"class\", axis=1) \n",
    "y = congressional_voting['class'] \n",
    "  \n",
    "X_train, X_test, y_train, y_test = train_test_split(X, y, test_size=0.3, random_state=18) \n",
    "\n",
    "scaler = StandardScaler().fit(X_train)\n",
    "X_train_scaled = scaler.transform(X_train)\n",
    "X_test_scaled = scaler.transform(X_test)\n",
    "\n",
    "# Define the parameter grid for RandomizedSearchCV\n",
    "param_grid = { \n",
    "    'n_estimators': [25, 50, 100, 150], \n",
    "    'max_features': ['sqrt', 'log2', None], \n",
    "    'max_depth': [10, 20, 30], \n",
    "    'min_samples_split': [2, 5, 10],\n",
    "    'min_samples_leaf': [1, 2, 4],\n",
    "} "
   ]
  },
  {
   "cell_type": "code",
   "execution_count": 14,
   "metadata": {},
   "outputs": [
    {
     "data": {
      "text/html": [
       "<style>#sk-container-id-1 {color: black;}#sk-container-id-1 pre{padding: 0;}#sk-container-id-1 div.sk-toggleable {background-color: white;}#sk-container-id-1 label.sk-toggleable__label {cursor: pointer;display: block;width: 100%;margin-bottom: 0;padding: 0.3em;box-sizing: border-box;text-align: center;}#sk-container-id-1 label.sk-toggleable__label-arrow:before {content: \"▸\";float: left;margin-right: 0.25em;color: #696969;}#sk-container-id-1 label.sk-toggleable__label-arrow:hover:before {color: black;}#sk-container-id-1 div.sk-estimator:hover label.sk-toggleable__label-arrow:before {color: black;}#sk-container-id-1 div.sk-toggleable__content {max-height: 0;max-width: 0;overflow: hidden;text-align: left;background-color: #f0f8ff;}#sk-container-id-1 div.sk-toggleable__content pre {margin: 0.2em;color: black;border-radius: 0.25em;background-color: #f0f8ff;}#sk-container-id-1 input.sk-toggleable__control:checked~div.sk-toggleable__content {max-height: 200px;max-width: 100%;overflow: auto;}#sk-container-id-1 input.sk-toggleable__control:checked~label.sk-toggleable__label-arrow:before {content: \"▾\";}#sk-container-id-1 div.sk-estimator input.sk-toggleable__control:checked~label.sk-toggleable__label {background-color: #d4ebff;}#sk-container-id-1 div.sk-label input.sk-toggleable__control:checked~label.sk-toggleable__label {background-color: #d4ebff;}#sk-container-id-1 input.sk-hidden--visually {border: 0;clip: rect(1px 1px 1px 1px);clip: rect(1px, 1px, 1px, 1px);height: 1px;margin: -1px;overflow: hidden;padding: 0;position: absolute;width: 1px;}#sk-container-id-1 div.sk-estimator {font-family: monospace;background-color: #f0f8ff;border: 1px dotted black;border-radius: 0.25em;box-sizing: border-box;margin-bottom: 0.5em;}#sk-container-id-1 div.sk-estimator:hover {background-color: #d4ebff;}#sk-container-id-1 div.sk-parallel-item::after {content: \"\";width: 100%;border-bottom: 1px solid gray;flex-grow: 1;}#sk-container-id-1 div.sk-label:hover label.sk-toggleable__label {background-color: #d4ebff;}#sk-container-id-1 div.sk-serial::before {content: \"\";position: absolute;border-left: 1px solid gray;box-sizing: border-box;top: 0;bottom: 0;left: 50%;z-index: 0;}#sk-container-id-1 div.sk-serial {display: flex;flex-direction: column;align-items: center;background-color: white;padding-right: 0.2em;padding-left: 0.2em;position: relative;}#sk-container-id-1 div.sk-item {position: relative;z-index: 1;}#sk-container-id-1 div.sk-parallel {display: flex;align-items: stretch;justify-content: center;background-color: white;position: relative;}#sk-container-id-1 div.sk-item::before, #sk-container-id-1 div.sk-parallel-item::before {content: \"\";position: absolute;border-left: 1px solid gray;box-sizing: border-box;top: 0;bottom: 0;left: 50%;z-index: -1;}#sk-container-id-1 div.sk-parallel-item {display: flex;flex-direction: column;z-index: 1;position: relative;background-color: white;}#sk-container-id-1 div.sk-parallel-item:first-child::after {align-self: flex-end;width: 50%;}#sk-container-id-1 div.sk-parallel-item:last-child::after {align-self: flex-start;width: 50%;}#sk-container-id-1 div.sk-parallel-item:only-child::after {width: 0;}#sk-container-id-1 div.sk-dashed-wrapped {border: 1px dashed gray;margin: 0 0.4em 0.5em 0.4em;box-sizing: border-box;padding-bottom: 0.4em;background-color: white;}#sk-container-id-1 div.sk-label label {font-family: monospace;font-weight: bold;display: inline-block;line-height: 1.2em;}#sk-container-id-1 div.sk-label-container {text-align: center;}#sk-container-id-1 div.sk-container {/* jupyter's `normalize.less` sets `[hidden] { display: none; }` but bootstrap.min.css set `[hidden] { display: none !important; }` so we also need the `!important` here to be able to override the default hidden behavior on the sphinx rendered scikit-learn.org. See: https://github.com/scikit-learn/scikit-learn/issues/21755 */display: inline-block !important;position: relative;}#sk-container-id-1 div.sk-text-repr-fallback {display: none;}</style><div id=\"sk-container-id-1\" class=\"sk-top-container\"><div class=\"sk-text-repr-fallback\"><pre>RandomizedSearchCV(estimator=RandomForestClassifier(),\n",
       "                   param_distributions={&#x27;max_depth&#x27;: [10, 20, 30],\n",
       "                                        &#x27;max_features&#x27;: [&#x27;sqrt&#x27;, &#x27;log2&#x27;, None],\n",
       "                                        &#x27;min_samples_leaf&#x27;: [1, 2, 4],\n",
       "                                        &#x27;min_samples_split&#x27;: [2, 5, 10],\n",
       "                                        &#x27;n_estimators&#x27;: [25, 50, 100, 150]},\n",
       "                   scoring=&#x27;f1_weighted&#x27;)</pre><b>In a Jupyter environment, please rerun this cell to show the HTML representation or trust the notebook. <br />On GitHub, the HTML representation is unable to render, please try loading this page with nbviewer.org.</b></div><div class=\"sk-container\" hidden><div class=\"sk-item sk-dashed-wrapped\"><div class=\"sk-label-container\"><div class=\"sk-label sk-toggleable\"><input class=\"sk-toggleable__control sk-hidden--visually\" id=\"sk-estimator-id-1\" type=\"checkbox\" ><label for=\"sk-estimator-id-1\" class=\"sk-toggleable__label sk-toggleable__label-arrow\">RandomizedSearchCV</label><div class=\"sk-toggleable__content\"><pre>RandomizedSearchCV(estimator=RandomForestClassifier(),\n",
       "                   param_distributions={&#x27;max_depth&#x27;: [10, 20, 30],\n",
       "                                        &#x27;max_features&#x27;: [&#x27;sqrt&#x27;, &#x27;log2&#x27;, None],\n",
       "                                        &#x27;min_samples_leaf&#x27;: [1, 2, 4],\n",
       "                                        &#x27;min_samples_split&#x27;: [2, 5, 10],\n",
       "                                        &#x27;n_estimators&#x27;: [25, 50, 100, 150]},\n",
       "                   scoring=&#x27;f1_weighted&#x27;)</pre></div></div></div><div class=\"sk-parallel\"><div class=\"sk-parallel-item\"><div class=\"sk-item\"><div class=\"sk-label-container\"><div class=\"sk-label sk-toggleable\"><input class=\"sk-toggleable__control sk-hidden--visually\" id=\"sk-estimator-id-2\" type=\"checkbox\" ><label for=\"sk-estimator-id-2\" class=\"sk-toggleable__label sk-toggleable__label-arrow\">estimator: RandomForestClassifier</label><div class=\"sk-toggleable__content\"><pre>RandomForestClassifier()</pre></div></div></div><div class=\"sk-serial\"><div class=\"sk-item\"><div class=\"sk-estimator sk-toggleable\"><input class=\"sk-toggleable__control sk-hidden--visually\" id=\"sk-estimator-id-3\" type=\"checkbox\" ><label for=\"sk-estimator-id-3\" class=\"sk-toggleable__label sk-toggleable__label-arrow\">RandomForestClassifier</label><div class=\"sk-toggleable__content\"><pre>RandomForestClassifier()</pre></div></div></div></div></div></div></div></div></div></div>"
      ],
      "text/plain": [
       "RandomizedSearchCV(estimator=RandomForestClassifier(),\n",
       "                   param_distributions={'max_depth': [10, 20, 30],\n",
       "                                        'max_features': ['sqrt', 'log2', None],\n",
       "                                        'min_samples_leaf': [1, 2, 4],\n",
       "                                        'min_samples_split': [2, 5, 10],\n",
       "                                        'n_estimators': [25, 50, 100, 150]},\n",
       "                   scoring='f1_weighted')"
      ]
     },
     "execution_count": 14,
     "metadata": {},
     "output_type": "execute_result"
    }
   ],
   "source": [
    "# Perform RandomizedSearchCV\n",
    "random_search = RandomizedSearchCV(RandomForestClassifier(), param_distributions=param_grid, scoring=\"f1_weighted\") \n",
    "random_search.fit(X_train_scaled, y_train) "
   ]
  },
  {
   "cell_type": "code",
   "execution_count": 15,
   "metadata": {},
   "outputs": [
    {
     "name": "stdout",
     "output_type": "stream",
     "text": [
      "f1 score of the best performing combination without parameter tuning: 0.9543804053607976\n",
      "f1 score of the best estimator from RandomizedSearchCV: 0.9696969696969697\n"
     ]
    }
   ],
   "source": [
    "# Get the best estimator from RandomizedSearchCV\n",
    "best_estimator = random_search.best_estimator_\n",
    "\n",
    "# Evaluate the best estimator on the test set\n",
    "y_pred_test = best_estimator.predict(X_test_scaled)\n",
    "f1_test = metrics.f1_score(y_test, y_pred_test, average='weighted')\n",
    "\n",
    "largest = congressional_voting_results.nlargest(1, 'f1')\n",
    "f1_value = largest['f1'].iloc[0]\n",
    "print(f\"f1 score of the best performing combination without parameter tuning: {f1_value}\")\n",
    "print(f\"f1 score of the best estimator from RandomizedSearchCV: {f1_test}\")"
   ]
  },
  {
   "cell_type": "markdown",
   "metadata": {},
   "source": [
    "Our best combination (classifier: RandomForest, feature_selection: None, scaling: standard) for the congressional voting dataset had an f1 score = 0.95438. With RandomizedSearchCV we found the best parameter setting which result in a higher f1 score.  "
   ]
  },
  {
   "cell_type": "markdown",
   "metadata": {},
   "source": [
    "## 2. Dataset Bank Marketing"
   ]
  },
  {
   "cell_type": "code",
   "execution_count": 16,
   "metadata": {},
   "outputs": [],
   "source": [
    "bank_marketing_results = combined_results[combined_results['dataset'] == 'bank_marketing']"
   ]
  },
  {
   "cell_type": "code",
   "execution_count": 17,
   "metadata": {},
   "outputs": [
    {
     "data": {
      "text/html": [
       "<div>\n",
       "<style scoped>\n",
       "    .dataframe tbody tr th:only-of-type {\n",
       "        vertical-align: middle;\n",
       "    }\n",
       "\n",
       "    .dataframe tbody tr th {\n",
       "        vertical-align: top;\n",
       "    }\n",
       "\n",
       "    .dataframe thead th {\n",
       "        text-align: right;\n",
       "    }\n",
       "</style>\n",
       "<table border=\"1\" class=\"dataframe\">\n",
       "  <thead>\n",
       "    <tr style=\"text-align: right;\">\n",
       "      <th></th>\n",
       "      <th>dataset</th>\n",
       "      <th>classifier</th>\n",
       "      <th>splitting</th>\n",
       "      <th>feature_selection</th>\n",
       "      <th>scaling</th>\n",
       "      <th>n_features_orig</th>\n",
       "      <th>n_features</th>\n",
       "      <th>accuracy</th>\n",
       "      <th>precision</th>\n",
       "      <th>recall</th>\n",
       "      <th>f1</th>\n",
       "      <th>preprocess_time</th>\n",
       "      <th>training_time</th>\n",
       "      <th>prediction_time</th>\n",
       "      <th>f1_std</th>\n",
       "    </tr>\n",
       "  </thead>\n",
       "  <tbody>\n",
       "    <tr>\n",
       "      <th>221</th>\n",
       "      <td>bank_marketing</td>\n",
       "      <td>RandomForestClassifier</td>\n",
       "      <td>cv</td>\n",
       "      <td>none</td>\n",
       "      <td>minmax</td>\n",
       "      <td>34</td>\n",
       "      <td>34</td>\n",
       "      <td>0.939190</td>\n",
       "      <td>0.939728</td>\n",
       "      <td>0.939190</td>\n",
       "      <td>0.939171</td>\n",
       "      <td>0.000012</td>\n",
       "      <td>6.995210</td>\n",
       "      <td>0.288231</td>\n",
       "      <td>0.001061</td>\n",
       "    </tr>\n",
       "    <tr>\n",
       "      <th>220</th>\n",
       "      <td>bank_marketing</td>\n",
       "      <td>RandomForestClassifier</td>\n",
       "      <td>holdout</td>\n",
       "      <td>none</td>\n",
       "      <td>minmax</td>\n",
       "      <td>34</td>\n",
       "      <td>34</td>\n",
       "      <td>0.937389</td>\n",
       "      <td>0.938072</td>\n",
       "      <td>0.937389</td>\n",
       "      <td>0.937368</td>\n",
       "      <td>0.000007</td>\n",
       "      <td>6.563403</td>\n",
       "      <td>0.498113</td>\n",
       "      <td>NaN</td>\n",
       "    </tr>\n",
       "    <tr>\n",
       "      <th>233</th>\n",
       "      <td>bank_marketing</td>\n",
       "      <td>RandomForestClassifier</td>\n",
       "      <td>cv</td>\n",
       "      <td>correlation</td>\n",
       "      <td>minmax</td>\n",
       "      <td>34</td>\n",
       "      <td>26</td>\n",
       "      <td>0.935441</td>\n",
       "      <td>0.936028</td>\n",
       "      <td>0.935441</td>\n",
       "      <td>0.935419</td>\n",
       "      <td>0.159210</td>\n",
       "      <td>7.780731</td>\n",
       "      <td>0.274147</td>\n",
       "      <td>0.001230</td>\n",
       "    </tr>\n",
       "    <tr>\n",
       "      <th>232</th>\n",
       "      <td>bank_marketing</td>\n",
       "      <td>RandomForestClassifier</td>\n",
       "      <td>holdout</td>\n",
       "      <td>correlation</td>\n",
       "      <td>minmax</td>\n",
       "      <td>34</td>\n",
       "      <td>26</td>\n",
       "      <td>0.933604</td>\n",
       "      <td>0.934403</td>\n",
       "      <td>0.933604</td>\n",
       "      <td>0.933577</td>\n",
       "      <td>0.149638</td>\n",
       "      <td>6.250977</td>\n",
       "      <td>0.425510</td>\n",
       "      <td>NaN</td>\n",
       "    </tr>\n",
       "    <tr>\n",
       "      <th>227</th>\n",
       "      <td>bank_marketing</td>\n",
       "      <td>RandomForestClassifier</td>\n",
       "      <td>cv</td>\n",
       "      <td>p-value</td>\n",
       "      <td>minmax</td>\n",
       "      <td>34</td>\n",
       "      <td>30</td>\n",
       "      <td>0.931597</td>\n",
       "      <td>0.931801</td>\n",
       "      <td>0.931597</td>\n",
       "      <td>0.931589</td>\n",
       "      <td>0.731339</td>\n",
       "      <td>9.361306</td>\n",
       "      <td>0.421076</td>\n",
       "      <td>0.000658</td>\n",
       "    </tr>\n",
       "  </tbody>\n",
       "</table>\n",
       "</div>"
      ],
      "text/plain": [
       "            dataset              classifier splitting feature_selection  \\\n",
       "221  bank_marketing  RandomForestClassifier        cv              none   \n",
       "220  bank_marketing  RandomForestClassifier   holdout              none   \n",
       "233  bank_marketing  RandomForestClassifier        cv       correlation   \n",
       "232  bank_marketing  RandomForestClassifier   holdout       correlation   \n",
       "227  bank_marketing  RandomForestClassifier        cv           p-value   \n",
       "\n",
       "    scaling  n_features_orig  n_features  accuracy  precision    recall  \\\n",
       "221  minmax               34          34  0.939190   0.939728  0.939190   \n",
       "220  minmax               34          34  0.937389   0.938072  0.937389   \n",
       "233  minmax               34          26  0.935441   0.936028  0.935441   \n",
       "232  minmax               34          26  0.933604   0.934403  0.933604   \n",
       "227  minmax               34          30  0.931597   0.931801  0.931597   \n",
       "\n",
       "           f1  preprocess_time  training_time  prediction_time    f1_std  \n",
       "221  0.939171         0.000012       6.995210         0.288231  0.001061  \n",
       "220  0.937368         0.000007       6.563403         0.498113       NaN  \n",
       "233  0.935419         0.159210       7.780731         0.274147  0.001230  \n",
       "232  0.933577         0.149638       6.250977         0.425510       NaN  \n",
       "227  0.931589         0.731339       9.361306         0.421076  0.000658  "
      ]
     },
     "execution_count": 17,
     "metadata": {},
     "output_type": "execute_result"
    }
   ],
   "source": [
    "bank_marketing_results.nlargest(5, 'f1')"
   ]
  },
  {
   "cell_type": "markdown",
   "metadata": {},
   "source": [
    "For parameter tuning we use the best combination:\n",
    "- classifier: RandomForest\n",
    "- feature_selection: None\n",
    "- scaling: minmax\n",
    "\n",
    "Besides, we also apply SMOTE on the bank marketing dataset, just like in the baseline experimentations."
   ]
  },
  {
   "cell_type": "code",
   "execution_count": 18,
   "metadata": {},
   "outputs": [],
   "source": [
    "def apply_smote(df, target_column, k_neighbors=4, random_state=321):\n",
    "\n",
    "    X = df.drop(target_column, axis=1)\n",
    "    y = df[target_column]\n",
    "\n",
    "    sm = SMOTE(random_state=random_state, k_neighbors=k_neighbors)\n",
    "    X_resampled, y_resampled = sm.fit_resample(X, y)\n",
    "\n",
    "    return X_resampled, y_resampled"
   ]
  },
  {
   "cell_type": "code",
   "execution_count": 19,
   "metadata": {},
   "outputs": [],
   "source": [
    "# Read the preprocessed dataset\n",
    "bank_marketing = pd.read_csv(\"./preprocessed-datasets/bank_marketing_prepro.csv\")\n",
    "target_column = 'class'\n",
    "X,y = apply_smote(bank_marketing,target_column)\n",
    "  \n",
    "X_train, X_test, y_train, y_test = train_test_split(X, y, test_size=0.3, random_state=18) \n",
    "\n",
    "scaler = MinMaxScaler().fit(X_train)\n",
    "X_train_scaled = scaler.transform(X_train)\n",
    "X_test_scaled = scaler.transform(X_test)\n",
    "\n",
    "# Define the parameter grid for RandomizedSearchCV\n",
    "param_grid = { \n",
    "    'n_estimators': [25, 50, 100, 150], \n",
    "    'max_features': ['sqrt', 'log2', None], \n",
    "    'max_depth': [10, 20, 30], \n",
    "    'min_samples_split': [2, 5, 10],\n",
    "    'min_samples_leaf': [1, 2, 4],\n",
    "} "
   ]
  },
  {
   "cell_type": "code",
   "execution_count": 20,
   "metadata": {},
   "outputs": [
    {
     "data": {
      "text/html": [
       "<style>#sk-container-id-2 {color: black;}#sk-container-id-2 pre{padding: 0;}#sk-container-id-2 div.sk-toggleable {background-color: white;}#sk-container-id-2 label.sk-toggleable__label {cursor: pointer;display: block;width: 100%;margin-bottom: 0;padding: 0.3em;box-sizing: border-box;text-align: center;}#sk-container-id-2 label.sk-toggleable__label-arrow:before {content: \"▸\";float: left;margin-right: 0.25em;color: #696969;}#sk-container-id-2 label.sk-toggleable__label-arrow:hover:before {color: black;}#sk-container-id-2 div.sk-estimator:hover label.sk-toggleable__label-arrow:before {color: black;}#sk-container-id-2 div.sk-toggleable__content {max-height: 0;max-width: 0;overflow: hidden;text-align: left;background-color: #f0f8ff;}#sk-container-id-2 div.sk-toggleable__content pre {margin: 0.2em;color: black;border-radius: 0.25em;background-color: #f0f8ff;}#sk-container-id-2 input.sk-toggleable__control:checked~div.sk-toggleable__content {max-height: 200px;max-width: 100%;overflow: auto;}#sk-container-id-2 input.sk-toggleable__control:checked~label.sk-toggleable__label-arrow:before {content: \"▾\";}#sk-container-id-2 div.sk-estimator input.sk-toggleable__control:checked~label.sk-toggleable__label {background-color: #d4ebff;}#sk-container-id-2 div.sk-label input.sk-toggleable__control:checked~label.sk-toggleable__label {background-color: #d4ebff;}#sk-container-id-2 input.sk-hidden--visually {border: 0;clip: rect(1px 1px 1px 1px);clip: rect(1px, 1px, 1px, 1px);height: 1px;margin: -1px;overflow: hidden;padding: 0;position: absolute;width: 1px;}#sk-container-id-2 div.sk-estimator {font-family: monospace;background-color: #f0f8ff;border: 1px dotted black;border-radius: 0.25em;box-sizing: border-box;margin-bottom: 0.5em;}#sk-container-id-2 div.sk-estimator:hover {background-color: #d4ebff;}#sk-container-id-2 div.sk-parallel-item::after {content: \"\";width: 100%;border-bottom: 1px solid gray;flex-grow: 1;}#sk-container-id-2 div.sk-label:hover label.sk-toggleable__label {background-color: #d4ebff;}#sk-container-id-2 div.sk-serial::before {content: \"\";position: absolute;border-left: 1px solid gray;box-sizing: border-box;top: 0;bottom: 0;left: 50%;z-index: 0;}#sk-container-id-2 div.sk-serial {display: flex;flex-direction: column;align-items: center;background-color: white;padding-right: 0.2em;padding-left: 0.2em;position: relative;}#sk-container-id-2 div.sk-item {position: relative;z-index: 1;}#sk-container-id-2 div.sk-parallel {display: flex;align-items: stretch;justify-content: center;background-color: white;position: relative;}#sk-container-id-2 div.sk-item::before, #sk-container-id-2 div.sk-parallel-item::before {content: \"\";position: absolute;border-left: 1px solid gray;box-sizing: border-box;top: 0;bottom: 0;left: 50%;z-index: -1;}#sk-container-id-2 div.sk-parallel-item {display: flex;flex-direction: column;z-index: 1;position: relative;background-color: white;}#sk-container-id-2 div.sk-parallel-item:first-child::after {align-self: flex-end;width: 50%;}#sk-container-id-2 div.sk-parallel-item:last-child::after {align-self: flex-start;width: 50%;}#sk-container-id-2 div.sk-parallel-item:only-child::after {width: 0;}#sk-container-id-2 div.sk-dashed-wrapped {border: 1px dashed gray;margin: 0 0.4em 0.5em 0.4em;box-sizing: border-box;padding-bottom: 0.4em;background-color: white;}#sk-container-id-2 div.sk-label label {font-family: monospace;font-weight: bold;display: inline-block;line-height: 1.2em;}#sk-container-id-2 div.sk-label-container {text-align: center;}#sk-container-id-2 div.sk-container {/* jupyter's `normalize.less` sets `[hidden] { display: none; }` but bootstrap.min.css set `[hidden] { display: none !important; }` so we also need the `!important` here to be able to override the default hidden behavior on the sphinx rendered scikit-learn.org. See: https://github.com/scikit-learn/scikit-learn/issues/21755 */display: inline-block !important;position: relative;}#sk-container-id-2 div.sk-text-repr-fallback {display: none;}</style><div id=\"sk-container-id-2\" class=\"sk-top-container\"><div class=\"sk-text-repr-fallback\"><pre>RandomizedSearchCV(estimator=RandomForestClassifier(),\n",
       "                   param_distributions={&#x27;max_depth&#x27;: [10, 20, 30],\n",
       "                                        &#x27;max_features&#x27;: [&#x27;sqrt&#x27;, &#x27;log2&#x27;, None],\n",
       "                                        &#x27;min_samples_leaf&#x27;: [1, 2, 4],\n",
       "                                        &#x27;min_samples_split&#x27;: [2, 5, 10],\n",
       "                                        &#x27;n_estimators&#x27;: [25, 50, 100, 150]},\n",
       "                   scoring=&#x27;f1_weighted&#x27;)</pre><b>In a Jupyter environment, please rerun this cell to show the HTML representation or trust the notebook. <br />On GitHub, the HTML representation is unable to render, please try loading this page with nbviewer.org.</b></div><div class=\"sk-container\" hidden><div class=\"sk-item sk-dashed-wrapped\"><div class=\"sk-label-container\"><div class=\"sk-label sk-toggleable\"><input class=\"sk-toggleable__control sk-hidden--visually\" id=\"sk-estimator-id-4\" type=\"checkbox\" ><label for=\"sk-estimator-id-4\" class=\"sk-toggleable__label sk-toggleable__label-arrow\">RandomizedSearchCV</label><div class=\"sk-toggleable__content\"><pre>RandomizedSearchCV(estimator=RandomForestClassifier(),\n",
       "                   param_distributions={&#x27;max_depth&#x27;: [10, 20, 30],\n",
       "                                        &#x27;max_features&#x27;: [&#x27;sqrt&#x27;, &#x27;log2&#x27;, None],\n",
       "                                        &#x27;min_samples_leaf&#x27;: [1, 2, 4],\n",
       "                                        &#x27;min_samples_split&#x27;: [2, 5, 10],\n",
       "                                        &#x27;n_estimators&#x27;: [25, 50, 100, 150]},\n",
       "                   scoring=&#x27;f1_weighted&#x27;)</pre></div></div></div><div class=\"sk-parallel\"><div class=\"sk-parallel-item\"><div class=\"sk-item\"><div class=\"sk-label-container\"><div class=\"sk-label sk-toggleable\"><input class=\"sk-toggleable__control sk-hidden--visually\" id=\"sk-estimator-id-5\" type=\"checkbox\" ><label for=\"sk-estimator-id-5\" class=\"sk-toggleable__label sk-toggleable__label-arrow\">estimator: RandomForestClassifier</label><div class=\"sk-toggleable__content\"><pre>RandomForestClassifier()</pre></div></div></div><div class=\"sk-serial\"><div class=\"sk-item\"><div class=\"sk-estimator sk-toggleable\"><input class=\"sk-toggleable__control sk-hidden--visually\" id=\"sk-estimator-id-6\" type=\"checkbox\" ><label for=\"sk-estimator-id-6\" class=\"sk-toggleable__label sk-toggleable__label-arrow\">RandomForestClassifier</label><div class=\"sk-toggleable__content\"><pre>RandomForestClassifier()</pre></div></div></div></div></div></div></div></div></div></div>"
      ],
      "text/plain": [
       "RandomizedSearchCV(estimator=RandomForestClassifier(),\n",
       "                   param_distributions={'max_depth': [10, 20, 30],\n",
       "                                        'max_features': ['sqrt', 'log2', None],\n",
       "                                        'min_samples_leaf': [1, 2, 4],\n",
       "                                        'min_samples_split': [2, 5, 10],\n",
       "                                        'n_estimators': [25, 50, 100, 150]},\n",
       "                   scoring='f1_weighted')"
      ]
     },
     "execution_count": 20,
     "metadata": {},
     "output_type": "execute_result"
    }
   ],
   "source": [
    "# Perform RandomizedSearchCV\n",
    "random_search = RandomizedSearchCV(RandomForestClassifier(), param_distributions=param_grid, scoring=\"f1_weighted\") \n",
    "random_search.fit(X_train_scaled, y_train) "
   ]
  },
  {
   "cell_type": "code",
   "execution_count": 22,
   "metadata": {},
   "outputs": [
    {
     "name": "stdout",
     "output_type": "stream",
     "text": [
      "f1 score of the best performing combination without parameter tuning: 0.9391710746130112\n",
      "f1 score of the best estimator from RandomizedSearchCV: 0.9372780628807765\n"
     ]
    }
   ],
   "source": [
    "# Get the best estimator from RandomizedSearchCV\n",
    "best_estimator = random_search.best_estimator_\n",
    "\n",
    "# Evaluate the best estimator on the test set\n",
    "y_pred_test = best_estimator.predict(X_test_scaled)\n",
    "f1_test = metrics.f1_score(y_test, y_pred_test, average='weighted')\n",
    "\n",
    "largest = bank_marketing_results.nlargest(1, 'f1')\n",
    "f1_value = largest['f1'].iloc[0]\n",
    "print(f\"f1 score of the best performing combination without parameter tuning: {f1_value}\")\n",
    "print(f\"f1 score of the best estimator from RandomizedSearchCV: {f1_test}\")"
   ]
  },
  {
   "cell_type": "markdown",
   "metadata": {},
   "source": [
    "The search space explored by RandomizedSearchCV did not include a set of hyperparameters that performed better than the ones in the original best model."
   ]
  },
  {
   "cell_type": "markdown",
   "metadata": {},
   "source": [
    "## 3. Dataset Wine Quality"
   ]
  },
  {
   "cell_type": "code",
   "execution_count": 27,
   "metadata": {},
   "outputs": [],
   "source": [
    "wine_quality_results = combined_results[combined_results['dataset'] == 'wine_quality']"
   ]
  },
  {
   "cell_type": "code",
   "execution_count": 28,
   "metadata": {},
   "outputs": [
    {
     "data": {
      "text/html": [
       "<div>\n",
       "<style scoped>\n",
       "    .dataframe tbody tr th:only-of-type {\n",
       "        vertical-align: middle;\n",
       "    }\n",
       "\n",
       "    .dataframe tbody tr th {\n",
       "        vertical-align: top;\n",
       "    }\n",
       "\n",
       "    .dataframe thead th {\n",
       "        text-align: right;\n",
       "    }\n",
       "</style>\n",
       "<table border=\"1\" class=\"dataframe\">\n",
       "  <thead>\n",
       "    <tr style=\"text-align: right;\">\n",
       "      <th></th>\n",
       "      <th>dataset</th>\n",
       "      <th>classifier</th>\n",
       "      <th>splitting</th>\n",
       "      <th>feature_selection</th>\n",
       "      <th>scaling</th>\n",
       "      <th>n_features_orig</th>\n",
       "      <th>n_features</th>\n",
       "      <th>accuracy</th>\n",
       "      <th>precision</th>\n",
       "      <th>recall</th>\n",
       "      <th>f1</th>\n",
       "      <th>preprocess_time</th>\n",
       "      <th>training_time</th>\n",
       "      <th>prediction_time</th>\n",
       "      <th>f1_std</th>\n",
       "    </tr>\n",
       "  </thead>\n",
       "  <tbody>\n",
       "    <tr>\n",
       "      <th>23</th>\n",
       "      <td>wine_quality</td>\n",
       "      <td>RandomForestClassifier</td>\n",
       "      <td>cv</td>\n",
       "      <td>none</td>\n",
       "      <td>minmax</td>\n",
       "      <td>13</td>\n",
       "      <td>13</td>\n",
       "      <td>0.891145</td>\n",
       "      <td>0.887836</td>\n",
       "      <td>0.891145</td>\n",
       "      <td>0.888645</td>\n",
       "      <td>0.005564</td>\n",
       "      <td>3.137737</td>\n",
       "      <td>0.063741</td>\n",
       "      <td>0.007228</td>\n",
       "    </tr>\n",
       "    <tr>\n",
       "      <th>41</th>\n",
       "      <td>wine_quality</td>\n",
       "      <td>RandomForestClassifier</td>\n",
       "      <td>cv</td>\n",
       "      <td>p-value</td>\n",
       "      <td>robust</td>\n",
       "      <td>13</td>\n",
       "      <td>11</td>\n",
       "      <td>0.890490</td>\n",
       "      <td>0.887290</td>\n",
       "      <td>0.890490</td>\n",
       "      <td>0.888010</td>\n",
       "      <td>0.058313</td>\n",
       "      <td>3.119370</td>\n",
       "      <td>0.066823</td>\n",
       "      <td>0.007146</td>\n",
       "    </tr>\n",
       "    <tr>\n",
       "      <th>11</th>\n",
       "      <td>wine_quality</td>\n",
       "      <td>RandomForestClassifier</td>\n",
       "      <td>cv</td>\n",
       "      <td>none</td>\n",
       "      <td>standard</td>\n",
       "      <td>13</td>\n",
       "      <td>13</td>\n",
       "      <td>0.889986</td>\n",
       "      <td>0.886811</td>\n",
       "      <td>0.889986</td>\n",
       "      <td>0.887407</td>\n",
       "      <td>0.006954</td>\n",
       "      <td>3.088176</td>\n",
       "      <td>0.062916</td>\n",
       "      <td>0.006602</td>\n",
       "    </tr>\n",
       "    <tr>\n",
       "      <th>5</th>\n",
       "      <td>wine_quality</td>\n",
       "      <td>RandomForestClassifier</td>\n",
       "      <td>cv</td>\n",
       "      <td>none</td>\n",
       "      <td>none</td>\n",
       "      <td>13</td>\n",
       "      <td>13</td>\n",
       "      <td>0.889835</td>\n",
       "      <td>0.886253</td>\n",
       "      <td>0.889835</td>\n",
       "      <td>0.887116</td>\n",
       "      <td>0.000399</td>\n",
       "      <td>3.160678</td>\n",
       "      <td>0.066656</td>\n",
       "      <td>0.006167</td>\n",
       "    </tr>\n",
       "    <tr>\n",
       "      <th>35</th>\n",
       "      <td>wine_quality</td>\n",
       "      <td>RandomForestClassifier</td>\n",
       "      <td>cv</td>\n",
       "      <td>p-value</td>\n",
       "      <td>standard</td>\n",
       "      <td>13</td>\n",
       "      <td>11</td>\n",
       "      <td>0.889483</td>\n",
       "      <td>0.886272</td>\n",
       "      <td>0.889483</td>\n",
       "      <td>0.887033</td>\n",
       "      <td>0.047879</td>\n",
       "      <td>3.140681</td>\n",
       "      <td>0.066032</td>\n",
       "      <td>0.006499</td>\n",
       "    </tr>\n",
       "  </tbody>\n",
       "</table>\n",
       "</div>"
      ],
      "text/plain": [
       "         dataset              classifier splitting feature_selection  \\\n",
       "23  wine_quality  RandomForestClassifier        cv              none   \n",
       "41  wine_quality  RandomForestClassifier        cv           p-value   \n",
       "11  wine_quality  RandomForestClassifier        cv              none   \n",
       "5   wine_quality  RandomForestClassifier        cv              none   \n",
       "35  wine_quality  RandomForestClassifier        cv           p-value   \n",
       "\n",
       "     scaling  n_features_orig  n_features  accuracy  precision    recall  \\\n",
       "23    minmax               13          13  0.891145   0.887836  0.891145   \n",
       "41    robust               13          11  0.890490   0.887290  0.890490   \n",
       "11  standard               13          13  0.889986   0.886811  0.889986   \n",
       "5       none               13          13  0.889835   0.886253  0.889835   \n",
       "35  standard               13          11  0.889483   0.886272  0.889483   \n",
       "\n",
       "          f1  preprocess_time  training_time  prediction_time    f1_std  \n",
       "23  0.888645         0.005564       3.137737         0.063741  0.007228  \n",
       "41  0.888010         0.058313       3.119370         0.066823  0.007146  \n",
       "11  0.887407         0.006954       3.088176         0.062916  0.006602  \n",
       "5   0.887116         0.000399       3.160678         0.066656  0.006167  \n",
       "35  0.887033         0.047879       3.140681         0.066032  0.006499  "
      ]
     },
     "execution_count": 28,
     "metadata": {},
     "output_type": "execute_result"
    }
   ],
   "source": [
    "wine_quality_results.nlargest(5, 'f1')"
   ]
  },
  {
   "cell_type": "markdown",
   "metadata": {},
   "source": [
    "For parameter tuning we use the best combination:\n",
    "- classifier: RandomForest\n",
    "- feature_selection: None\n",
    "- scaling: minmax\n",
    "\n",
    "Besides, we also apply SMOTE on the wine quality dataset, just like in the baseline experimentations."
   ]
  },
  {
   "cell_type": "code",
   "execution_count": 43,
   "metadata": {},
   "outputs": [],
   "source": [
    "# Read the preprocessed dataset\n",
    "wine_quality = pd.read_csv(\"./preprocessed-datasets/wine_quality_prepro.csv\")\n",
    "target_column = 'class'\n",
    "X,y = apply_smote(wine_quality,target_column)\n",
    "  \n",
    "X_train, X_test, y_train, y_test = train_test_split(X, y, test_size=0.3, random_state=18) \n",
    "\n",
    "scaler = MinMaxScaler().fit(X_train)\n",
    "X_train_scaled = scaler.transform(X_train)\n",
    "X_test_scaled = scaler.transform(X_test)\n",
    "\n",
    "# Define the parameter grid for RandomizedSearchCV\n",
    "param_grid = { \n",
    "    'n_estimators': [25, 50, 100, 200, 500], \n",
    "    'max_features': ['sqrt', 'log2', None], \n",
    "    'max_depth': [5, 25, 50],\n",
    "    'min_samples_split': [2, 5, 10],\n",
    "}"
   ]
  },
  {
   "cell_type": "code",
   "execution_count": 51,
   "metadata": {},
   "outputs": [
    {
     "data": {
      "text/html": [
       "<style>#sk-container-id-8 {color: black;}#sk-container-id-8 pre{padding: 0;}#sk-container-id-8 div.sk-toggleable {background-color: white;}#sk-container-id-8 label.sk-toggleable__label {cursor: pointer;display: block;width: 100%;margin-bottom: 0;padding: 0.3em;box-sizing: border-box;text-align: center;}#sk-container-id-8 label.sk-toggleable__label-arrow:before {content: \"▸\";float: left;margin-right: 0.25em;color: #696969;}#sk-container-id-8 label.sk-toggleable__label-arrow:hover:before {color: black;}#sk-container-id-8 div.sk-estimator:hover label.sk-toggleable__label-arrow:before {color: black;}#sk-container-id-8 div.sk-toggleable__content {max-height: 0;max-width: 0;overflow: hidden;text-align: left;background-color: #f0f8ff;}#sk-container-id-8 div.sk-toggleable__content pre {margin: 0.2em;color: black;border-radius: 0.25em;background-color: #f0f8ff;}#sk-container-id-8 input.sk-toggleable__control:checked~div.sk-toggleable__content {max-height: 200px;max-width: 100%;overflow: auto;}#sk-container-id-8 input.sk-toggleable__control:checked~label.sk-toggleable__label-arrow:before {content: \"▾\";}#sk-container-id-8 div.sk-estimator input.sk-toggleable__control:checked~label.sk-toggleable__label {background-color: #d4ebff;}#sk-container-id-8 div.sk-label input.sk-toggleable__control:checked~label.sk-toggleable__label {background-color: #d4ebff;}#sk-container-id-8 input.sk-hidden--visually {border: 0;clip: rect(1px 1px 1px 1px);clip: rect(1px, 1px, 1px, 1px);height: 1px;margin: -1px;overflow: hidden;padding: 0;position: absolute;width: 1px;}#sk-container-id-8 div.sk-estimator {font-family: monospace;background-color: #f0f8ff;border: 1px dotted black;border-radius: 0.25em;box-sizing: border-box;margin-bottom: 0.5em;}#sk-container-id-8 div.sk-estimator:hover {background-color: #d4ebff;}#sk-container-id-8 div.sk-parallel-item::after {content: \"\";width: 100%;border-bottom: 1px solid gray;flex-grow: 1;}#sk-container-id-8 div.sk-label:hover label.sk-toggleable__label {background-color: #d4ebff;}#sk-container-id-8 div.sk-serial::before {content: \"\";position: absolute;border-left: 1px solid gray;box-sizing: border-box;top: 0;bottom: 0;left: 50%;z-index: 0;}#sk-container-id-8 div.sk-serial {display: flex;flex-direction: column;align-items: center;background-color: white;padding-right: 0.2em;padding-left: 0.2em;position: relative;}#sk-container-id-8 div.sk-item {position: relative;z-index: 1;}#sk-container-id-8 div.sk-parallel {display: flex;align-items: stretch;justify-content: center;background-color: white;position: relative;}#sk-container-id-8 div.sk-item::before, #sk-container-id-8 div.sk-parallel-item::before {content: \"\";position: absolute;border-left: 1px solid gray;box-sizing: border-box;top: 0;bottom: 0;left: 50%;z-index: -1;}#sk-container-id-8 div.sk-parallel-item {display: flex;flex-direction: column;z-index: 1;position: relative;background-color: white;}#sk-container-id-8 div.sk-parallel-item:first-child::after {align-self: flex-end;width: 50%;}#sk-container-id-8 div.sk-parallel-item:last-child::after {align-self: flex-start;width: 50%;}#sk-container-id-8 div.sk-parallel-item:only-child::after {width: 0;}#sk-container-id-8 div.sk-dashed-wrapped {border: 1px dashed gray;margin: 0 0.4em 0.5em 0.4em;box-sizing: border-box;padding-bottom: 0.4em;background-color: white;}#sk-container-id-8 div.sk-label label {font-family: monospace;font-weight: bold;display: inline-block;line-height: 1.2em;}#sk-container-id-8 div.sk-label-container {text-align: center;}#sk-container-id-8 div.sk-container {/* jupyter's `normalize.less` sets `[hidden] { display: none; }` but bootstrap.min.css set `[hidden] { display: none !important; }` so we also need the `!important` here to be able to override the default hidden behavior on the sphinx rendered scikit-learn.org. See: https://github.com/scikit-learn/scikit-learn/issues/21755 */display: inline-block !important;position: relative;}#sk-container-id-8 div.sk-text-repr-fallback {display: none;}</style><div id=\"sk-container-id-8\" class=\"sk-top-container\"><div class=\"sk-text-repr-fallback\"><pre>RandomizedSearchCV(estimator=RandomForestClassifier(),\n",
       "                   param_distributions={&#x27;max_depth&#x27;: [5, 25, 50],\n",
       "                                        &#x27;max_features&#x27;: [&#x27;sqrt&#x27;, &#x27;log2&#x27;, None],\n",
       "                                        &#x27;min_samples_split&#x27;: [2, 5, 10],\n",
       "                                        &#x27;n_estimators&#x27;: [25, 50, 100, 200,\n",
       "                                                         500]},\n",
       "                   scoring=&#x27;f1_weighted&#x27;)</pre><b>In a Jupyter environment, please rerun this cell to show the HTML representation or trust the notebook. <br />On GitHub, the HTML representation is unable to render, please try loading this page with nbviewer.org.</b></div><div class=\"sk-container\" hidden><div class=\"sk-item sk-dashed-wrapped\"><div class=\"sk-label-container\"><div class=\"sk-label sk-toggleable\"><input class=\"sk-toggleable__control sk-hidden--visually\" id=\"sk-estimator-id-22\" type=\"checkbox\" ><label for=\"sk-estimator-id-22\" class=\"sk-toggleable__label sk-toggleable__label-arrow\">RandomizedSearchCV</label><div class=\"sk-toggleable__content\"><pre>RandomizedSearchCV(estimator=RandomForestClassifier(),\n",
       "                   param_distributions={&#x27;max_depth&#x27;: [5, 25, 50],\n",
       "                                        &#x27;max_features&#x27;: [&#x27;sqrt&#x27;, &#x27;log2&#x27;, None],\n",
       "                                        &#x27;min_samples_split&#x27;: [2, 5, 10],\n",
       "                                        &#x27;n_estimators&#x27;: [25, 50, 100, 200,\n",
       "                                                         500]},\n",
       "                   scoring=&#x27;f1_weighted&#x27;)</pre></div></div></div><div class=\"sk-parallel\"><div class=\"sk-parallel-item\"><div class=\"sk-item\"><div class=\"sk-label-container\"><div class=\"sk-label sk-toggleable\"><input class=\"sk-toggleable__control sk-hidden--visually\" id=\"sk-estimator-id-23\" type=\"checkbox\" ><label for=\"sk-estimator-id-23\" class=\"sk-toggleable__label sk-toggleable__label-arrow\">estimator: RandomForestClassifier</label><div class=\"sk-toggleable__content\"><pre>RandomForestClassifier()</pre></div></div></div><div class=\"sk-serial\"><div class=\"sk-item\"><div class=\"sk-estimator sk-toggleable\"><input class=\"sk-toggleable__control sk-hidden--visually\" id=\"sk-estimator-id-24\" type=\"checkbox\" ><label for=\"sk-estimator-id-24\" class=\"sk-toggleable__label sk-toggleable__label-arrow\">RandomForestClassifier</label><div class=\"sk-toggleable__content\"><pre>RandomForestClassifier()</pre></div></div></div></div></div></div></div></div></div></div>"
      ],
      "text/plain": [
       "RandomizedSearchCV(estimator=RandomForestClassifier(),\n",
       "                   param_distributions={'max_depth': [5, 25, 50],\n",
       "                                        'max_features': ['sqrt', 'log2', None],\n",
       "                                        'min_samples_split': [2, 5, 10],\n",
       "                                        'n_estimators': [25, 50, 100, 200,\n",
       "                                                         500]},\n",
       "                   scoring='f1_weighted')"
      ]
     },
     "execution_count": 51,
     "metadata": {},
     "output_type": "execute_result"
    }
   ],
   "source": [
    "# Perform RandomizedSearchCV\n",
    "random_search = RandomizedSearchCV(RandomForestClassifier(), param_distributions=param_grid, scoring=\"f1_weighted\") \n",
    "random_search.fit(X_train_scaled, y_train) "
   ]
  },
  {
   "cell_type": "code",
   "execution_count": 52,
   "metadata": {},
   "outputs": [
    {
     "name": "stdout",
     "output_type": "stream",
     "text": [
      "f1 score of the best performing combination without parameter tuning: 0.8886451647615082\n",
      "f1 score of the best estimator from RandomizedSearchCV: 0.8743748512466861\n"
     ]
    }
   ],
   "source": [
    "# Get the best estimator from RandomizedSearchCV\n",
    "best_estimator = random_search.best_estimator_\n",
    "\n",
    "# Evaluate the best estimator on the test set\n",
    "y_pred_test = best_estimator.predict(X_test_scaled)\n",
    "f1_test = metrics.f1_score(y_test, y_pred_test, average='weighted')\n",
    "\n",
    "largest = wine_quality_results.nlargest(1, 'f1')\n",
    "f1_value = largest['f1'].iloc[0]\n",
    "print(f\"f1 score of the best performing combination without parameter tuning: {f1_value}\")\n",
    "print(f\"f1 score of the best estimator from RandomizedSearchCV: {f1_test}\")"
   ]
  },
  {
   "cell_type": "markdown",
   "metadata": {},
   "source": [
    "The search space explored by RandomizedSearchCV did not include a set of hyperparameters that performed better than the ones in the original best model."
   ]
  },
  {
   "cell_type": "markdown",
   "metadata": {},
   "source": [
    "## 4. Dataset Amazon Reviews"
   ]
  },
  {
   "cell_type": "code",
   "execution_count": 57,
   "metadata": {},
   "outputs": [],
   "source": [
    "reviews_results = combined_results[combined_results['dataset'] == 'reviews']"
   ]
  },
  {
   "cell_type": "markdown",
   "metadata": {},
   "source": [
    "Top 5 combinations based on F1 score:"
   ]
  },
  {
   "cell_type": "code",
   "execution_count": 58,
   "metadata": {},
   "outputs": [
    {
     "data": {
      "text/html": [
       "<div>\n",
       "<style scoped>\n",
       "    .dataframe tbody tr th:only-of-type {\n",
       "        vertical-align: middle;\n",
       "    }\n",
       "\n",
       "    .dataframe tbody tr th {\n",
       "        vertical-align: top;\n",
       "    }\n",
       "\n",
       "    .dataframe thead th {\n",
       "        text-align: right;\n",
       "    }\n",
       "</style>\n",
       "<table border=\"1\" class=\"dataframe\">\n",
       "  <thead>\n",
       "    <tr style=\"text-align: right;\">\n",
       "      <th></th>\n",
       "      <th>dataset</th>\n",
       "      <th>classifier</th>\n",
       "      <th>splitting</th>\n",
       "      <th>feature_selection</th>\n",
       "      <th>scaling</th>\n",
       "      <th>n_features_orig</th>\n",
       "      <th>n_features</th>\n",
       "      <th>accuracy</th>\n",
       "      <th>precision</th>\n",
       "      <th>recall</th>\n",
       "      <th>f1</th>\n",
       "      <th>preprocess_time</th>\n",
       "      <th>training_time</th>\n",
       "      <th>prediction_time</th>\n",
       "      <th>f1_std</th>\n",
       "    </tr>\n",
       "  </thead>\n",
       "  <tbody>\n",
       "    <tr>\n",
       "      <th>154</th>\n",
       "      <td>reviews</td>\n",
       "      <td>RandomForestClassifier</td>\n",
       "      <td>holdout</td>\n",
       "      <td>none</td>\n",
       "      <td>standard</td>\n",
       "      <td>10000</td>\n",
       "      <td>10000</td>\n",
       "      <td>0.533333</td>\n",
       "      <td>0.633823</td>\n",
       "      <td>0.533333</td>\n",
       "      <td>0.524547</td>\n",
       "      <td>1.145058</td>\n",
       "      <td>1.584533</td>\n",
       "      <td>0.050707</td>\n",
       "      <td>NaN</td>\n",
       "    </tr>\n",
       "    <tr>\n",
       "      <th>185</th>\n",
       "      <td>reviews</td>\n",
       "      <td>RandomForestClassifier</td>\n",
       "      <td>cv</td>\n",
       "      <td>p-value</td>\n",
       "      <td>robust</td>\n",
       "      <td>10000</td>\n",
       "      <td>6054</td>\n",
       "      <td>0.526667</td>\n",
       "      <td>0.581471</td>\n",
       "      <td>0.526667</td>\n",
       "      <td>0.511494</td>\n",
       "      <td>73.258305</td>\n",
       "      <td>1.383942</td>\n",
       "      <td>0.028825</td>\n",
       "      <td>0.051475</td>\n",
       "    </tr>\n",
       "    <tr>\n",
       "      <th>184</th>\n",
       "      <td>reviews</td>\n",
       "      <td>RandomForestClassifier</td>\n",
       "      <td>holdout</td>\n",
       "      <td>p-value</td>\n",
       "      <td>robust</td>\n",
       "      <td>10000</td>\n",
       "      <td>5797</td>\n",
       "      <td>0.520000</td>\n",
       "      <td>0.604660</td>\n",
       "      <td>0.520000</td>\n",
       "      <td>0.508507</td>\n",
       "      <td>68.972446</td>\n",
       "      <td>1.184847</td>\n",
       "      <td>0.032580</td>\n",
       "      <td>NaN</td>\n",
       "    </tr>\n",
       "    <tr>\n",
       "      <th>191</th>\n",
       "      <td>reviews</td>\n",
       "      <td>RandomForestClassifier</td>\n",
       "      <td>cv</td>\n",
       "      <td>p-value</td>\n",
       "      <td>minmax</td>\n",
       "      <td>10000</td>\n",
       "      <td>6054</td>\n",
       "      <td>0.522667</td>\n",
       "      <td>0.584946</td>\n",
       "      <td>0.522667</td>\n",
       "      <td>0.507046</td>\n",
       "      <td>73.231496</td>\n",
       "      <td>1.372783</td>\n",
       "      <td>0.027929</td>\n",
       "      <td>0.054543</td>\n",
       "    </tr>\n",
       "    <tr>\n",
       "      <th>179</th>\n",
       "      <td>reviews</td>\n",
       "      <td>RandomForestClassifier</td>\n",
       "      <td>cv</td>\n",
       "      <td>p-value</td>\n",
       "      <td>standard</td>\n",
       "      <td>10000</td>\n",
       "      <td>6054</td>\n",
       "      <td>0.521333</td>\n",
       "      <td>0.592879</td>\n",
       "      <td>0.521333</td>\n",
       "      <td>0.506898</td>\n",
       "      <td>72.612922</td>\n",
       "      <td>1.398013</td>\n",
       "      <td>0.029681</td>\n",
       "      <td>0.038711</td>\n",
       "    </tr>\n",
       "  </tbody>\n",
       "</table>\n",
       "</div>"
      ],
      "text/plain": [
       "     dataset              classifier splitting feature_selection   scaling  \\\n",
       "154  reviews  RandomForestClassifier   holdout              none  standard   \n",
       "185  reviews  RandomForestClassifier        cv           p-value    robust   \n",
       "184  reviews  RandomForestClassifier   holdout           p-value    robust   \n",
       "191  reviews  RandomForestClassifier        cv           p-value    minmax   \n",
       "179  reviews  RandomForestClassifier        cv           p-value  standard   \n",
       "\n",
       "     n_features_orig  n_features  accuracy  precision    recall        f1  \\\n",
       "154            10000       10000  0.533333   0.633823  0.533333  0.524547   \n",
       "185            10000        6054  0.526667   0.581471  0.526667  0.511494   \n",
       "184            10000        5797  0.520000   0.604660  0.520000  0.508507   \n",
       "191            10000        6054  0.522667   0.584946  0.522667  0.507046   \n",
       "179            10000        6054  0.521333   0.592879  0.521333  0.506898   \n",
       "\n",
       "     preprocess_time  training_time  prediction_time    f1_std  \n",
       "154         1.145058       1.584533         0.050707       NaN  \n",
       "185        73.258305       1.383942         0.028825  0.051475  \n",
       "184        68.972446       1.184847         0.032580       NaN  \n",
       "191        73.231496       1.372783         0.027929  0.054543  \n",
       "179        72.612922       1.398013         0.029681  0.038711  "
      ]
     },
     "execution_count": 58,
     "metadata": {},
     "output_type": "execute_result"
    }
   ],
   "source": [
    "reviews_results.nlargest(5, 'f1')"
   ]
  },
  {
   "cell_type": "markdown",
   "metadata": {},
   "source": [
    "For parameter tuning we use the best combination:\n",
    "- classifier: RandomForest\n",
    "- feature_selection: None\n",
    "- scaling: standard"
   ]
  },
  {
   "cell_type": "code",
   "execution_count": 59,
   "metadata": {},
   "outputs": [],
   "source": [
    "# Read the preprocessed dataset\n",
    "reviews = pd.read_csv(\"./preprocessed-datasets/Review_prepro.csv\")\n",
    "X = reviews.drop(\"class\", axis=1) \n",
    "y = reviews['class'] \n",
    "  \n",
    "X_train, X_test, y_train, y_test = train_test_split(X, y, test_size=0.3, random_state=18) \n",
    "\n",
    "scaler = StandardScaler().fit(X_train)\n",
    "X_train_scaled = scaler.transform(X_train)\n",
    "X_test_scaled = scaler.transform(X_test)\n",
    "\n",
    "# Define the parameter grid for RandomizedSearchCV\n",
    "param_grid = { \n",
    "    'n_estimators': [25, 50, 100, 150], \n",
    "    'max_features': ['sqrt', 'log2', None], \n",
    "    'max_depth': [10, 20, 30], \n",
    "    'min_samples_split': [2, 5, 10],\n",
    "    'min_samples_leaf': [1, 2, 4],\n",
    "} "
   ]
  },
  {
   "cell_type": "code",
   "execution_count": 60,
   "metadata": {},
   "outputs": [
    {
     "name": "stderr",
     "output_type": "stream",
     "text": [
      "/usr/local/lib/python3.11/site-packages/sklearn/model_selection/_split.py:737: UserWarning: The least populated class in y has only 4 members, which is less than n_splits=5.\n",
      "  warnings.warn(\n"
     ]
    },
    {
     "data": {
      "text/html": [
       "<style>#sk-container-id-9 {color: black;}#sk-container-id-9 pre{padding: 0;}#sk-container-id-9 div.sk-toggleable {background-color: white;}#sk-container-id-9 label.sk-toggleable__label {cursor: pointer;display: block;width: 100%;margin-bottom: 0;padding: 0.3em;box-sizing: border-box;text-align: center;}#sk-container-id-9 label.sk-toggleable__label-arrow:before {content: \"▸\";float: left;margin-right: 0.25em;color: #696969;}#sk-container-id-9 label.sk-toggleable__label-arrow:hover:before {color: black;}#sk-container-id-9 div.sk-estimator:hover label.sk-toggleable__label-arrow:before {color: black;}#sk-container-id-9 div.sk-toggleable__content {max-height: 0;max-width: 0;overflow: hidden;text-align: left;background-color: #f0f8ff;}#sk-container-id-9 div.sk-toggleable__content pre {margin: 0.2em;color: black;border-radius: 0.25em;background-color: #f0f8ff;}#sk-container-id-9 input.sk-toggleable__control:checked~div.sk-toggleable__content {max-height: 200px;max-width: 100%;overflow: auto;}#sk-container-id-9 input.sk-toggleable__control:checked~label.sk-toggleable__label-arrow:before {content: \"▾\";}#sk-container-id-9 div.sk-estimator input.sk-toggleable__control:checked~label.sk-toggleable__label {background-color: #d4ebff;}#sk-container-id-9 div.sk-label input.sk-toggleable__control:checked~label.sk-toggleable__label {background-color: #d4ebff;}#sk-container-id-9 input.sk-hidden--visually {border: 0;clip: rect(1px 1px 1px 1px);clip: rect(1px, 1px, 1px, 1px);height: 1px;margin: -1px;overflow: hidden;padding: 0;position: absolute;width: 1px;}#sk-container-id-9 div.sk-estimator {font-family: monospace;background-color: #f0f8ff;border: 1px dotted black;border-radius: 0.25em;box-sizing: border-box;margin-bottom: 0.5em;}#sk-container-id-9 div.sk-estimator:hover {background-color: #d4ebff;}#sk-container-id-9 div.sk-parallel-item::after {content: \"\";width: 100%;border-bottom: 1px solid gray;flex-grow: 1;}#sk-container-id-9 div.sk-label:hover label.sk-toggleable__label {background-color: #d4ebff;}#sk-container-id-9 div.sk-serial::before {content: \"\";position: absolute;border-left: 1px solid gray;box-sizing: border-box;top: 0;bottom: 0;left: 50%;z-index: 0;}#sk-container-id-9 div.sk-serial {display: flex;flex-direction: column;align-items: center;background-color: white;padding-right: 0.2em;padding-left: 0.2em;position: relative;}#sk-container-id-9 div.sk-item {position: relative;z-index: 1;}#sk-container-id-9 div.sk-parallel {display: flex;align-items: stretch;justify-content: center;background-color: white;position: relative;}#sk-container-id-9 div.sk-item::before, #sk-container-id-9 div.sk-parallel-item::before {content: \"\";position: absolute;border-left: 1px solid gray;box-sizing: border-box;top: 0;bottom: 0;left: 50%;z-index: -1;}#sk-container-id-9 div.sk-parallel-item {display: flex;flex-direction: column;z-index: 1;position: relative;background-color: white;}#sk-container-id-9 div.sk-parallel-item:first-child::after {align-self: flex-end;width: 50%;}#sk-container-id-9 div.sk-parallel-item:last-child::after {align-self: flex-start;width: 50%;}#sk-container-id-9 div.sk-parallel-item:only-child::after {width: 0;}#sk-container-id-9 div.sk-dashed-wrapped {border: 1px dashed gray;margin: 0 0.4em 0.5em 0.4em;box-sizing: border-box;padding-bottom: 0.4em;background-color: white;}#sk-container-id-9 div.sk-label label {font-family: monospace;font-weight: bold;display: inline-block;line-height: 1.2em;}#sk-container-id-9 div.sk-label-container {text-align: center;}#sk-container-id-9 div.sk-container {/* jupyter's `normalize.less` sets `[hidden] { display: none; }` but bootstrap.min.css set `[hidden] { display: none !important; }` so we also need the `!important` here to be able to override the default hidden behavior on the sphinx rendered scikit-learn.org. See: https://github.com/scikit-learn/scikit-learn/issues/21755 */display: inline-block !important;position: relative;}#sk-container-id-9 div.sk-text-repr-fallback {display: none;}</style><div id=\"sk-container-id-9\" class=\"sk-top-container\"><div class=\"sk-text-repr-fallback\"><pre>RandomizedSearchCV(estimator=RandomForestClassifier(),\n",
       "                   param_distributions={&#x27;max_depth&#x27;: [10, 20, 30],\n",
       "                                        &#x27;max_features&#x27;: [&#x27;sqrt&#x27;, &#x27;log2&#x27;, None],\n",
       "                                        &#x27;min_samples_leaf&#x27;: [1, 2, 4],\n",
       "                                        &#x27;min_samples_split&#x27;: [2, 5, 10],\n",
       "                                        &#x27;n_estimators&#x27;: [25, 50, 100, 150]},\n",
       "                   scoring=&#x27;f1_weighted&#x27;)</pre><b>In a Jupyter environment, please rerun this cell to show the HTML representation or trust the notebook. <br />On GitHub, the HTML representation is unable to render, please try loading this page with nbviewer.org.</b></div><div class=\"sk-container\" hidden><div class=\"sk-item sk-dashed-wrapped\"><div class=\"sk-label-container\"><div class=\"sk-label sk-toggleable\"><input class=\"sk-toggleable__control sk-hidden--visually\" id=\"sk-estimator-id-25\" type=\"checkbox\" ><label for=\"sk-estimator-id-25\" class=\"sk-toggleable__label sk-toggleable__label-arrow\">RandomizedSearchCV</label><div class=\"sk-toggleable__content\"><pre>RandomizedSearchCV(estimator=RandomForestClassifier(),\n",
       "                   param_distributions={&#x27;max_depth&#x27;: [10, 20, 30],\n",
       "                                        &#x27;max_features&#x27;: [&#x27;sqrt&#x27;, &#x27;log2&#x27;, None],\n",
       "                                        &#x27;min_samples_leaf&#x27;: [1, 2, 4],\n",
       "                                        &#x27;min_samples_split&#x27;: [2, 5, 10],\n",
       "                                        &#x27;n_estimators&#x27;: [25, 50, 100, 150]},\n",
       "                   scoring=&#x27;f1_weighted&#x27;)</pre></div></div></div><div class=\"sk-parallel\"><div class=\"sk-parallel-item\"><div class=\"sk-item\"><div class=\"sk-label-container\"><div class=\"sk-label sk-toggleable\"><input class=\"sk-toggleable__control sk-hidden--visually\" id=\"sk-estimator-id-26\" type=\"checkbox\" ><label for=\"sk-estimator-id-26\" class=\"sk-toggleable__label sk-toggleable__label-arrow\">estimator: RandomForestClassifier</label><div class=\"sk-toggleable__content\"><pre>RandomForestClassifier()</pre></div></div></div><div class=\"sk-serial\"><div class=\"sk-item\"><div class=\"sk-estimator sk-toggleable\"><input class=\"sk-toggleable__control sk-hidden--visually\" id=\"sk-estimator-id-27\" type=\"checkbox\" ><label for=\"sk-estimator-id-27\" class=\"sk-toggleable__label sk-toggleable__label-arrow\">RandomForestClassifier</label><div class=\"sk-toggleable__content\"><pre>RandomForestClassifier()</pre></div></div></div></div></div></div></div></div></div></div>"
      ],
      "text/plain": [
       "RandomizedSearchCV(estimator=RandomForestClassifier(),\n",
       "                   param_distributions={'max_depth': [10, 20, 30],\n",
       "                                        'max_features': ['sqrt', 'log2', None],\n",
       "                                        'min_samples_leaf': [1, 2, 4],\n",
       "                                        'min_samples_split': [2, 5, 10],\n",
       "                                        'n_estimators': [25, 50, 100, 150]},\n",
       "                   scoring='f1_weighted')"
      ]
     },
     "execution_count": 60,
     "metadata": {},
     "output_type": "execute_result"
    }
   ],
   "source": [
    "# Perform RandomizedSearchCV\n",
    "random_search = RandomizedSearchCV(RandomForestClassifier(), param_distributions=param_grid, scoring=\"f1_weighted\") \n",
    "random_search.fit(X_train_scaled, y_train) "
   ]
  },
  {
   "cell_type": "code",
   "execution_count": 63,
   "metadata": {},
   "outputs": [
    {
     "name": "stdout",
     "output_type": "stream",
     "text": [
      "f1 score of the best performing combination without parameter tuning: 0.5245474278807613\n",
      "f1 score of the best estimator from RandomizedSearchCV: 0.4750727249027903\n"
     ]
    }
   ],
   "source": [
    "# Get the best estimator from RandomizedSearchCV\n",
    "best_estimator = random_search.best_estimator_\n",
    "\n",
    "# Evaluate the best estimator on the test set\n",
    "y_pred_test = best_estimator.predict(X_test_scaled)\n",
    "f1_test = metrics.f1_score(y_test, y_pred_test, average='weighted')\n",
    "\n",
    "largest = reviews_results.nlargest(1, 'f1')\n",
    "f1_value = largest['f1'].iloc[0]\n",
    "print(f\"f1 score of the best performing combination without parameter tuning: {f1_value}\")\n",
    "print(f\"f1 score of the best estimator from RandomizedSearchCV: {f1_test}\")"
   ]
  },
  {
   "cell_type": "code",
   "execution_count": null,
   "metadata": {},
   "outputs": [],
   "source": []
  }
 ],
 "metadata": {
  "kernelspec": {
   "display_name": "Python 3",
   "language": "python",
   "name": "python3"
  },
  "language_info": {
   "codemirror_mode": {
    "name": "ipython",
    "version": 3
   },
   "file_extension": ".py",
   "mimetype": "text/x-python",
   "name": "python",
   "nbconvert_exporter": "python",
   "pygments_lexer": "ipython3",
   "version": "3.11.6"
  },
  "orig_nbformat": 4
 },
 "nbformat": 4,
 "nbformat_minor": 2
}
