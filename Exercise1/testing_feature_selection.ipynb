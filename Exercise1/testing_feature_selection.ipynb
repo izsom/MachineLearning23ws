{
 "cells": [
  {
   "cell_type": "code",
   "execution_count": 1,
   "metadata": {},
   "outputs": [],
   "source": [
    "import pandas as pd\n",
    "import matplotlib.pyplot as plt\n",
    "import seaborn as sns\n",
    "import numpy as np\n",
    "from sklearn.model_selection import train_test_split\n",
    "from sklearn.preprocessing import StandardScaler\n",
    "import pandas as pd\n",
    "import numpy as np\n",
    "import matplotlib.pyplot as plt\n",
    "import seaborn as sns\n",
    "from sklearn.preprocessing import LabelEncoder\n",
    "from sklearn.model_selection import train_test_split\n",
    "from sklearn.feature_selection import SelectKBest, f_classif\n",
    "from sklearn.preprocessing import StandardScaler\n",
    "from sklearn.metrics import f1_score\n",
    "from sklearn.preprocessing import OrdinalEncoder\n",
    "from sklearn.feature_selection import VarianceThreshold\n",
    "from sklearn.linear_model import SGDClassifier\n",
    "from sklearn import metrics\n",
    "from sklearn.feature_selection import chi2\n",
    "from sklearn.ensemble import RandomForestClassifier\n"
   ]
  },
  {
   "cell_type": "code",
   "execution_count": 2,
   "metadata": {},
   "outputs": [],
   "source": [
    "reviews_train = pd.read_csv('preprocessed-datasets/Review_prepro.csv')\n",
    "reviews_train.set_index('ID', inplace=True)"
   ]
  },
  {
   "cell_type": "markdown",
   "metadata": {},
   "source": [
    "## Function for different feature selection methods"
   ]
  },
  {
   "cell_type": "markdown",
   "metadata": {},
   "source": [
    "Others should?/can be added. Maybe we should also try them with cross validation to have better results?"
   ]
  },
  {
   "cell_type": "code",
   "execution_count": 3,
   "metadata": {},
   "outputs": [],
   "source": [
    "def select_features(X, y, method, corr_threshold=0.5):\n",
    "    \n",
    "    if method is None:\n",
    "        return X.columns\n",
    "        \n",
    "    # Feature selection using chi-squared\n",
    "    elif method == 'p-value':\n",
    "        # Remove constant features\n",
    "        X = X.loc[:, X.apply(pd.Series.nunique) != 1]\n",
    "        p_values = []\n",
    "        for feature in X.columns:\n",
    "            f, p = chi2(X[[feature]], y)\n",
    "            p_values.append(p)\n",
    "\n",
    "        p_values = np.array(p_values).reshape(-1)\n",
    "        p_values = pd.Series(p_values, index=X.columns).sort_values()\n",
    "        selected_features = p_values[p_values < 0.05].index\n",
    "    \n",
    "    # Feature selection using VarianceThreshold\n",
    "    elif method == 'variance':\n",
    "        X = X.loc[:, X.apply(pd.Series.nunique) != 1]\n",
    "        var_thr = VarianceThreshold(threshold=0.25)\n",
    "        var_thr.fit(X)\n",
    "        selected_features = X.columns[var_thr.get_support()]  \n",
    "    \n",
    "    # Feature selection using Pearson correlation\n",
    "    elif method == 'correlation':\n",
    "        X = X.loc[:, X.apply(pd.Series.nunique) != 1]\n",
    "        corr = X.corr()\n",
    "        col_corr = set()\n",
    "\n",
    "        corr_matrix = np.abs(corr.values)\n",
    "\n",
    "        n = corr_matrix.shape[0]\n",
    "\n",
    "        for i in range(n):\n",
    "            for j in range(i):\n",
    "                if corr_matrix[i, j] > corr_threshold:\n",
    "                    colname = X.columns[i]\n",
    "                    col_corr.add(colname)\n",
    "\n",
    "        selected_features = [col for col in X.columns if col not in col_corr]\n",
    "\n",
    "    # More methods to be added \n",
    "                \n",
    "    return selected_features"
   ]
  },
  {
   "cell_type": "markdown",
   "metadata": {},
   "source": [
    "## Split data into train and test"
   ]
  },
  {
   "cell_type": "code",
   "execution_count": 4,
   "metadata": {},
   "outputs": [
    {
     "name": "stdout",
     "output_type": "stream",
     "text": [
      "Training Dataset Shape: (525, 10000) (525,) \n",
      "\n",
      "Test Dataset Shape: (225, 10000) (225,) \n",
      "\n"
     ]
    }
   ],
   "source": [
    "# Ecode the target variable with LabelEncoder\n",
    "le = LabelEncoder()\n",
    "reviews_train['class'] = le.fit_transform(reviews_train['class'])\n",
    "\n",
    "# Features\n",
    "X = reviews_train.drop(['class'], axis=1) \n",
    "\n",
    "# Target variable\n",
    "y = reviews_train['class']\n",
    "\n",
    "# Split the dataset into a training and a testing set\n",
    "X_train, X_test, y_train, y_test = train_test_split(X, y, test_size=0.30, random_state=1)\n",
    "print (\"Training Dataset Shape:\", X_train.shape, y_train.shape, \"\\n\")\n",
    "print (\"Test Dataset Shape:\", X_test.shape, y_test.shape, \"\\n\")"
   ]
  },
  {
   "cell_type": "markdown",
   "metadata": {},
   "source": [
    "## Testing the p-value feature selection method with SDG Classifier"
   ]
  },
  {
   "cell_type": "code",
   "execution_count": 5,
   "metadata": {},
   "outputs": [
    {
     "name": "stdout",
     "output_type": "stream",
     "text": [
      "Number of features selected: 5719 \n",
      "\n",
      "Accuracy: 0.6044444444444445\n",
      "F1 score: 0.5778143555790615\n",
      "Precision: 0.6466854256854256\n",
      "Recall: 0.6301507936507936\n"
     ]
    }
   ],
   "source": [
    "# Select features\n",
    "significant_features = select_features(X_train, y_train, 'p-value')\n",
    "X_train_selected = X_train[significant_features]\n",
    "X_test_selected = X_test[significant_features]\n",
    "print(\"Number of features selected:\", len(significant_features), \"\\n\")\n",
    "\n",
    "# Standarize the features\n",
    "scaler = StandardScaler().fit(X_train_selected)\n",
    "X_train_scaled = scaler.transform(X_train_selected)\n",
    "X_test_scaled = scaler.transform(X_test_selected)\n",
    "\n",
    "# Create the linear model SGDclassifier\n",
    "linear_clf = SGDClassifier()\n",
    "\n",
    "# Train the model\n",
    "linear_clf.fit(X_train_scaled, y_train)\n",
    "\n",
    "# Predict the labels of the test set\n",
    "y_pred = linear_clf.predict(X_test_scaled)\n",
    "\n",
    "# Which average to choose???\n",
    "print(\"Accuracy:\",metrics.accuracy_score(y_test, y_pred))\n",
    "print(\"F1 score:\",metrics.f1_score(y_test, y_pred, average='macro', zero_division=1))\n",
    "print(\"Precision:\",metrics.precision_score(y_test, y_pred, average='macro', zero_division=1))\n",
    "print(\"Recall:\",metrics.recall_score(y_test, y_pred, average='macro', zero_division=1))"
   ]
  },
  {
   "cell_type": "markdown",
   "metadata": {},
   "source": [
    "## Testin all the feature selection methods with SDG Classifier"
   ]
  },
  {
   "cell_type": "code",
   "execution_count": 6,
   "metadata": {},
   "outputs": [
    {
     "name": "stdout",
     "output_type": "stream",
     "text": [
      "\n",
      "--- Feature Selection Method: None ---\n",
      "Number of features selected: 10000 \n",
      "\n",
      "Accuracy: 0.6177777777777778\n",
      "F1 score: 0.5759735046515232\n",
      "Precision: 0.6403628038628039\n",
      "Recall: 0.6188809523809524\n",
      "\n",
      "--- Feature Selection Method: P-VALUE ---\n",
      "Number of features selected: 5719 \n",
      "\n",
      "Accuracy: 0.5688888888888889\n",
      "F1 score: 0.5200481709552917\n",
      "Precision: 0.5999517704517704\n",
      "Recall: 0.578873015873016\n",
      "\n",
      "--- Feature Selection Method: VARIANCE ---\n",
      "Number of features selected: 3498 \n",
      "\n",
      "Accuracy: 0.38222222222222224\n",
      "F1 score: 0.3120535582408647\n",
      "Precision: 0.37935930735930734\n",
      "Recall: 0.3502777777777778\n",
      "\n",
      "--- Feature Selection Method: CORRELATION ---\n",
      "Number of features selected: 4746 \n",
      "\n",
      "Accuracy: 0.3377777777777778\n",
      "F1 score: 0.2822123937294216\n",
      "Precision: 0.3509285714285714\n",
      "Recall: 0.3092619047619048\n"
     ]
    }
   ],
   "source": [
    "# Feature selection methods\n",
    "feature_selection_methods = [None, 'p-value', 'variance', 'correlation']\n",
    "\n",
    "for method in feature_selection_methods:\n",
    "    \n",
    "    if method is not None:\n",
    "        print(f\"\\n--- Feature Selection Method: {method.upper()} ---\")\n",
    "    else:\n",
    "        print(f\"\\n--- Feature Selection Method: None ---\")\n",
    "\n",
    "    significant_features = select_features(X_train, y_train, method)\n",
    "    X_train_selected = X_train[significant_features]\n",
    "    X_test_selected = X_test[significant_features]\n",
    "\n",
    "    print(\"Number of features selected:\", len(significant_features), \"\\n\")\n",
    "\n",
    "    # Standardize the features\n",
    "    scaler = StandardScaler().fit(X_train_selected)\n",
    "    X_train_selected = scaler.transform(X_train_selected)\n",
    "    X_test_selected = scaler.transform(X_test_selected)\n",
    "\n",
    "    # Create the linear model SGDclassifier\n",
    "    linear_clf = SGDClassifier()\n",
    "\n",
    "    # Train the model\n",
    "    linear_clf.fit(X_train_selected, y_train)\n",
    "\n",
    "    # Predict the labels of the test set\n",
    "    y_pred = linear_clf.predict(X_test_selected)\n",
    "\n",
    "    # Evaluate the performance\n",
    "    print(\"Accuracy:\", metrics.accuracy_score(y_test, y_pred))\n",
    "    print(\"F1 score:\", metrics.f1_score(y_test, y_pred, average='macro', zero_division=1))\n",
    "    print(\"Precision:\", metrics.precision_score(y_test, y_pred, average='macro', zero_division=1))\n",
    "    print(\"Recall:\", metrics.recall_score(y_test, y_pred, average='macro', zero_division=1))\n"
   ]
  },
  {
   "cell_type": "markdown",
   "metadata": {},
   "source": [
    "## Performing the same tests with Random Forest Classifier"
   ]
  },
  {
   "cell_type": "code",
   "execution_count": 7,
   "metadata": {},
   "outputs": [
    {
     "name": "stdout",
     "output_type": "stream",
     "text": [
      "\n",
      "--- Feature Selection Method: None ---\n",
      "Number of features selected: 10000 \n",
      "\n",
      "Accuracy: 0.49333333333333335\n",
      "F1 score: 0.4581038844196739\n",
      "Precision: 0.5412967032967032\n",
      "Recall: 0.49233333333333335\n",
      "\n",
      "--- Feature Selection Method: P-VALUE ---\n",
      "Number of features selected: 5719 \n",
      "\n",
      "Accuracy: 0.5288888888888889\n",
      "F1 score: 0.5010717615717616\n",
      "Precision: 0.6225555555555555\n",
      "Recall: 0.5524444444444444\n",
      "\n",
      "--- Feature Selection Method: VARIANCE ---\n",
      "Number of features selected: 3498 \n",
      "\n",
      "Accuracy: 0.41333333333333333\n",
      "F1 score: 0.35049768205650556\n",
      "Precision: 0.45782251082251085\n",
      "Recall: 0.39699999999999996\n",
      "\n",
      "--- Feature Selection Method: CORRELATION ---\n",
      "Number of features selected: 4746 \n",
      "\n",
      "Accuracy: 0.4444444444444444\n",
      "F1 score: 0.3918923560100031\n",
      "Precision: 0.5014975024975025\n",
      "Recall: 0.44525396825396824\n"
     ]
    }
   ],
   "source": [
    "# Feature selection methods\n",
    "feature_selection_methods = [None, 'p-value', 'variance', 'correlation']\n",
    "\n",
    "for method in feature_selection_methods:\n",
    "    \n",
    "    if method is not None:\n",
    "        print(f\"\\n--- Feature Selection Method: {method.upper()} ---\")\n",
    "    else:\n",
    "        print(f\"\\n--- Feature Selection Method: None ---\")\n",
    "\n",
    "    significant_features = select_features(X_train, y_train, method)\n",
    "    X_train_selected = X_train[significant_features]\n",
    "    X_test_selected = X_test[significant_features]\n",
    "\n",
    "    print(\"Number of features selected:\", len(significant_features), \"\\n\")\n",
    "\n",
    "    # Standardize the features\n",
    "    scaler = StandardScaler().fit(X_train_selected)\n",
    "    X_train_selected = scaler.transform(X_train_selected)\n",
    "    X_test_selected = scaler.transform(X_test_selected)\n",
    "\n",
    "    # Create model Random Forest\n",
    "    rf = RandomForestClassifier()\n",
    "\n",
    "    # Train the model\n",
    "    rf.fit(X_train_selected, y_train)\n",
    "\n",
    "    # Predict the labels of the test set\n",
    "    y_pred = rf.predict(X_test_selected)\n",
    "\n",
    "    # Evaluate the performance\n",
    "    print(\"Accuracy:\", metrics.accuracy_score(y_test, y_pred))\n",
    "    print(\"F1 score:\", metrics.f1_score(y_test, y_pred, average='macro', zero_division=1))\n",
    "    print(\"Precision:\", metrics.precision_score(y_test, y_pred, average='macro', zero_division=1))\n",
    "    print(\"Recall:\", metrics.recall_score(y_test, y_pred, average='macro', zero_division=1))"
   ]
  },
  {
   "cell_type": "code",
   "execution_count": null,
   "metadata": {},
   "outputs": [],
   "source": []
  }
 ],
 "metadata": {
  "kernelspec": {
   "display_name": "Python 3",
   "language": "python",
   "name": "python3"
  },
  "language_info": {
   "codemirror_mode": {
    "name": "ipython",
    "version": 3
   },
   "file_extension": ".py",
   "mimetype": "text/x-python",
   "name": "python",
   "nbconvert_exporter": "python",
   "pygments_lexer": "ipython3",
   "version": "3.9.6"
  },
  "orig_nbformat": 4
 },
 "nbformat": 4,
 "nbformat_minor": 2
}
