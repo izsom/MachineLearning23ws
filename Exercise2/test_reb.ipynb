{
 "cells": [
  {
   "cell_type": "code",
   "execution_count": 1,
   "metadata": {},
   "outputs": [],
   "source": [
    "import numpy as np\n",
    "import pandas as pd"
   ]
  },
  {
   "cell_type": "code",
   "execution_count": 2,
   "metadata": {},
   "outputs": [],
   "source": [
    "df = pd.read_csv(\"preprocessed-datasets/CongressionVoting_prepro.csv\")\n",
    "\n",
    "df['class'] = df['class'].map({'democrat': 0, 'republican': 1})\n",
    "\n",
    "# Convert to numpy array\n",
    "data = df.to_numpy()\n",
    "\n",
    "# Split the data into training (80%) and testing (20%) sets\n",
    "np.random.shuffle(data)\n",
    "split = int(0.8 * len(data))\n",
    "train_set = data[:split]\n",
    "test_set = data[split:]\n",
    "\n",
    "# Split training set to X and y\n",
    "X_train = train_set[:, :-1]\n",
    "y_train = train_set[:, -1]\n",
    "\n",
    "# Split testing set to X and y\n",
    "X_test = test_set[:, :-1]\n",
    "y_test = test_set[:, -1]"
   ]
  },
  {
   "cell_type": "code",
   "execution_count": 3,
   "metadata": {},
   "outputs": [
    {
     "name": "stdout",
     "output_type": "stream",
     "text": [
      "Epoch 0, Loss: 0.628460900082247\n",
      "Epoch 1, Loss: 0.6211840564094468\n",
      "Epoch 2, Loss: 0.6088586955668208\n",
      "Epoch 3, Loss: 0.5849475313989462\n",
      "Epoch 4, Loss: 0.528782219014993\n",
      "Epoch 5, Loss: 0.37629548139575797\n",
      "Epoch 6, Loss: 0.22663658257687114\n",
      "Epoch 7, Loss: 0.22648893719666813\n",
      "Epoch 8, Loss: 0.22644437710357937\n",
      "Epoch 9, Loss: 0.22583611844567084\n",
      "Accuracy: 0.5454545454545454\n"
     ]
    }
   ],
   "source": [
    "def sigmoid(x):\n",
    "    return 1 / (1 + np.exp(-x))\n",
    "\n",
    "def sigmoid_derivative(x):\n",
    "    return x * (1 - x)\n",
    "\n",
    "def initialize_parameters(input_size, hidden_size, output_size):\n",
    "    np.random.seed(18)\n",
    "    W_h = np.random.rand(input_size, hidden_size)\n",
    "    W_o = np.random.rand(hidden_size, output_size)\n",
    "    return W_h, W_o\n",
    "\n",
    "def forward_propagation(X, W_h, W_o):\n",
    "    hidden_layer_input = np.dot(X, W_h)\n",
    "    hidden_layer_output = sigmoid(hidden_layer_input)\n",
    "\n",
    "    output_layer_input = np.dot(hidden_layer_output, W_o)\n",
    "    output_layer_output = sigmoid(output_layer_input)\n",
    "\n",
    "    return hidden_layer_output, output_layer_output\n",
    "\n",
    "def backward_propagation(X, y, hidden_layer_output, output_layer_output, W_o):\n",
    "    output_error = y - output_layer_output\n",
    "    output_delta = output_error * sigmoid_derivative(output_layer_output)\n",
    "\n",
    "    hidden_layer_error = output_delta.dot(W_o.T)\n",
    "    hidden_layer_delta = hidden_layer_error * sigmoid_derivative(hidden_layer_output)\n",
    "\n",
    "    return hidden_layer_delta, output_delta\n",
    "\n",
    "def update_weights(X, hidden_layer_output, output_delta, hidden_layer_delta, W_h, W_o, learning_rate):\n",
    "    W_o += hidden_layer_output.T.dot(output_delta) * learning_rate\n",
    "    W_h += X.T.dot(hidden_layer_delta) * learning_rate\n",
    "\n",
    "def train_neural_network(X_train, y_train, epochs=10, hidden_size=25, learning_rate=0.01):\n",
    "    input_size = X_train.shape[1]\n",
    "    output_size = 1\n",
    "\n",
    "    W_h, W_o = initialize_parameters(input_size, hidden_size, output_size)\n",
    "\n",
    "    for epoch in range(epochs):\n",
    "        hidden_layer_output, output_layer_output = forward_propagation(X_train, W_h, W_o)\n",
    "\n",
    "        hidden_layer_delta, output_delta = backward_propagation(X_train, y_train.reshape(-1, 1), hidden_layer_output, output_layer_output, W_o)\n",
    "\n",
    "        update_weights(X_train, hidden_layer_output, output_delta, hidden_layer_delta, W_h, W_o, learning_rate)\n",
    "\n",
    "        loss = np.mean(np.square(y_train.reshape(-1, 1) - output_layer_output))\n",
    "        print(f\"Epoch {epoch}, Loss: {loss}\")\n",
    "\n",
    "    return W_h, W_o\n",
    "\n",
    "def predict(X, W_h, W_o):\n",
    "    _, output_layer_output = forward_propagation(X, W_h, W_o)\n",
    "    return (output_layer_output > 0.5).astype(int).flatten()\n",
    "\n",
    "# Train the neural network\n",
    "W_h, W_o = train_neural_network(X_train, y_train, epochs=10, hidden_size=int(2/3 * X_train.shape[1] + 2), learning_rate=0.01)\n",
    "\n",
    "# Test the neural network\n",
    "y_pred = predict(X_test, W_h, W_o)\n",
    "\n",
    "# Evaluate the accuracy\n",
    "accuracy = np.mean(y_pred == y_test)\n",
    "print(f\"Accuracy: {accuracy}\")"
   ]
  },
  {
   "cell_type": "code",
   "execution_count": null,
   "metadata": {},
   "outputs": [],
   "source": []
  }
 ],
 "metadata": {
  "kernelspec": {
   "display_name": "Python 3",
   "language": "python",
   "name": "python3"
  },
  "language_info": {
   "codemirror_mode": {
    "name": "ipython",
    "version": 3
   },
   "file_extension": ".py",
   "mimetype": "text/x-python",
   "name": "python",
   "nbconvert_exporter": "python",
   "pygments_lexer": "ipython3",
   "version": "3.11.6"
  },
  "orig_nbformat": 4
 },
 "nbformat": 4,
 "nbformat_minor": 2
}
