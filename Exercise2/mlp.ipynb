{
 "cells": [
  {
   "cell_type": "code",
   "execution_count": 1,
   "metadata": {},
   "outputs": [],
   "source": [
    "from sklearn.model_selection import KFold\n",
    "from sklearn.neural_network import MLPClassifier\n",
    "from sklearn.metrics import accuracy_score\n",
    "import torch\n",
    "import numpy as np\n",
    "import pandas as pd\n",
    "import time"
   ]
  },
  {
   "cell_type": "code",
   "execution_count": 2,
   "metadata": {},
   "outputs": [],
   "source": [
    "wine_quality = pd.read_csv('./preprocessed-datasets/wine_quality_prepro.csv', index_col=0)\n",
    "cong_voting = pd.read_csv('./preprocessed-datasets/CongressionVoting_prepro.csv')\n",
    "# encode class value democrat as 1 and republican as 0\n",
    "cong_voting['class'] = cong_voting['class'].map({'democrat': 1, 'republican': 0})\n",
    "bank_marketing = pd.read_csv('./preprocessed-datasets/bank_marketing_prepro.csv')\n",
    "column_to_move = 'class'\n",
    "\n",
    "# Move class to the last index\n",
    "columns = [col for col in bank_marketing.columns if col != column_to_move] + [column_to_move]\n",
    "bank_marketing = bank_marketing[columns]\n",
    "\n",
    "bank_marketing.drop('Unnamed: 0', axis=1,inplace=True)"
   ]
  },
  {
   "cell_type": "code",
   "execution_count": 3,
   "metadata": {},
   "outputs": [],
   "source": [
    "def train_test_split(data: pd.DataFrame, target_label : str, test_size=0.2, return_torch=None):\n",
    "        \n",
    "    # split the data into train and test\n",
    "    #train = data.sample(frac=(1-test_size),random_state=200)\n",
    "    #test = data.drop(train.index)\n",
    "    \n",
    "    # split the train and test into X and Y\n",
    "    X = data.drop([target_label], axis=1).values\n",
    "    Y = data[target_label].values\n",
    "    \n",
    "    if return_torch:\n",
    "        train_X = torch.tensor(X)\n",
    "        train_Y = torch.tensor(Y)\n",
    "    \n",
    "    return X, Y"
   ]
  },
  {
   "cell_type": "code",
   "execution_count": 4,
   "metadata": {},
   "outputs": [],
   "source": [
    "def MLP(X,y, num_splits = 5):\n",
    "    kf = KFold(n_splits=num_splits, shuffle=True, random_state=42)\n",
    "\n",
    "    train_accuracies = []\n",
    "    test_accuracies = []\n",
    "    train_times = []\n",
    "\n",
    "    for train_index, test_index in kf.split(X, y):\n",
    "        \n",
    "        X_train, X_test = X[train_index], X[test_index]\n",
    "        y_train, y_test = y[train_index], y[test_index]\n",
    "        \n",
    "        # MLPClassifier\n",
    "        mlp_model = MLPClassifier()\n",
    "        \n",
    "        # Train MLPClassifier\n",
    "        t0 = time.time()\n",
    "        mlp_model.fit(X_train, y_train)\n",
    "        t1 = time.time()\n",
    "        training_time_tmp = t1-t0\n",
    "        # Make predictions on the test set\n",
    "        mlp_predictions_train = mlp_model.predict(X_train)\n",
    "        mlp_predictions_test = mlp_model.predict(X_test)\n",
    "\n",
    "        # Calculate accuracy\n",
    "        train_accuracy_fold = accuracy_score(y_train, mlp_predictions_train)\n",
    "        test_accuracy_fold = accuracy_score(y_test, mlp_predictions_test)\n",
    "\n",
    "        train_accuracies.append(train_accuracy_fold)\n",
    "        test_accuracies.append(test_accuracy_fold)\n",
    "        train_times.append(training_time_tmp)\n",
    "        \n",
    "    \n",
    "    return np.mean(train_accuracies), np.mean(test_accuracies), np.mean(train_times)"
   ]
  },
  {
   "cell_type": "code",
   "execution_count": 5,
   "metadata": {},
   "outputs": [
    {
     "name": "stderr",
     "output_type": "stream",
     "text": [
      "C:\\Users\\zsomb\\AppData\\Local\\Temp\\ipykernel_19656\\3915861609.py:10: FutureWarning: The frame.append method is deprecated and will be removed from pandas in a future version. Use pandas.concat instead.\n",
      "  results = results.append({'method':'MLP', 'dataset':dataset_name, 'Average Accuracy':test_acc, 'Average Training Time':train_time}, ignore_index=True)\n",
      "c:\\Users\\zsomb\\anaconda3\\lib\\site-packages\\sklearn\\neural_network\\_multilayer_perceptron.py:702: ConvergenceWarning: Stochastic Optimizer: Maximum iterations (200) reached and the optimization hasn't converged yet.\n",
      "  warnings.warn(\n",
      "c:\\Users\\zsomb\\anaconda3\\lib\\site-packages\\sklearn\\neural_network\\_multilayer_perceptron.py:702: ConvergenceWarning: Stochastic Optimizer: Maximum iterations (200) reached and the optimization hasn't converged yet.\n",
      "  warnings.warn(\n",
      "c:\\Users\\zsomb\\anaconda3\\lib\\site-packages\\sklearn\\neural_network\\_multilayer_perceptron.py:702: ConvergenceWarning: Stochastic Optimizer: Maximum iterations (200) reached and the optimization hasn't converged yet.\n",
      "  warnings.warn(\n",
      "c:\\Users\\zsomb\\anaconda3\\lib\\site-packages\\sklearn\\neural_network\\_multilayer_perceptron.py:702: ConvergenceWarning: Stochastic Optimizer: Maximum iterations (200) reached and the optimization hasn't converged yet.\n",
      "  warnings.warn(\n",
      "c:\\Users\\zsomb\\anaconda3\\lib\\site-packages\\sklearn\\neural_network\\_multilayer_perceptron.py:702: ConvergenceWarning: Stochastic Optimizer: Maximum iterations (200) reached and the optimization hasn't converged yet.\n",
      "  warnings.warn(\n",
      "C:\\Users\\zsomb\\AppData\\Local\\Temp\\ipykernel_19656\\3915861609.py:10: FutureWarning: The frame.append method is deprecated and will be removed from pandas in a future version. Use pandas.concat instead.\n",
      "  results = results.append({'method':'MLP', 'dataset':dataset_name, 'Average Accuracy':test_acc, 'Average Training Time':train_time}, ignore_index=True)\n",
      "C:\\Users\\zsomb\\AppData\\Local\\Temp\\ipykernel_19656\\3915861609.py:10: FutureWarning: The frame.append method is deprecated and will be removed from pandas in a future version. Use pandas.concat instead.\n",
      "  results = results.append({'method':'MLP', 'dataset':dataset_name, 'Average Accuracy':test_acc, 'Average Training Time':train_time}, ignore_index=True)\n"
     ]
    }
   ],
   "source": [
    "results = pd.DataFrame(columns=[\"method\",'dataset','Average Accuracy','Average Training Time'])\n",
    "datasets = {\n",
    "    'wine_quality': wine_quality,\n",
    "    'congression_voting': cong_voting,\n",
    "    'bank_marketing': bank_marketing\n",
    "}\n",
    "for dataset_name, dataset in datasets.items():\n",
    "    X, y = train_test_split(dataset, 'class')    \n",
    "    _, test_acc, train_time = MLP(X,y)\n",
    "    results = results.append({'method':'MLP', 'dataset':dataset_name, 'Average Accuracy':test_acc, 'Average Training Time':train_time}, ignore_index=True)"
   ]
  },
  {
   "cell_type": "code",
   "execution_count": 8,
   "metadata": {},
   "outputs": [
    {
     "data": {
      "text/html": [
       "<div>\n",
       "<style scoped>\n",
       "    .dataframe tbody tr th:only-of-type {\n",
       "        vertical-align: middle;\n",
       "    }\n",
       "\n",
       "    .dataframe tbody tr th {\n",
       "        vertical-align: top;\n",
       "    }\n",
       "\n",
       "    .dataframe thead th {\n",
       "        text-align: right;\n",
       "    }\n",
       "</style>\n",
       "<table border=\"1\" class=\"dataframe\">\n",
       "  <thead>\n",
       "    <tr style=\"text-align: right;\">\n",
       "      <th></th>\n",
       "      <th>method</th>\n",
       "      <th>dataset</th>\n",
       "      <th>Average Accuracy</th>\n",
       "      <th>Average Training Time</th>\n",
       "    </tr>\n",
       "  </thead>\n",
       "  <tbody>\n",
       "    <tr>\n",
       "      <th>0</th>\n",
       "      <td>MLP</td>\n",
       "      <td>wine_quality</td>\n",
       "      <td>0.540096</td>\n",
       "      <td>3.460707</td>\n",
       "    </tr>\n",
       "    <tr>\n",
       "      <th>1</th>\n",
       "      <td>MLP</td>\n",
       "      <td>congression_voting</td>\n",
       "      <td>0.921776</td>\n",
       "      <td>1.010281</td>\n",
       "    </tr>\n",
       "    <tr>\n",
       "      <th>2</th>\n",
       "      <td>MLP</td>\n",
       "      <td>bank_marketing</td>\n",
       "      <td>0.859618</td>\n",
       "      <td>11.061345</td>\n",
       "    </tr>\n",
       "  </tbody>\n",
       "</table>\n",
       "</div>"
      ],
      "text/plain": [
       "  method             dataset  Average Accuracy  Average Training Time\n",
       "0    MLP        wine_quality          0.540096               3.460707\n",
       "1    MLP  congression_voting          0.921776               1.010281\n",
       "2    MLP      bank_marketing          0.859618              11.061345"
      ]
     },
     "execution_count": 8,
     "metadata": {},
     "output_type": "execute_result"
    }
   ],
   "source": [
    "results"
   ]
  },
  {
   "cell_type": "code",
   "execution_count": 9,
   "metadata": {},
   "outputs": [],
   "source": [
    "results.to_csv('./results/MLP.csv')"
   ]
  }
 ],
 "metadata": {
  "kernelspec": {
   "display_name": "base",
   "language": "python",
   "name": "python3"
  },
  "language_info": {
   "codemirror_mode": {
    "name": "ipython",
    "version": 3
   },
   "file_extension": ".py",
   "mimetype": "text/x-python",
   "name": "python",
   "nbconvert_exporter": "python",
   "pygments_lexer": "ipython3",
   "version": "3.10.9"
  }
 },
 "nbformat": 4,
 "nbformat_minor": 2
}
